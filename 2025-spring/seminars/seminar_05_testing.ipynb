{
 "cells": [
  {
   "cell_type": "markdown",
   "metadata": {},
   "source": [
    "# Корреляция"
   ]
  },
  {
   "cell_type": "markdown",
   "metadata": {},
   "source": [
    "Важно выявить и количественно оценить степень зависимости переменных в вашем наборе данных друг от друга. С одной стороны, выявление зависимостей это вообще базовая задача анализа данных. Переменные в наборе данных могут быть связаны по разным причинам.\n",
    "\n",
    "Например:\n",
    "\n",
    "- Одна переменная может быть причиной или зависеть от значений другой переменной.\n",
    "- Одна переменная может быть слабо связана с другой переменной.\n",
    "- Две переменные могут зависеть от третьей неизвестной переменной.\n",
    "\n",
    "Статистическая взаимосвязь между двумя переменными называется их корреляцией.\n",
    "\n",
    "Корреляция может быть положительной, что означает, что обе переменные изменяются в одном направлении, или отрицательной, что означает, что при увеличении значения одной переменной значения другой уменьшаются. Корреляция также может быть нейтральной или равной нулю, что означает, что переменные не связаны.\n",
    "\n",
    "Производительность некоторых алгоритмов может ухудшаться, если две или более переменные тесно связаны, что называется мультиколлинеарностью. Примером является линейная регрессия, где одна из сильно коррелирующих переменных должна быть удалена для повышения точности модели.\n",
    "\n",
    "Нас также может интересовать корреляция между регрессорами и зависимой переменной, чтобы понять, какие из регрессоров релевантны для построения модели.\n",
    "\n",
    "Структура связи может быть известна, например, она может быть линейной, или мы можем не знать, существует ли связь между двумя переменными и какова ее структура. В зависимости от того, что известно о связи и распределении переменных, могут быть рассчитаны различные коэффициенты корреляции. Мы рассмотрим корреляцию Пирсона, Спирмена и Кендалла."
   ]
  },
  {
   "cell_type": "markdown",
   "metadata": {},
   "source": [
    "## Ковариация.\n",
    "\n",
    "Прежде чем мы перейдем к расчету некоторых коэффициентов корреляции, нам нужно рассмотреть важный статистический элемент, называемый ковариацией.\n",
    "\n",
    "Самая простая зависимость, которую можно предположить между двумя переменными -- линейная. Её можно измерить с помощью ковариации, которая определяется как \n",
    "\n",
    "$$ cov(X, Y) = E(X - E(X))(Y_i - E(Y)) $$\n",
    "<!-- $$ cov(X, Y) = \\frac{1}{n} \\sum_i(X_i - \\bar{X})(Y_i - \\bar{Y}) $$ -->\n",
    "\n",
    "Знак ковариации можно интерпретировать как указание на то, изменяются ли две переменные в одном направлении (положительный) или в разных направлениях (отрицательный). Величину корреляции проинтерпретировать нельзя, так как она зависит от единиц измерения обеих величин. Для независимых случайных величин корреляция равна нулю, хотя обратное верно не всегда.\n",
    "\n",
    "Для выборки можно рассчитать аналог\n",
    "\n",
    "$$\\frac{1}{n} \\sum_i (X_i  - \\overline{X})(Y_i  - \\overline{Y})$$\n"
   ]
  },
  {
   "cell_type": "code",
   "execution_count": 33,
   "metadata": {},
   "outputs": [
    {
     "name": "stdout",
     "output_type": "stream",
     "text": [
      "[[385.33297729 389.7545618 ]\n",
      " [389.7545618  500.38006058]]\n"
     ]
    }
   ],
   "source": [
    "# calculate the covariance between two variables\n",
    "from numpy.random import randn, seed\n",
    "from numpy import cov\n",
    "# seed random number generator\n",
    "seed(1)\n",
    "# prepare data\n",
    "data1 = 20 * randn(1000) + 100\n",
    "data2 = data1 + (10 * randn(1000) + 50)\n",
    "# calculate covariance matrix\n",
    "covariance = cov(data1, data2)\n",
    "print(covariance)"
   ]
  },
  {
   "cell_type": "markdown",
   "metadata": {},
   "source": [
    "## Корреляция Пирсона"
   ]
  },
  {
   "cell_type": "markdown",
   "metadata": {},
   "source": [
    "Корреляция Пирсона (названная в честь Карла Пирсона) представляет собой ковариацию, нормированную на стандартные отклонения обеих переменных:\n",
    "\n",
    "$$\n",
    "r = \\frac{{\\sum_i (X_i  - \\overline{X})(Y_i  - \\overline{Y})}}{{\\sqrt{{\\sum_i (X_i  - \\overline{X})^2 \\cdot \\sum_i (Y_i  - \\overline{Y})^2}}}}\n",
    "$$\n",
    "\n",
    "\n",
    "Предпосылки:\n",
    "\n",
    "- Величины должны быть непрерывными.\n",
    "- Нет выбросов.\n",
    "- Зависимость линейная\n",
    "- Гомоскедастичность"
   ]
  },
  {
   "cell_type": "code",
   "execution_count": 34,
   "metadata": {},
   "outputs": [
    {
     "name": "stdout",
     "output_type": "stream",
     "text": [
      "Pearsons correlation: 0.888\n"
     ]
    }
   ],
   "source": [
    "from numpy.random import randn\n",
    "from numpy.random import seed\n",
    "from scipy.stats import pearsonr\n",
    "# seed random number generator\n",
    "seed(1)\n",
    "# prepare data\n",
    "data1 = 20 * randn(1000) + 100\n",
    "data2 = data1 + (10 * randn(1000) + 50)\n",
    "# calculate Pearson's correlation\n",
    "corr, _ = pearsonr(data1, data2)\n",
    "print('Pearsons correlation: %.3f' % corr)"
   ]
  },
  {
   "cell_type": "markdown",
   "metadata": {},
   "source": [
    "Существует также процедура проверки гипотезы на значимость\n",
    "\n",
    "- Нулевая гипотеза: \n",
    "$$ H_0: \\rho = 0 $$\n",
    "\n",
    "- Альтернативная гипотеза: \n",
    "$$ H_1: \\rho \\neq 0 $$\n",
    "\n",
    "- Тестовая статистика: \n",
    "$$ t = r \\sqrt{\\frac{n - 2}{1 - r^2}} $$\n",
    "\n",
    "- Распределение: t-распределение с \\( n - 2 \\) степенями свободы при условии что X и Y имеют совместное нормальное распределение при выполнеии $H_0$.\n"
   ]
  },
  {
   "cell_type": "markdown",
   "metadata": {},
   "source": [
    "## Корреляция Спирмена\n",
    "\n",
    "Корреляция Спирмена предполагает наличие уже не линейной, а монотонной зависимости.\n",
    "\n",
    "$$ r_s = \\frac{\\sum_{i=1}^n (R(X_i) - \\overline{R(X)})(R(Y_i) - \\overline{R(Y)})}{\\sqrt{\\sum_{i=1}^n (R(X_i) - \\overline{R(X)})^2 \\cdot \\sum_{i=1}^n (R(Y_i) - \\overline{R(Y)})^2}} = 1 - \\frac{6 \\sum_{i=1}^n (R(X_i) - R(y_i))^2}{n(n^2 - 1)}\n",
    " $$\n",
    "\n",
    " где $R(x)$ -- ранг наблюдения. В классической постановке -- номер наблюдения в вариационном ряде. Корреляция Спирмена является просто корреляцией Пирсона для рангов наблюдений. 0 означает отсутствие зависимости, а +1 и -1 -- наличие строгой монотонной зависимости, положительной или отрицательной соответственно.\n",
    "\n",
    "\n"
   ]
  },
  {
   "cell_type": "code",
   "execution_count": 35,
   "metadata": {},
   "outputs": [
    {
     "name": "stdout",
     "output_type": "stream",
     "text": [
      "Spearmans correlation: 0.872\n"
     ]
    }
   ],
   "source": [
    "# calculate the spearmans's correlation between two variables\n",
    "from numpy.random import randn\n",
    "from numpy.random import seed\n",
    "from scipy.stats import spearmanr\n",
    "# seed random number generator\n",
    "seed(1)\n",
    "\n",
    "# prepare data\n",
    "data1 = 20 * randn(1000) + 100\n",
    "data2 = data1 + (10 * randn(1000) + 50)\n",
    "# calculate spearman's correlation\n",
    "corr, _ = spearmanr(data1, data2)\n",
    "print('Spearmans correlation: %.3f' % corr)"
   ]
  },
  {
   "cell_type": "markdown",
   "metadata": {},
   "source": [
    "Аналогично Пирсону, существует тест для проверки значимости корреляции.\n",
    "\n",
    " - Нулевая гипотеза: \n",
    "$$ H_0: \\rho_s = 0 $$\n",
    "\n",
    "- Альтернативная гипотеза: \n",
    "$$ H_1: \\rho_s \\neq 0 $$\n",
    "\n",
    "- Тестовая статистика: \n",
    "$$ t = r_s \\sqrt{\\frac{n - 2}{1 - r_s^2}} $$\n",
    "\n",
    "- Распределение: t-распределение с \\( n - 2 \\) степенями свободы. Обратите внимание, для этого теста предпосылка о нормальности не требуется."
   ]
  },
  {
   "cell_type": "markdown",
   "metadata": {},
   "source": [
    "## Корреляция Кендалла\n",
    "\n",
    "\n",
    "Рассмотрим ещё один вариант, который подходит для дискретных выборок. В общем виде корреляция Спирмена и Кендалла являются частными случаями общего понятия [ранговой корреляции](https://en.wikipedia.org/wiki/Rank_correlation#General_correlation_coefficient). Коэффициент $\\tau_B$ Кендалла определяется как:\n",
    "$$\n",
    "\\tau_B = \\frac{n_c - n_d}{\\sqrt{(n_0 - n_1)(n_0 - n_2)}}\n",
    "$$\n",
    "где\n",
    "$$\n",
    "n_0 = \\frac{n(n - 1)}{2}\n",
    "$$\n",
    "$$\n",
    "n_1 = \\sum_i \\frac{t_i(t_i - 1)}{2}\n",
    "$$\n",
    "$$\n",
    "n_2 = \\sum_j \\frac{u_j(u_j - 1)}{2}\n",
    "$$\n",
    "\n",
    "$n_c$ — количество согласованных пар, то есть пар, где \\(0 < i < j < n\\), для которых \\(x_i < x_j\\) и \\(y_i < y_j\\) или \\(x_i > x_j\\) и \\(y_i > y_j\\).\n",
    "\n",
    "$n_d$ — количество несогласованных пар, то есть пар, где \\(0 < i < j < n\\), для которых \\(x_i < x_j\\) и \\(y_i > y_j\\) или \\(x_i > x_j\\) и \\(y_i < y_j\\).\n",
    "\n",
    "$t_i$ — количество совпадающих значений в \\(i\\)-й группе совпадений для эмпирического распределения \\(X\\).\n",
    "\n",
    "$u_j$ — количество совпадающих значений в \\(j\\)-й группе совпадений для эмпирического распределения \\(Y\\).\n"
   ]
  },
  {
   "cell_type": "code",
   "execution_count": 36,
   "metadata": {},
   "outputs": [
    {
     "name": "stdout",
     "output_type": "stream",
     "text": [
      "Kendall correlation: 0.688\n"
     ]
    }
   ],
   "source": [
    "# calculate the kendall's correlation between two variables\n",
    "from numpy.random import randn\n",
    "from numpy.random import seed\n",
    "from scipy.stats import kendalltau\n",
    "# seed random number generator\n",
    "seed(1)\n",
    "# prepare data\n",
    "data1 = 20 * randn(1000) + 100\n",
    "data2 = data1 + (10 * randn(1000) + 50)\n",
    "# calculate spearman's correlation\n",
    "corr, _ = kendalltau(data1, data2)\n",
    "print('Kendall correlation: %.3f' % corr)"
   ]
  },
  {
   "cell_type": "markdown",
   "metadata": {},
   "source": [
    "Аналогично, можно провести тест на значимость\n",
    "\n",
    "- Нулевая гипотеза: \n",
    "$$ H_0: \\tau = 0 $$\n",
    "\n",
    "- Альтернативная гипотеза: \n",
    "$$ H_1: \\tau \\neq 0 $$\n",
    "\n",
    "- Тестовая статистика: нормализированная статистика Кендалла ($\\tau$).\n",
    "\n",
    "- Распределение: асимптотически нормальное распределение при больших $ n $ (Перепроверить)"
   ]
  },
  {
   "cell_type": "markdown",
   "metadata": {},
   "source": [
    "## Корреляция Пирсона vs Корреляции Спирмена и Кендалла\n",
    "\n",
    "- **Типы данных**: В случае непараметрической корреляции переменные X и Y могут быть непрерывными или порядковыми, и нормальное распределение для X и Y не требуется. Однако в случае корреляции Пирсона предполагается, что распределения X и Y должны быть нормальными и непрерывными.\n",
    "- Коэффициенты корреляции измеряют только линейные (Пирсон) или монотонные (Спирмен и Кендалл) зависимости.\n",
    "\n",
    "## Корреляция Спирмена vs Корреляция Кендалла\n",
    "\n",
    "- **Надёжность**: Корреляция Кендалла более устойчива к повторяющимся значениям и более эффективна для малых выборок. Корреляция Спирмена более устойчива к выбросам.\n",
    "- **Сложность вычислений**: Корреляция Кендалла имеет вычислительную сложность O(n^2) по сравнению с O(n log n) для корреляции Спирмена, где n — размер выборки.\n",
    "- **Величина коэффициента**: Значение коэффициента Спирмена (ρ) обычно больше значения коэффициента Кендалла (τ).\n",
    "- **Интерпретация**: Интерпретация коэффициента τ Кендалла в терминах вероятности наблюдения согласованных (concordant) и несогласованных (discordant) пар является очень прямолинейной.\n",
    "\"\"\""
   ]
  },
  {
   "cell_type": "markdown",
   "metadata": {},
   "source": [
    "## Примеры для некоторых вариантов зависимостей"
   ]
  },
  {
   "attachments": {
    "seminar_08_1.png": {
     "image/png": "[encoded data removed]"
    }
   },
   "cell_type": "markdown",
   "metadata": {},
   "source": [
    "![seminar_08_1.png](attachment:seminar_08_1.png)"
   ]
  },
  {
   "cell_type": "markdown",
   "metadata": {},
   "source": [
    "## Примеры для датасета Iris"
   ]
  },
  {
   "attachments": {
    "seminar_08_2.png": {
     "image/png": "[encoded data removed]"
    }
   },
   "cell_type": "markdown",
   "metadata": {},
   "source": [
    "![seminar_08_2.png](attachment:seminar_08_2.png)"
   ]
  },
  {
   "cell_type": "markdown",
   "metadata": {},
   "source": [
    "## Эксперимент"
   ]
  },
  {
   "cell_type": "markdown",
   "metadata": {},
   "source": [
    "Давайте посмотрим, что произойдёт, если выбрать $X$ из распределения Пуассона (не являющегося нормальным), а затем построим нелинейную зависимость $Y = e^X + \\epsilon$, где $\\epsilon \\sim N(0, \\sigma^2)$.\n",
    "\n",
    "Мы рассчитаем ранговую корреляцию Спирмена и обычный коэффициент корреляции для этих данных, а затем повторим эксперимент много раз. Поскольку $e^X$ создаёт множество значений, значительно отличающихся от остальных, это можно рассматривать как моделирование \"выбросов\" в данных. Ранговая корреляция Спирмена сжимает влияние выбросов и лучше измеряет корреляцию. Обычная корреляция запутывается из-за выбросов и, в среднем, показывает меньшую связь, чем она есть на самом деле."
   ]
  },
  {
   "cell_type": "code",
   "execution_count": 37,
   "metadata": {},
   "outputs": [
    {
     "name": "stdout",
     "output_type": "stream",
     "text": [
      "Correlation coefficient: 0.2151688841637797\n",
      "Spearman Rank Coefficient: 0.6524170413233182\n",
      "Kendall Rank Coefficient: 0.5676451685988942\n"
     ]
    }
   ],
   "source": [
    "import numpy as np \n",
    "import scipy.stats as ss\n",
    "## Let's see an example of this\n",
    "n = 100\n",
    "\n",
    "def compare_correlation_and_spearman_rank(n, noise):\n",
    "\n",
    "    X = np.random.poisson(size=n)\n",
    "    Y = np.exp(X) + noise * np.random.normal(size=n) + np.random.binomial(1, 0.15, size=n) * 100\n",
    "\n",
    "    pearson, _ = pearsonr(X, Y)\n",
    "    spearman, _ = spearmanr(X, Y)\n",
    "    kendall, _ = kendalltau(X, Y)\n",
    "\n",
    "    \n",
    "    return pearson, spearman, kendall\n",
    "\n",
    "experiments = 1000\n",
    "spearman_dist = np.ndarray(experiments)\n",
    "correlation_dist = np.ndarray(experiments)\n",
    "kendall_dist = np.ndarray(experiments)\n",
    "\n",
    "for i in range(experiments):\n",
    "    p, s, k = compare_correlation_and_spearman_rank(n, 1)\n",
    "    correlation_dist[i] = p\n",
    "    spearman_dist[i] = s\n",
    "    kendall_dist[i] = k\n",
    "    \n",
    "print(f'Correlation coefficient: {np.mean(correlation_dist)}')\n",
    "print(f'Spearman Rank Coefficient: {np.mean(spearman_dist)}')\n",
    "print(f'Kendall Rank Coefficient: {np.mean(kendall_dist)}')\n",
    "# Compare to the regular correlation coefficient"
   ]
  },
  {
   "cell_type": "markdown",
   "metadata": {},
   "source": [
    "Сопоставим распределения коэффициентов. Заметно, что корреляция Пирсона занижает силу зависимости."
   ]
  },
  {
   "cell_type": "code",
   "execution_count": 38,
   "metadata": {},
   "outputs": [
    {
     "data": {
      "image/png": "[encoded data removed]",
      "text/plain": [
       "<Figure size 640x480 with 1 Axes>"
      ]
     },
     "metadata": {},
     "output_type": "display_data"
    }
   ],
   "source": [
    "import matplotlib.pyplot as plt\n",
    "\n",
    "\n",
    "plt.hist(correlation_dist, bins=50, alpha=0.5)\n",
    "plt.hist(spearman_dist, bins=50, alpha=0.5)\n",
    "plt.hist(kendall_dist, bins=50, alpha=0.5)\n",
    "plt.legend(['Regular Correlation', 'Spearman Rank','Kendall Rank' ])\n",
    "plt.xlabel('Correlation Coefficient')\n",
    "plt.ylabel('Frequency');"
   ]
  },
  {
   "cell_type": "markdown",
   "metadata": {},
   "source": [
    "Теперь попробуем поварьировать дисперсию шума. Заметно, что обе метрики снижают своё качество, но в большинстве "
   ]
  },
  {
   "cell_type": "code",
   "execution_count": 39,
   "metadata": {},
   "outputs": [
    {
     "data": {
      "text/plain": [
       "Text(0, 0.5, 'Average Correlation Coefficient')"
      ]
     },
     "execution_count": 39,
     "metadata": {},
     "output_type": "execute_result"
    },
    {
     "data": {
      "image/png": "[encoded data removed]",
      "text/plain": [
       "<Figure size 640x480 with 1 Axes>"
      ]
     },
     "metadata": {},
     "output_type": "display_data"
    }
   ],
   "source": [
    "n = 100\n",
    "noises = np.linspace(0, 10, 30)\n",
    "experiments = 100\n",
    "correlation = np.ndarray(len(noises))\n",
    "spearman = np.ndarray(len(noises))\n",
    "kendall = np.ndarray(len(noises))\n",
    "\n",
    "for i in range(len(noises)):\n",
    "    # Run many experiments for each noise setting\n",
    "    pearson_coef = 0.0\n",
    "    spearman_coef = 0.0\n",
    "    kendall_coef = 0\n",
    "    noise = noises[i]\n",
    "    for j in range(experiments):\n",
    "        p, s, k = compare_correlation_and_spearman_rank(n, noise)\n",
    "        pearson_coef += p\n",
    "        spearman_coef += s\n",
    "        kendall_coef += k\n",
    "    correlation[i] = pearson_coef/experiments\n",
    "    spearman[i] = spearman_coef/experiments\n",
    "    kendall[i] = kendall_coef/experiments\n",
    "    \n",
    "plt.scatter(noises, correlation)\n",
    "plt.scatter(noises, spearman, color='r')\n",
    "plt.scatter(noises, kendall, color='g')\n",
    "plt.legend(['Pearson Correlation', 'Spearman Rank', 'Kendall Rank'])\n",
    "plt.xlabel('Amount of Noise')\n",
    "plt.ylabel('Average Correlation Coefficient')"
   ]
  },
  {
   "cell_type": "markdown",
   "metadata": {},
   "source": [
    "# Белый шум"
   ]
  },
  {
   "cell_type": "markdown",
   "metadata": {},
   "source": [
    "\n",
    "#### Определение:\n",
    "Процесс $\\{ \\varepsilon_t \\}$ называется **белым шумом**, если он удовлетворяет следующим условиям:\n",
    "\n",
    "1. **Математическое ожидание равно нулю**:\n",
    "   $$\n",
    "   \\mathbb{E}[\\varepsilon_t] = 0, \\quad \\forall t.\n",
    "   $$\n",
    "\n",
    "2. **Постоянная дисперсия**:\n",
    "   $$\n",
    "   \\text{Var}(\\varepsilon_t) = \\sigma^2, \\quad \\forall t,\n",
    "   $$\n",
    "   где $\\sigma^2 > 0$ — константа.\n",
    "\n",
    "3. **Отсутствие автокорреляции**:\n",
    "   $$\n",
    "   \\text{Cov}(\\varepsilon_t, \\varepsilon_{t-k}) = 0, \\quad \\forall k \\neq 0.\n",
    "   $$\n",
    "\n",
    "#### Формальное обозначение:\n",
    "$$\n",
    "\\varepsilon_t \\sim WN(0, \\sigma^2),\n",
    "$$\n",
    "где $WN$ обозначает \"белый шум\" с математическим ожиданием $0$ и дисперсией $\\sigma^2$.\n",
    "\n",
    "#### Дополнительные предположения:\n",
    "- Если дополнительно предполагается нормальность распределения, то процесс называется **гауссовским белым шумом**:\n",
    "  $$\n",
    "  \\varepsilon_t \\sim \\mathcal{N}(0, \\sigma^2).\n",
    "  $$\n"
   ]
  },
  {
   "cell_type": "code",
   "execution_count": 40,
   "metadata": {},
   "outputs": [
    {
     "data": {
      "application/vnd.plotly.v1+json": {
       "config": {
        "plotlyServerURL": "https://plot.ly"
       },
       "data": [
        {
         "line": {
          "color": "blue",
          "width": 2
         },
         "mode": "lines",
         "name": "Белый шум",
         "type": "scatter",
         "x": {
          "bdata": "AAABAAIAAwAEAAUABgAHAAgACQAKAAsADAANAA4ADwAQABEAEgATABQAFQAWABcAGAAZABoAGwAcAB0AHgAfACAAIQAiACMAJAAlACYAJwAoACkAKgArACwALQAuAC8AMAAxADIAMwA0ADUANgA3ADgAOQA6ADsAPAA9AD4APwBAAEEAQgBDAEQARQBGAEcASABJAEoASwBMAE0ATgBPAFAAUQBSAFMAVABVAFYAVwBYAFkAWgBbAFwAXQBeAF8AYABhAGIAYwBkAGUAZgBnAGgAaQBqAGsAbABtAG4AbwBwAHEAcgBzAHQAdQB2AHcAeAB5AHoAewB8AH0AfgB/AIAAgQCCAIMAhACFAIYAhwCIAIkAigCLAIwAjQCOAI8AkACRAJIAkwCUAJUAlgCXAJgAmQCaAJsAnACdAJ4AnwCgAKEAogCjAKQApQCmAKcAqACpAKoAqwCsAK0ArgCvALAAsQCyALMAtAC1ALYAtwC4ALkAugC7ALwAvQC+AL8AwADBAMIAwwDEAMUAxgDHAMgAyQDKAMsAzADNAM4AzwDQANEA0gDTANQA1QDWANcA2ADZANoA2wDcAN0A3gDfAOAA4QDiAOMA5ADlAOYA5wDoAOkA6gDrAOwA7QDuAO8A8ADxAPIA8wD0APUA9gD3APgA+QD6APsA/AD9AP4A/wAAAQEBAgEDAQQBBQEGAQcBCAEJAQoBCwEMAQ0BDgEPARABEQESARMBFAEVARYBFwEYARkBGgEbARwBHQEeAR8BIAEhASIBIwEkASUBJgEnASgBKQEqASsB",
          "dtype": "i2"
         },
         "y": {
          "bdata": "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",
          "dtype": "f8"
         }
        }
       ],
       "layout": {
        "showlegend": true,
        "template": {
         "data": {
          "bar": [
           {
            "error_x": {
             "color": "#2a3f5f"
            },
            "error_y": {
             "color": "#2a3f5f"
            },
            "marker": {
             "line": {
              "color": "white",
              "width": 0.5
             },
             "pattern": {
              "fillmode": "overlay",
              "size": 10,
              "solidity": 0.2
             }
            },
            "type": "bar"
           }
          ],
          "barpolar": [
           {
            "marker": {
             "line": {
              "color": "white",
              "width": 0.5
             },
             "pattern": {
              "fillmode": "overlay",
              "size": 10,
              "solidity": 0.2
             }
            },
            "type": "barpolar"
           }
          ],
          "carpet": [
           {
            "aaxis": {
             "endlinecolor": "#2a3f5f",
             "gridcolor": "#C8D4E3",
             "linecolor": "#C8D4E3",
             "minorgridcolor": "#C8D4E3",
             "startlinecolor": "#2a3f5f"
            },
            "baxis": {
             "endlinecolor": "#2a3f5f",
             "gridcolor": "#C8D4E3",
             "linecolor": "#C8D4E3",
             "minorgridcolor": "#C8D4E3",
             "startlinecolor": "#2a3f5f"
            },
            "type": "carpet"
           }
          ],
          "choropleth": [
           {
            "colorbar": {
             "outlinewidth": 0,
             "ticks": ""
            },
            "type": "choropleth"
           }
          ],
          "contour": [
           {
            "colorbar": {
             "outlinewidth": 0,
             "ticks": ""
            },
            "colorscale": [
             [
              0,
              "#0d0887"
             ],
             [
              0.1111111111111111,
              "#46039f"
             ],
             [
              0.2222222222222222,
              "#7201a8"
             ],
             [
              0.3333333333333333,
              "#9c179e"
             ],
             [
              0.4444444444444444,
              "#bd3786"
             ],
             [
              0.5555555555555556,
              "#d8576b"
             ],
             [
              0.6666666666666666,
              "#ed7953"
             ],
             [
              0.7777777777777778,
              "#fb9f3a"
             ],
             [
              0.8888888888888888,
              "#fdca26"
             ],
             [
              1,
              "#f0f921"
             ]
            ],
            "type": "contour"
           }
          ],
          "contourcarpet": [
           {
            "colorbar": {
             "outlinewidth": 0,
             "ticks": ""
            },
            "type": "contourcarpet"
           }
          ],
          "heatmap": [
           {
            "colorbar": {
             "outlinewidth": 0,
             "ticks": ""
            },
            "colorscale": [
             [
              0,
              "#0d0887"
             ],
             [
              0.1111111111111111,
              "#46039f"
             ],
             [
              0.2222222222222222,
              "#7201a8"
             ],
             [
              0.3333333333333333,
              "#9c179e"
             ],
             [
              0.4444444444444444,
              "#bd3786"
             ],
             [
              0.5555555555555556,
              "#d8576b"
             ],
             [
              0.6666666666666666,
              "#ed7953"
             ],
             [
              0.7777777777777778,
              "#fb9f3a"
             ],
             [
              0.8888888888888888,
              "#fdca26"
             ],
             [
              1,
              "#f0f921"
             ]
            ],
            "type": "heatmap"
           }
          ],
          "histogram": [
           {
            "marker": {
             "pattern": {
              "fillmode": "overlay",
              "size": 10,
              "solidity": 0.2
             }
            },
            "type": "histogram"
           }
          ],
          "histogram2d": [
           {
            "colorbar": {
             "outlinewidth": 0,
             "ticks": ""
            },
            "colorscale": [
             [
              0,
              "#0d0887"
             ],
             [
              0.1111111111111111,
              "#46039f"
             ],
             [
              0.2222222222222222,
              "#7201a8"
             ],
             [
              0.3333333333333333,
              "#9c179e"
             ],
             [
              0.4444444444444444,
              "#bd3786"
             ],
             [
              0.5555555555555556,
              "#d8576b"
             ],
             [
              0.6666666666666666,
              "#ed7953"
             ],
             [
              0.7777777777777778,
              "#fb9f3a"
             ],
             [
              0.8888888888888888,
              "#fdca26"
             ],
             [
              1,
              "#f0f921"
             ]
            ],
            "type": "histogram2d"
           }
          ],
          "histogram2dcontour": [
           {
            "colorbar": {
             "outlinewidth": 0,
             "ticks": ""
            },
            "colorscale": [
             [
              0,
              "#0d0887"
             ],
             [
              0.1111111111111111,
              "#46039f"
             ],
             [
              0.2222222222222222,
              "#7201a8"
             ],
             [
              0.3333333333333333,
              "#9c179e"
             ],
             [
              0.4444444444444444,
              "#bd3786"
             ],
             [
              0.5555555555555556,
              "#d8576b"
             ],
             [
              0.6666666666666666,
              "#ed7953"
             ],
             [
              0.7777777777777778,
              "#fb9f3a"
             ],
             [
              0.8888888888888888,
              "#fdca26"
             ],
             [
              1,
              "#f0f921"
             ]
            ],
            "type": "histogram2dcontour"
           }
          ],
          "mesh3d": [
           {
            "colorbar": {
             "outlinewidth": 0,
             "ticks": ""
            },
            "type": "mesh3d"
           }
          ],
          "parcoords": [
           {
            "line": {
             "colorbar": {
              "outlinewidth": 0,
              "ticks": ""
             }
            },
            "type": "parcoords"
           }
          ],
          "pie": [
           {
            "automargin": true,
            "type": "pie"
           }
          ],
          "scatter": [
           {
            "fillpattern": {
             "fillmode": "overlay",
             "size": 10,
             "solidity": 0.2
            },
            "type": "scatter"
           }
          ],
          "scatter3d": [
           {
            "line": {
             "colorbar": {
              "outlinewidth": 0,
              "ticks": ""
             }
            },
            "marker": {
             "colorbar": {
              "outlinewidth": 0,
              "ticks": ""
             }
            },
            "type": "scatter3d"
           }
          ],
          "scattercarpet": [
           {
            "marker": {
             "colorbar": {
              "outlinewidth": 0,
              "ticks": ""
             }
            },
            "type": "scattercarpet"
           }
          ],
          "scattergeo": [
           {
            "marker": {
             "colorbar": {
              "outlinewidth": 0,
              "ticks": ""
             }
            },
            "type": "scattergeo"
           }
          ],
          "scattergl": [
           {
            "marker": {
             "colorbar": {
              "outlinewidth": 0,
              "ticks": ""
             }
            },
            "type": "scattergl"
           }
          ],
          "scattermap": [
           {
            "marker": {
             "colorbar": {
              "outlinewidth": 0,
              "ticks": ""
             }
            },
            "type": "scattermap"
           }
          ],
          "scattermapbox": [
           {
            "marker": {
             "colorbar": {
              "outlinewidth": 0,
              "ticks": ""
             }
            },
            "type": "scattermapbox"
           }
          ],
          "scatterpolar": [
           {
            "marker": {
             "colorbar": {
              "outlinewidth": 0,
              "ticks": ""
             }
            },
            "type": "scatterpolar"
           }
          ],
          "scatterpolargl": [
           {
            "marker": {
             "colorbar": {
              "outlinewidth": 0,
              "ticks": ""
             }
            },
            "type": "scatterpolargl"
           }
          ],
          "scatterternary": [
           {
            "marker": {
             "colorbar": {
              "outlinewidth": 0,
              "ticks": ""
             }
            },
            "type": "scatterternary"
           }
          ],
          "surface": [
           {
            "colorbar": {
             "outlinewidth": 0,
             "ticks": ""
            },
            "colorscale": [
             [
              0,
              "#0d0887"
             ],
             [
              0.1111111111111111,
              "#46039f"
             ],
             [
              0.2222222222222222,
              "#7201a8"
             ],
             [
              0.3333333333333333,
              "#9c179e"
             ],
             [
              0.4444444444444444,
              "#bd3786"
             ],
             [
              0.5555555555555556,
              "#d8576b"
             ],
             [
              0.6666666666666666,
              "#ed7953"
             ],
             [
              0.7777777777777778,
              "#fb9f3a"
             ],
             [
              0.8888888888888888,
              "#fdca26"
             ],
             [
              1,
              "#f0f921"
             ]
            ],
            "type": "surface"
           }
          ],
          "table": [
           {
            "cells": {
             "fill": {
              "color": "#EBF0F8"
             },
             "line": {
              "color": "white"
             }
            },
            "header": {
             "fill": {
              "color": "#C8D4E3"
             },
             "line": {
              "color": "white"
             }
            },
            "type": "table"
           }
          ]
         },
         "layout": {
          "annotationdefaults": {
           "arrowcolor": "#2a3f5f",
           "arrowhead": 0,
           "arrowwidth": 1
          },
          "autotypenumbers": "strict",
          "coloraxis": {
           "colorbar": {
            "outlinewidth": 0,
            "ticks": ""
           }
          },
          "colorscale": {
           "diverging": [
            [
             0,
             "#8e0152"
            ],
            [
             0.1,
             "#c51b7d"
            ],
            [
             0.2,
             "#de77ae"
            ],
            [
             0.3,
             "#f1b6da"
            ],
            [
             0.4,
             "#fde0ef"
            ],
            [
             0.5,
             "#f7f7f7"
            ],
            [
             0.6,
             "#e6f5d0"
            ],
            [
             0.7,
             "#b8e186"
            ],
            [
             0.8,
             "#7fbc41"
            ],
            [
             0.9,
             "#4d9221"
            ],
            [
             1,
             "#276419"
            ]
           ],
           "sequential": [
            [
             0,
             "#0d0887"
            ],
            [
             0.1111111111111111,
             "#46039f"
            ],
            [
             0.2222222222222222,
             "#7201a8"
            ],
            [
             0.3333333333333333,
             "#9c179e"
            ],
            [
             0.4444444444444444,
             "#bd3786"
            ],
            [
             0.5555555555555556,
             "#d8576b"
            ],
            [
             0.6666666666666666,
             "#ed7953"
            ],
            [
             0.7777777777777778,
             "#fb9f3a"
            ],
            [
             0.8888888888888888,
             "#fdca26"
            ],
            [
             1,
             "#f0f921"
            ]
           ],
           "sequentialminus": [
            [
             0,
             "#0d0887"
            ],
            [
             0.1111111111111111,
             "#46039f"
            ],
            [
             0.2222222222222222,
             "#7201a8"
            ],
            [
             0.3333333333333333,
             "#9c179e"
            ],
            [
             0.4444444444444444,
             "#bd3786"
            ],
            [
             0.5555555555555556,
             "#d8576b"
            ],
            [
             0.6666666666666666,
             "#ed7953"
            ],
            [
             0.7777777777777778,
             "#fb9f3a"
            ],
            [
             0.8888888888888888,
             "#fdca26"
            ],
            [
             1,
             "#f0f921"
            ]
           ]
          },
          "colorway": [
           "#636efa",
           "#EF553B",
           "#00cc96",
           "#ab63fa",
           "#FFA15A",
           "#19d3f3",
           "#FF6692",
           "#B6E880",
           "#FF97FF",
           "#FECB52"
          ],
          "font": {
           "color": "#2a3f5f"
          },
          "geo": {
           "bgcolor": "white",
           "lakecolor": "white",
           "landcolor": "white",
           "showlakes": true,
           "showland": true,
           "subunitcolor": "#C8D4E3"
          },
          "hoverlabel": {
           "align": "left"
          },
          "hovermode": "closest",
          "mapbox": {
           "style": "light"
          },
          "paper_bgcolor": "white",
          "plot_bgcolor": "white",
          "polar": {
           "angularaxis": {
            "gridcolor": "#EBF0F8",
            "linecolor": "#EBF0F8",
            "ticks": ""
           },
           "bgcolor": "white",
           "radialaxis": {
            "gridcolor": "#EBF0F8",
            "linecolor": "#EBF0F8",
            "ticks": ""
           }
          },
          "scene": {
           "xaxis": {
            "backgroundcolor": "white",
            "gridcolor": "#DFE8F3",
            "gridwidth": 2,
            "linecolor": "#EBF0F8",
            "showbackground": true,
            "ticks": "",
            "zerolinecolor": "#EBF0F8"
           },
           "yaxis": {
            "backgroundcolor": "white",
            "gridcolor": "#DFE8F3",
            "gridwidth": 2,
            "linecolor": "#EBF0F8",
            "showbackground": true,
            "ticks": "",
            "zerolinecolor": "#EBF0F8"
           },
           "zaxis": {
            "backgroundcolor": "white",
            "gridcolor": "#DFE8F3",
            "gridwidth": 2,
            "linecolor": "#EBF0F8",
            "showbackground": true,
            "ticks": "",
            "zerolinecolor": "#EBF0F8"
           }
          },
          "shapedefaults": {
           "line": {
            "color": "#2a3f5f"
           }
          },
          "ternary": {
           "aaxis": {
            "gridcolor": "#DFE8F3",
            "linecolor": "#A2B1C6",
            "ticks": ""
           },
           "baxis": {
            "gridcolor": "#DFE8F3",
            "linecolor": "#A2B1C6",
            "ticks": ""
           },
           "bgcolor": "white",
           "caxis": {
            "gridcolor": "#DFE8F3",
            "linecolor": "#A2B1C6",
            "ticks": ""
           }
          },
          "title": {
           "x": 0.05
          },
          "xaxis": {
           "automargin": true,
           "gridcolor": "#EBF0F8",
           "linecolor": "#EBF0F8",
           "ticks": "",
           "title": {
            "standoff": 15
           },
           "zerolinecolor": "#EBF0F8",
           "zerolinewidth": 2
          },
          "yaxis": {
           "automargin": true,
           "gridcolor": "#EBF0F8",
           "linecolor": "#EBF0F8",
           "ticks": "",
           "title": {
            "standoff": 15
           },
           "zerolinecolor": "#EBF0F8",
           "zerolinewidth": 2
          }
         }
        },
        "title": {
         "text": "Процесс белого шума"
        },
        "xaxis": {
         "title": {
          "text": "Время (t)"
         }
        },
        "yaxis": {
         "title": {
          "text": "Значение"
         }
        }
       }
      }
     },
     "metadata": {},
     "output_type": "display_data"
    }
   ],
   "source": [
    "# Импортируем необходимые библиотеки\n",
    "import numpy as np\n",
    "import plotly.graph_objects as go\n",
    "\n",
    "# Генерация белого шума\n",
    "np.random.seed(42)  # Для воспроизводимости результатов\n",
    "n = 300  # Количество наблюдений\n",
    "mean = 0  # Математическое ожидание\n",
    "std_dev = 1  # Стандартное отклонение (корень из дисперсии)\n",
    "\n",
    "# Генерация данных белого шума\n",
    "white_noise = np.random.normal(loc=mean, scale=std_dev, size=n)\n",
    "\n",
    "# Создание временной оси\n",
    "time_index = np.arange(n)\n",
    "\n",
    "# Визуализация с помощью Plotly\n",
    "fig = go.Figure()\n",
    "\n",
    "# Добавление данных на график\n",
    "fig.add_trace(go.Scatter(\n",
    "    x=time_index,\n",
    "    y=white_noise,\n",
    "    mode='lines',\n",
    "    name='Белый шум',\n",
    "    line=dict(color='blue', width=2)\n",
    "))\n",
    "\n",
    "# Настройка макета графика\n",
    "fig.update_layout(\n",
    "    title=\"Процесс белого шума\",\n",
    "    xaxis_title=\"Время (t)\",\n",
    "    yaxis_title=\"Значение\",\n",
    "    template=\"plotly_white\",\n",
    "    showlegend=True\n",
    ")\n",
    "\n",
    "# Отображение графика\n",
    "fig.show()"
   ]
  },
  {
   "cell_type": "code",
   "execution_count": 41,
   "metadata": {},
   "outputs": [
    {
     "name": "stderr",
     "output_type": "stream",
     "text": [
      "[*********************100%***********************]  1 of 1 completed\n"
     ]
    },
    {
     "data": {
      "application/vnd.plotly.v1+json": {
       "config": {
        "plotlyServerURL": "https://plot.ly"
       },
       "data": [
        {
         "line": {
          "color": "blue",
          "width": 2
         },
         "mode": "lines",
         "name": "Цена",
         "type": "scatter",
         "x": [
          "2020-01-02T00:00:00.000000000",
          "2020-01-03T00:00:00.000000000",
          "2020-01-06T00:00:00.000000000",
          "2020-01-07T00:00:00.000000000",
          "2020-01-08T00:00:00.000000000",
          "2020-01-09T00:00:00.000000000",
          "2020-01-10T00:00:00.000000000",
          "2020-01-13T00:00:00.000000000",
          "2020-01-14T00:00:00.000000000",
          "2020-01-15T00:00:00.000000000",
          "2020-01-16T00:00:00.000000000",
          "2020-01-17T00:00:00.000000000",
          "2020-01-21T00:00:00.000000000",
          "2020-01-22T00:00:00.000000000",
          "2020-01-23T00:00:00.000000000",
          "2020-01-24T00:00:00.000000000",
          "2020-01-27T00:00:00.000000000",
          "2020-01-28T00:00:00.000000000",
          "2020-01-29T00:00:00.000000000",
          "2020-01-30T00:00:00.000000000",
          "2020-01-31T00:00:00.000000000",
          "2020-02-03T00:00:00.000000000",
          "2020-02-04T00:00:00.000000000",
          "2020-02-05T00:00:00.000000000",
          "2020-02-06T00:00:00.000000000",
          "2020-02-07T00:00:00.000000000",
          "2020-02-10T00:00:00.000000000",
          "2020-02-11T00:00:00.000000000",
          "2020-02-12T00:00:00.000000000",
          "2020-02-13T00:00:00.000000000",
          "2020-02-14T00:00:00.000000000",
          "2020-02-18T00:00:00.000000000",
          "2020-02-19T00:00:00.000000000",
          "2020-02-20T00:00:00.000000000",
          "2020-02-21T00:00:00.000000000",
          "2020-02-24T00:00:00.000000000",
          "2020-02-25T00:00:00.000000000",
          "2020-02-26T00:00:00.000000000",
          "2020-02-27T00:00:00.000000000",
          "2020-02-28T00:00:00.000000000",
          "2020-03-02T00:00:00.000000000",
          "2020-03-03T00:00:00.000000000",
          "2020-03-04T00:00:00.000000000",
          "2020-03-05T00:00:00.000000000",
          "2020-03-06T00:00:00.000000000",
          "2020-03-09T00:00:00.000000000",
          "2020-03-10T00:00:00.000000000",
          "2020-03-11T00:00:00.000000000",
          "2020-03-12T00:00:00.000000000",
          "2020-03-13T00:00:00.000000000",
          "2020-03-16T00:00:00.000000000",
          "2020-03-17T00:00:00.000000000",
          "2020-03-18T00:00:00.000000000",
          "2020-03-19T00:00:00.000000000",
          "2020-03-20T00:00:00.000000000",
          "2020-03-23T00:00:00.000000000",
          "2020-03-24T00:00:00.000000000",
          "2020-03-25T00:00:00.000000000",
          "2020-03-26T00:00:00.000000000",
          "2020-03-27T00:00:00.000000000",
          "2020-03-30T00:00:00.000000000",
          "2020-03-31T00:00:00.000000000",
          "2020-04-01T00:00:00.000000000",
          "2020-04-02T00:00:00.000000000",
          "2020-04-03T00:00:00.000000000",
          "2020-04-06T00:00:00.000000000",
          "2020-04-07T00:00:00.000000000",
          "2020-04-08T00:00:00.000000000",
          "2020-04-09T00:00:00.000000000",
          "2020-04-13T00:00:00.000000000",
          "2020-04-14T00:00:00.000000000",
          "2020-04-15T00:00:00.000000000",
          "2020-04-16T00:00:00.000000000",
          "2020-04-17T00:00:00.000000000",
          "2020-04-20T00:00:00.000000000",
          "2020-04-21T00:00:00.000000000",
          "2020-04-22T00:00:00.000000000",
          "2020-04-23T00:00:00.000000000",
          "2020-04-24T00:00:00.000000000",
          "2020-04-27T00:00:00.000000000",
          "2020-04-28T00:00:00.000000000",
          "2020-04-29T00:00:00.000000000",
          "2020-04-30T00:00:00.000000000",
          "2020-05-01T00:00:00.000000000",
          "2020-05-04T00:00:00.000000000",
          "2020-05-05T00:00:00.000000000",
          "2020-05-06T00:00:00.000000000",
          "2020-05-07T00:00:00.000000000",
          "2020-05-08T00:00:00.000000000",
          "2020-05-11T00:00:00.000000000",
          "2020-05-12T00:00:00.000000000",
          "2020-05-13T00:00:00.000000000",
          "2020-05-14T00:00:00.000000000",
          "2020-05-15T00:00:00.000000000",
          "2020-05-18T00:00:00.000000000",
          "2020-05-19T00:00:00.000000000",
          "2020-05-20T00:00:00.000000000",
          "2020-05-21T00:00:00.000000000",
          "2020-05-22T00:00:00.000000000",
          "2020-05-26T00:00:00.000000000",
          "2020-05-27T00:00:00.000000000",
          "2020-05-28T00:00:00.000000000",
          "2020-05-29T00:00:00.000000000",
          "2020-06-01T00:00:00.000000000",
          "2020-06-02T00:00:00.000000000",
          "2020-06-03T00:00:00.000000000",
          "2020-06-04T00:00:00.000000000",
          "2020-06-05T00:00:00.000000000",
          "2020-06-08T00:00:00.000000000",
          "2020-06-09T00:00:00.000000000",
          "2020-06-10T00:00:00.000000000",
          "2020-06-11T00:00:00.000000000",
          "2020-06-12T00:00:00.000000000",
          "2020-06-15T00:00:00.000000000",
          "2020-06-16T00:00:00.000000000",
          "2020-06-17T00:00:00.000000000",
          "2020-06-18T00:00:00.000000000",
          "2020-06-19T00:00:00.000000000",
          "2020-06-22T00:00:00.000000000",
          "2020-06-23T00:00:00.000000000",
          "2020-06-24T00:00:00.000000000",
          "2020-06-25T00:00:00.000000000",
          "2020-06-26T00:00:00.000000000",
          "2020-06-29T00:00:00.000000000",
          "2020-06-30T00:00:00.000000000",
          "2020-07-01T00:00:00.000000000",
          "2020-07-02T00:00:00.000000000",
          "2020-07-06T00:00:00.000000000",
          "2020-07-07T00:00:00.000000000",
          "2020-07-08T00:00:00.000000000",
          "2020-07-09T00:00:00.000000000",
          "2020-07-10T00:00:00.000000000",
          "2020-07-13T00:00:00.000000000",
          "2020-07-14T00:00:00.000000000",
          "2020-07-15T00:00:00.000000000",
          "2020-07-16T00:00:00.000000000",
          "2020-07-17T00:00:00.000000000",
          "2020-07-20T00:00:00.000000000",
          "2020-07-21T00:00:00.000000000",
          "2020-07-22T00:00:00.000000000",
          "2020-07-23T00:00:00.000000000",
          "2020-07-24T00:00:00.000000000",
          "2020-07-27T00:00:00.000000000",
          "2020-07-28T00:00:00.000000000",
          "2020-07-29T00:00:00.000000000",
          "2020-07-30T00:00:00.000000000",
          "2020-07-31T00:00:00.000000000",
          "2020-08-03T00:00:00.000000000",
          "2020-08-04T00:00:00.000000000",
          "2020-08-05T00:00:00.000000000",
          "2020-08-06T00:00:00.000000000",
          "2020-08-07T00:00:00.000000000",
          "2020-08-10T00:00:00.000000000",
          "2020-08-11T00:00:00.000000000",
          "2020-08-12T00:00:00.000000000",
          "2020-08-13T00:00:00.000000000",
          "2020-08-14T00:00:00.000000000",
          "2020-08-17T00:00:00.000000000",
          "2020-08-18T00:00:00.000000000",
          "2020-08-19T00:00:00.000000000",
          "2020-08-20T00:00:00.000000000",
          "2020-08-21T00:00:00.000000000",
          "2020-08-24T00:00:00.000000000",
          "2020-08-25T00:00:00.000000000",
          "2020-08-26T00:00:00.000000000",
          "2020-08-27T00:00:00.000000000",
          "2020-08-28T00:00:00.000000000",
          "2020-08-31T00:00:00.000000000",
          "2020-09-01T00:00:00.000000000",
          "2020-09-02T00:00:00.000000000",
          "2020-09-03T00:00:00.000000000",
          "2020-09-04T00:00:00.000000000",
          "2020-09-08T00:00:00.000000000",
          "2020-09-09T00:00:00.000000000",
          "2020-09-10T00:00:00.000000000",
          "2020-09-11T00:00:00.000000000",
          "2020-09-14T00:00:00.000000000",
          "2020-09-15T00:00:00.000000000",
          "2020-09-16T00:00:00.000000000",
          "2020-09-17T00:00:00.000000000",
          "2020-09-18T00:00:00.000000000",
          "2020-09-21T00:00:00.000000000",
          "2020-09-22T00:00:00.000000000",
          "2020-09-23T00:00:00.000000000",
          "2020-09-24T00:00:00.000000000",
          "2020-09-25T00:00:00.000000000",
          "2020-09-28T00:00:00.000000000",
          "2020-09-29T00:00:00.000000000",
          "2020-09-30T00:00:00.000000000",
          "2020-10-01T00:00:00.000000000",
          "2020-10-02T00:00:00.000000000",
          "2020-10-05T00:00:00.000000000",
          "2020-10-06T00:00:00.000000000",
          "2020-10-07T00:00:00.000000000",
          "2020-10-08T00:00:00.000000000",
          "2020-10-09T00:00:00.000000000",
          "2020-10-12T00:00:00.000000000",
          "2020-10-13T00:00:00.000000000",
          "2020-10-14T00:00:00.000000000",
          "2020-10-15T00:00:00.000000000",
          "2020-10-16T00:00:00.000000000",
          "2020-10-19T00:00:00.000000000",
          "2020-10-20T00:00:00.000000000",
          "2020-10-21T00:00:00.000000000",
          "2020-10-22T00:00:00.000000000",
          "2020-10-23T00:00:00.000000000",
          "2020-10-26T00:00:00.000000000",
          "2020-10-27T00:00:00.000000000",
          "2020-10-28T00:00:00.000000000",
          "2020-10-29T00:00:00.000000000",
          "2020-10-30T00:00:00.000000000",
          "2020-11-02T00:00:00.000000000",
          "2020-11-03T00:00:00.000000000",
          "2020-11-04T00:00:00.000000000",
          "2020-11-05T00:00:00.000000000",
          "2020-11-06T00:00:00.000000000",
          "2020-11-09T00:00:00.000000000",
          "2020-11-10T00:00:00.000000000",
          "2020-11-11T00:00:00.000000000",
          "2020-11-12T00:00:00.000000000",
          "2020-11-13T00:00:00.000000000",
          "2020-11-16T00:00:00.000000000",
          "2020-11-17T00:00:00.000000000",
          "2020-11-18T00:00:00.000000000",
          "2020-11-19T00:00:00.000000000",
          "2020-11-20T00:00:00.000000000",
          "2020-11-23T00:00:00.000000000",
          "2020-11-24T00:00:00.000000000",
          "2020-11-25T00:00:00.000000000",
          "2020-11-27T00:00:00.000000000",
          "2020-11-30T00:00:00.000000000",
          "2020-12-01T00:00:00.000000000",
          "2020-12-02T00:00:00.000000000",
          "2020-12-03T00:00:00.000000000",
          "2020-12-04T00:00:00.000000000",
          "2020-12-07T00:00:00.000000000",
          "2020-12-08T00:00:00.000000000",
          "2020-12-09T00:00:00.000000000",
          "2020-12-10T00:00:00.000000000",
          "2020-12-11T00:00:00.000000000",
          "2020-12-14T00:00:00.000000000",
          "2020-12-15T00:00:00.000000000",
          "2020-12-16T00:00:00.000000000",
          "2020-12-17T00:00:00.000000000",
          "2020-12-18T00:00:00.000000000",
          "2020-12-21T00:00:00.000000000",
          "2020-12-22T00:00:00.000000000",
          "2020-12-23T00:00:00.000000000",
          "2020-12-24T00:00:00.000000000",
          "2020-12-28T00:00:00.000000000",
          "2020-12-29T00:00:00.000000000",
          "2020-12-30T00:00:00.000000000",
          "2020-12-31T00:00:00.000000000",
          "2021-01-04T00:00:00.000000000",
          "2021-01-05T00:00:00.000000000",
          "2021-01-06T00:00:00.000000000",
          "2021-01-07T00:00:00.000000000",
          "2021-01-08T00:00:00.000000000",
          "2021-01-11T00:00:00.000000000",
          "2021-01-12T00:00:00.000000000",
          "2021-01-13T00:00:00.000000000",
          "2021-01-14T00:00:00.000000000",
          "2021-01-15T00:00:00.000000000",
          "2021-01-19T00:00:00.000000000",
          "2021-01-20T00:00:00.000000000",
          "2021-01-21T00:00:00.000000000",
          "2021-01-22T00:00:00.000000000",
          "2021-01-25T00:00:00.000000000",
          "2021-01-26T00:00:00.000000000",
          "2021-01-27T00:00:00.000000000",
          "2021-01-28T00:00:00.000000000",
          "2021-01-29T00:00:00.000000000",
          "2021-02-01T00:00:00.000000000",
          "2021-02-02T00:00:00.000000000",
          "2021-02-03T00:00:00.000000000",
          "2021-02-04T00:00:00.000000000",
          "2021-02-05T00:00:00.000000000",
          "2021-02-08T00:00:00.000000000",
          "2021-02-09T00:00:00.000000000",
          "2021-02-10T00:00:00.000000000",
          "2021-02-11T00:00:00.000000000",
          "2021-02-12T00:00:00.000000000",
          "2021-02-16T00:00:00.000000000",
          "2021-02-17T00:00:00.000000000",
          "2021-02-18T00:00:00.000000000",
          "2021-02-19T00:00:00.000000000",
          "2021-02-22T00:00:00.000000000",
          "2021-02-23T00:00:00.000000000",
          "2021-02-24T00:00:00.000000000",
          "2021-02-25T00:00:00.000000000",
          "2021-02-26T00:00:00.000000000",
          "2021-03-01T00:00:00.000000000",
          "2021-03-02T00:00:00.000000000",
          "2021-03-03T00:00:00.000000000",
          "2021-03-04T00:00:00.000000000",
          "2021-03-05T00:00:00.000000000",
          "2021-03-08T00:00:00.000000000",
          "2021-03-09T00:00:00.000000000",
          "2021-03-10T00:00:00.000000000",
          "2021-03-11T00:00:00.000000000",
          "2021-03-12T00:00:00.000000000",
          "2021-03-15T00:00:00.000000000",
          "2021-03-16T00:00:00.000000000",
          "2021-03-17T00:00:00.000000000",
          "2021-03-18T00:00:00.000000000",
          "2021-03-19T00:00:00.000000000",
          "2021-03-22T00:00:00.000000000",
          "2021-03-23T00:00:00.000000000",
          "2021-03-24T00:00:00.000000000",
          "2021-03-25T00:00:00.000000000",
          "2021-03-26T00:00:00.000000000",
          "2021-03-29T00:00:00.000000000",
          "2021-03-30T00:00:00.000000000",
          "2021-03-31T00:00:00.000000000",
          "2021-04-01T00:00:00.000000000",
          "2021-04-05T00:00:00.000000000",
          "2021-04-06T00:00:00.000000000",
          "2021-04-07T00:00:00.000000000",
          "2021-04-08T00:00:00.000000000",
          "2021-04-09T00:00:00.000000000",
          "2021-04-12T00:00:00.000000000",
          "2021-04-13T00:00:00.000000000",
          "2021-04-14T00:00:00.000000000",
          "2021-04-15T00:00:00.000000000",
          "2021-04-16T00:00:00.000000000",
          "2021-04-19T00:00:00.000000000",
          "2021-04-20T00:00:00.000000000",
          "2021-04-21T00:00:00.000000000",
          "2021-04-22T00:00:00.000000000",
          "2021-04-23T00:00:00.000000000",
          "2021-04-26T00:00:00.000000000",
          "2021-04-27T00:00:00.000000000",
          "2021-04-28T00:00:00.000000000",
          "2021-04-29T00:00:00.000000000",
          "2021-04-30T00:00:00.000000000",
          "2021-05-03T00:00:00.000000000",
          "2021-05-04T00:00:00.000000000",
          "2021-05-05T00:00:00.000000000",
          "2021-05-06T00:00:00.000000000",
          "2021-05-07T00:00:00.000000000",
          "2021-05-10T00:00:00.000000000",
          "2021-05-11T00:00:00.000000000",
          "2021-05-12T00:00:00.000000000",
          "2021-05-13T00:00:00.000000000",
          "2021-05-14T00:00:00.000000000",
          "2021-05-17T00:00:00.000000000",
          "2021-05-18T00:00:00.000000000",
          "2021-05-19T00:00:00.000000000",
          "2021-05-20T00:00:00.000000000",
          "2021-05-21T00:00:00.000000000",
          "2021-05-24T00:00:00.000000000",
          "2021-05-25T00:00:00.000000000",
          "2021-05-26T00:00:00.000000000",
          "2021-05-27T00:00:00.000000000",
          "2021-05-28T00:00:00.000000000",
          "2021-06-01T00:00:00.000000000",
          "2021-06-02T00:00:00.000000000",
          "2021-06-03T00:00:00.000000000",
          "2021-06-04T00:00:00.000000000",
          "2021-06-07T00:00:00.000000000",
          "2021-06-08T00:00:00.000000000",
          "2021-06-09T00:00:00.000000000",
          "2021-06-10T00:00:00.000000000",
          "2021-06-11T00:00:00.000000000",
          "2021-06-14T00:00:00.000000000",
          "2021-06-15T00:00:00.000000000",
          "2021-06-16T00:00:00.000000000",
          "2021-06-17T00:00:00.000000000",
          "2021-06-18T00:00:00.000000000",
          "2021-06-21T00:00:00.000000000",
          "2021-06-22T00:00:00.000000000",
          "2021-06-23T00:00:00.000000000",
          "2021-06-24T00:00:00.000000000",
          "2021-06-25T00:00:00.000000000",
          "2021-06-28T00:00:00.000000000",
          "2021-06-29T00:00:00.000000000",
          "2021-06-30T00:00:00.000000000",
          "2021-07-01T00:00:00.000000000",
          "2021-07-02T00:00:00.000000000",
          "2021-07-06T00:00:00.000000000",
          "2021-07-07T00:00:00.000000000",
          "2021-07-08T00:00:00.000000000",
          "2021-07-09T00:00:00.000000000",
          "2021-07-12T00:00:00.000000000",
          "2021-07-13T00:00:00.000000000",
          "2021-07-14T00:00:00.000000000",
          "2021-07-15T00:00:00.000000000",
          "2021-07-16T00:00:00.000000000",
          "2021-07-19T00:00:00.000000000",
          "2021-07-20T00:00:00.000000000",
          "2021-07-21T00:00:00.000000000",
          "2021-07-22T00:00:00.000000000",
          "2021-07-23T00:00:00.000000000",
          "2021-07-26T00:00:00.000000000",
          "2021-07-27T00:00:00.000000000",
          "2021-07-28T00:00:00.000000000",
          "2021-07-29T00:00:00.000000000",
          "2021-07-30T00:00:00.000000000",
          "2021-08-02T00:00:00.000000000",
          "2021-08-03T00:00:00.000000000",
          "2021-08-04T00:00:00.000000000",
          "2021-08-05T00:00:00.000000000",
          "2021-08-06T00:00:00.000000000",
          "2021-08-09T00:00:00.000000000",
          "2021-08-10T00:00:00.000000000",
          "2021-08-11T00:00:00.000000000",
          "2021-08-12T00:00:00.000000000",
          "2021-08-13T00:00:00.000000000",
          "2021-08-16T00:00:00.000000000",
          "2021-08-17T00:00:00.000000000",
          "2021-08-18T00:00:00.000000000",
          "2021-08-19T00:00:00.000000000",
          "2021-08-20T00:00:00.000000000",
          "2021-08-23T00:00:00.000000000",
          "2021-08-24T00:00:00.000000000",
          "2021-08-25T00:00:00.000000000",
          "2021-08-26T00:00:00.000000000",
          "2021-08-27T00:00:00.000000000",
          "2021-08-30T00:00:00.000000000",
          "2021-08-31T00:00:00.000000000",
          "2021-09-01T00:00:00.000000000",
          "2021-09-02T00:00:00.000000000",
          "2021-09-03T00:00:00.000000000",
          "2021-09-07T00:00:00.000000000",
          "2021-09-08T00:00:00.000000000",
          "2021-09-09T00:00:00.000000000",
          "2021-09-10T00:00:00.000000000",
          "2021-09-13T00:00:00.000000000",
          "2021-09-14T00:00:00.000000000",
          "2021-09-15T00:00:00.000000000",
          "2021-09-16T00:00:00.000000000",
          "2021-09-17T00:00:00.000000000",
          "2021-09-20T00:00:00.000000000",
          "2021-09-21T00:00:00.000000000",
          "2021-09-22T00:00:00.000000000",
          "2021-09-23T00:00:00.000000000",
          "2021-09-24T00:00:00.000000000",
          "2021-09-27T00:00:00.000000000",
          "2021-09-28T00:00:00.000000000",
          "2021-09-29T00:00:00.000000000",
          "2021-09-30T00:00:00.000000000",
          "2021-10-01T00:00:00.000000000",
          "2021-10-04T00:00:00.000000000",
          "2021-10-05T00:00:00.000000000",
          "2021-10-06T00:00:00.000000000",
          "2021-10-07T00:00:00.000000000",
          "2021-10-08T00:00:00.000000000",
          "2021-10-11T00:00:00.000000000",
          "2021-10-12T00:00:00.000000000",
          "2021-10-13T00:00:00.000000000",
          "2021-10-14T00:00:00.000000000",
          "2021-10-15T00:00:00.000000000",
          "2021-10-18T00:00:00.000000000",
          "2021-10-19T00:00:00.000000000",
          "2021-10-20T00:00:00.000000000",
          "2021-10-21T00:00:00.000000000",
          "2021-10-22T00:00:00.000000000",
          "2021-10-25T00:00:00.000000000",
          "2021-10-26T00:00:00.000000000",
          "2021-10-27T00:00:00.000000000",
          "2021-10-28T00:00:00.000000000",
          "2021-10-29T00:00:00.000000000",
          "2021-11-01T00:00:00.000000000",
          "2021-11-02T00:00:00.000000000",
          "2021-11-03T00:00:00.000000000",
          "2021-11-04T00:00:00.000000000",
          "2021-11-05T00:00:00.000000000",
          "2021-11-08T00:00:00.000000000",
          "2021-11-09T00:00:00.000000000",
          "2021-11-10T00:00:00.000000000",
          "2021-11-11T00:00:00.000000000",
          "2021-11-12T00:00:00.000000000",
          "2021-11-15T00:00:00.000000000",
          "2021-11-16T00:00:00.000000000",
          "2021-11-17T00:00:00.000000000",
          "2021-11-18T00:00:00.000000000",
          "2021-11-19T00:00:00.000000000",
          "2021-11-22T00:00:00.000000000",
          "2021-11-23T00:00:00.000000000",
          "2021-11-24T00:00:00.000000000",
          "2021-11-26T00:00:00.000000000",
          "2021-11-29T00:00:00.000000000",
          "2021-11-30T00:00:00.000000000",
          "2021-12-01T00:00:00.000000000",
          "2021-12-02T00:00:00.000000000",
          "2021-12-03T00:00:00.000000000",
          "2021-12-06T00:00:00.000000000",
          "2021-12-07T00:00:00.000000000",
          "2021-12-08T00:00:00.000000000",
          "2021-12-09T00:00:00.000000000",
          "2021-12-10T00:00:00.000000000",
          "2021-12-13T00:00:00.000000000",
          "2021-12-14T00:00:00.000000000",
          "2021-12-15T00:00:00.000000000",
          "2021-12-16T00:00:00.000000000",
          "2021-12-17T00:00:00.000000000",
          "2021-12-20T00:00:00.000000000",
          "2021-12-21T00:00:00.000000000",
          "2021-12-22T00:00:00.000000000",
          "2021-12-23T00:00:00.000000000",
          "2021-12-27T00:00:00.000000000",
          "2021-12-28T00:00:00.000000000",
          "2021-12-29T00:00:00.000000000",
          "2021-12-30T00:00:00.000000000",
          "2021-12-31T00:00:00.000000000",
          "2022-01-03T00:00:00.000000000",
          "2022-01-04T00:00:00.000000000",
          "2022-01-05T00:00:00.000000000",
          "2022-01-06T00:00:00.000000000",
          "2022-01-07T00:00:00.000000000",
          "2022-01-10T00:00:00.000000000",
          "2022-01-11T00:00:00.000000000",
          "2022-01-12T00:00:00.000000000",
          "2022-01-13T00:00:00.000000000",
          "2022-01-14T00:00:00.000000000",
          "2022-01-18T00:00:00.000000000",
          "2022-01-19T00:00:00.000000000",
          "2022-01-20T00:00:00.000000000",
          "2022-01-21T00:00:00.000000000",
          "2022-01-24T00:00:00.000000000",
          "2022-01-25T00:00:00.000000000",
          "2022-01-26T00:00:00.000000000",
          "2022-01-27T00:00:00.000000000",
          "2022-01-28T00:00:00.000000000",
          "2022-01-31T00:00:00.000000000",
          "2022-02-01T00:00:00.000000000",
          "2022-02-02T00:00:00.000000000",
          "2022-02-03T00:00:00.000000000",
          "2022-02-04T00:00:00.000000000",
          "2022-02-07T00:00:00.000000000",
          "2022-02-08T00:00:00.000000000",
          "2022-02-09T00:00:00.000000000",
          "2022-02-10T00:00:00.000000000",
          "2022-02-11T00:00:00.000000000",
          "2022-02-14T00:00:00.000000000",
          "2022-02-15T00:00:00.000000000",
          "2022-02-16T00:00:00.000000000",
          "2022-02-17T00:00:00.000000000",
          "2022-02-18T00:00:00.000000000",
          "2022-02-22T00:00:00.000000000",
          "2022-02-23T00:00:00.000000000",
          "2022-02-24T00:00:00.000000000",
          "2022-02-25T00:00:00.000000000",
          "2022-02-28T00:00:00.000000000",
          "2022-03-01T00:00:00.000000000",
          "2022-03-02T00:00:00.000000000",
          "2022-03-03T00:00:00.000000000",
          "2022-03-04T00:00:00.000000000",
          "2022-03-07T00:00:00.000000000",
          "2022-03-08T00:00:00.000000000",
          "2022-03-09T00:00:00.000000000",
          "2022-03-10T00:00:00.000000000",
          "2022-03-11T00:00:00.000000000",
          "2022-03-14T00:00:00.000000000",
          "2022-03-15T00:00:00.000000000",
          "2022-03-16T00:00:00.000000000",
          "2022-03-17T00:00:00.000000000",
          "2022-03-18T00:00:00.000000000",
          "2022-03-21T00:00:00.000000000",
          "2022-03-22T00:00:00.000000000",
          "2022-03-23T00:00:00.000000000",
          "2022-03-24T00:00:00.000000000",
          "2022-03-25T00:00:00.000000000",
          "2022-03-28T00:00:00.000000000",
          "2022-03-29T00:00:00.000000000",
          "2022-03-30T00:00:00.000000000",
          "2022-03-31T00:00:00.000000000",
          "2022-04-01T00:00:00.000000000",
          "2022-04-04T00:00:00.000000000",
          "2022-04-05T00:00:00.000000000",
          "2022-04-06T00:00:00.000000000",
          "2022-04-07T00:00:00.000000000",
          "2022-04-08T00:00:00.000000000",
          "2022-04-11T00:00:00.000000000",
          "2022-04-12T00:00:00.000000000",
          "2022-04-13T00:00:00.000000000",
          "2022-04-14T00:00:00.000000000",
          "2022-04-18T00:00:00.000000000",
          "2022-04-19T00:00:00.000000000",
          "2022-04-20T00:00:00.000000000",
          "2022-04-21T00:00:00.000000000",
          "2022-04-22T00:00:00.000000000",
          "2022-04-25T00:00:00.000000000",
          "2022-04-26T00:00:00.000000000",
          "2022-04-27T00:00:00.000000000",
          "2022-04-28T00:00:00.000000000",
          "2022-04-29T00:00:00.000000000",
          "2022-05-02T00:00:00.000000000",
          "2022-05-03T00:00:00.000000000",
          "2022-05-04T00:00:00.000000000",
          "2022-05-05T00:00:00.000000000",
          "2022-05-06T00:00:00.000000000",
          "2022-05-09T00:00:00.000000000",
          "2022-05-10T00:00:00.000000000",
          "2022-05-11T00:00:00.000000000",
          "2022-05-12T00:00:00.000000000",
          "2022-05-13T00:00:00.000000000",
          "2022-05-16T00:00:00.000000000",
          "2022-05-17T00:00:00.000000000",
          "2022-05-18T00:00:00.000000000",
          "2022-05-19T00:00:00.000000000",
          "2022-05-20T00:00:00.000000000",
          "2022-05-23T00:00:00.000000000",
          "2022-05-24T00:00:00.000000000",
          "2022-05-25T00:00:00.000000000",
          "2022-05-26T00:00:00.000000000",
          "2022-05-27T00:00:00.000000000",
          "2022-05-31T00:00:00.000000000",
          "2022-06-01T00:00:00.000000000",
          "2022-06-02T00:00:00.000000000",
          "2022-06-03T00:00:00.000000000",
          "2022-06-06T00:00:00.000000000",
          "2022-06-07T00:00:00.000000000",
          "2022-06-08T00:00:00.000000000",
          "2022-06-09T00:00:00.000000000",
          "2022-06-10T00:00:00.000000000",
          "2022-06-13T00:00:00.000000000",
          "2022-06-14T00:00:00.000000000",
          "2022-06-15T00:00:00.000000000",
          "2022-06-16T00:00:00.000000000",
          "2022-06-17T00:00:00.000000000",
          "2022-06-21T00:00:00.000000000",
          "2022-06-22T00:00:00.000000000",
          "2022-06-23T00:00:00.000000000",
          "2022-06-24T00:00:00.000000000",
          "2022-06-27T00:00:00.000000000",
          "2022-06-28T00:00:00.000000000",
          "2022-06-29T00:00:00.000000000",
          "2022-06-30T00:00:00.000000000",
          "2022-07-01T00:00:00.000000000",
          "2022-07-05T00:00:00.000000000",
          "2022-07-06T00:00:00.000000000",
          "2022-07-07T00:00:00.000000000",
          "2022-07-08T00:00:00.000000000",
          "2022-07-11T00:00:00.000000000",
          "2022-07-12T00:00:00.000000000",
          "2022-07-13T00:00:00.000000000",
          "2022-07-14T00:00:00.000000000",
          "2022-07-15T00:00:00.000000000",
          "2022-07-18T00:00:00.000000000",
          "2022-07-19T00:00:00.000000000",
          "2022-07-20T00:00:00.000000000",
          "2022-07-21T00:00:00.000000000",
          "2022-07-22T00:00:00.000000000",
          "2022-07-25T00:00:00.000000000",
          "2022-07-26T00:00:00.000000000",
          "2022-07-27T00:00:00.000000000",
          "2022-07-28T00:00:00.000000000",
          "2022-07-29T00:00:00.000000000",
          "2022-08-01T00:00:00.000000000",
          "2022-08-02T00:00:00.000000000",
          "2022-08-03T00:00:00.000000000",
          "2022-08-04T00:00:00.000000000",
          "2022-08-05T00:00:00.000000000",
          "2022-08-08T00:00:00.000000000",
          "2022-08-09T00:00:00.000000000",
          "2022-08-10T00:00:00.000000000",
          "2022-08-11T00:00:00.000000000",
          "2022-08-12T00:00:00.000000000",
          "2022-08-15T00:00:00.000000000",
          "2022-08-16T00:00:00.000000000",
          "2022-08-17T00:00:00.000000000",
          "2022-08-18T00:00:00.000000000",
          "2022-08-19T00:00:00.000000000",
          "2022-08-22T00:00:00.000000000",
          "2022-08-23T00:00:00.000000000",
          "2022-08-24T00:00:00.000000000",
          "2022-08-25T00:00:00.000000000",
          "2022-08-26T00:00:00.000000000",
          "2022-08-29T00:00:00.000000000",
          "2022-08-30T00:00:00.000000000",
          "2022-08-31T00:00:00.000000000",
          "2022-09-01T00:00:00.000000000",
          "2022-09-02T00:00:00.000000000",
          "2022-09-06T00:00:00.000000000",
          "2022-09-07T00:00:00.000000000",
          "2022-09-08T00:00:00.000000000",
          "2022-09-09T00:00:00.000000000",
          "2022-09-12T00:00:00.000000000",
          "2022-09-13T00:00:00.000000000",
          "2022-09-14T00:00:00.000000000",
          "2022-09-15T00:00:00.000000000",
          "2022-09-16T00:00:00.000000000",
          "2022-09-19T00:00:00.000000000",
          "2022-09-20T00:00:00.000000000",
          "2022-09-21T00:00:00.000000000",
          "2022-09-22T00:00:00.000000000",
          "2022-09-23T00:00:00.000000000",
          "2022-09-26T00:00:00.000000000",
          "2022-09-27T00:00:00.000000000",
          "2022-09-28T00:00:00.000000000",
          "2022-09-29T00:00:00.000000000",
          "2022-09-30T00:00:00.000000000",
          "2022-10-03T00:00:00.000000000",
          "2022-10-04T00:00:00.000000000",
          "2022-10-05T00:00:00.000000000",
          "2022-10-06T00:00:00.000000000",
          "2022-10-07T00:00:00.000000000",
          "2022-10-10T00:00:00.000000000",
          "2022-10-11T00:00:00.000000000",
          "2022-10-12T00:00:00.000000000",
          "2022-10-13T00:00:00.000000000",
          "2022-10-14T00:00:00.000000000",
          "2022-10-17T00:00:00.000000000",
          "2022-10-18T00:00:00.000000000",
          "2022-10-19T00:00:00.000000000",
          "2022-10-20T00:00:00.000000000",
          "2022-10-21T00:00:00.000000000",
          "2022-10-24T00:00:00.000000000",
          "2022-10-25T00:00:00.000000000",
          "2022-10-26T00:00:00.000000000",
          "2022-10-27T00:00:00.000000000",
          "2022-10-28T00:00:00.000000000",
          "2022-10-31T00:00:00.000000000",
          "2022-11-01T00:00:00.000000000",
          "2022-11-02T00:00:00.000000000",
          "2022-11-03T00:00:00.000000000",
          "2022-11-04T00:00:00.000000000",
          "2022-11-07T00:00:00.000000000",
          "2022-11-08T00:00:00.000000000",
          "2022-11-09T00:00:00.000000000",
          "2022-11-10T00:00:00.000000000",
          "2022-11-11T00:00:00.000000000",
          "2022-11-14T00:00:00.000000000",
          "2022-11-15T00:00:00.000000000",
          "2022-11-16T00:00:00.000000000",
          "2022-11-17T00:00:00.000000000",
          "2022-11-18T00:00:00.000000000",
          "2022-11-21T00:00:00.000000000",
          "2022-11-22T00:00:00.000000000",
          "2022-11-23T00:00:00.000000000",
          "2022-11-25T00:00:00.000000000",
          "2022-11-28T00:00:00.000000000",
          "2022-11-29T00:00:00.000000000",
          "2022-11-30T00:00:00.000000000",
          "2022-12-01T00:00:00.000000000",
          "2022-12-02T00:00:00.000000000",
          "2022-12-05T00:00:00.000000000",
          "2022-12-06T00:00:00.000000000",
          "2022-12-07T00:00:00.000000000",
          "2022-12-08T00:00:00.000000000",
          "2022-12-09T00:00:00.000000000",
          "2022-12-12T00:00:00.000000000",
          "2022-12-13T00:00:00.000000000",
          "2022-12-14T00:00:00.000000000",
          "2022-12-15T00:00:00.000000000",
          "2022-12-16T00:00:00.000000000",
          "2022-12-19T00:00:00.000000000",
          "2022-12-20T00:00:00.000000000",
          "2022-12-21T00:00:00.000000000",
          "2022-12-22T00:00:00.000000000",
          "2022-12-23T00:00:00.000000000",
          "2022-12-27T00:00:00.000000000",
          "2022-12-28T00:00:00.000000000",
          "2022-12-29T00:00:00.000000000",
          "2022-12-30T00:00:00.000000000",
          "2023-01-03T00:00:00.000000000",
          "2023-01-04T00:00:00.000000000",
          "2023-01-05T00:00:00.000000000",
          "2023-01-06T00:00:00.000000000",
          "2023-01-09T00:00:00.000000000",
          "2023-01-10T00:00:00.000000000",
          "2023-01-11T00:00:00.000000000",
          "2023-01-12T00:00:00.000000000",
          "2023-01-13T00:00:00.000000000",
          "2023-01-17T00:00:00.000000000",
          "2023-01-18T00:00:00.000000000",
          "2023-01-19T00:00:00.000000000",
          "2023-01-20T00:00:00.000000000",
          "2023-01-23T00:00:00.000000000",
          "2023-01-24T00:00:00.000000000",
          "2023-01-25T00:00:00.000000000",
          "2023-01-26T00:00:00.000000000",
          "2023-01-27T00:00:00.000000000",
          "2023-01-30T00:00:00.000000000",
          "2023-01-31T00:00:00.000000000",
          "2023-02-01T00:00:00.000000000",
          "2023-02-02T00:00:00.000000000",
          "2023-02-03T00:00:00.000000000",
          "2023-02-06T00:00:00.000000000",
          "2023-02-07T00:00:00.000000000",
          "2023-02-08T00:00:00.000000000",
          "2023-02-09T00:00:00.000000000",
          "2023-02-10T00:00:00.000000000",
          "2023-02-13T00:00:00.000000000",
          "2023-02-14T00:00:00.000000000",
          "2023-02-15T00:00:00.000000000",
          "2023-02-16T00:00:00.000000000",
          "2023-02-17T00:00:00.000000000",
          "2023-02-21T00:00:00.000000000",
          "2023-02-22T00:00:00.000000000",
          "2023-02-23T00:00:00.000000000",
          "2023-02-24T00:00:00.000000000",
          "2023-02-27T00:00:00.000000000",
          "2023-02-28T00:00:00.000000000",
          "2023-03-01T00:00:00.000000000",
          "2023-03-02T00:00:00.000000000",
          "2023-03-03T00:00:00.000000000",
          "2023-03-06T00:00:00.000000000",
          "2023-03-07T00:00:00.000000000",
          "2023-03-08T00:00:00.000000000",
          "2023-03-09T00:00:00.000000000",
          "2023-03-10T00:00:00.000000000",
          "2023-03-13T00:00:00.000000000",
          "2023-03-14T00:00:00.000000000",
          "2023-03-15T00:00:00.000000000",
          "2023-03-16T00:00:00.000000000",
          "2023-03-17T00:00:00.000000000",
          "2023-03-20T00:00:00.000000000",
          "2023-03-21T00:00:00.000000000",
          "2023-03-22T00:00:00.000000000",
          "2023-03-23T00:00:00.000000000",
          "2023-03-24T00:00:00.000000000",
          "2023-03-27T00:00:00.000000000",
          "2023-03-28T00:00:00.000000000",
          "2023-03-29T00:00:00.000000000",
          "2023-03-30T00:00:00.000000000",
          "2023-03-31T00:00:00.000000000",
          "2023-04-03T00:00:00.000000000",
          "2023-04-04T00:00:00.000000000",
          "2023-04-05T00:00:00.000000000",
          "2023-04-06T00:00:00.000000000",
          "2023-04-10T00:00:00.000000000",
          "2023-04-11T00:00:00.000000000",
          "2023-04-12T00:00:00.000000000",
          "2023-04-13T00:00:00.000000000",
          "2023-04-14T00:00:00.000000000",
          "2023-04-17T00:00:00.000000000",
          "2023-04-18T00:00:00.000000000",
          "2023-04-19T00:00:00.000000000",
          "2023-04-20T00:00:00.000000000",
          "2023-04-21T00:00:00.000000000",
          "2023-04-24T00:00:00.000000000",
          "2023-04-25T00:00:00.000000000",
          "2023-04-26T00:00:00.000000000",
          "2023-04-27T00:00:00.000000000",
          "2023-04-28T00:00:00.000000000",
          "2023-05-01T00:00:00.000000000",
          "2023-05-02T00:00:00.000000000",
          "2023-05-03T00:00:00.000000000",
          "2023-05-04T00:00:00.000000000",
          "2023-05-05T00:00:00.000000000",
          "2023-05-08T00:00:00.000000000",
          "2023-05-09T00:00:00.000000000",
          "2023-05-10T00:00:00.000000000",
          "2023-05-11T00:00:00.000000000",
          "2023-05-12T00:00:00.000000000",
          "2023-05-15T00:00:00.000000000",
          "2023-05-16T00:00:00.000000000",
          "2023-05-17T00:00:00.000000000",
          "2023-05-18T00:00:00.000000000",
          "2023-05-19T00:00:00.000000000",
          "2023-05-22T00:00:00.000000000",
          "2023-05-23T00:00:00.000000000",
          "2023-05-24T00:00:00.000000000",
          "2023-05-25T00:00:00.000000000",
          "2023-05-26T00:00:00.000000000",
          "2023-05-30T00:00:00.000000000",
          "2023-05-31T00:00:00.000000000",
          "2023-06-01T00:00:00.000000000",
          "2023-06-02T00:00:00.000000000",
          "2023-06-05T00:00:00.000000000",
          "2023-06-06T00:00:00.000000000",
          "2023-06-07T00:00:00.000000000",
          "2023-06-08T00:00:00.000000000",
          "2023-06-09T00:00:00.000000000",
          "2023-06-12T00:00:00.000000000",
          "2023-06-13T00:00:00.000000000",
          "2023-06-14T00:00:00.000000000",
          "2023-06-15T00:00:00.000000000",
          "2023-06-16T00:00:00.000000000",
          "2023-06-20T00:00:00.000000000",
          "2023-06-21T00:00:00.000000000",
          "2023-06-22T00:00:00.000000000",
          "2023-06-23T00:00:00.000000000",
          "2023-06-26T00:00:00.000000000",
          "2023-06-27T00:00:00.000000000",
          "2023-06-28T00:00:00.000000000",
          "2023-06-29T00:00:00.000000000",
          "2023-06-30T00:00:00.000000000",
          "2023-07-03T00:00:00.000000000",
          "2023-07-05T00:00:00.000000000",
          "2023-07-06T00:00:00.000000000",
          "2023-07-07T00:00:00.000000000",
          "2023-07-10T00:00:00.000000000",
          "2023-07-11T00:00:00.000000000",
          "2023-07-12T00:00:00.000000000",
          "2023-07-13T00:00:00.000000000",
          "2023-07-14T00:00:00.000000000",
          "2023-07-17T00:00:00.000000000",
          "2023-07-18T00:00:00.000000000",
          "2023-07-19T00:00:00.000000000",
          "2023-07-20T00:00:00.000000000",
          "2023-07-21T00:00:00.000000000",
          "2023-07-24T00:00:00.000000000",
          "2023-07-25T00:00:00.000000000",
          "2023-07-26T00:00:00.000000000",
          "2023-07-27T00:00:00.000000000",
          "2023-07-28T00:00:00.000000000",
          "2023-07-31T00:00:00.000000000",
          "2023-08-01T00:00:00.000000000",
          "2023-08-02T00:00:00.000000000",
          "2023-08-03T00:00:00.000000000",
          "2023-08-04T00:00:00.000000000",
          "2023-08-07T00:00:00.000000000",
          "2023-08-08T00:00:00.000000000",
          "2023-08-09T00:00:00.000000000",
          "2023-08-10T00:00:00.000000000",
          "2023-08-11T00:00:00.000000000",
          "2023-08-14T00:00:00.000000000",
          "2023-08-15T00:00:00.000000000",
          "2023-08-16T00:00:00.000000000",
          "2023-08-17T00:00:00.000000000",
          "2023-08-18T00:00:00.000000000",
          "2023-08-21T00:00:00.000000000",
          "2023-08-22T00:00:00.000000000",
          "2023-08-23T00:00:00.000000000",
          "2023-08-24T00:00:00.000000000",
          "2023-08-25T00:00:00.000000000",
          "2023-08-28T00:00:00.000000000",
          "2023-08-29T00:00:00.000000000",
          "2023-08-30T00:00:00.000000000",
          "2023-08-31T00:00:00.000000000",
          "2023-09-01T00:00:00.000000000",
          "2023-09-05T00:00:00.000000000",
          "2023-09-06T00:00:00.000000000",
          "2023-09-07T00:00:00.000000000",
          "2023-09-08T00:00:00.000000000",
          "2023-09-11T00:00:00.000000000",
          "2023-09-12T00:00:00.000000000",
          "2023-09-13T00:00:00.000000000",
          "2023-09-14T00:00:00.000000000",
          "2023-09-15T00:00:00.000000000",
          "2023-09-18T00:00:00.000000000",
          "2023-09-19T00:00:00.000000000",
          "2023-09-20T00:00:00.000000000",
          "2023-09-21T00:00:00.000000000",
          "2023-09-22T00:00:00.000000000",
          "2023-09-25T00:00:00.000000000",
          "2023-09-26T00:00:00.000000000",
          "2023-09-27T00:00:00.000000000",
          "2023-09-28T00:00:00.000000000",
          "2023-09-29T00:00:00.000000000",
          "2023-10-02T00:00:00.000000000",
          "2023-10-03T00:00:00.000000000",
          "2023-10-04T00:00:00.000000000",
          "2023-10-05T00:00:00.000000000",
          "2023-10-06T00:00:00.000000000",
          "2023-10-09T00:00:00.000000000",
          "2023-10-10T00:00:00.000000000",
          "2023-10-11T00:00:00.000000000",
          "2023-10-12T00:00:00.000000000",
          "2023-10-13T00:00:00.000000000",
          "2023-10-16T00:00:00.000000000",
          "2023-10-17T00:00:00.000000000",
          "2023-10-18T00:00:00.000000000",
          "2023-10-19T00:00:00.000000000",
          "2023-10-20T00:00:00.000000000",
          "2023-10-23T00:00:00.000000000",
          "2023-10-24T00:00:00.000000000",
          "2023-10-25T00:00:00.000000000",
          "2023-10-26T00:00:00.000000000",
          "2023-10-27T00:00:00.000000000",
          "2023-10-30T00:00:00.000000000",
          "2023-10-31T00:00:00.000000000",
          "2023-11-01T00:00:00.000000000",
          "2023-11-02T00:00:00.000000000",
          "2023-11-03T00:00:00.000000000",
          "2023-11-06T00:00:00.000000000",
          "2023-11-07T00:00:00.000000000",
          "2023-11-08T00:00:00.000000000",
          "2023-11-09T00:00:00.000000000",
          "2023-11-10T00:00:00.000000000",
          "2023-11-13T00:00:00.000000000",
          "2023-11-14T00:00:00.000000000",
          "2023-11-15T00:00:00.000000000",
          "2023-11-16T00:00:00.000000000",
          "2023-11-17T00:00:00.000000000",
          "2023-11-20T00:00:00.000000000",
          "2023-11-21T00:00:00.000000000",
          "2023-11-22T00:00:00.000000000",
          "2023-11-24T00:00:00.000000000",
          "2023-11-27T00:00:00.000000000",
          "2023-11-28T00:00:00.000000000",
          "2023-11-29T00:00:00.000000000",
          "2023-11-30T00:00:00.000000000",
          "2023-12-01T00:00:00.000000000",
          "2023-12-04T00:00:00.000000000",
          "2023-12-05T00:00:00.000000000",
          "2023-12-06T00:00:00.000000000",
          "2023-12-07T00:00:00.000000000",
          "2023-12-08T00:00:00.000000000",
          "2023-12-11T00:00:00.000000000",
          "2023-12-12T00:00:00.000000000",
          "2023-12-13T00:00:00.000000000",
          "2023-12-14T00:00:00.000000000",
          "2023-12-15T00:00:00.000000000",
          "2023-12-18T00:00:00.000000000",
          "2023-12-19T00:00:00.000000000",
          "2023-12-20T00:00:00.000000000",
          "2023-12-21T00:00:00.000000000",
          "2023-12-22T00:00:00.000000000",
          "2023-12-26T00:00:00.000000000",
          "2023-12-27T00:00:00.000000000",
          "2023-12-28T00:00:00.000000000",
          "2023-12-29T00:00:00.000000000",
          "2024-01-02T00:00:00.000000000",
          "2024-01-03T00:00:00.000000000",
          "2024-01-04T00:00:00.000000000",
          "2024-01-05T00:00:00.000000000",
          "2024-01-08T00:00:00.000000000",
          "2024-01-09T00:00:00.000000000",
          "2024-01-10T00:00:00.000000000",
          "2024-01-11T00:00:00.000000000",
          "2024-01-12T00:00:00.000000000",
          "2024-01-16T00:00:00.000000000",
          "2024-01-17T00:00:00.000000000",
          "2024-01-18T00:00:00.000000000",
          "2024-01-19T00:00:00.000000000",
          "2024-01-22T00:00:00.000000000",
          "2024-01-23T00:00:00.000000000",
          "2024-01-24T00:00:00.000000000",
          "2024-01-25T00:00:00.000000000",
          "2024-01-26T00:00:00.000000000",
          "2024-01-29T00:00:00.000000000",
          "2024-01-30T00:00:00.000000000",
          "2024-01-31T00:00:00.000000000",
          "2024-02-01T00:00:00.000000000",
          "2024-02-02T00:00:00.000000000",
          "2024-02-05T00:00:00.000000000",
          "2024-02-06T00:00:00.000000000",
          "2024-02-07T00:00:00.000000000",
          "2024-02-08T00:00:00.000000000",
          "2024-02-09T00:00:00.000000000",
          "2024-02-12T00:00:00.000000000",
          "2024-02-13T00:00:00.000000000",
          "2024-02-14T00:00:00.000000000",
          "2024-02-15T00:00:00.000000000",
          "2024-02-16T00:00:00.000000000",
          "2024-02-20T00:00:00.000000000",
          "2024-02-21T00:00:00.000000000",
          "2024-02-22T00:00:00.000000000",
          "2024-02-23T00:00:00.000000000",
          "2024-02-26T00:00:00.000000000",
          "2024-02-27T00:00:00.000000000",
          "2024-02-28T00:00:00.000000000",
          "2024-02-29T00:00:00.000000000",
          "2024-03-01T00:00:00.000000000",
          "2024-03-04T00:00:00.000000000",
          "2024-03-05T00:00:00.000000000",
          "2024-03-06T00:00:00.000000000",
          "2024-03-07T00:00:00.000000000",
          "2024-03-08T00:00:00.000000000",
          "2024-03-11T00:00:00.000000000",
          "2024-03-12T00:00:00.000000000",
          "2024-03-13T00:00:00.000000000",
          "2024-03-14T00:00:00.000000000",
          "2024-03-15T00:00:00.000000000",
          "2024-03-18T00:00:00.000000000",
          "2024-03-19T00:00:00.000000000",
          "2024-03-20T00:00:00.000000000",
          "2024-03-21T00:00:00.000000000",
          "2024-03-22T00:00:00.000000000",
          "2024-03-25T00:00:00.000000000",
          "2024-03-26T00:00:00.000000000",
          "2024-03-27T00:00:00.000000000",
          "2024-03-28T00:00:00.000000000",
          "2024-04-01T00:00:00.000000000",
          "2024-04-02T00:00:00.000000000",
          "2024-04-03T00:00:00.000000000",
          "2024-04-04T00:00:00.000000000",
          "2024-04-05T00:00:00.000000000",
          "2024-04-08T00:00:00.000000000",
          "2024-04-09T00:00:00.000000000",
          "2024-04-10T00:00:00.000000000",
          "2024-04-11T00:00:00.000000000",
          "2024-04-12T00:00:00.000000000",
          "2024-04-15T00:00:00.000000000"
         ],
         "y": {
          "bdata": "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",
          "dtype": "f8"
         }
        }
       ],
       "layout": {
        "showlegend": true,
        "template": {
         "data": {
          "bar": [
           {
            "error_x": {
             "color": "#2a3f5f"
            },
            "error_y": {
             "color": "#2a3f5f"
            },
            "marker": {
             "line": {
              "color": "white",
              "width": 0.5
             },
             "pattern": {
              "fillmode": "overlay",
              "size": 10,
              "solidity": 0.2
             }
            },
            "type": "bar"
           }
          ],
          "barpolar": [
           {
            "marker": {
             "line": {
              "color": "white",
              "width": 0.5
             },
             "pattern": {
              "fillmode": "overlay",
              "size": 10,
              "solidity": 0.2
             }
            },
            "type": "barpolar"
           }
          ],
          "carpet": [
           {
            "aaxis": {
             "endlinecolor": "#2a3f5f",
             "gridcolor": "#C8D4E3",
             "linecolor": "#C8D4E3",
             "minorgridcolor": "#C8D4E3",
             "startlinecolor": "#2a3f5f"
            },
            "baxis": {
             "endlinecolor": "#2a3f5f",
             "gridcolor": "#C8D4E3",
             "linecolor": "#C8D4E3",
             "minorgridcolor": "#C8D4E3",
             "startlinecolor": "#2a3f5f"
            },
            "type": "carpet"
           }
          ],
          "choropleth": [
           {
            "colorbar": {
             "outlinewidth": 0,
             "ticks": ""
            },
            "type": "choropleth"
           }
          ],
          "contour": [
           {
            "colorbar": {
             "outlinewidth": 0,
             "ticks": ""
            },
            "colorscale": [
             [
              0,
              "#0d0887"
             ],
             [
              0.1111111111111111,
              "#46039f"
             ],
             [
              0.2222222222222222,
              "#7201a8"
             ],
             [
              0.3333333333333333,
              "#9c179e"
             ],
             [
              0.4444444444444444,
              "#bd3786"
             ],
             [
              0.5555555555555556,
              "#d8576b"
             ],
             [
              0.6666666666666666,
              "#ed7953"
             ],
             [
              0.7777777777777778,
              "#fb9f3a"
             ],
             [
              0.8888888888888888,
              "#fdca26"
             ],
             [
              1,
              "#f0f921"
             ]
            ],
            "type": "contour"
           }
          ],
          "contourcarpet": [
           {
            "colorbar": {
             "outlinewidth": 0,
             "ticks": ""
            },
            "type": "contourcarpet"
           }
          ],
          "heatmap": [
           {
            "colorbar": {
             "outlinewidth": 0,
             "ticks": ""
            },
            "colorscale": [
             [
              0,
              "#0d0887"
             ],
             [
              0.1111111111111111,
              "#46039f"
             ],
             [
              0.2222222222222222,
              "#7201a8"
             ],
             [
              0.3333333333333333,
              "#9c179e"
             ],
             [
              0.4444444444444444,
              "#bd3786"
             ],
             [
              0.5555555555555556,
              "#d8576b"
             ],
             [
              0.6666666666666666,
              "#ed7953"
             ],
             [
              0.7777777777777778,
              "#fb9f3a"
             ],
             [
              0.8888888888888888,
              "#fdca26"
             ],
             [
              1,
              "#f0f921"
             ]
            ],
            "type": "heatmap"
           }
          ],
          "histogram": [
           {
            "marker": {
             "pattern": {
              "fillmode": "overlay",
              "size": 10,
              "solidity": 0.2
             }
            },
            "type": "histogram"
           }
          ],
          "histogram2d": [
           {
            "colorbar": {
             "outlinewidth": 0,
             "ticks": ""
            },
            "colorscale": [
             [
              0,
              "#0d0887"
             ],
             [
              0.1111111111111111,
              "#46039f"
             ],
             [
              0.2222222222222222,
              "#7201a8"
             ],
             [
              0.3333333333333333,
              "#9c179e"
             ],
             [
              0.4444444444444444,
              "#bd3786"
             ],
             [
              0.5555555555555556,
              "#d8576b"
             ],
             [
              0.6666666666666666,
              "#ed7953"
             ],
             [
              0.7777777777777778,
              "#fb9f3a"
             ],
             [
              0.8888888888888888,
              "#fdca26"
             ],
             [
              1,
              "#f0f921"
             ]
            ],
            "type": "histogram2d"
           }
          ],
          "histogram2dcontour": [
           {
            "colorbar": {
             "outlinewidth": 0,
             "ticks": ""
            },
            "colorscale": [
             [
              0,
              "#0d0887"
             ],
             [
              0.1111111111111111,
              "#46039f"
             ],
             [
              0.2222222222222222,
              "#7201a8"
             ],
             [
              0.3333333333333333,
              "#9c179e"
             ],
             [
              0.4444444444444444,
              "#bd3786"
             ],
             [
              0.5555555555555556,
              "#d8576b"
             ],
             [
              0.6666666666666666,
              "#ed7953"
             ],
             [
              0.7777777777777778,
              "#fb9f3a"
             ],
             [
              0.8888888888888888,
              "#fdca26"
             ],
             [
              1,
              "#f0f921"
             ]
            ],
            "type": "histogram2dcontour"
           }
          ],
          "mesh3d": [
           {
            "colorbar": {
             "outlinewidth": 0,
             "ticks": ""
            },
            "type": "mesh3d"
           }
          ],
          "parcoords": [
           {
            "line": {
             "colorbar": {
              "outlinewidth": 0,
              "ticks": ""
             }
            },
            "type": "parcoords"
           }
          ],
          "pie": [
           {
            "automargin": true,
            "type": "pie"
           }
          ],
          "scatter": [
           {
            "fillpattern": {
             "fillmode": "overlay",
             "size": 10,
             "solidity": 0.2
            },
            "type": "scatter"
           }
          ],
          "scatter3d": [
           {
            "line": {
             "colorbar": {
              "outlinewidth": 0,
              "ticks": ""
             }
            },
            "marker": {
             "colorbar": {
              "outlinewidth": 0,
              "ticks": ""
             }
            },
            "type": "scatter3d"
           }
          ],
          "scattercarpet": [
           {
            "marker": {
             "colorbar": {
              "outlinewidth": 0,
              "ticks": ""
             }
            },
            "type": "scattercarpet"
           }
          ],
          "scattergeo": [
           {
            "marker": {
             "colorbar": {
              "outlinewidth": 0,
              "ticks": ""
             }
            },
            "type": "scattergeo"
           }
          ],
          "scattergl": [
           {
            "marker": {
             "colorbar": {
              "outlinewidth": 0,
              "ticks": ""
             }
            },
            "type": "scattergl"
           }
          ],
          "scattermap": [
           {
            "marker": {
             "colorbar": {
              "outlinewidth": 0,
              "ticks": ""
             }
            },
            "type": "scattermap"
           }
          ],
          "scattermapbox": [
           {
            "marker": {
             "colorbar": {
              "outlinewidth": 0,
              "ticks": ""
             }
            },
            "type": "scattermapbox"
           }
          ],
          "scatterpolar": [
           {
            "marker": {
             "colorbar": {
              "outlinewidth": 0,
              "ticks": ""
             }
            },
            "type": "scatterpolar"
           }
          ],
          "scatterpolargl": [
           {
            "marker": {
             "colorbar": {
              "outlinewidth": 0,
              "ticks": ""
             }
            },
            "type": "scatterpolargl"
           }
          ],
          "scatterternary": [
           {
            "marker": {
             "colorbar": {
              "outlinewidth": 0,
              "ticks": ""
             }
            },
            "type": "scatterternary"
           }
          ],
          "surface": [
           {
            "colorbar": {
             "outlinewidth": 0,
             "ticks": ""
            },
            "colorscale": [
             [
              0,
              "#0d0887"
             ],
             [
              0.1111111111111111,
              "#46039f"
             ],
             [
              0.2222222222222222,
              "#7201a8"
             ],
             [
              0.3333333333333333,
              "#9c179e"
             ],
             [
              0.4444444444444444,
              "#bd3786"
             ],
             [
              0.5555555555555556,
              "#d8576b"
             ],
             [
              0.6666666666666666,
              "#ed7953"
             ],
             [
              0.7777777777777778,
              "#fb9f3a"
             ],
             [
              0.8888888888888888,
              "#fdca26"
             ],
             [
              1,
              "#f0f921"
             ]
            ],
            "type": "surface"
           }
          ],
          "table": [
           {
            "cells": {
             "fill": {
              "color": "#EBF0F8"
             },
             "line": {
              "color": "white"
             }
            },
            "header": {
             "fill": {
              "color": "#C8D4E3"
             },
             "line": {
              "color": "white"
             }
            },
            "type": "table"
           }
          ]
         },
         "layout": {
          "annotationdefaults": {
           "arrowcolor": "#2a3f5f",
           "arrowhead": 0,
           "arrowwidth": 1
          },
          "autotypenumbers": "strict",
          "coloraxis": {
           "colorbar": {
            "outlinewidth": 0,
            "ticks": ""
           }
          },
          "colorscale": {
           "diverging": [
            [
             0,
             "#8e0152"
            ],
            [
             0.1,
             "#c51b7d"
            ],
            [
             0.2,
             "#de77ae"
            ],
            [
             0.3,
             "#f1b6da"
            ],
            [
             0.4,
             "#fde0ef"
            ],
            [
             0.5,
             "#f7f7f7"
            ],
            [
             0.6,
             "#e6f5d0"
            ],
            [
             0.7,
             "#b8e186"
            ],
            [
             0.8,
             "#7fbc41"
            ],
            [
             0.9,
             "#4d9221"
            ],
            [
             1,
             "#276419"
            ]
           ],
           "sequential": [
            [
             0,
             "#0d0887"
            ],
            [
             0.1111111111111111,
             "#46039f"
            ],
            [
             0.2222222222222222,
             "#7201a8"
            ],
            [
             0.3333333333333333,
             "#9c179e"
            ],
            [
             0.4444444444444444,
             "#bd3786"
            ],
            [
             0.5555555555555556,
             "#d8576b"
            ],
            [
             0.6666666666666666,
             "#ed7953"
            ],
            [
             0.7777777777777778,
             "#fb9f3a"
            ],
            [
             0.8888888888888888,
             "#fdca26"
            ],
            [
             1,
             "#f0f921"
            ]
           ],
           "sequentialminus": [
            [
             0,
             "#0d0887"
            ],
            [
             0.1111111111111111,
             "#46039f"
            ],
            [
             0.2222222222222222,
             "#7201a8"
            ],
            [
             0.3333333333333333,
             "#9c179e"
            ],
            [
             0.4444444444444444,
             "#bd3786"
            ],
            [
             0.5555555555555556,
             "#d8576b"
            ],
            [
             0.6666666666666666,
             "#ed7953"
            ],
            [
             0.7777777777777778,
             "#fb9f3a"
            ],
            [
             0.8888888888888888,
             "#fdca26"
            ],
            [
             1,
             "#f0f921"
            ]
           ]
          },
          "colorway": [
           "#636efa",
           "#EF553B",
           "#00cc96",
           "#ab63fa",
           "#FFA15A",
           "#19d3f3",
           "#FF6692",
           "#B6E880",
           "#FF97FF",
           "#FECB52"
          ],
          "font": {
           "color": "#2a3f5f"
          },
          "geo": {
           "bgcolor": "white",
           "lakecolor": "white",
           "landcolor": "white",
           "showlakes": true,
           "showland": true,
           "subunitcolor": "#C8D4E3"
          },
          "hoverlabel": {
           "align": "left"
          },
          "hovermode": "closest",
          "mapbox": {
           "style": "light"
          },
          "paper_bgcolor": "white",
          "plot_bgcolor": "white",
          "polar": {
           "angularaxis": {
            "gridcolor": "#EBF0F8",
            "linecolor": "#EBF0F8",
            "ticks": ""
           },
           "bgcolor": "white",
           "radialaxis": {
            "gridcolor": "#EBF0F8",
            "linecolor": "#EBF0F8",
            "ticks": ""
           }
          },
          "scene": {
           "xaxis": {
            "backgroundcolor": "white",
            "gridcolor": "#DFE8F3",
            "gridwidth": 2,
            "linecolor": "#EBF0F8",
            "showbackground": true,
            "ticks": "",
            "zerolinecolor": "#EBF0F8"
           },
           "yaxis": {
            "backgroundcolor": "white",
            "gridcolor": "#DFE8F3",
            "gridwidth": 2,
            "linecolor": "#EBF0F8",
            "showbackground": true,
            "ticks": "",
            "zerolinecolor": "#EBF0F8"
           },
           "zaxis": {
            "backgroundcolor": "white",
            "gridcolor": "#DFE8F3",
            "gridwidth": 2,
            "linecolor": "#EBF0F8",
            "showbackground": true,
            "ticks": "",
            "zerolinecolor": "#EBF0F8"
           }
          },
          "shapedefaults": {
           "line": {
            "color": "#2a3f5f"
           }
          },
          "ternary": {
           "aaxis": {
            "gridcolor": "#DFE8F3",
            "linecolor": "#A2B1C6",
            "ticks": ""
           },
           "baxis": {
            "gridcolor": "#DFE8F3",
            "linecolor": "#A2B1C6",
            "ticks": ""
           },
           "bgcolor": "white",
           "caxis": {
            "gridcolor": "#DFE8F3",
            "linecolor": "#A2B1C6",
            "ticks": ""
           }
          },
          "title": {
           "x": 0.05
          },
          "xaxis": {
           "automargin": true,
           "gridcolor": "#EBF0F8",
           "linecolor": "#EBF0F8",
           "ticks": "",
           "title": {
            "standoff": 15
           },
           "zerolinecolor": "#EBF0F8",
           "zerolinewidth": 2
          },
          "yaxis": {
           "automargin": true,
           "gridcolor": "#EBF0F8",
           "linecolor": "#EBF0F8",
           "ticks": "",
           "title": {
            "standoff": 15
           },
           "zerolinecolor": "#EBF0F8",
           "zerolinewidth": 2
          }
         }
        },
        "title": {
         "text": "Стоимость акций Tesla"
        },
        "xaxis": {
         "title": {
          "text": "Время"
         }
        },
        "yaxis": {
         "title": {
          "text": "Значение"
         }
        }
       }
      }
     },
     "metadata": {},
     "output_type": "display_data"
    }
   ],
   "source": [
    "import yfinance as yf\n",
    "\n",
    "prices = yf.download(\n",
    "    tickers='TSLA',\n",
    "    start='2020-01-01',\n",
    "    end='2024-04-16',\n",
    ")['Close']['TSLA']\n",
    "\n",
    "prices\n",
    "\n",
    "# Визуализация с помощью Plotly\n",
    "fig = go.Figure()\n",
    "\n",
    "# Добавление данных на график\n",
    "fig.add_trace(go.Scatter(\n",
    "    x=prices.index,\n",
    "    y=prices.values,\n",
    "    mode='lines',\n",
    "    name='Цена',\n",
    "    line=dict(color='blue', width=2)\n",
    "))\n",
    "\n",
    "# Настройка макета графика\n",
    "fig.update_layout(\n",
    "    title=\"Стоимость акций Tesla\",\n",
    "    xaxis_title=\"Время\",\n",
    "    yaxis_title=\"Значение\",\n",
    "    template=\"plotly_white\",\n",
    "    showlegend=True\n",
    ")\n",
    "\n",
    "# Отображение графика\n",
    "fig.show()"
   ]
  },
  {
   "cell_type": "code",
   "execution_count": 42,
   "metadata": {},
   "outputs": [
    {
     "data": {
      "application/vnd.plotly.v1+json": {
       "config": {
        "plotlyServerURL": "https://plot.ly"
       },
       "data": [
        {
         "line": {
          "color": "blue",
          "width": 2
         },
         "mode": "lines",
         "name": "Цена",
         "type": "scatter",
         "x": [
          "2020-01-02T00:00:00.000000000",
          "2020-01-03T00:00:00.000000000",
          "2020-01-06T00:00:00.000000000",
          "2020-01-07T00:00:00.000000000",
          "2020-01-08T00:00:00.000000000",
          "2020-01-09T00:00:00.000000000",
          "2020-01-10T00:00:00.000000000",
          "2020-01-13T00:00:00.000000000",
          "2020-01-14T00:00:00.000000000",
          "2020-01-15T00:00:00.000000000",
          "2020-01-16T00:00:00.000000000",
          "2020-01-17T00:00:00.000000000",
          "2020-01-21T00:00:00.000000000",
          "2020-01-22T00:00:00.000000000",
          "2020-01-23T00:00:00.000000000",
          "2020-01-24T00:00:00.000000000",
          "2020-01-27T00:00:00.000000000",
          "2020-01-28T00:00:00.000000000",
          "2020-01-29T00:00:00.000000000",
          "2020-01-30T00:00:00.000000000",
          "2020-01-31T00:00:00.000000000",
          "2020-02-03T00:00:00.000000000",
          "2020-02-04T00:00:00.000000000",
          "2020-02-05T00:00:00.000000000",
          "2020-02-06T00:00:00.000000000",
          "2020-02-07T00:00:00.000000000",
          "2020-02-10T00:00:00.000000000",
          "2020-02-11T00:00:00.000000000",
          "2020-02-12T00:00:00.000000000",
          "2020-02-13T00:00:00.000000000",
          "2020-02-14T00:00:00.000000000",
          "2020-02-18T00:00:00.000000000",
          "2020-02-19T00:00:00.000000000",
          "2020-02-20T00:00:00.000000000",
          "2020-02-21T00:00:00.000000000",
          "2020-02-24T00:00:00.000000000",
          "2020-02-25T00:00:00.000000000",
          "2020-02-26T00:00:00.000000000",
          "2020-02-27T00:00:00.000000000",
          "2020-02-28T00:00:00.000000000",
          "2020-03-02T00:00:00.000000000",
          "2020-03-03T00:00:00.000000000",
          "2020-03-04T00:00:00.000000000",
          "2020-03-05T00:00:00.000000000",
          "2020-03-06T00:00:00.000000000",
          "2020-03-09T00:00:00.000000000",
          "2020-03-10T00:00:00.000000000",
          "2020-03-11T00:00:00.000000000",
          "2020-03-12T00:00:00.000000000",
          "2020-03-13T00:00:00.000000000",
          "2020-03-16T00:00:00.000000000",
          "2020-03-17T00:00:00.000000000",
          "2020-03-18T00:00:00.000000000",
          "2020-03-19T00:00:00.000000000",
          "2020-03-20T00:00:00.000000000",
          "2020-03-23T00:00:00.000000000",
          "2020-03-24T00:00:00.000000000",
          "2020-03-25T00:00:00.000000000",
          "2020-03-26T00:00:00.000000000",
          "2020-03-27T00:00:00.000000000",
          "2020-03-30T00:00:00.000000000",
          "2020-03-31T00:00:00.000000000",
          "2020-04-01T00:00:00.000000000",
          "2020-04-02T00:00:00.000000000",
          "2020-04-03T00:00:00.000000000",
          "2020-04-06T00:00:00.000000000",
          "2020-04-07T00:00:00.000000000",
          "2020-04-08T00:00:00.000000000",
          "2020-04-09T00:00:00.000000000",
          "2020-04-13T00:00:00.000000000",
          "2020-04-14T00:00:00.000000000",
          "2020-04-15T00:00:00.000000000",
          "2020-04-16T00:00:00.000000000",
          "2020-04-17T00:00:00.000000000",
          "2020-04-20T00:00:00.000000000",
          "2020-04-21T00:00:00.000000000",
          "2020-04-22T00:00:00.000000000",
          "2020-04-23T00:00:00.000000000",
          "2020-04-24T00:00:00.000000000",
          "2020-04-27T00:00:00.000000000",
          "2020-04-28T00:00:00.000000000",
          "2020-04-29T00:00:00.000000000",
          "2020-04-30T00:00:00.000000000",
          "2020-05-01T00:00:00.000000000",
          "2020-05-04T00:00:00.000000000",
          "2020-05-05T00:00:00.000000000",
          "2020-05-06T00:00:00.000000000",
          "2020-05-07T00:00:00.000000000",
          "2020-05-08T00:00:00.000000000",
          "2020-05-11T00:00:00.000000000",
          "2020-05-12T00:00:00.000000000",
          "2020-05-13T00:00:00.000000000",
          "2020-05-14T00:00:00.000000000",
          "2020-05-15T00:00:00.000000000",
          "2020-05-18T00:00:00.000000000",
          "2020-05-19T00:00:00.000000000",
          "2020-05-20T00:00:00.000000000",
          "2020-05-21T00:00:00.000000000",
          "2020-05-22T00:00:00.000000000",
          "2020-05-26T00:00:00.000000000",
          "2020-05-27T00:00:00.000000000",
          "2020-05-28T00:00:00.000000000",
          "2020-05-29T00:00:00.000000000",
          "2020-06-01T00:00:00.000000000",
          "2020-06-02T00:00:00.000000000",
          "2020-06-03T00:00:00.000000000",
          "2020-06-04T00:00:00.000000000",
          "2020-06-05T00:00:00.000000000",
          "2020-06-08T00:00:00.000000000",
          "2020-06-09T00:00:00.000000000",
          "2020-06-10T00:00:00.000000000",
          "2020-06-11T00:00:00.000000000",
          "2020-06-12T00:00:00.000000000",
          "2020-06-15T00:00:00.000000000",
          "2020-06-16T00:00:00.000000000",
          "2020-06-17T00:00:00.000000000",
          "2020-06-18T00:00:00.000000000",
          "2020-06-19T00:00:00.000000000",
          "2020-06-22T00:00:00.000000000",
          "2020-06-23T00:00:00.000000000",
          "2020-06-24T00:00:00.000000000",
          "2020-06-25T00:00:00.000000000",
          "2020-06-26T00:00:00.000000000",
          "2020-06-29T00:00:00.000000000",
          "2020-06-30T00:00:00.000000000",
          "2020-07-01T00:00:00.000000000",
          "2020-07-02T00:00:00.000000000",
          "2020-07-06T00:00:00.000000000",
          "2020-07-07T00:00:00.000000000",
          "2020-07-08T00:00:00.000000000",
          "2020-07-09T00:00:00.000000000",
          "2020-07-10T00:00:00.000000000",
          "2020-07-13T00:00:00.000000000",
          "2020-07-14T00:00:00.000000000",
          "2020-07-15T00:00:00.000000000",
          "2020-07-16T00:00:00.000000000",
          "2020-07-17T00:00:00.000000000",
          "2020-07-20T00:00:00.000000000",
          "2020-07-21T00:00:00.000000000",
          "2020-07-22T00:00:00.000000000",
          "2020-07-23T00:00:00.000000000",
          "2020-07-24T00:00:00.000000000",
          "2020-07-27T00:00:00.000000000",
          "2020-07-28T00:00:00.000000000",
          "2020-07-29T00:00:00.000000000",
          "2020-07-30T00:00:00.000000000",
          "2020-07-31T00:00:00.000000000",
          "2020-08-03T00:00:00.000000000",
          "2020-08-04T00:00:00.000000000",
          "2020-08-05T00:00:00.000000000",
          "2020-08-06T00:00:00.000000000",
          "2020-08-07T00:00:00.000000000",
          "2020-08-10T00:00:00.000000000",
          "2020-08-11T00:00:00.000000000",
          "2020-08-12T00:00:00.000000000",
          "2020-08-13T00:00:00.000000000",
          "2020-08-14T00:00:00.000000000",
          "2020-08-17T00:00:00.000000000",
          "2020-08-18T00:00:00.000000000",
          "2020-08-19T00:00:00.000000000",
          "2020-08-20T00:00:00.000000000",
          "2020-08-21T00:00:00.000000000",
          "2020-08-24T00:00:00.000000000",
          "2020-08-25T00:00:00.000000000",
          "2020-08-26T00:00:00.000000000",
          "2020-08-27T00:00:00.000000000",
          "2020-08-28T00:00:00.000000000",
          "2020-08-31T00:00:00.000000000",
          "2020-09-01T00:00:00.000000000",
          "2020-09-02T00:00:00.000000000",
          "2020-09-03T00:00:00.000000000",
          "2020-09-04T00:00:00.000000000",
          "2020-09-08T00:00:00.000000000",
          "2020-09-09T00:00:00.000000000",
          "2020-09-10T00:00:00.000000000",
          "2020-09-11T00:00:00.000000000",
          "2020-09-14T00:00:00.000000000",
          "2020-09-15T00:00:00.000000000",
          "2020-09-16T00:00:00.000000000",
          "2020-09-17T00:00:00.000000000",
          "2020-09-18T00:00:00.000000000",
          "2020-09-21T00:00:00.000000000",
          "2020-09-22T00:00:00.000000000",
          "2020-09-23T00:00:00.000000000",
          "2020-09-24T00:00:00.000000000",
          "2020-09-25T00:00:00.000000000",
          "2020-09-28T00:00:00.000000000",
          "2020-09-29T00:00:00.000000000",
          "2020-09-30T00:00:00.000000000",
          "2020-10-01T00:00:00.000000000",
          "2020-10-02T00:00:00.000000000",
          "2020-10-05T00:00:00.000000000",
          "2020-10-06T00:00:00.000000000",
          "2020-10-07T00:00:00.000000000",
          "2020-10-08T00:00:00.000000000",
          "2020-10-09T00:00:00.000000000",
          "2020-10-12T00:00:00.000000000",
          "2020-10-13T00:00:00.000000000",
          "2020-10-14T00:00:00.000000000",
          "2020-10-15T00:00:00.000000000",
          "2020-10-16T00:00:00.000000000",
          "2020-10-19T00:00:00.000000000",
          "2020-10-20T00:00:00.000000000",
          "2020-10-21T00:00:00.000000000",
          "2020-10-22T00:00:00.000000000",
          "2020-10-23T00:00:00.000000000",
          "2020-10-26T00:00:00.000000000",
          "2020-10-27T00:00:00.000000000",
          "2020-10-28T00:00:00.000000000",
          "2020-10-29T00:00:00.000000000",
          "2020-10-30T00:00:00.000000000",
          "2020-11-02T00:00:00.000000000",
          "2020-11-03T00:00:00.000000000",
          "2020-11-04T00:00:00.000000000",
          "2020-11-05T00:00:00.000000000",
          "2020-11-06T00:00:00.000000000",
          "2020-11-09T00:00:00.000000000",
          "2020-11-10T00:00:00.000000000",
          "2020-11-11T00:00:00.000000000",
          "2020-11-12T00:00:00.000000000",
          "2020-11-13T00:00:00.000000000",
          "2020-11-16T00:00:00.000000000",
          "2020-11-17T00:00:00.000000000",
          "2020-11-18T00:00:00.000000000",
          "2020-11-19T00:00:00.000000000",
          "2020-11-20T00:00:00.000000000",
          "2020-11-23T00:00:00.000000000",
          "2020-11-24T00:00:00.000000000",
          "2020-11-25T00:00:00.000000000",
          "2020-11-27T00:00:00.000000000",
          "2020-11-30T00:00:00.000000000",
          "2020-12-01T00:00:00.000000000",
          "2020-12-02T00:00:00.000000000",
          "2020-12-03T00:00:00.000000000",
          "2020-12-04T00:00:00.000000000",
          "2020-12-07T00:00:00.000000000",
          "2020-12-08T00:00:00.000000000",
          "2020-12-09T00:00:00.000000000",
          "2020-12-10T00:00:00.000000000",
          "2020-12-11T00:00:00.000000000",
          "2020-12-14T00:00:00.000000000",
          "2020-12-15T00:00:00.000000000",
          "2020-12-16T00:00:00.000000000",
          "2020-12-17T00:00:00.000000000",
          "2020-12-18T00:00:00.000000000",
          "2020-12-21T00:00:00.000000000",
          "2020-12-22T00:00:00.000000000",
          "2020-12-23T00:00:00.000000000",
          "2020-12-24T00:00:00.000000000",
          "2020-12-28T00:00:00.000000000",
          "2020-12-29T00:00:00.000000000",
          "2020-12-30T00:00:00.000000000",
          "2020-12-31T00:00:00.000000000",
          "2021-01-04T00:00:00.000000000",
          "2021-01-05T00:00:00.000000000",
          "2021-01-06T00:00:00.000000000",
          "2021-01-07T00:00:00.000000000",
          "2021-01-08T00:00:00.000000000",
          "2021-01-11T00:00:00.000000000",
          "2021-01-12T00:00:00.000000000",
          "2021-01-13T00:00:00.000000000",
          "2021-01-14T00:00:00.000000000",
          "2021-01-15T00:00:00.000000000",
          "2021-01-19T00:00:00.000000000",
          "2021-01-20T00:00:00.000000000",
          "2021-01-21T00:00:00.000000000",
          "2021-01-22T00:00:00.000000000",
          "2021-01-25T00:00:00.000000000",
          "2021-01-26T00:00:00.000000000",
          "2021-01-27T00:00:00.000000000",
          "2021-01-28T00:00:00.000000000",
          "2021-01-29T00:00:00.000000000",
          "2021-02-01T00:00:00.000000000",
          "2021-02-02T00:00:00.000000000",
          "2021-02-03T00:00:00.000000000",
          "2021-02-04T00:00:00.000000000",
          "2021-02-05T00:00:00.000000000",
          "2021-02-08T00:00:00.000000000",
          "2021-02-09T00:00:00.000000000",
          "2021-02-10T00:00:00.000000000",
          "2021-02-11T00:00:00.000000000",
          "2021-02-12T00:00:00.000000000",
          "2021-02-16T00:00:00.000000000",
          "2021-02-17T00:00:00.000000000",
          "2021-02-18T00:00:00.000000000",
          "2021-02-19T00:00:00.000000000",
          "2021-02-22T00:00:00.000000000",
          "2021-02-23T00:00:00.000000000",
          "2021-02-24T00:00:00.000000000",
          "2021-02-25T00:00:00.000000000",
          "2021-02-26T00:00:00.000000000",
          "2021-03-01T00:00:00.000000000",
          "2021-03-02T00:00:00.000000000",
          "2021-03-03T00:00:00.000000000",
          "2021-03-04T00:00:00.000000000",
          "2021-03-05T00:00:00.000000000",
          "2021-03-08T00:00:00.000000000",
          "2021-03-09T00:00:00.000000000",
          "2021-03-10T00:00:00.000000000",
          "2021-03-11T00:00:00.000000000",
          "2021-03-12T00:00:00.000000000",
          "2021-03-15T00:00:00.000000000",
          "2021-03-16T00:00:00.000000000",
          "2021-03-17T00:00:00.000000000",
          "2021-03-18T00:00:00.000000000",
          "2021-03-19T00:00:00.000000000",
          "2021-03-22T00:00:00.000000000",
          "2021-03-23T00:00:00.000000000",
          "2021-03-24T00:00:00.000000000",
          "2021-03-25T00:00:00.000000000",
          "2021-03-26T00:00:00.000000000",
          "2021-03-29T00:00:00.000000000",
          "2021-03-30T00:00:00.000000000",
          "2021-03-31T00:00:00.000000000",
          "2021-04-01T00:00:00.000000000",
          "2021-04-05T00:00:00.000000000",
          "2021-04-06T00:00:00.000000000",
          "2021-04-07T00:00:00.000000000",
          "2021-04-08T00:00:00.000000000",
          "2021-04-09T00:00:00.000000000",
          "2021-04-12T00:00:00.000000000",
          "2021-04-13T00:00:00.000000000",
          "2021-04-14T00:00:00.000000000",
          "2021-04-15T00:00:00.000000000",
          "2021-04-16T00:00:00.000000000",
          "2021-04-19T00:00:00.000000000",
          "2021-04-20T00:00:00.000000000",
          "2021-04-21T00:00:00.000000000",
          "2021-04-22T00:00:00.000000000",
          "2021-04-23T00:00:00.000000000",
          "2021-04-26T00:00:00.000000000",
          "2021-04-27T00:00:00.000000000",
          "2021-04-28T00:00:00.000000000",
          "2021-04-29T00:00:00.000000000",
          "2021-04-30T00:00:00.000000000",
          "2021-05-03T00:00:00.000000000",
          "2021-05-04T00:00:00.000000000",
          "2021-05-05T00:00:00.000000000",
          "2021-05-06T00:00:00.000000000",
          "2021-05-07T00:00:00.000000000",
          "2021-05-10T00:00:00.000000000",
          "2021-05-11T00:00:00.000000000",
          "2021-05-12T00:00:00.000000000",
          "2021-05-13T00:00:00.000000000",
          "2021-05-14T00:00:00.000000000",
          "2021-05-17T00:00:00.000000000",
          "2021-05-18T00:00:00.000000000",
          "2021-05-19T00:00:00.000000000",
          "2021-05-20T00:00:00.000000000",
          "2021-05-21T00:00:00.000000000",
          "2021-05-24T00:00:00.000000000",
          "2021-05-25T00:00:00.000000000",
          "2021-05-26T00:00:00.000000000",
          "2021-05-27T00:00:00.000000000",
          "2021-05-28T00:00:00.000000000",
          "2021-06-01T00:00:00.000000000",
          "2021-06-02T00:00:00.000000000",
          "2021-06-03T00:00:00.000000000",
          "2021-06-04T00:00:00.000000000",
          "2021-06-07T00:00:00.000000000",
          "2021-06-08T00:00:00.000000000",
          "2021-06-09T00:00:00.000000000",
          "2021-06-10T00:00:00.000000000",
          "2021-06-11T00:00:00.000000000",
          "2021-06-14T00:00:00.000000000",
          "2021-06-15T00:00:00.000000000",
          "2021-06-16T00:00:00.000000000",
          "2021-06-17T00:00:00.000000000",
          "2021-06-18T00:00:00.000000000",
          "2021-06-21T00:00:00.000000000",
          "2021-06-22T00:00:00.000000000",
          "2021-06-23T00:00:00.000000000",
          "2021-06-24T00:00:00.000000000",
          "2021-06-25T00:00:00.000000000",
          "2021-06-28T00:00:00.000000000",
          "2021-06-29T00:00:00.000000000",
          "2021-06-30T00:00:00.000000000",
          "2021-07-01T00:00:00.000000000",
          "2021-07-02T00:00:00.000000000",
          "2021-07-06T00:00:00.000000000",
          "2021-07-07T00:00:00.000000000",
          "2021-07-08T00:00:00.000000000",
          "2021-07-09T00:00:00.000000000",
          "2021-07-12T00:00:00.000000000",
          "2021-07-13T00:00:00.000000000",
          "2021-07-14T00:00:00.000000000",
          "2021-07-15T00:00:00.000000000",
          "2021-07-16T00:00:00.000000000",
          "2021-07-19T00:00:00.000000000",
          "2021-07-20T00:00:00.000000000",
          "2021-07-21T00:00:00.000000000",
          "2021-07-22T00:00:00.000000000",
          "2021-07-23T00:00:00.000000000",
          "2021-07-26T00:00:00.000000000",
          "2021-07-27T00:00:00.000000000",
          "2021-07-28T00:00:00.000000000",
          "2021-07-29T00:00:00.000000000",
          "2021-07-30T00:00:00.000000000",
          "2021-08-02T00:00:00.000000000",
          "2021-08-03T00:00:00.000000000",
          "2021-08-04T00:00:00.000000000",
          "2021-08-05T00:00:00.000000000",
          "2021-08-06T00:00:00.000000000",
          "2021-08-09T00:00:00.000000000",
          "2021-08-10T00:00:00.000000000",
          "2021-08-11T00:00:00.000000000",
          "2021-08-12T00:00:00.000000000",
          "2021-08-13T00:00:00.000000000",
          "2021-08-16T00:00:00.000000000",
          "2021-08-17T00:00:00.000000000",
          "2021-08-18T00:00:00.000000000",
          "2021-08-19T00:00:00.000000000",
          "2021-08-20T00:00:00.000000000",
          "2021-08-23T00:00:00.000000000",
          "2021-08-24T00:00:00.000000000",
          "2021-08-25T00:00:00.000000000",
          "2021-08-26T00:00:00.000000000",
          "2021-08-27T00:00:00.000000000",
          "2021-08-30T00:00:00.000000000",
          "2021-08-31T00:00:00.000000000",
          "2021-09-01T00:00:00.000000000",
          "2021-09-02T00:00:00.000000000",
          "2021-09-03T00:00:00.000000000",
          "2021-09-07T00:00:00.000000000",
          "2021-09-08T00:00:00.000000000",
          "2021-09-09T00:00:00.000000000",
          "2021-09-10T00:00:00.000000000",
          "2021-09-13T00:00:00.000000000",
          "2021-09-14T00:00:00.000000000",
          "2021-09-15T00:00:00.000000000",
          "2021-09-16T00:00:00.000000000",
          "2021-09-17T00:00:00.000000000",
          "2021-09-20T00:00:00.000000000",
          "2021-09-21T00:00:00.000000000",
          "2021-09-22T00:00:00.000000000",
          "2021-09-23T00:00:00.000000000",
          "2021-09-24T00:00:00.000000000",
          "2021-09-27T00:00:00.000000000",
          "2021-09-28T00:00:00.000000000",
          "2021-09-29T00:00:00.000000000",
          "2021-09-30T00:00:00.000000000",
          "2021-10-01T00:00:00.000000000",
          "2021-10-04T00:00:00.000000000",
          "2021-10-05T00:00:00.000000000",
          "2021-10-06T00:00:00.000000000",
          "2021-10-07T00:00:00.000000000",
          "2021-10-08T00:00:00.000000000",
          "2021-10-11T00:00:00.000000000",
          "2021-10-12T00:00:00.000000000",
          "2021-10-13T00:00:00.000000000",
          "2021-10-14T00:00:00.000000000",
          "2021-10-15T00:00:00.000000000",
          "2021-10-18T00:00:00.000000000",
          "2021-10-19T00:00:00.000000000",
          "2021-10-20T00:00:00.000000000",
          "2021-10-21T00:00:00.000000000",
          "2021-10-22T00:00:00.000000000",
          "2021-10-25T00:00:00.000000000",
          "2021-10-26T00:00:00.000000000",
          "2021-10-27T00:00:00.000000000",
          "2021-10-28T00:00:00.000000000",
          "2021-10-29T00:00:00.000000000",
          "2021-11-01T00:00:00.000000000",
          "2021-11-02T00:00:00.000000000",
          "2021-11-03T00:00:00.000000000",
          "2021-11-04T00:00:00.000000000",
          "2021-11-05T00:00:00.000000000",
          "2021-11-08T00:00:00.000000000",
          "2021-11-09T00:00:00.000000000",
          "2021-11-10T00:00:00.000000000",
          "2021-11-11T00:00:00.000000000",
          "2021-11-12T00:00:00.000000000",
          "2021-11-15T00:00:00.000000000",
          "2021-11-16T00:00:00.000000000",
          "2021-11-17T00:00:00.000000000",
          "2021-11-18T00:00:00.000000000",
          "2021-11-19T00:00:00.000000000",
          "2021-11-22T00:00:00.000000000",
          "2021-11-23T00:00:00.000000000",
          "2021-11-24T00:00:00.000000000",
          "2021-11-26T00:00:00.000000000",
          "2021-11-29T00:00:00.000000000",
          "2021-11-30T00:00:00.000000000",
          "2021-12-01T00:00:00.000000000",
          "2021-12-02T00:00:00.000000000",
          "2021-12-03T00:00:00.000000000",
          "2021-12-06T00:00:00.000000000",
          "2021-12-07T00:00:00.000000000",
          "2021-12-08T00:00:00.000000000",
          "2021-12-09T00:00:00.000000000",
          "2021-12-10T00:00:00.000000000",
          "2021-12-13T00:00:00.000000000",
          "2021-12-14T00:00:00.000000000",
          "2021-12-15T00:00:00.000000000",
          "2021-12-16T00:00:00.000000000",
          "2021-12-17T00:00:00.000000000",
          "2021-12-20T00:00:00.000000000",
          "2021-12-21T00:00:00.000000000",
          "2021-12-22T00:00:00.000000000",
          "2021-12-23T00:00:00.000000000",
          "2021-12-27T00:00:00.000000000",
          "2021-12-28T00:00:00.000000000",
          "2021-12-29T00:00:00.000000000",
          "2021-12-30T00:00:00.000000000",
          "2021-12-31T00:00:00.000000000",
          "2022-01-03T00:00:00.000000000",
          "2022-01-04T00:00:00.000000000",
          "2022-01-05T00:00:00.000000000",
          "2022-01-06T00:00:00.000000000",
          "2022-01-07T00:00:00.000000000",
          "2022-01-10T00:00:00.000000000",
          "2022-01-11T00:00:00.000000000",
          "2022-01-12T00:00:00.000000000",
          "2022-01-13T00:00:00.000000000",
          "2022-01-14T00:00:00.000000000",
          "2022-01-18T00:00:00.000000000",
          "2022-01-19T00:00:00.000000000",
          "2022-01-20T00:00:00.000000000",
          "2022-01-21T00:00:00.000000000",
          "2022-01-24T00:00:00.000000000",
          "2022-01-25T00:00:00.000000000",
          "2022-01-26T00:00:00.000000000",
          "2022-01-27T00:00:00.000000000",
          "2022-01-28T00:00:00.000000000",
          "2022-01-31T00:00:00.000000000",
          "2022-02-01T00:00:00.000000000",
          "2022-02-02T00:00:00.000000000",
          "2022-02-03T00:00:00.000000000",
          "2022-02-04T00:00:00.000000000",
          "2022-02-07T00:00:00.000000000",
          "2022-02-08T00:00:00.000000000",
          "2022-02-09T00:00:00.000000000",
          "2022-02-10T00:00:00.000000000",
          "2022-02-11T00:00:00.000000000",
          "2022-02-14T00:00:00.000000000",
          "2022-02-15T00:00:00.000000000",
          "2022-02-16T00:00:00.000000000",
          "2022-02-17T00:00:00.000000000",
          "2022-02-18T00:00:00.000000000",
          "2022-02-22T00:00:00.000000000",
          "2022-02-23T00:00:00.000000000",
          "2022-02-24T00:00:00.000000000",
          "2022-02-25T00:00:00.000000000",
          "2022-02-28T00:00:00.000000000",
          "2022-03-01T00:00:00.000000000",
          "2022-03-02T00:00:00.000000000",
          "2022-03-03T00:00:00.000000000",
          "2022-03-04T00:00:00.000000000",
          "2022-03-07T00:00:00.000000000",
          "2022-03-08T00:00:00.000000000",
          "2022-03-09T00:00:00.000000000",
          "2022-03-10T00:00:00.000000000",
          "2022-03-11T00:00:00.000000000",
          "2022-03-14T00:00:00.000000000",
          "2022-03-15T00:00:00.000000000",
          "2022-03-16T00:00:00.000000000",
          "2022-03-17T00:00:00.000000000",
          "2022-03-18T00:00:00.000000000",
          "2022-03-21T00:00:00.000000000",
          "2022-03-22T00:00:00.000000000",
          "2022-03-23T00:00:00.000000000",
          "2022-03-24T00:00:00.000000000",
          "2022-03-25T00:00:00.000000000",
          "2022-03-28T00:00:00.000000000",
          "2022-03-29T00:00:00.000000000",
          "2022-03-30T00:00:00.000000000",
          "2022-03-31T00:00:00.000000000",
          "2022-04-01T00:00:00.000000000",
          "2022-04-04T00:00:00.000000000",
          "2022-04-05T00:00:00.000000000",
          "2022-04-06T00:00:00.000000000",
          "2022-04-07T00:00:00.000000000",
          "2022-04-08T00:00:00.000000000",
          "2022-04-11T00:00:00.000000000",
          "2022-04-12T00:00:00.000000000",
          "2022-04-13T00:00:00.000000000",
          "2022-04-14T00:00:00.000000000",
          "2022-04-18T00:00:00.000000000",
          "2022-04-19T00:00:00.000000000",
          "2022-04-20T00:00:00.000000000",
          "2022-04-21T00:00:00.000000000",
          "2022-04-22T00:00:00.000000000",
          "2022-04-25T00:00:00.000000000",
          "2022-04-26T00:00:00.000000000",
          "2022-04-27T00:00:00.000000000",
          "2022-04-28T00:00:00.000000000",
          "2022-04-29T00:00:00.000000000",
          "2022-05-02T00:00:00.000000000",
          "2022-05-03T00:00:00.000000000",
          "2022-05-04T00:00:00.000000000",
          "2022-05-05T00:00:00.000000000",
          "2022-05-06T00:00:00.000000000",
          "2022-05-09T00:00:00.000000000",
          "2022-05-10T00:00:00.000000000",
          "2022-05-11T00:00:00.000000000",
          "2022-05-12T00:00:00.000000000",
          "2022-05-13T00:00:00.000000000",
          "2022-05-16T00:00:00.000000000",
          "2022-05-17T00:00:00.000000000",
          "2022-05-18T00:00:00.000000000",
          "2022-05-19T00:00:00.000000000",
          "2022-05-20T00:00:00.000000000",
          "2022-05-23T00:00:00.000000000",
          "2022-05-24T00:00:00.000000000",
          "2022-05-25T00:00:00.000000000",
          "2022-05-26T00:00:00.000000000",
          "2022-05-27T00:00:00.000000000",
          "2022-05-31T00:00:00.000000000",
          "2022-06-01T00:00:00.000000000",
          "2022-06-02T00:00:00.000000000",
          "2022-06-03T00:00:00.000000000",
          "2022-06-06T00:00:00.000000000",
          "2022-06-07T00:00:00.000000000",
          "2022-06-08T00:00:00.000000000",
          "2022-06-09T00:00:00.000000000",
          "2022-06-10T00:00:00.000000000",
          "2022-06-13T00:00:00.000000000",
          "2022-06-14T00:00:00.000000000",
          "2022-06-15T00:00:00.000000000",
          "2022-06-16T00:00:00.000000000",
          "2022-06-17T00:00:00.000000000",
          "2022-06-21T00:00:00.000000000",
          "2022-06-22T00:00:00.000000000",
          "2022-06-23T00:00:00.000000000",
          "2022-06-24T00:00:00.000000000",
          "2022-06-27T00:00:00.000000000",
          "2022-06-28T00:00:00.000000000",
          "2022-06-29T00:00:00.000000000",
          "2022-06-30T00:00:00.000000000",
          "2022-07-01T00:00:00.000000000",
          "2022-07-05T00:00:00.000000000",
          "2022-07-06T00:00:00.000000000",
          "2022-07-07T00:00:00.000000000",
          "2022-07-08T00:00:00.000000000",
          "2022-07-11T00:00:00.000000000",
          "2022-07-12T00:00:00.000000000",
          "2022-07-13T00:00:00.000000000",
          "2022-07-14T00:00:00.000000000",
          "2022-07-15T00:00:00.000000000",
          "2022-07-18T00:00:00.000000000",
          "2022-07-19T00:00:00.000000000",
          "2022-07-20T00:00:00.000000000",
          "2022-07-21T00:00:00.000000000",
          "2022-07-22T00:00:00.000000000",
          "2022-07-25T00:00:00.000000000",
          "2022-07-26T00:00:00.000000000",
          "2022-07-27T00:00:00.000000000",
          "2022-07-28T00:00:00.000000000",
          "2022-07-29T00:00:00.000000000",
          "2022-08-01T00:00:00.000000000",
          "2022-08-02T00:00:00.000000000",
          "2022-08-03T00:00:00.000000000",
          "2022-08-04T00:00:00.000000000",
          "2022-08-05T00:00:00.000000000",
          "2022-08-08T00:00:00.000000000",
          "2022-08-09T00:00:00.000000000",
          "2022-08-10T00:00:00.000000000",
          "2022-08-11T00:00:00.000000000",
          "2022-08-12T00:00:00.000000000",
          "2022-08-15T00:00:00.000000000",
          "2022-08-16T00:00:00.000000000",
          "2022-08-17T00:00:00.000000000",
          "2022-08-18T00:00:00.000000000",
          "2022-08-19T00:00:00.000000000",
          "2022-08-22T00:00:00.000000000",
          "2022-08-23T00:00:00.000000000",
          "2022-08-24T00:00:00.000000000",
          "2022-08-25T00:00:00.000000000",
          "2022-08-26T00:00:00.000000000",
          "2022-08-29T00:00:00.000000000",
          "2022-08-30T00:00:00.000000000",
          "2022-08-31T00:00:00.000000000",
          "2022-09-01T00:00:00.000000000",
          "2022-09-02T00:00:00.000000000",
          "2022-09-06T00:00:00.000000000",
          "2022-09-07T00:00:00.000000000",
          "2022-09-08T00:00:00.000000000",
          "2022-09-09T00:00:00.000000000",
          "2022-09-12T00:00:00.000000000",
          "2022-09-13T00:00:00.000000000",
          "2022-09-14T00:00:00.000000000",
          "2022-09-15T00:00:00.000000000",
          "2022-09-16T00:00:00.000000000",
          "2022-09-19T00:00:00.000000000",
          "2022-09-20T00:00:00.000000000",
          "2022-09-21T00:00:00.000000000",
          "2022-09-22T00:00:00.000000000",
          "2022-09-23T00:00:00.000000000",
          "2022-09-26T00:00:00.000000000",
          "2022-09-27T00:00:00.000000000",
          "2022-09-28T00:00:00.000000000",
          "2022-09-29T00:00:00.000000000",
          "2022-09-30T00:00:00.000000000",
          "2022-10-03T00:00:00.000000000",
          "2022-10-04T00:00:00.000000000",
          "2022-10-05T00:00:00.000000000",
          "2022-10-06T00:00:00.000000000",
          "2022-10-07T00:00:00.000000000",
          "2022-10-10T00:00:00.000000000",
          "2022-10-11T00:00:00.000000000",
          "2022-10-12T00:00:00.000000000",
          "2022-10-13T00:00:00.000000000",
          "2022-10-14T00:00:00.000000000",
          "2022-10-17T00:00:00.000000000",
          "2022-10-18T00:00:00.000000000",
          "2022-10-19T00:00:00.000000000",
          "2022-10-20T00:00:00.000000000",
          "2022-10-21T00:00:00.000000000",
          "2022-10-24T00:00:00.000000000",
          "2022-10-25T00:00:00.000000000",
          "2022-10-26T00:00:00.000000000",
          "2022-10-27T00:00:00.000000000",
          "2022-10-28T00:00:00.000000000",
          "2022-10-31T00:00:00.000000000",
          "2022-11-01T00:00:00.000000000",
          "2022-11-02T00:00:00.000000000",
          "2022-11-03T00:00:00.000000000",
          "2022-11-04T00:00:00.000000000",
          "2022-11-07T00:00:00.000000000",
          "2022-11-08T00:00:00.000000000",
          "2022-11-09T00:00:00.000000000",
          "2022-11-10T00:00:00.000000000",
          "2022-11-11T00:00:00.000000000",
          "2022-11-14T00:00:00.000000000",
          "2022-11-15T00:00:00.000000000",
          "2022-11-16T00:00:00.000000000",
          "2022-11-17T00:00:00.000000000",
          "2022-11-18T00:00:00.000000000",
          "2022-11-21T00:00:00.000000000",
          "2022-11-22T00:00:00.000000000",
          "2022-11-23T00:00:00.000000000",
          "2022-11-25T00:00:00.000000000",
          "2022-11-28T00:00:00.000000000",
          "2022-11-29T00:00:00.000000000",
          "2022-11-30T00:00:00.000000000",
          "2022-12-01T00:00:00.000000000",
          "2022-12-02T00:00:00.000000000",
          "2022-12-05T00:00:00.000000000",
          "2022-12-06T00:00:00.000000000",
          "2022-12-07T00:00:00.000000000",
          "2022-12-08T00:00:00.000000000",
          "2022-12-09T00:00:00.000000000",
          "2022-12-12T00:00:00.000000000",
          "2022-12-13T00:00:00.000000000",
          "2022-12-14T00:00:00.000000000",
          "2022-12-15T00:00:00.000000000",
          "2022-12-16T00:00:00.000000000",
          "2022-12-19T00:00:00.000000000",
          "2022-12-20T00:00:00.000000000",
          "2022-12-21T00:00:00.000000000",
          "2022-12-22T00:00:00.000000000",
          "2022-12-23T00:00:00.000000000",
          "2022-12-27T00:00:00.000000000",
          "2022-12-28T00:00:00.000000000",
          "2022-12-29T00:00:00.000000000",
          "2022-12-30T00:00:00.000000000",
          "2023-01-03T00:00:00.000000000",
          "2023-01-04T00:00:00.000000000",
          "2023-01-05T00:00:00.000000000",
          "2023-01-06T00:00:00.000000000",
          "2023-01-09T00:00:00.000000000",
          "2023-01-10T00:00:00.000000000",
          "2023-01-11T00:00:00.000000000",
          "2023-01-12T00:00:00.000000000",
          "2023-01-13T00:00:00.000000000",
          "2023-01-17T00:00:00.000000000",
          "2023-01-18T00:00:00.000000000",
          "2023-01-19T00:00:00.000000000",
          "2023-01-20T00:00:00.000000000",
          "2023-01-23T00:00:00.000000000",
          "2023-01-24T00:00:00.000000000",
          "2023-01-25T00:00:00.000000000",
          "2023-01-26T00:00:00.000000000",
          "2023-01-27T00:00:00.000000000",
          "2023-01-30T00:00:00.000000000",
          "2023-01-31T00:00:00.000000000",
          "2023-02-01T00:00:00.000000000",
          "2023-02-02T00:00:00.000000000",
          "2023-02-03T00:00:00.000000000",
          "2023-02-06T00:00:00.000000000",
          "2023-02-07T00:00:00.000000000",
          "2023-02-08T00:00:00.000000000",
          "2023-02-09T00:00:00.000000000",
          "2023-02-10T00:00:00.000000000",
          "2023-02-13T00:00:00.000000000",
          "2023-02-14T00:00:00.000000000",
          "2023-02-15T00:00:00.000000000",
          "2023-02-16T00:00:00.000000000",
          "2023-02-17T00:00:00.000000000",
          "2023-02-21T00:00:00.000000000",
          "2023-02-22T00:00:00.000000000",
          "2023-02-23T00:00:00.000000000",
          "2023-02-24T00:00:00.000000000",
          "2023-02-27T00:00:00.000000000",
          "2023-02-28T00:00:00.000000000",
          "2023-03-01T00:00:00.000000000",
          "2023-03-02T00:00:00.000000000",
          "2023-03-03T00:00:00.000000000",
          "2023-03-06T00:00:00.000000000",
          "2023-03-07T00:00:00.000000000",
          "2023-03-08T00:00:00.000000000",
          "2023-03-09T00:00:00.000000000",
          "2023-03-10T00:00:00.000000000",
          "2023-03-13T00:00:00.000000000",
          "2023-03-14T00:00:00.000000000",
          "2023-03-15T00:00:00.000000000",
          "2023-03-16T00:00:00.000000000",
          "2023-03-17T00:00:00.000000000",
          "2023-03-20T00:00:00.000000000",
          "2023-03-21T00:00:00.000000000",
          "2023-03-22T00:00:00.000000000",
          "2023-03-23T00:00:00.000000000",
          "2023-03-24T00:00:00.000000000",
          "2023-03-27T00:00:00.000000000",
          "2023-03-28T00:00:00.000000000",
          "2023-03-29T00:00:00.000000000",
          "2023-03-30T00:00:00.000000000",
          "2023-03-31T00:00:00.000000000",
          "2023-04-03T00:00:00.000000000",
          "2023-04-04T00:00:00.000000000",
          "2023-04-05T00:00:00.000000000",
          "2023-04-06T00:00:00.000000000",
          "2023-04-10T00:00:00.000000000",
          "2023-04-11T00:00:00.000000000",
          "2023-04-12T00:00:00.000000000",
          "2023-04-13T00:00:00.000000000",
          "2023-04-14T00:00:00.000000000",
          "2023-04-17T00:00:00.000000000",
          "2023-04-18T00:00:00.000000000",
          "2023-04-19T00:00:00.000000000",
          "2023-04-20T00:00:00.000000000",
          "2023-04-21T00:00:00.000000000",
          "2023-04-24T00:00:00.000000000",
          "2023-04-25T00:00:00.000000000",
          "2023-04-26T00:00:00.000000000",
          "2023-04-27T00:00:00.000000000",
          "2023-04-28T00:00:00.000000000",
          "2023-05-01T00:00:00.000000000",
          "2023-05-02T00:00:00.000000000",
          "2023-05-03T00:00:00.000000000",
          "2023-05-04T00:00:00.000000000",
          "2023-05-05T00:00:00.000000000",
          "2023-05-08T00:00:00.000000000",
          "2023-05-09T00:00:00.000000000",
          "2023-05-10T00:00:00.000000000",
          "2023-05-11T00:00:00.000000000",
          "2023-05-12T00:00:00.000000000",
          "2023-05-15T00:00:00.000000000",
          "2023-05-16T00:00:00.000000000",
          "2023-05-17T00:00:00.000000000",
          "2023-05-18T00:00:00.000000000",
          "2023-05-19T00:00:00.000000000",
          "2023-05-22T00:00:00.000000000",
          "2023-05-23T00:00:00.000000000",
          "2023-05-24T00:00:00.000000000",
          "2023-05-25T00:00:00.000000000",
          "2023-05-26T00:00:00.000000000",
          "2023-05-30T00:00:00.000000000",
          "2023-05-31T00:00:00.000000000",
          "2023-06-01T00:00:00.000000000",
          "2023-06-02T00:00:00.000000000",
          "2023-06-05T00:00:00.000000000",
          "2023-06-06T00:00:00.000000000",
          "2023-06-07T00:00:00.000000000",
          "2023-06-08T00:00:00.000000000",
          "2023-06-09T00:00:00.000000000",
          "2023-06-12T00:00:00.000000000",
          "2023-06-13T00:00:00.000000000",
          "2023-06-14T00:00:00.000000000",
          "2023-06-15T00:00:00.000000000",
          "2023-06-16T00:00:00.000000000",
          "2023-06-20T00:00:00.000000000",
          "2023-06-21T00:00:00.000000000",
          "2023-06-22T00:00:00.000000000",
          "2023-06-23T00:00:00.000000000",
          "2023-06-26T00:00:00.000000000",
          "2023-06-27T00:00:00.000000000",
          "2023-06-28T00:00:00.000000000",
          "2023-06-29T00:00:00.000000000",
          "2023-06-30T00:00:00.000000000",
          "2023-07-03T00:00:00.000000000",
          "2023-07-05T00:00:00.000000000",
          "2023-07-06T00:00:00.000000000",
          "2023-07-07T00:00:00.000000000",
          "2023-07-10T00:00:00.000000000",
          "2023-07-11T00:00:00.000000000",
          "2023-07-12T00:00:00.000000000",
          "2023-07-13T00:00:00.000000000",
          "2023-07-14T00:00:00.000000000",
          "2023-07-17T00:00:00.000000000",
          "2023-07-18T00:00:00.000000000",
          "2023-07-19T00:00:00.000000000",
          "2023-07-20T00:00:00.000000000",
          "2023-07-21T00:00:00.000000000",
          "2023-07-24T00:00:00.000000000",
          "2023-07-25T00:00:00.000000000",
          "2023-07-26T00:00:00.000000000",
          "2023-07-27T00:00:00.000000000",
          "2023-07-28T00:00:00.000000000",
          "2023-07-31T00:00:00.000000000",
          "2023-08-01T00:00:00.000000000",
          "2023-08-02T00:00:00.000000000",
          "2023-08-03T00:00:00.000000000",
          "2023-08-04T00:00:00.000000000",
          "2023-08-07T00:00:00.000000000",
          "2023-08-08T00:00:00.000000000",
          "2023-08-09T00:00:00.000000000",
          "2023-08-10T00:00:00.000000000",
          "2023-08-11T00:00:00.000000000",
          "2023-08-14T00:00:00.000000000",
          "2023-08-15T00:00:00.000000000",
          "2023-08-16T00:00:00.000000000",
          "2023-08-17T00:00:00.000000000",
          "2023-08-18T00:00:00.000000000",
          "2023-08-21T00:00:00.000000000",
          "2023-08-22T00:00:00.000000000",
          "2023-08-23T00:00:00.000000000",
          "2023-08-24T00:00:00.000000000",
          "2023-08-25T00:00:00.000000000",
          "2023-08-28T00:00:00.000000000",
          "2023-08-29T00:00:00.000000000",
          "2023-08-30T00:00:00.000000000",
          "2023-08-31T00:00:00.000000000",
          "2023-09-01T00:00:00.000000000",
          "2023-09-05T00:00:00.000000000",
          "2023-09-06T00:00:00.000000000",
          "2023-09-07T00:00:00.000000000",
          "2023-09-08T00:00:00.000000000",
          "2023-09-11T00:00:00.000000000",
          "2023-09-12T00:00:00.000000000",
          "2023-09-13T00:00:00.000000000",
          "2023-09-14T00:00:00.000000000",
          "2023-09-15T00:00:00.000000000",
          "2023-09-18T00:00:00.000000000",
          "2023-09-19T00:00:00.000000000",
          "2023-09-20T00:00:00.000000000",
          "2023-09-21T00:00:00.000000000",
          "2023-09-22T00:00:00.000000000",
          "2023-09-25T00:00:00.000000000",
          "2023-09-26T00:00:00.000000000",
          "2023-09-27T00:00:00.000000000",
          "2023-09-28T00:00:00.000000000",
          "2023-09-29T00:00:00.000000000",
          "2023-10-02T00:00:00.000000000",
          "2023-10-03T00:00:00.000000000",
          "2023-10-04T00:00:00.000000000",
          "2023-10-05T00:00:00.000000000",
          "2023-10-06T00:00:00.000000000",
          "2023-10-09T00:00:00.000000000",
          "2023-10-10T00:00:00.000000000",
          "2023-10-11T00:00:00.000000000",
          "2023-10-12T00:00:00.000000000",
          "2023-10-13T00:00:00.000000000",
          "2023-10-16T00:00:00.000000000",
          "2023-10-17T00:00:00.000000000",
          "2023-10-18T00:00:00.000000000",
          "2023-10-19T00:00:00.000000000",
          "2023-10-20T00:00:00.000000000",
          "2023-10-23T00:00:00.000000000",
          "2023-10-24T00:00:00.000000000",
          "2023-10-25T00:00:00.000000000",
          "2023-10-26T00:00:00.000000000",
          "2023-10-27T00:00:00.000000000",
          "2023-10-30T00:00:00.000000000",
          "2023-10-31T00:00:00.000000000",
          "2023-11-01T00:00:00.000000000",
          "2023-11-02T00:00:00.000000000",
          "2023-11-03T00:00:00.000000000",
          "2023-11-06T00:00:00.000000000",
          "2023-11-07T00:00:00.000000000",
          "2023-11-08T00:00:00.000000000",
          "2023-11-09T00:00:00.000000000",
          "2023-11-10T00:00:00.000000000",
          "2023-11-13T00:00:00.000000000",
          "2023-11-14T00:00:00.000000000",
          "2023-11-15T00:00:00.000000000",
          "2023-11-16T00:00:00.000000000",
          "2023-11-17T00:00:00.000000000",
          "2023-11-20T00:00:00.000000000",
          "2023-11-21T00:00:00.000000000",
          "2023-11-22T00:00:00.000000000",
          "2023-11-24T00:00:00.000000000",
          "2023-11-27T00:00:00.000000000",
          "2023-11-28T00:00:00.000000000",
          "2023-11-29T00:00:00.000000000",
          "2023-11-30T00:00:00.000000000",
          "2023-12-01T00:00:00.000000000",
          "2023-12-04T00:00:00.000000000",
          "2023-12-05T00:00:00.000000000",
          "2023-12-06T00:00:00.000000000",
          "2023-12-07T00:00:00.000000000",
          "2023-12-08T00:00:00.000000000",
          "2023-12-11T00:00:00.000000000",
          "2023-12-12T00:00:00.000000000",
          "2023-12-13T00:00:00.000000000",
          "2023-12-14T00:00:00.000000000",
          "2023-12-15T00:00:00.000000000",
          "2023-12-18T00:00:00.000000000",
          "2023-12-19T00:00:00.000000000",
          "2023-12-20T00:00:00.000000000",
          "2023-12-21T00:00:00.000000000",
          "2023-12-22T00:00:00.000000000",
          "2023-12-26T00:00:00.000000000",
          "2023-12-27T00:00:00.000000000",
          "2023-12-28T00:00:00.000000000",
          "2023-12-29T00:00:00.000000000",
          "2024-01-02T00:00:00.000000000",
          "2024-01-03T00:00:00.000000000",
          "2024-01-04T00:00:00.000000000",
          "2024-01-05T00:00:00.000000000",
          "2024-01-08T00:00:00.000000000",
          "2024-01-09T00:00:00.000000000",
          "2024-01-10T00:00:00.000000000",
          "2024-01-11T00:00:00.000000000",
          "2024-01-12T00:00:00.000000000",
          "2024-01-16T00:00:00.000000000",
          "2024-01-17T00:00:00.000000000",
          "2024-01-18T00:00:00.000000000",
          "2024-01-19T00:00:00.000000000",
          "2024-01-22T00:00:00.000000000",
          "2024-01-23T00:00:00.000000000",
          "2024-01-24T00:00:00.000000000",
          "2024-01-25T00:00:00.000000000",
          "2024-01-26T00:00:00.000000000",
          "2024-01-29T00:00:00.000000000",
          "2024-01-30T00:00:00.000000000",
          "2024-01-31T00:00:00.000000000",
          "2024-02-01T00:00:00.000000000",
          "2024-02-02T00:00:00.000000000",
          "2024-02-05T00:00:00.000000000",
          "2024-02-06T00:00:00.000000000",
          "2024-02-07T00:00:00.000000000",
          "2024-02-08T00:00:00.000000000",
          "2024-02-09T00:00:00.000000000",
          "2024-02-12T00:00:00.000000000",
          "2024-02-13T00:00:00.000000000",
          "2024-02-14T00:00:00.000000000",
          "2024-02-15T00:00:00.000000000",
          "2024-02-16T00:00:00.000000000",
          "2024-02-20T00:00:00.000000000",
          "2024-02-21T00:00:00.000000000",
          "2024-02-22T00:00:00.000000000",
          "2024-02-23T00:00:00.000000000",
          "2024-02-26T00:00:00.000000000",
          "2024-02-27T00:00:00.000000000",
          "2024-02-28T00:00:00.000000000",
          "2024-02-29T00:00:00.000000000",
          "2024-03-01T00:00:00.000000000",
          "2024-03-04T00:00:00.000000000",
          "2024-03-05T00:00:00.000000000",
          "2024-03-06T00:00:00.000000000",
          "2024-03-07T00:00:00.000000000",
          "2024-03-08T00:00:00.000000000",
          "2024-03-11T00:00:00.000000000",
          "2024-03-12T00:00:00.000000000",
          "2024-03-13T00:00:00.000000000",
          "2024-03-14T00:00:00.000000000",
          "2024-03-15T00:00:00.000000000",
          "2024-03-18T00:00:00.000000000",
          "2024-03-19T00:00:00.000000000",
          "2024-03-20T00:00:00.000000000",
          "2024-03-21T00:00:00.000000000",
          "2024-03-22T00:00:00.000000000",
          "2024-03-25T00:00:00.000000000",
          "2024-03-26T00:00:00.000000000",
          "2024-03-27T00:00:00.000000000",
          "2024-03-28T00:00:00.000000000",
          "2024-04-01T00:00:00.000000000",
          "2024-04-02T00:00:00.000000000",
          "2024-04-03T00:00:00.000000000",
          "2024-04-04T00:00:00.000000000",
          "2024-04-05T00:00:00.000000000",
          "2024-04-08T00:00:00.000000000",
          "2024-04-09T00:00:00.000000000",
          "2024-04-10T00:00:00.000000000",
          "2024-04-11T00:00:00.000000000",
          "2024-04-12T00:00:00.000000000",
          "2024-04-15T00:00:00.000000000"
         ],
         "y": {
          "bdata": "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",
          "dtype": "f8"
         }
        }
       ],
       "layout": {
        "showlegend": true,
        "template": {
         "data": {
          "bar": [
           {
            "error_x": {
             "color": "#2a3f5f"
            },
            "error_y": {
             "color": "#2a3f5f"
            },
            "marker": {
             "line": {
              "color": "white",
              "width": 0.5
             },
             "pattern": {
              "fillmode": "overlay",
              "size": 10,
              "solidity": 0.2
             }
            },
            "type": "bar"
           }
          ],
          "barpolar": [
           {
            "marker": {
             "line": {
              "color": "white",
              "width": 0.5
             },
             "pattern": {
              "fillmode": "overlay",
              "size": 10,
              "solidity": 0.2
             }
            },
            "type": "barpolar"
           }
          ],
          "carpet": [
           {
            "aaxis": {
             "endlinecolor": "#2a3f5f",
             "gridcolor": "#C8D4E3",
             "linecolor": "#C8D4E3",
             "minorgridcolor": "#C8D4E3",
             "startlinecolor": "#2a3f5f"
            },
            "baxis": {
             "endlinecolor": "#2a3f5f",
             "gridcolor": "#C8D4E3",
             "linecolor": "#C8D4E3",
             "minorgridcolor": "#C8D4E3",
             "startlinecolor": "#2a3f5f"
            },
            "type": "carpet"
           }
          ],
          "choropleth": [
           {
            "colorbar": {
             "outlinewidth": 0,
             "ticks": ""
            },
            "type": "choropleth"
           }
          ],
          "contour": [
           {
            "colorbar": {
             "outlinewidth": 0,
             "ticks": ""
            },
            "colorscale": [
             [
              0,
              "#0d0887"
             ],
             [
              0.1111111111111111,
              "#46039f"
             ],
             [
              0.2222222222222222,
              "#7201a8"
             ],
             [
              0.3333333333333333,
              "#9c179e"
             ],
             [
              0.4444444444444444,
              "#bd3786"
             ],
             [
              0.5555555555555556,
              "#d8576b"
             ],
             [
              0.6666666666666666,
              "#ed7953"
             ],
             [
              0.7777777777777778,
              "#fb9f3a"
             ],
             [
              0.8888888888888888,
              "#fdca26"
             ],
             [
              1,
              "#f0f921"
             ]
            ],
            "type": "contour"
           }
          ],
          "contourcarpet": [
           {
            "colorbar": {
             "outlinewidth": 0,
             "ticks": ""
            },
            "type": "contourcarpet"
           }
          ],
          "heatmap": [
           {
            "colorbar": {
             "outlinewidth": 0,
             "ticks": ""
            },
            "colorscale": [
             [
              0,
              "#0d0887"
             ],
             [
              0.1111111111111111,
              "#46039f"
             ],
             [
              0.2222222222222222,
              "#7201a8"
             ],
             [
              0.3333333333333333,
              "#9c179e"
             ],
             [
              0.4444444444444444,
              "#bd3786"
             ],
             [
              0.5555555555555556,
              "#d8576b"
             ],
             [
              0.6666666666666666,
              "#ed7953"
             ],
             [
              0.7777777777777778,
              "#fb9f3a"
             ],
             [
              0.8888888888888888,
              "#fdca26"
             ],
             [
              1,
              "#f0f921"
             ]
            ],
            "type": "heatmap"
           }
          ],
          "histogram": [
           {
            "marker": {
             "pattern": {
              "fillmode": "overlay",
              "size": 10,
              "solidity": 0.2
             }
            },
            "type": "histogram"
           }
          ],
          "histogram2d": [
           {
            "colorbar": {
             "outlinewidth": 0,
             "ticks": ""
            },
            "colorscale": [
             [
              0,
              "#0d0887"
             ],
             [
              0.1111111111111111,
              "#46039f"
             ],
             [
              0.2222222222222222,
              "#7201a8"
             ],
             [
              0.3333333333333333,
              "#9c179e"
             ],
             [
              0.4444444444444444,
              "#bd3786"
             ],
             [
              0.5555555555555556,
              "#d8576b"
             ],
             [
              0.6666666666666666,
              "#ed7953"
             ],
             [
              0.7777777777777778,
              "#fb9f3a"
             ],
             [
              0.8888888888888888,
              "#fdca26"
             ],
             [
              1,
              "#f0f921"
             ]
            ],
            "type": "histogram2d"
           }
          ],
          "histogram2dcontour": [
           {
            "colorbar": {
             "outlinewidth": 0,
             "ticks": ""
            },
            "colorscale": [
             [
              0,
              "#0d0887"
             ],
             [
              0.1111111111111111,
              "#46039f"
             ],
             [
              0.2222222222222222,
              "#7201a8"
             ],
             [
              0.3333333333333333,
              "#9c179e"
             ],
             [
              0.4444444444444444,
              "#bd3786"
             ],
             [
              0.5555555555555556,
              "#d8576b"
             ],
             [
              0.6666666666666666,
              "#ed7953"
             ],
             [
              0.7777777777777778,
              "#fb9f3a"
             ],
             [
              0.8888888888888888,
              "#fdca26"
             ],
             [
              1,
              "#f0f921"
             ]
            ],
            "type": "histogram2dcontour"
           }
          ],
          "mesh3d": [
           {
            "colorbar": {
             "outlinewidth": 0,
             "ticks": ""
            },
            "type": "mesh3d"
           }
          ],
          "parcoords": [
           {
            "line": {
             "colorbar": {
              "outlinewidth": 0,
              "ticks": ""
             }
            },
            "type": "parcoords"
           }
          ],
          "pie": [
           {
            "automargin": true,
            "type": "pie"
           }
          ],
          "scatter": [
           {
            "fillpattern": {
             "fillmode": "overlay",
             "size": 10,
             "solidity": 0.2
            },
            "type": "scatter"
           }
          ],
          "scatter3d": [
           {
            "line": {
             "colorbar": {
              "outlinewidth": 0,
              "ticks": ""
             }
            },
            "marker": {
             "colorbar": {
              "outlinewidth": 0,
              "ticks": ""
             }
            },
            "type": "scatter3d"
           }
          ],
          "scattercarpet": [
           {
            "marker": {
             "colorbar": {
              "outlinewidth": 0,
              "ticks": ""
             }
            },
            "type": "scattercarpet"
           }
          ],
          "scattergeo": [
           {
            "marker": {
             "colorbar": {
              "outlinewidth": 0,
              "ticks": ""
             }
            },
            "type": "scattergeo"
           }
          ],
          "scattergl": [
           {
            "marker": {
             "colorbar": {
              "outlinewidth": 0,
              "ticks": ""
             }
            },
            "type": "scattergl"
           }
          ],
          "scattermap": [
           {
            "marker": {
             "colorbar": {
              "outlinewidth": 0,
              "ticks": ""
             }
            },
            "type": "scattermap"
           }
          ],
          "scattermapbox": [
           {
            "marker": {
             "colorbar": {
              "outlinewidth": 0,
              "ticks": ""
             }
            },
            "type": "scattermapbox"
           }
          ],
          "scatterpolar": [
           {
            "marker": {
             "colorbar": {
              "outlinewidth": 0,
              "ticks": ""
             }
            },
            "type": "scatterpolar"
           }
          ],
          "scatterpolargl": [
           {
            "marker": {
             "colorbar": {
              "outlinewidth": 0,
              "ticks": ""
             }
            },
            "type": "scatterpolargl"
           }
          ],
          "scatterternary": [
           {
            "marker": {
             "colorbar": {
              "outlinewidth": 0,
              "ticks": ""
             }
            },
            "type": "scatterternary"
           }
          ],
          "surface": [
           {
            "colorbar": {
             "outlinewidth": 0,
             "ticks": ""
            },
            "colorscale": [
             [
              0,
              "#0d0887"
             ],
             [
              0.1111111111111111,
              "#46039f"
             ],
             [
              0.2222222222222222,
              "#7201a8"
             ],
             [
              0.3333333333333333,
              "#9c179e"
             ],
             [
              0.4444444444444444,
              "#bd3786"
             ],
             [
              0.5555555555555556,
              "#d8576b"
             ],
             [
              0.6666666666666666,
              "#ed7953"
             ],
             [
              0.7777777777777778,
              "#fb9f3a"
             ],
             [
              0.8888888888888888,
              "#fdca26"
             ],
             [
              1,
              "#f0f921"
             ]
            ],
            "type": "surface"
           }
          ],
          "table": [
           {
            "cells": {
             "fill": {
              "color": "#EBF0F8"
             },
             "line": {
              "color": "white"
             }
            },
            "header": {
             "fill": {
              "color": "#C8D4E3"
             },
             "line": {
              "color": "white"
             }
            },
            "type": "table"
           }
          ]
         },
         "layout": {
          "annotationdefaults": {
           "arrowcolor": "#2a3f5f",
           "arrowhead": 0,
           "arrowwidth": 1
          },
          "autotypenumbers": "strict",
          "coloraxis": {
           "colorbar": {
            "outlinewidth": 0,
            "ticks": ""
           }
          },
          "colorscale": {
           "diverging": [
            [
             0,
             "#8e0152"
            ],
            [
             0.1,
             "#c51b7d"
            ],
            [
             0.2,
             "#de77ae"
            ],
            [
             0.3,
             "#f1b6da"
            ],
            [
             0.4,
             "#fde0ef"
            ],
            [
             0.5,
             "#f7f7f7"
            ],
            [
             0.6,
             "#e6f5d0"
            ],
            [
             0.7,
             "#b8e186"
            ],
            [
             0.8,
             "#7fbc41"
            ],
            [
             0.9,
             "#4d9221"
            ],
            [
             1,
             "#276419"
            ]
           ],
           "sequential": [
            [
             0,
             "#0d0887"
            ],
            [
             0.1111111111111111,
             "#46039f"
            ],
            [
             0.2222222222222222,
             "#7201a8"
            ],
            [
             0.3333333333333333,
             "#9c179e"
            ],
            [
             0.4444444444444444,
             "#bd3786"
            ],
            [
             0.5555555555555556,
             "#d8576b"
            ],
            [
             0.6666666666666666,
             "#ed7953"
            ],
            [
             0.7777777777777778,
             "#fb9f3a"
            ],
            [
             0.8888888888888888,
             "#fdca26"
            ],
            [
             1,
             "#f0f921"
            ]
           ],
           "sequentialminus": [
            [
             0,
             "#0d0887"
            ],
            [
             0.1111111111111111,
             "#46039f"
            ],
            [
             0.2222222222222222,
             "#7201a8"
            ],
            [
             0.3333333333333333,
             "#9c179e"
            ],
            [
             0.4444444444444444,
             "#bd3786"
            ],
            [
             0.5555555555555556,
             "#d8576b"
            ],
            [
             0.6666666666666666,
             "#ed7953"
            ],
            [
             0.7777777777777778,
             "#fb9f3a"
            ],
            [
             0.8888888888888888,
             "#fdca26"
            ],
            [
             1,
             "#f0f921"
            ]
           ]
          },
          "colorway": [
           "#636efa",
           "#EF553B",
           "#00cc96",
           "#ab63fa",
           "#FFA15A",
           "#19d3f3",
           "#FF6692",
           "#B6E880",
           "#FF97FF",
           "#FECB52"
          ],
          "font": {
           "color": "#2a3f5f"
          },
          "geo": {
           "bgcolor": "white",
           "lakecolor": "white",
           "landcolor": "white",
           "showlakes": true,
           "showland": true,
           "subunitcolor": "#C8D4E3"
          },
          "hoverlabel": {
           "align": "left"
          },
          "hovermode": "closest",
          "mapbox": {
           "style": "light"
          },
          "paper_bgcolor": "white",
          "plot_bgcolor": "white",
          "polar": {
           "angularaxis": {
            "gridcolor": "#EBF0F8",
            "linecolor": "#EBF0F8",
            "ticks": ""
           },
           "bgcolor": "white",
           "radialaxis": {
            "gridcolor": "#EBF0F8",
            "linecolor": "#EBF0F8",
            "ticks": ""
           }
          },
          "scene": {
           "xaxis": {
            "backgroundcolor": "white",
            "gridcolor": "#DFE8F3",
            "gridwidth": 2,
            "linecolor": "#EBF0F8",
            "showbackground": true,
            "ticks": "",
            "zerolinecolor": "#EBF0F8"
           },
           "yaxis": {
            "backgroundcolor": "white",
            "gridcolor": "#DFE8F3",
            "gridwidth": 2,
            "linecolor": "#EBF0F8",
            "showbackground": true,
            "ticks": "",
            "zerolinecolor": "#EBF0F8"
           },
           "zaxis": {
            "backgroundcolor": "white",
            "gridcolor": "#DFE8F3",
            "gridwidth": 2,
            "linecolor": "#EBF0F8",
            "showbackground": true,
            "ticks": "",
            "zerolinecolor": "#EBF0F8"
           }
          },
          "shapedefaults": {
           "line": {
            "color": "#2a3f5f"
           }
          },
          "ternary": {
           "aaxis": {
            "gridcolor": "#DFE8F3",
            "linecolor": "#A2B1C6",
            "ticks": ""
           },
           "baxis": {
            "gridcolor": "#DFE8F3",
            "linecolor": "#A2B1C6",
            "ticks": ""
           },
           "bgcolor": "white",
           "caxis": {
            "gridcolor": "#DFE8F3",
            "linecolor": "#A2B1C6",
            "ticks": ""
           }
          },
          "title": {
           "x": 0.05
          },
          "xaxis": {
           "automargin": true,
           "gridcolor": "#EBF0F8",
           "linecolor": "#EBF0F8",
           "ticks": "",
           "title": {
            "standoff": 15
           },
           "zerolinecolor": "#EBF0F8",
           "zerolinewidth": 2
          },
          "yaxis": {
           "automargin": true,
           "gridcolor": "#EBF0F8",
           "linecolor": "#EBF0F8",
           "ticks": "",
           "title": {
            "standoff": 15
           },
           "zerolinecolor": "#EBF0F8",
           "zerolinewidth": 2
          }
         }
        },
        "title": {
         "text": "Стоимость акций Tesla"
        },
        "xaxis": {
         "title": {
          "text": "Время"
         }
        },
        "yaxis": {
         "title": {
          "text": "Значение"
         }
        }
       }
      }
     },
     "metadata": {},
     "output_type": "display_data"
    }
   ],
   "source": [
    "\n",
    "# Визуализация с помощью Plotly\n",
    "fig = go.Figure()\n",
    "\n",
    "# Добавление данных на график\n",
    "fig.add_trace(go.Scatter(\n",
    "    x=prices.index,\n",
    "    y=prices.diff().values,\n",
    "    mode='lines',\n",
    "    name='Цена',\n",
    "    line=dict(color='blue', width=2)\n",
    "))\n",
    "\n",
    "# Настройка макета графика\n",
    "fig.update_layout(\n",
    "    title=\"Стоимость акций Tesla\",\n",
    "    xaxis_title=\"Время\",\n",
    "    yaxis_title=\"Значение\",\n",
    "    template=\"plotly_white\",\n",
    "    showlegend=True\n",
    ")\n",
    "\n",
    "# Отображение графика\n",
    "fig.show()"
   ]
  },
  {
   "cell_type": "code",
   "execution_count": 43,
   "metadata": {},
   "outputs": [],
   "source": [
    "price_diff = prices.diff().dropna()"
   ]
  },
  {
   "cell_type": "markdown",
   "metadata": {},
   "source": [
    "# Автокорреляция\n",
    "\n",
    "TODO: Добавить к каждому тесту строгие предпосылки."
   ]
  },
  {
   "cell_type": "markdown",
   "metadata": {},
   "source": [
    "$$\n",
    "r_k = \\frac{\\sum_{t=1}^{T-k} (x_t - \\bar{x})(x_{t+k} - \\bar{x})}{\\sum_{t=1}^n (x_t - \\bar{x})^2}\n",
    "$$\n",
    "\n",
    "Для графиков нам необходимо знать дисперсию этой величины. Существует два основных варианта подсчёта в зависимости от входных условий:\n",
    "\n",
    "* Если мы предполагаем истинный процесс белым шумом. Например, если мы тестируем остатки некоторой модели на соответствие белому шуму:\n",
    "\n",
    "$$\n",
    "\\text{Var}(r_k) = \\frac{1}{n}\n",
    "$$\n",
    "\n",
    "* Для исходных данных обычно рассчитывают дисперсию по формуле Бартлетта. Она вычисляет дисперсию $r_k$ таким образом, словно истинный процесс это MA(k-1). Тогда если все автокорреляции исчезают после определённого лага, можно предположить, что процесс -- это MA(q), где q -- последний значимый лаг на графике.\n",
    "\n",
    "$$\n",
    "\\text{Var}(r_k) \\approx \\frac{1}{n} \\left( 1 + 2 \\sum_{j=1}^{k-1} \\left( 1 - \\frac{j}{k} \\right) r_j^2 \\right)\n",
    "$$"
   ]
  },
  {
   "cell_type": "code",
   "execution_count": 44,
   "metadata": {},
   "outputs": [
    {
     "data": {
      "image/png": "[encoded data removed]",
      "text/plain": [
       "<Figure size 640x480 with 1 Axes>"
      ]
     },
     "metadata": {},
     "output_type": "display_data"
    }
   ],
   "source": [
    "from statsmodels.stats.diagnostic import acorr_ljungbox\n",
    "from statsmodels.graphics.tsaplots import plot_acf\n",
    "plot_acf(prices.diff().dropna(),lags=50);"
   ]
  },
  {
   "cell_type": "markdown",
   "metadata": {},
   "source": [
    "### Тест Box-Pierce\n",
    "\n",
    "#### Описание:\n",
    "Тест Box-Pierce используется для проверки гипотезы о том, что выборочные автокорреляции на заданных лагах не отличаются от нуля. \n",
    "\n",
    "$$\n",
    "H_0: \\rho_1 = \\rho_2 = \\dots = \\rho_m = 0,\\\\\n",
    "H_1: \\exists \\rho_k \\neq 0,\n",
    "$$\n",
    "где $\\rho_k$ — истинные коэффициенты автокорреляции на лагах $k = 1, 2, \\dots, m$.\n",
    "\n",
    "\n",
    "#### Статистика теста:\n",
    "$$\n",
    "Q = T \\sum_{k=1}^m r_k^2,\n",
    "$$\n",
    "где:\n",
    "- $T$ — размер выборки,\n",
    "- $r_k$ — выборочный коэффициент автокорреляции на лаге $k$,\n",
    "- $m$ — максимальный лаг для анализа.\n",
    "\n",
    "Под нулевой гипотезой $Q \\sim \\chi^2(m)$, где $\\chi^2(m)$ — хи-квадрат распределение с $m$ степенями свободы.\n",
    "\n",
    "Результат может зависеть от параметра m. Обычно проверяют несколько различных $m$, они должны быть согласованы.\n"
   ]
  },
  {
   "cell_type": "markdown",
   "metadata": {},
   "source": [
    "### Тест Ljung-Box\n",
    "\n",
    "#### Описание:\n",
    "Тест Ljung-Box — модифицированная версия теста Box-Pierce, которая улучшает аппроксимацию распределения статистики теста для малых выборок.\n",
    "\n",
    "$$\n",
    "H_0: \\rho_1 = \\rho_2 = \\dots = \\rho_m = 0,\\\\\n",
    "H_1: \\exists \\rho_k \\neq 0.\n",
    "$$\n",
    "\n",
    "\n",
    "#### Статистика теста:\n",
    "$$\n",
    "Q^* = T(T+2) \\sum_{k=1}^m \\frac{r_k^2}{n-k},\n",
    "$$\n",
    "где:\n",
    "- $T$ — размер выборки,\n",
    "- $r_k$ — выборочный коэффициент автокорреляции на лаге $k$,\n",
    "- $m$ — максимальный лаг для анализа.\n",
    "\n",
    "Под нулевой гипотезой $Q^* \\sim \\chi^2(m)$."
   ]
  },
  {
   "cell_type": "code",
   "execution_count": 45,
   "metadata": {},
   "outputs": [
    {
     "name": "stdout",
     "output_type": "stream",
     "text": [
      "Тесты для доходностей:\n",
      "      lb_stat  lb_pvalue    bp_stat  bp_pvalue\n",
      "50  88.027856   0.000723  85.947299   0.001182\n"
     ]
    }
   ],
   "source": [
    "lb_bp_test = acorr_ljungbox(price_diff, lags=[50], boxpierce=True, return_df=True)\n",
    "\n",
    "print(\"Тесты для доходностей:\")\n",
    "print( lb_bp_test)"
   ]
  },
  {
   "cell_type": "code",
   "execution_count": 46,
   "metadata": {},
   "outputs": [
    {
     "data": {
      "application/vnd.plotly.v1+json": {
       "config": {
        "plotlyServerURL": "https://plot.ly"
       },
       "data": [
        {
         "line": {
          "color": "blue",
          "width": 2
         },
         "mode": "lines",
         "name": "",
         "type": "scatter",
         "x": {
          "bdata": "AAECAwQFBgcICQoLDA0ODxAREhMUFRYXGBkaGxwdHh8gISIjJCUmJygpKissLS4vMDEyMzQ1Njc4OTo7PD0+P0BBQkNERUZHSElKS0xNTk9QUVJTVFVWV1hZWltcXV5fYGFiYw==",
          "dtype": "i1"
         },
         "y": {
          "bdata": "j3FvdfVLJkCo59L3K94nQJo06d50BypADJozMO0HLUBkHjCi4WYuQB+3Ifr1kS9AFweRkkgvMUB5LDOYckIyQOMV7J5GtzJAIPgJviKRM0Ai9orI4+czQNwUZ0gQJTRA6lalSwOmNEDo9c873g40QGankVBgWjNAQHkL3u0OM0DFDxhxNH0yQK6423+efzJAcY78l5rwMUDRSI18zA4xQOQ9LstVgTFAH4ZQvXFEMUCRknf8FysxQL10kt6vVzBAlaGV6hauL0CwE9kyRUcvQCxONCeiry1AORdkDBd1LUAAK1KKY2EsQGAqCjtLjStAI2//8SJqKkCvFI1FL60rQPiFoo8PdytADH80KBA6KkDawZNCS7IqQAaEdbRaTilA8Hqv64AkKUAA7hUnquImQGzh9uXM7yRAajh6vwdWJED9wg4uZmQkQKKJ21UWFSRAkJNXlIOQI0Cmc7aJbuEiQLAuzgnbACFAbGd1/ydRH0AnKsEa+QIdQFK9cVrdth1AfM5HiwCDHUCOL4ZT+k4ZQNY9+wFqthhARH94annwFkDVqA8WTYsUQFA3qP8plhRA9kDy+FLOFUCnPBwTBEgXQATaobrzlhVAVgY7PD+oFEDBjGnkAe0UQPPXrv5ApBZA1AGnEp3SFUBN597NhWcVQCyM/4AjFRNAQLctG5MxEEDesCYn8/AQQBn/+IcNKBNApUWjsZwNE0D+2jOIKxIVQC5O7ZhJKhZAfKE5Q8dWFUAU2FuLRT8WQGA2Y/XDnhlAX9jIzJVeGkCUDOv/hjkeQPSpy/KsMxpA3SBTrF3/G0CcDp1Oq5ocQO/l6eRCbRxAHWOfEJrhHEChQQqn2C4ZQLYkG+L9RhhATO7d4yR+GECg9nAn0SAbQOk1TH/bVRpAburC2EzAGECh2uIwcXwXQMuSYZ+f5hhAQgIkGHSDGUD4f20kLIgYQG6/b2sacBlAYmUAbVW1GUC1QwT7zL8bQIQdDhF9yRpAToYWdNlGGkAdIqfhTYEZQDrbbpq9chZA5orboI5lFkCtgqzFMHIWQB5gWXfxHxZAz7TdUe1bFUA=",
          "dtype": "f8"
         }
        }
       ],
       "layout": {
        "showlegend": true,
        "template": {
         "data": {
          "bar": [
           {
            "error_x": {
             "color": "#2a3f5f"
            },
            "error_y": {
             "color": "#2a3f5f"
            },
            "marker": {
             "line": {
              "color": "white",
              "width": 0.5
             },
             "pattern": {
              "fillmode": "overlay",
              "size": 10,
              "solidity": 0.2
             }
            },
            "type": "bar"
           }
          ],
          "barpolar": [
           {
            "marker": {
             "line": {
              "color": "white",
              "width": 0.5
             },
             "pattern": {
              "fillmode": "overlay",
              "size": 10,
              "solidity": 0.2
             }
            },
            "type": "barpolar"
           }
          ],
          "carpet": [
           {
            "aaxis": {
             "endlinecolor": "#2a3f5f",
             "gridcolor": "#C8D4E3",
             "linecolor": "#C8D4E3",
             "minorgridcolor": "#C8D4E3",
             "startlinecolor": "#2a3f5f"
            },
            "baxis": {
             "endlinecolor": "#2a3f5f",
             "gridcolor": "#C8D4E3",
             "linecolor": "#C8D4E3",
             "minorgridcolor": "#C8D4E3",
             "startlinecolor": "#2a3f5f"
            },
            "type": "carpet"
           }
          ],
          "choropleth": [
           {
            "colorbar": {
             "outlinewidth": 0,
             "ticks": ""
            },
            "type": "choropleth"
           }
          ],
          "contour": [
           {
            "colorbar": {
             "outlinewidth": 0,
             "ticks": ""
            },
            "colorscale": [
             [
              0,
              "#0d0887"
             ],
             [
              0.1111111111111111,
              "#46039f"
             ],
             [
              0.2222222222222222,
              "#7201a8"
             ],
             [
              0.3333333333333333,
              "#9c179e"
             ],
             [
              0.4444444444444444,
              "#bd3786"
             ],
             [
              0.5555555555555556,
              "#d8576b"
             ],
             [
              0.6666666666666666,
              "#ed7953"
             ],
             [
              0.7777777777777778,
              "#fb9f3a"
             ],
             [
              0.8888888888888888,
              "#fdca26"
             ],
             [
              1,
              "#f0f921"
             ]
            ],
            "type": "contour"
           }
          ],
          "contourcarpet": [
           {
            "colorbar": {
             "outlinewidth": 0,
             "ticks": ""
            },
            "type": "contourcarpet"
           }
          ],
          "heatmap": [
           {
            "colorbar": {
             "outlinewidth": 0,
             "ticks": ""
            },
            "colorscale": [
             [
              0,
              "#0d0887"
             ],
             [
              0.1111111111111111,
              "#46039f"
             ],
             [
              0.2222222222222222,
              "#7201a8"
             ],
             [
              0.3333333333333333,
              "#9c179e"
             ],
             [
              0.4444444444444444,
              "#bd3786"
             ],
             [
              0.5555555555555556,
              "#d8576b"
             ],
             [
              0.6666666666666666,
              "#ed7953"
             ],
             [
              0.7777777777777778,
              "#fb9f3a"
             ],
             [
              0.8888888888888888,
              "#fdca26"
             ],
             [
              1,
              "#f0f921"
             ]
            ],
            "type": "heatmap"
           }
          ],
          "histogram": [
           {
            "marker": {
             "pattern": {
              "fillmode": "overlay",
              "size": 10,
              "solidity": 0.2
             }
            },
            "type": "histogram"
           }
          ],
          "histogram2d": [
           {
            "colorbar": {
             "outlinewidth": 0,
             "ticks": ""
            },
            "colorscale": [
             [
              0,
              "#0d0887"
             ],
             [
              0.1111111111111111,
              "#46039f"
             ],
             [
              0.2222222222222222,
              "#7201a8"
             ],
             [
              0.3333333333333333,
              "#9c179e"
             ],
             [
              0.4444444444444444,
              "#bd3786"
             ],
             [
              0.5555555555555556,
              "#d8576b"
             ],
             [
              0.6666666666666666,
              "#ed7953"
             ],
             [
              0.7777777777777778,
              "#fb9f3a"
             ],
             [
              0.8888888888888888,
              "#fdca26"
             ],
             [
              1,
              "#f0f921"
             ]
            ],
            "type": "histogram2d"
           }
          ],
          "histogram2dcontour": [
           {
            "colorbar": {
             "outlinewidth": 0,
             "ticks": ""
            },
            "colorscale": [
             [
              0,
              "#0d0887"
             ],
             [
              0.1111111111111111,
              "#46039f"
             ],
             [
              0.2222222222222222,
              "#7201a8"
             ],
             [
              0.3333333333333333,
              "#9c179e"
             ],
             [
              0.4444444444444444,
              "#bd3786"
             ],
             [
              0.5555555555555556,
              "#d8576b"
             ],
             [
              0.6666666666666666,
              "#ed7953"
             ],
             [
              0.7777777777777778,
              "#fb9f3a"
             ],
             [
              0.8888888888888888,
              "#fdca26"
             ],
             [
              1,
              "#f0f921"
             ]
            ],
            "type": "histogram2dcontour"
           }
          ],
          "mesh3d": [
           {
            "colorbar": {
             "outlinewidth": 0,
             "ticks": ""
            },
            "type": "mesh3d"
           }
          ],
          "parcoords": [
           {
            "line": {
             "colorbar": {
              "outlinewidth": 0,
              "ticks": ""
             }
            },
            "type": "parcoords"
           }
          ],
          "pie": [
           {
            "automargin": true,
            "type": "pie"
           }
          ],
          "scatter": [
           {
            "fillpattern": {
             "fillmode": "overlay",
             "size": 10,
             "solidity": 0.2
            },
            "type": "scatter"
           }
          ],
          "scatter3d": [
           {
            "line": {
             "colorbar": {
              "outlinewidth": 0,
              "ticks": ""
             }
            },
            "marker": {
             "colorbar": {
              "outlinewidth": 0,
              "ticks": ""
             }
            },
            "type": "scatter3d"
           }
          ],
          "scattercarpet": [
           {
            "marker": {
             "colorbar": {
              "outlinewidth": 0,
              "ticks": ""
             }
            },
            "type": "scattercarpet"
           }
          ],
          "scattergeo": [
           {
            "marker": {
             "colorbar": {
              "outlinewidth": 0,
              "ticks": ""
             }
            },
            "type": "scattergeo"
           }
          ],
          "scattergl": [
           {
            "marker": {
             "colorbar": {
              "outlinewidth": 0,
              "ticks": ""
             }
            },
            "type": "scattergl"
           }
          ],
          "scattermap": [
           {
            "marker": {
             "colorbar": {
              "outlinewidth": 0,
              "ticks": ""
             }
            },
            "type": "scattermap"
           }
          ],
          "scattermapbox": [
           {
            "marker": {
             "colorbar": {
              "outlinewidth": 0,
              "ticks": ""
             }
            },
            "type": "scattermapbox"
           }
          ],
          "scatterpolar": [
           {
            "marker": {
             "colorbar": {
              "outlinewidth": 0,
              "ticks": ""
             }
            },
            "type": "scatterpolar"
           }
          ],
          "scatterpolargl": [
           {
            "marker": {
             "colorbar": {
              "outlinewidth": 0,
              "ticks": ""
             }
            },
            "type": "scatterpolargl"
           }
          ],
          "scatterternary": [
           {
            "marker": {
             "colorbar": {
              "outlinewidth": 0,
              "ticks": ""
             }
            },
            "type": "scatterternary"
           }
          ],
          "surface": [
           {
            "colorbar": {
             "outlinewidth": 0,
             "ticks": ""
            },
            "colorscale": [
             [
              0,
              "#0d0887"
             ],
             [
              0.1111111111111111,
              "#46039f"
             ],
             [
              0.2222222222222222,
              "#7201a8"
             ],
             [
              0.3333333333333333,
              "#9c179e"
             ],
             [
              0.4444444444444444,
              "#bd3786"
             ],
             [
              0.5555555555555556,
              "#d8576b"
             ],
             [
              0.6666666666666666,
              "#ed7953"
             ],
             [
              0.7777777777777778,
              "#fb9f3a"
             ],
             [
              0.8888888888888888,
              "#fdca26"
             ],
             [
              1,
              "#f0f921"
             ]
            ],
            "type": "surface"
           }
          ],
          "table": [
           {
            "cells": {
             "fill": {
              "color": "#EBF0F8"
             },
             "line": {
              "color": "white"
             }
            },
            "header": {
             "fill": {
              "color": "#C8D4E3"
             },
             "line": {
              "color": "white"
             }
            },
            "type": "table"
           }
          ]
         },
         "layout": {
          "annotationdefaults": {
           "arrowcolor": "#2a3f5f",
           "arrowhead": 0,
           "arrowwidth": 1
          },
          "autotypenumbers": "strict",
          "coloraxis": {
           "colorbar": {
            "outlinewidth": 0,
            "ticks": ""
           }
          },
          "colorscale": {
           "diverging": [
            [
             0,
             "#8e0152"
            ],
            [
             0.1,
             "#c51b7d"
            ],
            [
             0.2,
             "#de77ae"
            ],
            [
             0.3,
             "#f1b6da"
            ],
            [
             0.4,
             "#fde0ef"
            ],
            [
             0.5,
             "#f7f7f7"
            ],
            [
             0.6,
             "#e6f5d0"
            ],
            [
             0.7,
             "#b8e186"
            ],
            [
             0.8,
             "#7fbc41"
            ],
            [
             0.9,
             "#4d9221"
            ],
            [
             1,
             "#276419"
            ]
           ],
           "sequential": [
            [
             0,
             "#0d0887"
            ],
            [
             0.1111111111111111,
             "#46039f"
            ],
            [
             0.2222222222222222,
             "#7201a8"
            ],
            [
             0.3333333333333333,
             "#9c179e"
            ],
            [
             0.4444444444444444,
             "#bd3786"
            ],
            [
             0.5555555555555556,
             "#d8576b"
            ],
            [
             0.6666666666666666,
             "#ed7953"
            ],
            [
             0.7777777777777778,
             "#fb9f3a"
            ],
            [
             0.8888888888888888,
             "#fdca26"
            ],
            [
             1,
             "#f0f921"
            ]
           ],
           "sequentialminus": [
            [
             0,
             "#0d0887"
            ],
            [
             0.1111111111111111,
             "#46039f"
            ],
            [
             0.2222222222222222,
             "#7201a8"
            ],
            [
             0.3333333333333333,
             "#9c179e"
            ],
            [
             0.4444444444444444,
             "#bd3786"
            ],
            [
             0.5555555555555556,
             "#d8576b"
            ],
            [
             0.6666666666666666,
             "#ed7953"
            ],
            [
             0.7777777777777778,
             "#fb9f3a"
            ],
            [
             0.8888888888888888,
             "#fdca26"
            ],
            [
             1,
             "#f0f921"
            ]
           ]
          },
          "colorway": [
           "#636efa",
           "#EF553B",
           "#00cc96",
           "#ab63fa",
           "#FFA15A",
           "#19d3f3",
           "#FF6692",
           "#B6E880",
           "#FF97FF",
           "#FECB52"
          ],
          "font": {
           "color": "#2a3f5f"
          },
          "geo": {
           "bgcolor": "white",
           "lakecolor": "white",
           "landcolor": "white",
           "showlakes": true,
           "showland": true,
           "subunitcolor": "#C8D4E3"
          },
          "hoverlabel": {
           "align": "left"
          },
          "hovermode": "closest",
          "mapbox": {
           "style": "light"
          },
          "paper_bgcolor": "white",
          "plot_bgcolor": "white",
          "polar": {
           "angularaxis": {
            "gridcolor": "#EBF0F8",
            "linecolor": "#EBF0F8",
            "ticks": ""
           },
           "bgcolor": "white",
           "radialaxis": {
            "gridcolor": "#EBF0F8",
            "linecolor": "#EBF0F8",
            "ticks": ""
           }
          },
          "scene": {
           "xaxis": {
            "backgroundcolor": "white",
            "gridcolor": "#DFE8F3",
            "gridwidth": 2,
            "linecolor": "#EBF0F8",
            "showbackground": true,
            "ticks": "",
            "zerolinecolor": "#EBF0F8"
           },
           "yaxis": {
            "backgroundcolor": "white",
            "gridcolor": "#DFE8F3",
            "gridwidth": 2,
            "linecolor": "#EBF0F8",
            "showbackground": true,
            "ticks": "",
            "zerolinecolor": "#EBF0F8"
           },
           "zaxis": {
            "backgroundcolor": "white",
            "gridcolor": "#DFE8F3",
            "gridwidth": 2,
            "linecolor": "#EBF0F8",
            "showbackground": true,
            "ticks": "",
            "zerolinecolor": "#EBF0F8"
           }
          },
          "shapedefaults": {
           "line": {
            "color": "#2a3f5f"
           }
          },
          "ternary": {
           "aaxis": {
            "gridcolor": "#DFE8F3",
            "linecolor": "#A2B1C6",
            "ticks": ""
           },
           "baxis": {
            "gridcolor": "#DFE8F3",
            "linecolor": "#A2B1C6",
            "ticks": ""
           },
           "bgcolor": "white",
           "caxis": {
            "gridcolor": "#DFE8F3",
            "linecolor": "#A2B1C6",
            "ticks": ""
           }
          },
          "title": {
           "x": 0.05
          },
          "xaxis": {
           "automargin": true,
           "gridcolor": "#EBF0F8",
           "linecolor": "#EBF0F8",
           "ticks": "",
           "title": {
            "standoff": 15
           },
           "zerolinecolor": "#EBF0F8",
           "zerolinewidth": 2
          },
          "yaxis": {
           "automargin": true,
           "gridcolor": "#EBF0F8",
           "linecolor": "#EBF0F8",
           "ticks": "",
           "title": {
            "standoff": 15
           },
           "zerolinecolor": "#EBF0F8",
           "zerolinewidth": 2
          }
         }
        },
        "title": {
         "text": "Сгенерированные данные ETS(A, Ad, N)"
        },
        "xaxis": {
         "title": {
          "text": "Время (t)"
         }
        },
        "yaxis": {
         "title": {
          "text": "Значение"
         }
        }
       }
      }
     },
     "metadata": {},
     "output_type": "display_data"
    }
   ],
   "source": [
    "import numpy as np\n",
    "import pandas as pd\n",
    "import statsmodels.api as sm\n",
    "import matplotlib.pyplot as plt\n",
    "\n",
    "# Генерация данных вручную для модели ETS(A, Ad, N)\n",
    "np.random.seed(42)\n",
    "n = 100\n",
    "\n",
    "# Параметры модели\n",
    "alpha = 0.5  # Параметр сглаживания уровня\n",
    "beta = 0.2   # Параметр сглаживания тренда\n",
    "phi = 0.9    # Коэффициент затухания тренда\n",
    "sigma = 0.5  # Стандартное отклонение ошибки\n",
    "\n",
    "# Инициализация переменных\n",
    "level = [10]  # Начальный уровень\n",
    "trend = [1]   # Начальный тренд\n",
    "data = []     # Сгенерированные данные\n",
    "\n",
    "# Генерация данных\n",
    "for t in range(n):\n",
    "    # Генерация ошибки\n",
    "    error_t = np.random.normal(0, sigma)\n",
    "    \n",
    "    # Обновление уровня и тренда\n",
    "    level_t = level[-1] + phi * trend[-1] + error_t\n",
    "    trend_t = phi * trend[-1] + beta * error_t\n",
    "    \n",
    "    # Сохранение значений\n",
    "    level.append(level_t)\n",
    "    trend.append(trend_t)\n",
    "    data.append(level_t)\n",
    "\n",
    "# Преобразуем данные в Pandas Series\n",
    "simulated_data = pd.Series(data)\n",
    "# Визуализация сгенерированных данных с использованием Plotly\n",
    "fig = go.Figure()\n",
    "\n",
    "fig.add_trace(go.Scatter(\n",
    "    x=simulated_data.index,\n",
    "    y=simulated_data,\n",
    "    mode='lines',\n",
    "    name='',\n",
    "    line=dict(color='blue', width=2)\n",
    "))\n",
    "\n",
    "# Настройка макета графика\n",
    "fig.update_layout(\n",
    "    title=\"Сгенерированные данные ETS(A, Ad, N)\",\n",
    "    xaxis_title=\"Время (t)\",\n",
    "    yaxis_title=\"Значение\",\n",
    "    template=\"plotly_white\",\n",
    "    showlegend=True\n",
    ")\n",
    "\n",
    "# Отображение графика\n",
    "fig.show()"
   ]
  },
  {
   "cell_type": "code",
   "execution_count": 47,
   "metadata": {},
   "outputs": [
    {
     "data": {
      "image/png": "[encoded data removed]",
      "text/plain": [
       "<Figure size 640x480 with 1 Axes>"
      ]
     },
     "metadata": {},
     "output_type": "display_data"
    }
   ],
   "source": [
    "plot_acf(simulated_data.diff().dropna());"
   ]
  },
  {
   "cell_type": "code",
   "execution_count": 48,
   "metadata": {},
   "outputs": [
    {
     "name": "stdout",
     "output_type": "stream",
     "text": [
      "Тесты для исходных данных:\n",
      "     lb_stat     lb_pvalue    bp_stat     bp_pvalue\n",
      "4  42.841011  1.116447e-08  41.090975  2.573739e-08\n"
     ]
    }
   ],
   "source": [
    "# Тесты Ljung-Box и Box-Pierce для исходных данных\n",
    "bp_test_original = acorr_ljungbox(simulated_data.diff().dropna(), lags=[4], boxpierce=True, return_df=True)\n",
    "\n",
    "print(\"Тесты для исходных данных:\")\n",
    "print(bp_test_original)\n"
   ]
  },
  {
   "cell_type": "code",
   "execution_count": 49,
   "metadata": {},
   "outputs": [
    {
     "name": "stdout",
     "output_type": "stream",
     "text": [
      "\n",
      "Тесты для остатков корректной модели ETS:\n",
      "     lb_stat  lb_pvalue   bp_stat  bp_pvalue\n",
      "10  7.032805   0.722344  6.489147   0.772631\n",
      "\n",
      "Тесты для остатков ошибочной модели ETS:\n",
      "      lb_stat     lb_pvalue    bp_stat     bp_pvalue\n",
      "10  63.736643  7.065918e-10  60.500566  2.913741e-09\n"
     ]
    }
   ],
   "source": [
    "# Оцениваем корректную модель ETS\n",
    "correct_ets = sm.tsa.ExponentialSmoothing(\n",
    "    simulated_data,\n",
    "    trend=\"add\",\n",
    "    damped_trend=True,\n",
    "    seasonal=None\n",
    ").fit()\n",
    "\n",
    "# Оцениваем ошибочную модель ETS (например, без тренда)\n",
    "incorrect_ets = sm.tsa.ExponentialSmoothing(\n",
    "    simulated_data,\n",
    "    trend=None,  # Нет тренда\n",
    "    seasonal=None\n",
    ").fit()\n",
    "\n",
    "# Получаем остатки обеих моделей\n",
    "correct_residuals = correct_ets.resid\n",
    "incorrect_residuals = incorrect_ets.resid\n",
    "\n",
    "# Тесты Ljung-Box и Box-Pierce для остатков корректной модели\n",
    "lb_bp_test_correct = acorr_ljungbox(correct_residuals, lags=[10], boxpierce=True, return_df=True)\n",
    "\n",
    "print(\"\\nТесты для остатков корректной модели ETS:\")\n",
    "print(lb_bp_test_correct)\n",
    "\n",
    "# Тесты Ljung-Box и Box-Pierce для остатков ошибочной модели\n",
    "lb_bp_test_incorrect = acorr_ljungbox(incorrect_residuals, lags=[10], boxpierce=True, return_df=True)\n",
    "\n",
    "print(\"\\nТесты для остатков ошибочной модели ETS:\")\n",
    "print(lb_bp_test_incorrect)"
   ]
  },
  {
   "cell_type": "code",
   "execution_count": 52,
   "metadata": {},
   "outputs": [
    {
     "data": {
      "application/vnd.plotly.v1+json": {
       "config": {
        "plotlyServerURL": "https://plot.ly"
       },
       "data": [
        {
         "line": {
          "color": "blue",
          "width": 2
         },
         "mode": "lines",
         "name": "",
         "type": "scatter",
         "x": {
          "bdata": "AAECAwQFBgcICQoLDA0ODxAREhMUFRYXGBkaGxwdHh8gISIjJCUmJygpKissLS4vMDEyMzQ1Njc4OTo7PD0+P0BBQkNERUZHSElKS0xNTk9QUVJTVFVWV1hZWltcXV5fYGFiYw==",
          "dtype": "i1"
         },
         "y": {
          "bdata": "AJTBFd04gT/ASSrJK8DZv4D4ezRxc7Y/IDd3mACR4z9AQPbTd6TJv4Bb6rTnHce/gKpyTtIK6D/A+vt2fa3YP4BoTOIb/sy/wOHj3jiH0T8AD/b8VTnLvwAgWJVobMy/ACspsubcwD9AVM9I4wLuv6Cj2eqT2+u/gOwZTcLE0r+ALRoY3k/gv4AqDLmwnMI/AI/1vHf73L+gwATw+AvnvyCyZS2gseY/AAP/9i65ur8AME7YBsmZP0BAeWCf+Oa/4FIW58zx0r8AgxFiTvCjP3D84ENXt+K/gLnZaILixD/AO7SnWsDTvwCT4QbqF8W/oPNYgh1L1L/w/Do4tfzsPwCwNabF+mg/AMFEQBQq4b/A53ylignZPyD2axjwe+O/gNswLlxStT/QnhKmoozvv2DP/0cVSea/gDsYdzqYsT/gn0opUsDWP4BThg/HdLQ/ADopru9nsb/ACMZ+s97Ev3B6nfjPHOi/AL1OLhfn2L9wJYa1hjjQv/CmbXR4POA/AINfN6GpxT/gG4CYIXTsv2BRMjTXlMA/oAvLgIz2yb9ghgClRsXWv7BGpVw4NNI/QO8T5kNM4D+wKy7iPuvdP3APCsEWkdq/wJAm+Uuexb8A8UdwpwXEP1C2zO6MI98/IG9dpCmVzb+Ab6WXdXa5v4i+2W7p0+G/CKlTyAyl478Af2scP7jYP0j+crc8xOU/AHOsbD4Hmb9Aw/4GavbfP4A6MhC5msg/IExYLE831L9AgTNJqYXGPwBwnVqSz+g/AAibQauKcj9AKXVwHELpPxDAagxShvS/YIoWDgru2D8AFhxQSIGtPyDvnr4RPsK/gJQPAv5fqD+4yG0hV6Hvv8AxmwhnxcC/4GGimwUzxj8wCkXof6/nPwBo0UdTGs+/0BhpmxIw2r9QYErRerXQvwCrdP1Qvtw/oOgg0WIOxj9ghH6e1b7Qv6BmsWMA/88/gCNMxXN6qz9Aq8mGOxjfP5B+AThXo9W/YG9/6Ymlxb9A0+3W523Jv7iMLB5Ejue/4INS6LJ9wD8Ahl8OnofAPwCQLAOMUVk/AFkH0sLwvr8=",
          "dtype": "f8"
         }
        }
       ],
       "layout": {
        "showlegend": true,
        "template": {
         "data": {
          "bar": [
           {
            "error_x": {
             "color": "#2a3f5f"
            },
            "error_y": {
             "color": "#2a3f5f"
            },
            "marker": {
             "line": {
              "color": "white",
              "width": 0.5
             },
             "pattern": {
              "fillmode": "overlay",
              "size": 10,
              "solidity": 0.2
             }
            },
            "type": "bar"
           }
          ],
          "barpolar": [
           {
            "marker": {
             "line": {
              "color": "white",
              "width": 0.5
             },
             "pattern": {
              "fillmode": "overlay",
              "size": 10,
              "solidity": 0.2
             }
            },
            "type": "barpolar"
           }
          ],
          "carpet": [
           {
            "aaxis": {
             "endlinecolor": "#2a3f5f",
             "gridcolor": "#C8D4E3",
             "linecolor": "#C8D4E3",
             "minorgridcolor": "#C8D4E3",
             "startlinecolor": "#2a3f5f"
            },
            "baxis": {
             "endlinecolor": "#2a3f5f",
             "gridcolor": "#C8D4E3",
             "linecolor": "#C8D4E3",
             "minorgridcolor": "#C8D4E3",
             "startlinecolor": "#2a3f5f"
            },
            "type": "carpet"
           }
          ],
          "choropleth": [
           {
            "colorbar": {
             "outlinewidth": 0,
             "ticks": ""
            },
            "type": "choropleth"
           }
          ],
          "contour": [
           {
            "colorbar": {
             "outlinewidth": 0,
             "ticks": ""
            },
            "colorscale": [
             [
              0,
              "#0d0887"
             ],
             [
              0.1111111111111111,
              "#46039f"
             ],
             [
              0.2222222222222222,
              "#7201a8"
             ],
             [
              0.3333333333333333,
              "#9c179e"
             ],
             [
              0.4444444444444444,
              "#bd3786"
             ],
             [
              0.5555555555555556,
              "#d8576b"
             ],
             [
              0.6666666666666666,
              "#ed7953"
             ],
             [
              0.7777777777777778,
              "#fb9f3a"
             ],
             [
              0.8888888888888888,
              "#fdca26"
             ],
             [
              1,
              "#f0f921"
             ]
            ],
            "type": "contour"
           }
          ],
          "contourcarpet": [
           {
            "colorbar": {
             "outlinewidth": 0,
             "ticks": ""
            },
            "type": "contourcarpet"
           }
          ],
          "heatmap": [
           {
            "colorbar": {
             "outlinewidth": 0,
             "ticks": ""
            },
            "colorscale": [
             [
              0,
              "#0d0887"
             ],
             [
              0.1111111111111111,
              "#46039f"
             ],
             [
              0.2222222222222222,
              "#7201a8"
             ],
             [
              0.3333333333333333,
              "#9c179e"
             ],
             [
              0.4444444444444444,
              "#bd3786"
             ],
             [
              0.5555555555555556,
              "#d8576b"
             ],
             [
              0.6666666666666666,
              "#ed7953"
             ],
             [
              0.7777777777777778,
              "#fb9f3a"
             ],
             [
              0.8888888888888888,
              "#fdca26"
             ],
             [
              1,
              "#f0f921"
             ]
            ],
            "type": "heatmap"
           }
          ],
          "histogram": [
           {
            "marker": {
             "pattern": {
              "fillmode": "overlay",
              "size": 10,
              "solidity": 0.2
             }
            },
            "type": "histogram"
           }
          ],
          "histogram2d": [
           {
            "colorbar": {
             "outlinewidth": 0,
             "ticks": ""
            },
            "colorscale": [
             [
              0,
              "#0d0887"
             ],
             [
              0.1111111111111111,
              "#46039f"
             ],
             [
              0.2222222222222222,
              "#7201a8"
             ],
             [
              0.3333333333333333,
              "#9c179e"
             ],
             [
              0.4444444444444444,
              "#bd3786"
             ],
             [
              0.5555555555555556,
              "#d8576b"
             ],
             [
              0.6666666666666666,
              "#ed7953"
             ],
             [
              0.7777777777777778,
              "#fb9f3a"
             ],
             [
              0.8888888888888888,
              "#fdca26"
             ],
             [
              1,
              "#f0f921"
             ]
            ],
            "type": "histogram2d"
           }
          ],
          "histogram2dcontour": [
           {
            "colorbar": {
             "outlinewidth": 0,
             "ticks": ""
            },
            "colorscale": [
             [
              0,
              "#0d0887"
             ],
             [
              0.1111111111111111,
              "#46039f"
             ],
             [
              0.2222222222222222,
              "#7201a8"
             ],
             [
              0.3333333333333333,
              "#9c179e"
             ],
             [
              0.4444444444444444,
              "#bd3786"
             ],
             [
              0.5555555555555556,
              "#d8576b"
             ],
             [
              0.6666666666666666,
              "#ed7953"
             ],
             [
              0.7777777777777778,
              "#fb9f3a"
             ],
             [
              0.8888888888888888,
              "#fdca26"
             ],
             [
              1,
              "#f0f921"
             ]
            ],
            "type": "histogram2dcontour"
           }
          ],
          "mesh3d": [
           {
            "colorbar": {
             "outlinewidth": 0,
             "ticks": ""
            },
            "type": "mesh3d"
           }
          ],
          "parcoords": [
           {
            "line": {
             "colorbar": {
              "outlinewidth": 0,
              "ticks": ""
             }
            },
            "type": "parcoords"
           }
          ],
          "pie": [
           {
            "automargin": true,
            "type": "pie"
           }
          ],
          "scatter": [
           {
            "fillpattern": {
             "fillmode": "overlay",
             "size": 10,
             "solidity": 0.2
            },
            "type": "scatter"
           }
          ],
          "scatter3d": [
           {
            "line": {
             "colorbar": {
              "outlinewidth": 0,
              "ticks": ""
             }
            },
            "marker": {
             "colorbar": {
              "outlinewidth": 0,
              "ticks": ""
             }
            },
            "type": "scatter3d"
           }
          ],
          "scattercarpet": [
           {
            "marker": {
             "colorbar": {
              "outlinewidth": 0,
              "ticks": ""
             }
            },
            "type": "scattercarpet"
           }
          ],
          "scattergeo": [
           {
            "marker": {
             "colorbar": {
              "outlinewidth": 0,
              "ticks": ""
             }
            },
            "type": "scattergeo"
           }
          ],
          "scattergl": [
           {
            "marker": {
             "colorbar": {
              "outlinewidth": 0,
              "ticks": ""
             }
            },
            "type": "scattergl"
           }
          ],
          "scattermap": [
           {
            "marker": {
             "colorbar": {
              "outlinewidth": 0,
              "ticks": ""
             }
            },
            "type": "scattermap"
           }
          ],
          "scattermapbox": [
           {
            "marker": {
             "colorbar": {
              "outlinewidth": 0,
              "ticks": ""
             }
            },
            "type": "scattermapbox"
           }
          ],
          "scatterpolar": [
           {
            "marker": {
             "colorbar": {
              "outlinewidth": 0,
              "ticks": ""
             }
            },
            "type": "scatterpolar"
           }
          ],
          "scatterpolargl": [
           {
            "marker": {
             "colorbar": {
              "outlinewidth": 0,
              "ticks": ""
             }
            },
            "type": "scatterpolargl"
           }
          ],
          "scatterternary": [
           {
            "marker": {
             "colorbar": {
              "outlinewidth": 0,
              "ticks": ""
             }
            },
            "type": "scatterternary"
           }
          ],
          "surface": [
           {
            "colorbar": {
             "outlinewidth": 0,
             "ticks": ""
            },
            "colorscale": [
             [
              0,
              "#0d0887"
             ],
             [
              0.1111111111111111,
              "#46039f"
             ],
             [
              0.2222222222222222,
              "#7201a8"
             ],
             [
              0.3333333333333333,
              "#9c179e"
             ],
             [
              0.4444444444444444,
              "#bd3786"
             ],
             [
              0.5555555555555556,
              "#d8576b"
             ],
             [
              0.6666666666666666,
              "#ed7953"
             ],
             [
              0.7777777777777778,
              "#fb9f3a"
             ],
             [
              0.8888888888888888,
              "#fdca26"
             ],
             [
              1,
              "#f0f921"
             ]
            ],
            "type": "surface"
           }
          ],
          "table": [
           {
            "cells": {
             "fill": {
              "color": "#EBF0F8"
             },
             "line": {
              "color": "white"
             }
            },
            "header": {
             "fill": {
              "color": "#C8D4E3"
             },
             "line": {
              "color": "white"
             }
            },
            "type": "table"
           }
          ]
         },
         "layout": {
          "annotationdefaults": {
           "arrowcolor": "#2a3f5f",
           "arrowhead": 0,
           "arrowwidth": 1
          },
          "autotypenumbers": "strict",
          "coloraxis": {
           "colorbar": {
            "outlinewidth": 0,
            "ticks": ""
           }
          },
          "colorscale": {
           "diverging": [
            [
             0,
             "#8e0152"
            ],
            [
             0.1,
             "#c51b7d"
            ],
            [
             0.2,
             "#de77ae"
            ],
            [
             0.3,
             "#f1b6da"
            ],
            [
             0.4,
             "#fde0ef"
            ],
            [
             0.5,
             "#f7f7f7"
            ],
            [
             0.6,
             "#e6f5d0"
            ],
            [
             0.7,
             "#b8e186"
            ],
            [
             0.8,
             "#7fbc41"
            ],
            [
             0.9,
             "#4d9221"
            ],
            [
             1,
             "#276419"
            ]
           ],
           "sequential": [
            [
             0,
             "#0d0887"
            ],
            [
             0.1111111111111111,
             "#46039f"
            ],
            [
             0.2222222222222222,
             "#7201a8"
            ],
            [
             0.3333333333333333,
             "#9c179e"
            ],
            [
             0.4444444444444444,
             "#bd3786"
            ],
            [
             0.5555555555555556,
             "#d8576b"
            ],
            [
             0.6666666666666666,
             "#ed7953"
            ],
            [
             0.7777777777777778,
             "#fb9f3a"
            ],
            [
             0.8888888888888888,
             "#fdca26"
            ],
            [
             1,
             "#f0f921"
            ]
           ],
           "sequentialminus": [
            [
             0,
             "#0d0887"
            ],
            [
             0.1111111111111111,
             "#46039f"
            ],
            [
             0.2222222222222222,
             "#7201a8"
            ],
            [
             0.3333333333333333,
             "#9c179e"
            ],
            [
             0.4444444444444444,
             "#bd3786"
            ],
            [
             0.5555555555555556,
             "#d8576b"
            ],
            [
             0.6666666666666666,
             "#ed7953"
            ],
            [
             0.7777777777777778,
             "#fb9f3a"
            ],
            [
             0.8888888888888888,
             "#fdca26"
            ],
            [
             1,
             "#f0f921"
            ]
           ]
          },
          "colorway": [
           "#636efa",
           "#EF553B",
           "#00cc96",
           "#ab63fa",
           "#FFA15A",
           "#19d3f3",
           "#FF6692",
           "#B6E880",
           "#FF97FF",
           "#FECB52"
          ],
          "font": {
           "color": "#2a3f5f"
          },
          "geo": {
           "bgcolor": "white",
           "lakecolor": "white",
           "landcolor": "white",
           "showlakes": true,
           "showland": true,
           "subunitcolor": "#C8D4E3"
          },
          "hoverlabel": {
           "align": "left"
          },
          "hovermode": "closest",
          "mapbox": {
           "style": "light"
          },
          "paper_bgcolor": "white",
          "plot_bgcolor": "white",
          "polar": {
           "angularaxis": {
            "gridcolor": "#EBF0F8",
            "linecolor": "#EBF0F8",
            "ticks": ""
           },
           "bgcolor": "white",
           "radialaxis": {
            "gridcolor": "#EBF0F8",
            "linecolor": "#EBF0F8",
            "ticks": ""
           }
          },
          "scene": {
           "xaxis": {
            "backgroundcolor": "white",
            "gridcolor": "#DFE8F3",
            "gridwidth": 2,
            "linecolor": "#EBF0F8",
            "showbackground": true,
            "ticks": "",
            "zerolinecolor": "#EBF0F8"
           },
           "yaxis": {
            "backgroundcolor": "white",
            "gridcolor": "#DFE8F3",
            "gridwidth": 2,
            "linecolor": "#EBF0F8",
            "showbackground": true,
            "ticks": "",
            "zerolinecolor": "#EBF0F8"
           },
           "zaxis": {
            "backgroundcolor": "white",
            "gridcolor": "#DFE8F3",
            "gridwidth": 2,
            "linecolor": "#EBF0F8",
            "showbackground": true,
            "ticks": "",
            "zerolinecolor": "#EBF0F8"
           }
          },
          "shapedefaults": {
           "line": {
            "color": "#2a3f5f"
           }
          },
          "ternary": {
           "aaxis": {
            "gridcolor": "#DFE8F3",
            "linecolor": "#A2B1C6",
            "ticks": ""
           },
           "baxis": {
            "gridcolor": "#DFE8F3",
            "linecolor": "#A2B1C6",
            "ticks": ""
           },
           "bgcolor": "white",
           "caxis": {
            "gridcolor": "#DFE8F3",
            "linecolor": "#A2B1C6",
            "ticks": ""
           }
          },
          "title": {
           "x": 0.05
          },
          "xaxis": {
           "automargin": true,
           "gridcolor": "#EBF0F8",
           "linecolor": "#EBF0F8",
           "ticks": "",
           "title": {
            "standoff": 15
           },
           "zerolinecolor": "#EBF0F8",
           "zerolinewidth": 2
          },
          "yaxis": {
           "automargin": true,
           "gridcolor": "#EBF0F8",
           "linecolor": "#EBF0F8",
           "ticks": "",
           "title": {
            "standoff": 15
           },
           "zerolinecolor": "#EBF0F8",
           "zerolinewidth": 2
          }
         }
        },
        "title": {
         "text": "Сгенерированные данные ETS(A, Ad, N)"
        },
        "xaxis": {
         "title": {
          "text": "Время (t)"
         }
        },
        "yaxis": {
         "title": {
          "text": "Значение"
         }
        }
       }
      }
     },
     "metadata": {},
     "output_type": "display_data"
    }
   ],
   "source": [
    "fig = go.Figure()\n",
    "\n",
    "fig.add_trace(go.Scatter(\n",
    "    x=simulated_data.index,\n",
    "    y=correct_residuals,\n",
    "    mode='lines',\n",
    "    name='',\n",
    "    line=dict(color='blue', width=2)\n",
    "))\n",
    "\n",
    "# Настройка макета графика\n",
    "fig.update_layout(\n",
    "    title=\"Сгенерированные данные ETS(A, Ad, N)\",\n",
    "    xaxis_title=\"Время (t)\",\n",
    "    yaxis_title=\"Значение\",\n",
    "    template=\"plotly_white\",\n",
    "    showlegend=True\n",
    ")\n",
    "\n",
    "# Отображение графика\n",
    "fig.show()\n"
   ]
  },
  {
   "cell_type": "code",
   "execution_count": 54,
   "metadata": {},
   "outputs": [
    {
     "data": {
      "image/png": "[encoded data removed]",
      "text/plain": [
       "<Figure size 640x480 with 1 Axes>"
      ]
     },
     "execution_count": 54,
     "metadata": {},
     "output_type": "execute_result"
    },
    {
     "data": {
      "image/png": "[encoded data removed]",
      "text/plain": [
       "<Figure size 640x480 with 1 Axes>"
      ]
     },
     "metadata": {},
     "output_type": "display_data"
    }
   ],
   "source": [
    "plot_acf(incorrect_residuals)"
   ]
  },
  {
   "cell_type": "code",
   "execution_count": 53,
   "metadata": {},
   "outputs": [
    {
     "data": {
      "application/vnd.plotly.v1+json": {
       "config": {
        "plotlyServerURL": "https://plot.ly"
       },
       "data": [
        {
         "line": {
          "color": "blue",
          "width": 2
         },
         "mode": "lines",
         "name": "",
         "type": "scatter",
         "x": {
          "bdata": "AAECAwQFBgcICQoLDA0ODxAREhMUFRYXGBkaGxwdHh8gISIjJCUmJygpKissLS4vMDEyMzQ1Njc4OTo7PD0+P0BBQkNERUZHSElKS0xNTk9QUVJTVFVWV1hZWltcXV5fYGFiYw==",
          "dtype": "i1"
         },
         "y": {
          "bdata": "AIDcivnnOD/QKDgmaCPpPxje1jtHSvE/cMqljsID+D8gS8orR+/lPxBulYRFseI/OOhYWtlk9j9gnbtfoDLxPwAvbb8BNd0/4PJi54M76z+Aa92tQrDVP4Cf5/g/ls4/gKuxaWAe4D8AfKT2oeTivwAHg2y9j+a/QIrTrJzc0r8gysigLTfivwD40Pl0UIM/4PbR+3zg4b/A4GBywznsv0A4IJpTotw/gI2K4AZyzr8AvyzowFm5vwCLbr0Dbeq/MNOPL40U4L8ANzj/bbTJvwCk57sweum/AHUQm41Fvb/A8ggiODvhvyDKnfEJg9q/IB/8k4Qy4r/gqU00xTDkPwBX5czaD7u/IPC4d/bP478AgQCExg7OPzDrAuAIP+a/ACODj+TstL8QHCAltg7yv7A/+BrULe+/gDks36Q4078AqjHc3LycP0Bt6Av208O/gEj5MliS0L/gn0hYoeLVv+CrQAE4Ce6/UBS6qHCE5b+YFgMrd3Hiv2C2oOOHfMY/AJ96fmfuqb8kWTrfGNDwv4DO/lIKEsO/oDGOeglf3L9gn9KmYinjvwAsg/7RuYU/gA7MlI+C0z/AbYCnEZvXP/BTv4EFEdu/gCFj2o/Wzb/AJbb8qTCxPwDBZ6Xxc9s/gKFAc300yr9ACCE/0cW6vyAK0WcSk+K/CHozM4Mc57+gagJoAezHP3g2EQjTuOE/AC/xx9Vwmr+AyE+0diTgP8CGqRPhgdE/QIu0rUpwyr9grKr9yA/NP3D0C1Lz++o/4ISwBzv6xz/oSZGaidfuP6SNojBoF/C/sNVfiAu73D8gaZtXtGnDP4BnKsY0tKa/QLyI6soVvT/IWsBLC5btv0ACertY+8y/gBppxICTqz/wkQYdYhXlPwB1gu+0Xsm/4JfAa+pY2b+gSleEuj3Uv7AE3OLmotY/oISfI4+awz+glulx/mjPv2CXbdjI/cw/QI2ocsBOsT9AaqlwvFPgP2DYcC79yc6/QH2lpnNUwL9grwFScrHIv/BSTTuCdOi/AGrtrfRdir8A/FebSUSJPwB//pPTj7S/IGwHsoSAyL8=",
          "dtype": "f8"
         }
        }
       ],
       "layout": {
        "showlegend": true,
        "template": {
         "data": {
          "bar": [
           {
            "error_x": {
             "color": "#2a3f5f"
            },
            "error_y": {
             "color": "#2a3f5f"
            },
            "marker": {
             "line": {
              "color": "white",
              "width": 0.5
             },
             "pattern": {
              "fillmode": "overlay",
              "size": 10,
              "solidity": 0.2
             }
            },
            "type": "bar"
           }
          ],
          "barpolar": [
           {
            "marker": {
             "line": {
              "color": "white",
              "width": 0.5
             },
             "pattern": {
              "fillmode": "overlay",
              "size": 10,
              "solidity": 0.2
             }
            },
            "type": "barpolar"
           }
          ],
          "carpet": [
           {
            "aaxis": {
             "endlinecolor": "#2a3f5f",
             "gridcolor": "#C8D4E3",
             "linecolor": "#C8D4E3",
             "minorgridcolor": "#C8D4E3",
             "startlinecolor": "#2a3f5f"
            },
            "baxis": {
             "endlinecolor": "#2a3f5f",
             "gridcolor": "#C8D4E3",
             "linecolor": "#C8D4E3",
             "minorgridcolor": "#C8D4E3",
             "startlinecolor": "#2a3f5f"
            },
            "type": "carpet"
           }
          ],
          "choropleth": [
           {
            "colorbar": {
             "outlinewidth": 0,
             "ticks": ""
            },
            "type": "choropleth"
           }
          ],
          "contour": [
           {
            "colorbar": {
             "outlinewidth": 0,
             "ticks": ""
            },
            "colorscale": [
             [
              0,
              "#0d0887"
             ],
             [
              0.1111111111111111,
              "#46039f"
             ],
             [
              0.2222222222222222,
              "#7201a8"
             ],
             [
              0.3333333333333333,
              "#9c179e"
             ],
             [
              0.4444444444444444,
              "#bd3786"
             ],
             [
              0.5555555555555556,
              "#d8576b"
             ],
             [
              0.6666666666666666,
              "#ed7953"
             ],
             [
              0.7777777777777778,
              "#fb9f3a"
             ],
             [
              0.8888888888888888,
              "#fdca26"
             ],
             [
              1,
              "#f0f921"
             ]
            ],
            "type": "contour"
           }
          ],
          "contourcarpet": [
           {
            "colorbar": {
             "outlinewidth": 0,
             "ticks": ""
            },
            "type": "contourcarpet"
           }
          ],
          "heatmap": [
           {
            "colorbar": {
             "outlinewidth": 0,
             "ticks": ""
            },
            "colorscale": [
             [
              0,
              "#0d0887"
             ],
             [
              0.1111111111111111,
              "#46039f"
             ],
             [
              0.2222222222222222,
              "#7201a8"
             ],
             [
              0.3333333333333333,
              "#9c179e"
             ],
             [
              0.4444444444444444,
              "#bd3786"
             ],
             [
              0.5555555555555556,
              "#d8576b"
             ],
             [
              0.6666666666666666,
              "#ed7953"
             ],
             [
              0.7777777777777778,
              "#fb9f3a"
             ],
             [
              0.8888888888888888,
              "#fdca26"
             ],
             [
              1,
              "#f0f921"
             ]
            ],
            "type": "heatmap"
           }
          ],
          "histogram": [
           {
            "marker": {
             "pattern": {
              "fillmode": "overlay",
              "size": 10,
              "solidity": 0.2
             }
            },
            "type": "histogram"
           }
          ],
          "histogram2d": [
           {
            "colorbar": {
             "outlinewidth": 0,
             "ticks": ""
            },
            "colorscale": [
             [
              0,
              "#0d0887"
             ],
             [
              0.1111111111111111,
              "#46039f"
             ],
             [
              0.2222222222222222,
              "#7201a8"
             ],
             [
              0.3333333333333333,
              "#9c179e"
             ],
             [
              0.4444444444444444,
              "#bd3786"
             ],
             [
              0.5555555555555556,
              "#d8576b"
             ],
             [
              0.6666666666666666,
              "#ed7953"
             ],
             [
              0.7777777777777778,
              "#fb9f3a"
             ],
             [
              0.8888888888888888,
              "#fdca26"
             ],
             [
              1,
              "#f0f921"
             ]
            ],
            "type": "histogram2d"
           }
          ],
          "histogram2dcontour": [
           {
            "colorbar": {
             "outlinewidth": 0,
             "ticks": ""
            },
            "colorscale": [
             [
              0,
              "#0d0887"
             ],
             [
              0.1111111111111111,
              "#46039f"
             ],
             [
              0.2222222222222222,
              "#7201a8"
             ],
             [
              0.3333333333333333,
              "#9c179e"
             ],
             [
              0.4444444444444444,
              "#bd3786"
             ],
             [
              0.5555555555555556,
              "#d8576b"
             ],
             [
              0.6666666666666666,
              "#ed7953"
             ],
             [
              0.7777777777777778,
              "#fb9f3a"
             ],
             [
              0.8888888888888888,
              "#fdca26"
             ],
             [
              1,
              "#f0f921"
             ]
            ],
            "type": "histogram2dcontour"
           }
          ],
          "mesh3d": [
           {
            "colorbar": {
             "outlinewidth": 0,
             "ticks": ""
            },
            "type": "mesh3d"
           }
          ],
          "parcoords": [
           {
            "line": {
             "colorbar": {
              "outlinewidth": 0,
              "ticks": ""
             }
            },
            "type": "parcoords"
           }
          ],
          "pie": [
           {
            "automargin": true,
            "type": "pie"
           }
          ],
          "scatter": [
           {
            "fillpattern": {
             "fillmode": "overlay",
             "size": 10,
             "solidity": 0.2
            },
            "type": "scatter"
           }
          ],
          "scatter3d": [
           {
            "line": {
             "colorbar": {
              "outlinewidth": 0,
              "ticks": ""
             }
            },
            "marker": {
             "colorbar": {
              "outlinewidth": 0,
              "ticks": ""
             }
            },
            "type": "scatter3d"
           }
          ],
          "scattercarpet": [
           {
            "marker": {
             "colorbar": {
              "outlinewidth": 0,
              "ticks": ""
             }
            },
            "type": "scattercarpet"
           }
          ],
          "scattergeo": [
           {
            "marker": {
             "colorbar": {
              "outlinewidth": 0,
              "ticks": ""
             }
            },
            "type": "scattergeo"
           }
          ],
          "scattergl": [
           {
            "marker": {
             "colorbar": {
              "outlinewidth": 0,
              "ticks": ""
             }
            },
            "type": "scattergl"
           }
          ],
          "scattermap": [
           {
            "marker": {
             "colorbar": {
              "outlinewidth": 0,
              "ticks": ""
             }
            },
            "type": "scattermap"
           }
          ],
          "scattermapbox": [
           {
            "marker": {
             "colorbar": {
              "outlinewidth": 0,
              "ticks": ""
             }
            },
            "type": "scattermapbox"
           }
          ],
          "scatterpolar": [
           {
            "marker": {
             "colorbar": {
              "outlinewidth": 0,
              "ticks": ""
             }
            },
            "type": "scatterpolar"
           }
          ],
          "scatterpolargl": [
           {
            "marker": {
             "colorbar": {
              "outlinewidth": 0,
              "ticks": ""
             }
            },
            "type": "scatterpolargl"
           }
          ],
          "scatterternary": [
           {
            "marker": {
             "colorbar": {
              "outlinewidth": 0,
              "ticks": ""
             }
            },
            "type": "scatterternary"
           }
          ],
          "surface": [
           {
            "colorbar": {
             "outlinewidth": 0,
             "ticks": ""
            },
            "colorscale": [
             [
              0,
              "#0d0887"
             ],
             [
              0.1111111111111111,
              "#46039f"
             ],
             [
              0.2222222222222222,
              "#7201a8"
             ],
             [
              0.3333333333333333,
              "#9c179e"
             ],
             [
              0.4444444444444444,
              "#bd3786"
             ],
             [
              0.5555555555555556,
              "#d8576b"
             ],
             [
              0.6666666666666666,
              "#ed7953"
             ],
             [
              0.7777777777777778,
              "#fb9f3a"
             ],
             [
              0.8888888888888888,
              "#fdca26"
             ],
             [
              1,
              "#f0f921"
             ]
            ],
            "type": "surface"
           }
          ],
          "table": [
           {
            "cells": {
             "fill": {
              "color": "#EBF0F8"
             },
             "line": {
              "color": "white"
             }
            },
            "header": {
             "fill": {
              "color": "#C8D4E3"
             },
             "line": {
              "color": "white"
             }
            },
            "type": "table"
           }
          ]
         },
         "layout": {
          "annotationdefaults": {
           "arrowcolor": "#2a3f5f",
           "arrowhead": 0,
           "arrowwidth": 1
          },
          "autotypenumbers": "strict",
          "coloraxis": {
           "colorbar": {
            "outlinewidth": 0,
            "ticks": ""
           }
          },
          "colorscale": {
           "diverging": [
            [
             0,
             "#8e0152"
            ],
            [
             0.1,
             "#c51b7d"
            ],
            [
             0.2,
             "#de77ae"
            ],
            [
             0.3,
             "#f1b6da"
            ],
            [
             0.4,
             "#fde0ef"
            ],
            [
             0.5,
             "#f7f7f7"
            ],
            [
             0.6,
             "#e6f5d0"
            ],
            [
             0.7,
             "#b8e186"
            ],
            [
             0.8,
             "#7fbc41"
            ],
            [
             0.9,
             "#4d9221"
            ],
            [
             1,
             "#276419"
            ]
           ],
           "sequential": [
            [
             0,
             "#0d0887"
            ],
            [
             0.1111111111111111,
             "#46039f"
            ],
            [
             0.2222222222222222,
             "#7201a8"
            ],
            [
             0.3333333333333333,
             "#9c179e"
            ],
            [
             0.4444444444444444,
             "#bd3786"
            ],
            [
             0.5555555555555556,
             "#d8576b"
            ],
            [
             0.6666666666666666,
             "#ed7953"
            ],
            [
             0.7777777777777778,
             "#fb9f3a"
            ],
            [
             0.8888888888888888,
             "#fdca26"
            ],
            [
             1,
             "#f0f921"
            ]
           ],
           "sequentialminus": [
            [
             0,
             "#0d0887"
            ],
            [
             0.1111111111111111,
             "#46039f"
            ],
            [
             0.2222222222222222,
             "#7201a8"
            ],
            [
             0.3333333333333333,
             "#9c179e"
            ],
            [
             0.4444444444444444,
             "#bd3786"
            ],
            [
             0.5555555555555556,
             "#d8576b"
            ],
            [
             0.6666666666666666,
             "#ed7953"
            ],
            [
             0.7777777777777778,
             "#fb9f3a"
            ],
            [
             0.8888888888888888,
             "#fdca26"
            ],
            [
             1,
             "#f0f921"
            ]
           ]
          },
          "colorway": [
           "#636efa",
           "#EF553B",
           "#00cc96",
           "#ab63fa",
           "#FFA15A",
           "#19d3f3",
           "#FF6692",
           "#B6E880",
           "#FF97FF",
           "#FECB52"
          ],
          "font": {
           "color": "#2a3f5f"
          },
          "geo": {
           "bgcolor": "white",
           "lakecolor": "white",
           "landcolor": "white",
           "showlakes": true,
           "showland": true,
           "subunitcolor": "#C8D4E3"
          },
          "hoverlabel": {
           "align": "left"
          },
          "hovermode": "closest",
          "mapbox": {
           "style": "light"
          },
          "paper_bgcolor": "white",
          "plot_bgcolor": "white",
          "polar": {
           "angularaxis": {
            "gridcolor": "#EBF0F8",
            "linecolor": "#EBF0F8",
            "ticks": ""
           },
           "bgcolor": "white",
           "radialaxis": {
            "gridcolor": "#EBF0F8",
            "linecolor": "#EBF0F8",
            "ticks": ""
           }
          },
          "scene": {
           "xaxis": {
            "backgroundcolor": "white",
            "gridcolor": "#DFE8F3",
            "gridwidth": 2,
            "linecolor": "#EBF0F8",
            "showbackground": true,
            "ticks": "",
            "zerolinecolor": "#EBF0F8"
           },
           "yaxis": {
            "backgroundcolor": "white",
            "gridcolor": "#DFE8F3",
            "gridwidth": 2,
            "linecolor": "#EBF0F8",
            "showbackground": true,
            "ticks": "",
            "zerolinecolor": "#EBF0F8"
           },
           "zaxis": {
            "backgroundcolor": "white",
            "gridcolor": "#DFE8F3",
            "gridwidth": 2,
            "linecolor": "#EBF0F8",
            "showbackground": true,
            "ticks": "",
            "zerolinecolor": "#EBF0F8"
           }
          },
          "shapedefaults": {
           "line": {
            "color": "#2a3f5f"
           }
          },
          "ternary": {
           "aaxis": {
            "gridcolor": "#DFE8F3",
            "linecolor": "#A2B1C6",
            "ticks": ""
           },
           "baxis": {
            "gridcolor": "#DFE8F3",
            "linecolor": "#A2B1C6",
            "ticks": ""
           },
           "bgcolor": "white",
           "caxis": {
            "gridcolor": "#DFE8F3",
            "linecolor": "#A2B1C6",
            "ticks": ""
           }
          },
          "title": {
           "x": 0.05
          },
          "xaxis": {
           "automargin": true,
           "gridcolor": "#EBF0F8",
           "linecolor": "#EBF0F8",
           "ticks": "",
           "title": {
            "standoff": 15
           },
           "zerolinecolor": "#EBF0F8",
           "zerolinewidth": 2
          },
          "yaxis": {
           "automargin": true,
           "gridcolor": "#EBF0F8",
           "linecolor": "#EBF0F8",
           "ticks": "",
           "title": {
            "standoff": 15
           },
           "zerolinecolor": "#EBF0F8",
           "zerolinewidth": 2
          }
         }
        },
        "title": {
         "text": "Сгенерированные данные ETS(A, Ad, N)"
        },
        "xaxis": {
         "title": {
          "text": "Время (t)"
         }
        },
        "yaxis": {
         "title": {
          "text": "Значение"
         }
        }
       }
      }
     },
     "metadata": {},
     "output_type": "display_data"
    }
   ],
   "source": [
    "fig = go.Figure()\n",
    "\n",
    "fig.add_trace(go.Scatter(\n",
    "    x=simulated_data.index,\n",
    "    y=incorrect_residuals,\n",
    "    mode='lines',\n",
    "    name='',\n",
    "    line=dict(color='blue', width=2)\n",
    "))\n",
    "\n",
    "# Настройка макета графика\n",
    "fig.update_layout(\n",
    "    title=\"Сгенерированные данные ETS(A, Ad, N)\",\n",
    "    xaxis_title=\"Время (t)\",\n",
    "    yaxis_title=\"Значение\",\n",
    "    template=\"plotly_white\",\n",
    "    showlegend=True\n",
    ")\n",
    "\n",
    "# Отображение графика\n",
    "fig.show()\n"
   ]
  },
  {
   "cell_type": "markdown",
   "metadata": {},
   "source": [
    "### Тест Breusch-Godfrey\n",
    "\n",
    "#### Описание:\n",
    "Тест Breusch-Godfrey предназначен для проверки наличия автокорреляции в остатках регрессионной модели. Он более универсален, чем тесты Box-Pierce и Ljung-Box, так как может использоваться для моделей с зависимыми переменными и не требует нормальности ошибок.\n",
    "\n",
    "#### Предпосылки:\n",
    "1. Имеется регрессионная модель:\n",
    "   $$\n",
    "   y_t = X_t \\beta + \\varepsilon_t,\n",
    "   $$\n",
    "   где $\\varepsilon_t$ — остатки модели.\n",
    "2. Проверяется гипотеза об отсутствии автокорреляции в остатках $\\varepsilon_t$.\n",
    "\n",
    "$$\n",
    "H_0: \\rho_1 = \\rho_2 = \\dots = \\rho_m = 0,\\\\\n",
    "H_1: \\exists \\rho_k \\neq 0.\n",
    "$$\n",
    "\n",
    "\n",
    "#### Процедура теста:\n",
    "1. Оцените исходную регрессионную модель и получите остатки $\\hat{\\varepsilon}_t$.\n",
    "2. Регрессируйте остатки $\\hat{\\varepsilon}_t$ на переменные $X_t$ и их лагированные значения $\\hat{\\varepsilon}_{t-1}, \\hat{\\varepsilon}_{t-2}, \\dots, \\hat{\\varepsilon}_{t-m}$:\n",
    "   $$\n",
    "   \\hat{\\varepsilon}_t = X_t \\gamma + \\alpha_1 \\hat{\\varepsilon}_{t-1} + \\alpha_2 \\hat{\\varepsilon}_{t-2} + \\dots + \\alpha_p \\hat{\\varepsilon}_{t-m} + u_t.\n",
    "   $$\n",
    "3. Вычислите тестовую статистику:\n",
    "   $$\n",
    "   LM = T \\cdot R^2,\n",
    "   $$\n",
    "   где:\n",
    "   - $T$ — размер выборки,\n",
    "   - $R^2$ — коэффициент детерминации регрессии остатков.\n",
    "\n",
    "#### Распределение статистики:\n",
    "Под нулевой гипотезой $LM \\sim \\chi^2(m)$, где $p$ — количество лагов."
   ]
  },
  {
   "cell_type": "code",
   "execution_count": 50,
   "metadata": {},
   "outputs": [
    {
     "name": "stdout",
     "output_type": "stream",
     "text": [
      "Тест Breusch-Godfrey:\n",
      "LM-статистика: 2.7703970932231536\n",
      "P-значение: 0.2502741037831007\n"
     ]
    }
   ],
   "source": [
    "# Импортируем необходимые библиотеки\n",
    "import numpy as np\n",
    "import statsmodels.api as sm\n",
    "from statsmodels.stats.diagnostic import acorr_breusch_godfrey\n",
    "\n",
    "# Генерация данных\n",
    "np.random.seed(42)\n",
    "n = 100\n",
    "X = np.random.uniform(0, 10, size=n)\n",
    "y = 2 * X + np.random.normal(0, 1, size=n)  # Линейная зависимость с шумом\n",
    "\n",
    "# Добавляем константу для регрессии\n",
    "X = sm.add_constant(X)\n",
    "\n",
    "# Оцениваем линейную регрессию\n",
    "model = sm.OLS(y, X).fit()\n",
    "\n",
    "# Тест Breusch-Godfrey\n",
    "bg_test = acorr_breusch_godfrey(model, nlags=2)  # Проверяем автокорреляцию до лага 2\n",
    "print(\"Тест Breusch-Godfrey:\")\n",
    "print(f\"LM-статистика: {bg_test[0]}\")\n",
    "print(f\"P-значение: {bg_test[1]}\")"
   ]
  },
  {
   "cell_type": "markdown",
   "metadata": {},
   "source": [
    "## TODO \n",
    "\n",
    "Добавить интерпретируемый пример"
   ]
  },
  {
   "cell_type": "markdown",
   "metadata": {},
   "source": [
    "\n",
    "### Сравнение тестов:\n",
    "\n",
    "| Тест               | Преимущества                                                                 | \n",
    "|--------------------|-----------------------------------------------------------------------------|\n",
    "| **Box-Pierce**     | Простота вычисления.                                   |\n",
    "| **Ljung-Box**      | Улучшенная аппроксимация для малых выборок.                                | \n",
    "| **Breusch-Godfrey**| Корректен именно для тестирования остатков, но валиден только для линейной регрессии.         | "
   ]
  },
  {
   "cell_type": "markdown",
   "metadata": {},
   "source": [
    "### Тест Гренджера на причинность (Granger Causality Test)\n",
    "\n",
    "#### Описание:\n",
    "Тест Гренджера используется для проверки, предсказывает ли одна временная последовательность другую. Этот тест основывается на идее, что если $x_t$ \"причиняет\" $y_t$, то прошлые значения $x_t$ должны содержать информацию, которая помогает лучше прогнозировать $y_t$, чем только прошлые значения $y_t$.\n",
    "\n",
    "#### Предпосылки:\n",
    "1. Имеются две временные последовательности $x_t$ и $y_t$.\n",
    "2. Обе последовательности являются стационарными.\n",
    "3. Отношение причинности определяется через линейные зависимости.\n",
    "\n",
    "#### Модель:\n",
    "Рассмотрим регрессионную модель для $y_t$, которая включает собственные лаги $y_t$ и лаги $x_t$:\n",
    "$$\n",
    "y_t = \\alpha_0 + \\sum_{i=1}^p \\alpha_i y_{t-i} + \\sum_{j=1}^q \\beta_j x_{t-j} + \\varepsilon_t,\n",
    "$$\n",
    "где:\n",
    "- $p$ — количество лагов $y_t$,\n",
    "- $q$ — количество лагов $x_t$,\n",
    "- $\\varepsilon_t$ — ошибка модели.\n",
    "\n",
    "#### Нулевая гипотеза ($H_0$):\n",
    "$$\n",
    "H_0: \\beta_1 = \\beta_2 = \\dots = \\beta_q = 0,\n",
    "$$\n",
    "то есть прошлые значения $x_t$ не оказывают влияния на текущее значение $y_t$.\n",
    "\n",
    "#### Альтернативная гипотеза ($H_1$):\n",
    "$$\n",
    "H_1: \\text{По крайней мере один из } \\beta_j \\neq 0,\n",
    "$$\n",
    "то есть прошлые значения $x_t$ оказывают влияние на текущее значение $y_t$.\n",
    "\n",
    "#### Процедура теста:\n",
    "1. Оцените расширенную модель, которая включает лаги как $y_t$, так и $x_t$:\n",
    "   $$\n",
    "   y_t = \\alpha_0 + \\sum_{i=1}^p \\alpha_i y_{t-i} + \\sum_{j=1}^q \\beta_j x_{t-j} + \\varepsilon_t.\n",
    "   $$\n",
    "2. Оцените упрощенную модель, которая исключает лаги $x_t$:\n",
    "   $$\n",
    "   y_t = \\alpha_0 + \\sum_{i=1}^p \\alpha_i y_{t-i} + \\varepsilon_t.\n",
    "   $$\n",
    "3. Сравните качество двух моделей с помощью F-теста или теста отношения правдоподобия (Likelihood Ratio Test).\n",
    "\n",
    "#### F-статистика:\n",
    "F-статистика вычисляется как:\n",
    "$$\n",
    "F = \\frac{\\left( \\text{RSS}_{\\text{restricted}} - \\text{RSS}_{\\text{unrestricted}} \\right) / q}{\\text{RSS}_{\\text{unrestricted}} / (T - p - q - 1)},\n",
    "$$\n",
    "где:\n",
    "- $\\text{RSS}_{\\text{restricted}}$ — сумма квадратов остатков для упрощенной модели,\n",
    "- $\\text{RSS}_{\\text{unrestricted}}$ — сумма квадратов остатков для расширенной модели,\n",
    "- $q$ — количество лагов $x_t$,\n",
    "- $T$ — размер выборки.\n",
    "\n",
    "Под нулевой гипотезой $F \\sim F(q, T - p - q - 1)$, где $F(q, T - p - q - 1)$ — распределение Фишера.\n",
    "\n",
    "### Интерпретация результатов:\n",
    "- Если нулевая гипотеза отклоняется, это означает, что $x_t$ имеет причинную связь с $y_t$ (в смысле Гренджера).\n",
    "- Важно отметить, что причинность в смысле Гренджера не эквивалентна реальной причинно-следственной связи; она лишь указывает на наличие предсказательной информации.\n",
    "\n",
    "---\n",
    "\n"
   ]
  },
  {
   "cell_type": "code",
   "execution_count": 51,
   "metadata": {},
   "outputs": [
    {
     "name": "stdout",
     "output_type": "stream",
     "text": [
      "Тест причинности Гренджера: realgdp -> realcons\n",
      "\n",
      "Granger Causality\n",
      "number of lags (no zero) 1\n",
      "ssr based F test:         F=1.7677  , p=0.1852  , df_denom=198, df_num=1\n",
      "ssr based chi2 test:   chi2=1.7945  , p=0.1804  , df=1\n",
      "likelihood ratio test: chi2=1.7866  , p=0.1813  , df=1\n",
      "parameter F test:         F=1.7677  , p=0.1852  , df_denom=198, df_num=1\n",
      "\n",
      "Granger Causality\n",
      "number of lags (no zero) 2\n",
      "ssr based F test:         F=0.0771  , p=0.9258  , df_denom=195, df_num=2\n",
      "ssr based chi2 test:   chi2=0.1582  , p=0.9240  , df=2\n",
      "likelihood ratio test: chi2=0.1581  , p=0.9240  , df=2\n",
      "parameter F test:         F=0.0771  , p=0.9258  , df_denom=195, df_num=2\n",
      "\n",
      "Granger Causality\n",
      "number of lags (no zero) 3\n",
      "ssr based F test:         F=3.4776  , p=0.0171  , df_denom=192, df_num=3\n",
      "ssr based chi2 test:   chi2=10.8131 , p=0.0128  , df=3\n",
      "likelihood ratio test: chi2=10.5295 , p=0.0146  , df=3\n",
      "parameter F test:         F=3.4776  , p=0.0171  , df_denom=192, df_num=3\n",
      "\n",
      "Granger Causality\n",
      "number of lags (no zero) 4\n",
      "ssr based F test:         F=2.1722  , p=0.0737  , df_denom=189, df_num=4\n",
      "ssr based chi2 test:   chi2=9.1024  , p=0.0586  , df=4\n",
      "likelihood ratio test: chi2=8.8993  , p=0.0637  , df=4\n",
      "parameter F test:         F=2.1722  , p=0.0737  , df_denom=189, df_num=4\n",
      "\n",
      "Тест причинности Гренджера: realcons -> realgdp\n",
      "\n",
      "Granger Causality\n",
      "number of lags (no zero) 1\n",
      "ssr based F test:         F=47.7717 , p=0.0000  , df_denom=198, df_num=1\n",
      "ssr based chi2 test:   chi2=48.4955 , p=0.0000  , df=1\n",
      "likelihood ratio test: chi2=43.4434 , p=0.0000  , df=1\n",
      "parameter F test:         F=47.7717 , p=0.0000  , df_denom=198, df_num=1\n",
      "\n",
      "Granger Causality\n",
      "number of lags (no zero) 2\n",
      "ssr based F test:         F=29.0562 , p=0.0000  , df_denom=195, df_num=2\n",
      "ssr based chi2 test:   chi2=59.6024 , p=0.0000  , df=2\n",
      "likelihood ratio test: chi2=52.1667 , p=0.0000  , df=2\n",
      "parameter F test:         F=29.0562 , p=0.0000  , df_denom=195, df_num=2\n",
      "\n",
      "Granger Causality\n",
      "number of lags (no zero) 3\n",
      "ssr based F test:         F=20.9690 , p=0.0000  , df_denom=192, df_num=3\n",
      "ssr based chi2 test:   chi2=65.2006 , p=0.0000  , df=3\n",
      "likelihood ratio test: chi2=56.3974 , p=0.0000  , df=3\n",
      "parameter F test:         F=20.9690 , p=0.0000  , df_denom=192, df_num=3\n",
      "\n",
      "Granger Causality\n",
      "number of lags (no zero) 4\n",
      "ssr based F test:         F=15.6002 , p=0.0000  , df_denom=189, df_num=4\n",
      "ssr based chi2 test:   chi2=65.3722 , p=0.0000  , df=4\n",
      "likelihood ratio test: chi2=56.4896 , p=0.0000  , df=4\n",
      "parameter F test:         F=15.6002 , p=0.0000  , df_denom=189, df_num=4\n"
     ]
    }
   ],
   "source": [
    "# Импортируем необходимые библиотеки\n",
    "import statsmodels.api as sm\n",
    "from statsmodels.tsa.stattools import grangercausalitytests\n",
    "import pandas as pd\n",
    "\n",
    "# Загрузка датасета macrodata\n",
    "macro_data = sm.datasets.macrodata.load_pandas().data\n",
    "\n",
    "# Выберем две переменные для анализа: реальный ВВП (realgdp) и реальное потребление (realcons)\n",
    "data = macro_data[['realgdp', 'realcons']]\n",
    "\n",
    "# Проверим стационарность данных (если данные нестационарны, их нужно преобразовать)\n",
    "# Для простоты предположим, что мы работаем с разностями первого порядка\n",
    "data_diff = data.diff().dropna()\n",
    "\n",
    "# Тест причинности Гренджера: realgdp -> realcons\n",
    "print(\"Тест причинности Гренджера: realgdp -> realcons\")\n",
    "granger_test_1 = grangercausalitytests(data_diff[['realcons', 'realgdp']], maxlag=4)\n",
    "\n",
    "# Тест причинности Гренджера: realcons -> realgdp\n",
    "print(\"\\nТест причинности Гренджера: realcons -> realgdp\")\n",
    "granger_test_2 = grangercausalitytests(data_diff[['realgdp', 'realcons']], maxlag=4)"
   ]
  },
  {
   "cell_type": "markdown",
   "metadata": {},
   "source": [
    "# Тест Диболда-Мариано"
   ]
  },
  {
   "cell_type": "markdown",
   "metadata": {},
   "source": [
    "### Тест Диболда-Мариано (Diebold-Mariano Test)\n",
    "\n",
    "#### Описание:\n",
    "Тест Диболда-Мариано используется для сравнения качества двух прогнозов временных рядов. Он проверяет гипотезу о равенстве точности двух моделей прогнозирования на основе их ошибок прогноза.\n",
    "\n",
    "#### Предпосылки:\n",
    "1. **Сравниваемые модели**:\n",
    "   - Имеются две модели прогнозирования, которые генерируют прогнозы $ \\hat{y}_{1,t} $ и $ \\hat{y}_{2,t} $ для временного ряда $ y_t $.\n",
    "   \n",
    "2. **Ошибки прогноза**:\n",
    "   - Ошибки прогноза для каждой модели определяются как:\n",
    "     $$\n",
    "     e_{1,t} = y_t - \\hat{y}_{1,t}, \\quad e_{2,t} = y_t - \\hat{y}_{2,t}.\n",
    "     $$\n",
    "\n",
    "3. **Функция потерь**:\n",
    "   - Для каждой модели вычисляется функция потерь $ L(e_{i,t}) $, например, квадратичная ($ L(e_{i,t}) = e_{i,t}^2 $) или абсолютная ($ L(e_{i,t}) = |e_{i,t}| $).\n",
    "\n",
    "4. **Разность потерь**:\n",
    "   - Разность потерь между двумя моделями определяется как:\n",
    "     $$\n",
    "     d_t = L(e_{1,t}) - L(e_{2,t}).\n",
    "     $$\n",
    "\n",
    "5. **Стационарность разности потерь**:\n",
    "   - Разность потерь $ d_t $ должна быть стационарной (или хотя бы слабо зависимой).\n",
    "\n",
    "---\n",
    "\n",
    "#### Нулевая гипотеза ($H_0$):\n",
    "$$\n",
    "H_0: \\mathbb{E}[d_t] = 0,\n",
    "$$\n",
    "то есть средняя разность потерь равна нулю, и обе модели имеют одинаковую точность прогноза.\n",
    "\n",
    "#### Альтернативная гипотеза ($H_1$):\n",
    "$$\n",
    "H_1: \\mathbb{E}[d_t] \\neq 0,\n",
    "$$\n",
    "то есть одна из моделей имеет лучшую точность прогноза.\n",
    "\n",
    "---\n",
    "\n",
    "#### Статистика теста:\n",
    "Статистика теста вычисляется как:\n",
    "$$\n",
    "DM = \\frac{\\bar{d}}{\\sqrt{\\text{Var}(\\bar{d})}},\n",
    "$$\n",
    "где:\n",
    "- $ \\bar{d} $ — среднее значение разности потерь:\n",
    "  $$\n",
    "  \\bar{d} = \\frac{1}{n} \\sum_{t=1}^n d_t,\n",
    "  $$\n",
    "- $ \\text{Var}(\\bar{d}) $ — дисперсия среднего значения разности потерь, которая учитывает автокорреляцию в $ d_t $.\n",
    "\n",
    "Дисперсия $ \\text{Var}(\\bar{d}) $ оценивается с использованием формулы Бартлетта:\n",
    "$$\n",
    "\\text{Var}(\\bar{d}) = \\frac{1}{n} \\left( \\gamma_0 + 2 \\sum_{k=1}^{h-1} \\left( 1 - \\frac{k}{h} \\right) \\gamma_k \\right),\n",
    "$$\n",
    "где:\n",
    "- $ \\gamma_k $ — автоковариация разности потерь на лаге $ k $,\n",
    "- $ h $ — максимальный лаг для учёта автокорреляции.\n",
    "\n",
    "---\n",
    "\n",
    "#### Распределение статистики:\n",
    "Под нулевой гипотезой статистика $ DM $ асимптотически следует стандартному нормальному распределению:\n",
    "$$\n",
    "DM \\sim N(0, 1).\n",
    "$$\n",
    "\n",
    "---\n",
    "\n",
    "\n",
    "### Примечания:\n",
    "1. **Автокорреляция**:\n",
    "   - Если разность потерь $ d_t $ имеет значительную автокорреляцию, её необходимо учитывать при оценке дисперсии.\n",
    "\n",
    "2. **Асимметрия функции потерь**:\n",
    "   - Тест может быть адаптирован для несимметричных функций потерь, таких как логарифмическая функция потерь.\n",
    "\n",
    "3. **Множественные сравнения**:\n",
    "   - Есть варианты обобщения на несколько прогнозов."
   ]
  },
  {
   "cell_type": "code",
   "execution_count": null,
   "metadata": {},
   "outputs": [],
   "source": []
  }
 ],
 "metadata": {
  "colab": {
   "collapsed_sections": [
    "cu_RGE7dOwHg"
   ],
   "provenance": []
  },
  "kernelspec": {
   "display_name": "hse-ts-course-fT8B7YFo-py3.10",
   "language": "python",
   "name": "python3"
  },
  "language_info": {
   "codemirror_mode": {
    "name": "ipython",
    "version": 3
   },
   "file_extension": ".py",
   "mimetype": "text/x-python",
   "name": "python",
   "nbconvert_exporter": "python",
   "pygments_lexer": "ipython3",
   "version": "3.10.11"
  }
 },
 "nbformat": 4,
 "nbformat_minor": 0
}
