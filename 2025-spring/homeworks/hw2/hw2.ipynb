{
 "cells": [
  {
   "cell_type": "markdown",
   "metadata": {},
   "source": [
    "# Домашнее задание 2"
   ]
  },
  {
   "cell_type": "markdown",
   "metadata": {},
   "source": [
    "В этом домашнем задании мы поупражняемся с ETS-моделью и STL-разложением. Сначала коротко про данные.\n",
    "\n",
    "* `dota_players.xlsx` - количество игроков, посетивших Dota 2. В источнике (SteamDB) не указано, какое значение за период было взято в качестве результата. Будем считать, что число обозначает максимальное количество за период.\n",
    "* `dota_rating.xlsx` :\n",
    "    * `Positive reviews`: количество положительных отзывов\n",
    "    * `Negative reviews`: количество негативных отзывов\n",
    "    * `Rating`: количество положительных и отрицательных отзывов. [Методика расчёта.](https://steamdb.info/blog/steamdb-rating/)\n",
    "\n",
    "Предположим, что наша задача чисто техническая. Мы - маленькая инди-компания (sarcasm) Valve и хотим оптимизировать количество серверов, занимаемых для размещения игроков. Для этого нам необходимо прогнозировать посещаемость игры. На семинаре мы разбирали общий алгоритм прогнозирования рядов и сейчас мы попробуем выполнить все его шаги."
   ]
  },
  {
   "cell_type": "markdown",
   "metadata": {},
   "source": [
    "## Загрузка данных (0.5 балла)\n",
    "\n",
    "1. Загрузите оба файла с данными. Преобразуйте время к формату `pd.Timestamp`.\n",
    "2. У показателя `Количество игроков` менялась методика подсчёта. Вместо дневной статистики с определённого момента начала собираться почасовая. Чтобы не усложнять задачу, сконвертируем все данные в дневной формат. Ресэмплируйте данные к дневной частоте, используйте максимум как агрегирующую функцию."
   ]
  },
  {
   "cell_type": "code",
   "execution_count": null,
   "metadata": {},
   "outputs": [],
   "source": [
    "# ༼ つ ◕_◕ ༽つ"
   ]
  },
  {
   "cell_type": "markdown",
   "metadata": {},
   "source": [
    "## Внешние переменные (Бонус, 1 балл)\n",
    "\n",
    "Внешние переменные, которые приведены в файле `dota_rating.xlsx`, не проходят тест Гранжера. Например, количество отзывов явно зависит от того, сколько людей поиграли в игру. С другой стороны, прочитавшие положительные или отрицательные отзывы люди могут принять решение о том, чтобы начать играть. В общем, зависимость явно может быть в обе стороны. С рейтингом логика схожая. Это не значит, что нельзя использовать переменные для прогнозирования, потому что Гранжер тестирует только линейную зависимость, но тем не менее переменные не самые лучшие.\n",
    "\n",
    "1) Придумайте и найдите дополнительную переменную. (0.5 балла)\n",
    "2) Переменная из п.1 числовая и проходит тест Гранжера. (0.5 балла)"
   ]
  },
  {
   "cell_type": "code",
   "execution_count": null,
   "metadata": {},
   "outputs": [],
   "source": [
    "# ༼ つ ◕_◕ ༽つ"
   ]
  },
  {
   "cell_type": "markdown",
   "metadata": {},
   "source": [
    "## Препроцессинг (1 балл)\n",
    "\n",
    "1) Заполните пропуски в данных. Обоснуйте выбранный вам метод. (0.75 балла)\n",
    "2) Разбейте данные на трейн и тест. Длина теста: 14 дней. Далее будем работать только с трейном. (0.25 балла)\n",
    "\n"
   ]
  },
  {
   "cell_type": "code",
   "execution_count": null,
   "metadata": {},
   "outputs": [],
   "source": [
    "# ༼ つ ◕_◕ ༽つ"
   ]
  },
  {
   "cell_type": "markdown",
   "metadata": {},
   "source": [
    "## Визуальный анализ (1 балл)\n",
    "\n",
    "Изобразите временной ряд целиком и последние три месяца. Изобразите автокорреляции временного ряда (возьмите первые разности, так как ряд трендированный). Опишите, какие паттерны наблюдаются.\n",
    "\n"
   ]
  },
  {
   "cell_type": "code",
   "execution_count": null,
   "metadata": {},
   "outputs": [],
   "source": [
    "# ༼ つ ◕_◕ ༽つ"
   ]
  },
  {
   "cell_type": "markdown",
   "metadata": {},
   "source": [
    "## Выбор моделей-кандидатов (0.5 балла)\n",
    "\n",
    "Исходя из визуального анализа и характеристик ряда, какие вариации ETS-моделей вы бы оценили?"
   ]
  },
  {
   "cell_type": "code",
   "execution_count": null,
   "metadata": {},
   "outputs": [],
   "source": [
    "# ༼ つ ◕_◕ ༽つ"
   ]
  },
  {
   "cell_type": "markdown",
   "metadata": {},
   "source": [
    "## Кросс-валидация\n",
    "\n",
    "Мы напишем один большой класс для кросс-валидации со встроенной фильтрацией STL и ETS. Глобально мы хотим на каждом шаге кросс-валидации отфильтровать простые, спрогнозировать их, а для всего что останется построить сложную модель с признаками. На каждом шаге наша логика будет следующей:\n",
    "\n",
    "1) STL раскладывает ряд на тренд, сезонность и остатки. \n",
    "    * Спрогнозируем простыми многошаговыми моделями тренд и сезонность. \n",
    "    * Спрогнозируем остатки сложной моделью со стратегией. \n",
    "    * Сложим прогнозы, получая итог.\n",
    "\n",
    "2) ETS согласованно прогнозирует тренд и сезонность. \n",
    "    * Построим прогноз тренда и сезонности.\n",
    "    * Возьмём из оценённой модели in-sample остатки, спрогнозируем их отдельной сложной моделью со стратегией\n",
    "    * Скомбинируем прогноз ETS и прогноз остатков. \n",
    "\n",
    "    `Внимание!` Если у вас мультипликативные ошибки в ETS-модели, то прогнозы нужно будет не складывать, а умножать в соответствии с формулами ETS-модели.\n",
    "\n",
    "\n",
    "Заполните класс ниже. Важные комментарии.\n",
    "\n",
    "1) Обратите внимание на прогнозы in-sample. Это одношаговые прогнозы для каждой точки тренировочного датасета. Мы обсуждали, что большинство моделей обучаются как одношаговые (например, ETS). Следовательно, тестировать автокорреляции также нужно на одношаговых прогнозах. В классе все in_sample прогнозы основаны на одношаговой модели.\n",
    "2) Для in-sample прогнозов могут быть не определены первые несколько точек. Например, если в модели остатков были лагированные переменные. Исключите из тестов на автокорреляции.\n",
    "3) Для моделей остатков нужна будет сильная табличная модель с многошаговой стратегией. Используйте любую на своё усмотрение, но прямая будет самой простой. Можете использовать дополнительные переменные из файла или собранные в бонусном пункте.\n",
    "4) ETS можно брать из statsmodels или statsforecast. В учебных целях statsmodels будет чуть попроще, там немного удобнее реализован доступ к нужным векторам."
   ]
  },
  {
   "cell_type": "markdown",
   "metadata": {},
   "source": [
    "## Класс кросс-валидации (4 балла)"
   ]
  },
  {
   "cell_type": "code",
   "execution_count": null,
   "metadata": {},
   "outputs": [],
   "source": [
    "import pandas as pd\n",
    "\n",
    "class CrossValDecompose():\n",
    "    def __init__(\n",
    "        self,\n",
    "        window: int,  # Размер окна для обучения\n",
    "        step_size: int,  # Шаг сдвига окна\n",
    "        seasonal_period: int,  # Период сезонности\n",
    "        horizon: int = 14,  # Горизонт прогнозирования\n",
    "    ):\n",
    "        self.window = window\n",
    "        self.horizon = horizon\n",
    "        self.step_size = step_size\n",
    "        self.seasonal_period = seasonal_period\n",
    "\n",
    "    def predict_trend_STL(self, data: pd.Series) -> pd.Series:\n",
    "        # 0.5 балла\n",
    "        \"\"\"\n",
    "        Предсказывает тренд какой-нибудь простой моделью. \n",
    "        Например экспоненциальным сглаживанием.\n",
    "\n",
    "        predicted_in_sample -- одношаговые прогнозы\n",
    "        predicted_out_of_sample -- многошаговые прогнозы\n",
    "        \"\"\"\n",
    "\n",
    "        predicted_trend = None \n",
    "\n",
    "        assert len(predicted_trend) == self.horizon\n",
    "        return predicted_trend\n",
    "\n",
    "    def predict_seasonality_STL(self, data: pd.Series) -> tuple[pd.Series, pd.Series]:\n",
    "\n",
    "        # 0.5 балла\n",
    "        \"\"\"\n",
    "        Предсказывает тренд какой-нибудь простой моделью.\n",
    "        Например, сезонной наивной.\n",
    "\n",
    "        predicted_in_sample -- одношаговые прогнозы\n",
    "        predicted_out_of_sample -- многошаговые прогнозы\n",
    "        \"\"\"\n",
    "\n",
    "\n",
    "        predicted_in_sample = None  \n",
    "        predicted_out_of_sample = None  \n",
    "\n",
    "        assert len(predicted_out_of_sample) == self.horizon\n",
    "\n",
    "        return predicted_in_sample, predicted_out_of_sample\n",
    "\n",
    "    def predict_error_STL(self, data: pd.Series) -> tuple[pd.Series, pd.Series]:\n",
    "        # 1 балл\n",
    "\n",
    "        \"\"\"\n",
    "        Предсказывает остатки STL сложной табличной моделью.\n",
    "\n",
    "        predicted_in_sample -- одношаговые прогнозы\n",
    "        predicted_out_of_sample -- многошаговые прогнозы\n",
    "        \"\"\"\n",
    "\n",
    "\n",
    "        predicted_in_sample = None \n",
    "        predicted_out_of_sample = None \n",
    "\n",
    "        assert len(predicted_out_of_sample) == self.horizon\n",
    "\n",
    "        return predicted_in_sample, predicted_out_of_sample\n",
    "\n",
    "    def predict_error_ETS(self, data: pd.Series, model: any) -> tuple[pd.Series, pd.Series]:\n",
    "        # 1 балл\n",
    "\n",
    "        \"\"\"\n",
    "        Предсказывает остатки ETS сложной табличной моделью.\n",
    "\n",
    "        predicted_in_sample -- одношаговые прогнозы\n",
    "        predicted_out_of_sample -- многошаговые прогнозы\n",
    "        \"\"\"\n",
    "\n",
    "        predicted_in_sample = None\n",
    "        predicted_out_of_sample = None\n",
    "\n",
    "        return predicted_in_sample, predicted_out_of_sample\n",
    "\n",
    "    def predict_STL(self, data: pd.Series) -> tuple[pd.Series, pd.Series]:\n",
    "\n",
    "        # 0.5 балла\n",
    "\n",
    "        \"\"\"\n",
    "        Для одного окна кросс-валидации декомпозирует ряд с помощью STL, \n",
    "        прогнозирует все компоненты и комбинирует обратно.\n",
    "\n",
    "        predicted_in_sample -- одношаговые прогнозы\n",
    "        predicted_out_of_sample -- многошаговые прогнозы\n",
    "        \"\"\"\n",
    "\n",
    "\n",
    "        trend = None  \n",
    "        seasonality = None\n",
    "        error = None  \n",
    "\n",
    "\n",
    "        predicted_t_in_sample, predicted_t_out_of_sample = self.predict_trend_STL(trend)\n",
    "        predicted_s_in_sample, predicted_s_out_of_sample = self.predict_seasonality_STL(seasonality)\n",
    "        predicted_e_in_sample, predicted_e_out_of_sample = self.predict_error_STL(error)\n",
    "\n",
    "\n",
    "\n",
    "        return predicted_in_sample, predicted_out_of_sample\n",
    "\n",
    "    def predict_ETS(self, data: pd.DataFrame, model: any) -> tuple[pd.Series, pd.Series]:\n",
    "\n",
    "        # 0.5 балла\n",
    "        \"\"\"\n",
    "        Для одного окна кросс-валидации декомпозирует ряд с помощью ETS, \n",
    "        прогнозирует все компоненты и комбинирует обратно.\n",
    "\n",
    "        predicted_in_sample -- одношаговые прогнозы\n",
    "        predicted_out_of_sample -- многошаговые прогнозы\n",
    "        \"\"\"\n",
    "  \n",
    "        # Оценить ETS и спрогнозировать\n",
    "        predicted_t_s_out_of_sample = None\n",
    "        predicted_t_s_in_sample = None \n",
    "\n",
    "\n",
    "        error = None \n",
    "\n",
    "        predicted_e_in_sample, predicted_e_out_of_sample = self.predict_error_ETS(error)\n",
    "\n",
    "        # Скомбинировать прогнозы\n",
    "        # ༼ つ ◕_◕ ༽つ\n",
    "\n",
    "        return predicted_in_sample, predicted_out_of_sample\n",
    "    \n",
    "    def cv(self, data: pd.DataFrame):\n",
    "\n",
    "        train_end = len(data)\n",
    "\n",
    "        while train_end - self.window - self.horizon >= 0:\n",
    "\n",
    "            train = data.iloc[train_end - self.window - self.horizon:train_end - self.horizon]\n",
    "            val = data.iloc[train_end - self.horizon:train_end]\n",
    "\n",
    "            yield train, val\n",
    "\n",
    "            train_end -= self.step_size"
   ]
  },
  {
   "cell_type": "markdown",
   "metadata": {},
   "source": [
    "## Выбор моделей (1 балл)\n",
    "Используйте класс выше. Отберите по кросс-валидации наилучшую STL и наилучшую ETS модели. Метрика -- MAPE.\n"
   ]
  },
  {
   "cell_type": "code",
   "execution_count": null,
   "metadata": {},
   "outputs": [],
   "source": [
    "# ༼ つ ◕_◕ ༽つ"
   ]
  },
  {
   "cell_type": "markdown",
   "metadata": {},
   "source": [
    "## Проверка валидности моделей (1 балл)\n",
    "\n",
    "1) Обучите две лучшие модели на всём трейне.\n",
    "2) Постройте прогнозы in-sample на трейн. Вычислите финальные остатки модели как разницу факта и прогноза.\n",
    "3) Нарисуйте коррелограммы остатков обеих моделей. Есть ли значимые пики?\n",
    "4) Проведите тесты Ljung-Box для остатков обеих моделей и проинтерпретируйте результат. Данные достаточно простые, постарайтесь чтобы гипотеза не отвергалась."
   ]
  },
  {
   "cell_type": "code",
   "execution_count": null,
   "metadata": {},
   "outputs": [],
   "source": [
    "# ༼ つ ◕_◕ ༽つ"
   ]
  },
  {
   "cell_type": "markdown",
   "metadata": {},
   "source": [
    "## Прогнозирование (1 балл)"
   ]
  },
  {
   "cell_type": "markdown",
   "metadata": {},
   "source": [
    "1) Постройте прогнозы обеих моделей на тестовый период\n",
    "2) Сравните качество моделей\n",
    "3) Проведите тест Диболда-Мариано и проведите результаты. Если тест говорит в пользу одной из моделей, то как вы думаете, почему она оказалась лучше?"
   ]
  },
  {
   "cell_type": "code",
   "execution_count": null,
   "metadata": {},
   "outputs": [],
   "source": [
    "# ༼ つ ◕_◕ ༽つ"
   ]
  },
  {
   "attachments": {},
   "cell_type": "markdown",
   "metadata": {},
   "source": [
    "##### Что бы вы сделали, будь у вас неприлично много денег? (0.05 балла)\n",
    "\n",
    "P.S. Ваш семинарист хотел бы слетать в космос."
   ]
  },
  {
   "attachments": {},
   "cell_type": "markdown",
   "metadata": {},
   "source": [
    "##### Рубрика \"как вам домашка?\" (0.1 балла)\n",
    "\n",
    "Пройдите короткий опрос. Это действительно важно. https://forms.gle/w3sV453spERTbGvr7"
   ]
  }
 ],
 "metadata": {
  "kernelspec": {
   "display_name": "hse-ts-course-vdajECeF-py3.12",
   "language": "python",
   "name": "python3"
  },
  "language_info": {
   "codemirror_mode": {
    "name": "ipython",
    "version": 3
   },
   "file_extension": ".py",
   "mimetype": "text/x-python",
   "name": "python",
   "nbconvert_exporter": "python",
   "pygments_lexer": "ipython3",
   "version": "3.12.3"
  },
  "orig_nbformat": 4
 },
 "nbformat": 4,
 "nbformat_minor": 2
}
