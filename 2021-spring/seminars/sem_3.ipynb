{
 "cells": [
  {
   "cell_type": "markdown",
   "metadata": {},
   "source": [
    "\n",
    "## Семинар 3. Порядок построения и валидации модели\n",
    "\n",
    "Временные ряды отличаются некоторой спецификой. Основной проблемой при работе с такими данными является наличие утечек."
   ]
  },
  {
   "cell_type": "code",
   "execution_count": null,
   "metadata": {},
   "outputs": [],
   "source": []
  },
  {
   "cell_type": "markdown",
   "metadata": {},
   "source": [
    "![algorithm](images/sem_3_algorithm.png)\n"
   ]
  },
  {
   "cell_type": "code",
   "execution_count": 21,
   "metadata": {},
   "outputs": [],
   "source": [
    "from sktime.datasets import load_airline\n",
    "from sktime.forecasting.compose._reduce import _RecursiveReducer, _sliding_window_transform\n",
    "from sktime.forecasting.base import ForecastingHorizon\n",
    "from sktime.forecasting.naive import NaiveForecaster\n",
    "\n",
    "y = load_airline()"
   ]
  },
  {
   "cell_type": "code",
   "execution_count": 3,
   "metadata": {},
   "outputs": [],
   "source": [
    "forec = NaiveForecaster()\n",
    "a = _RecursiveReducer(forec)"
   ]
  },
  {
   "cell_type": "code",
   "execution_count": 5,
   "metadata": {},
   "outputs": [],
   "source": [
    "a._estimator_scitype = \"time-series-regressor\""
   ]
  },
  {
   "cell_type": "code",
   "execution_count": 17,
   "metadata": {},
   "outputs": [
    {
     "data": {
      "text/plain": [
       "(134, 1)"
      ]
     },
     "execution_count": 17,
     "metadata": {},
     "output_type": "execute_result"
    }
   ],
   "source": [
    "a._transform(y)[0].shape"
   ]
  },
  {
   "cell_type": "code",
   "execution_count": 26,
   "metadata": {},
   "outputs": [],
   "source": [
    "import pandas as pd\n",
    "import matplotlib.pyplot as plt"
   ]
  },
  {
   "cell_type": "code",
   "execution_count": 36,
   "metadata": {},
   "outputs": [],
   "source": [
    "b = _sliding_window_transform(y.tail(20), 10, ForecastingHorizon([1,2,3]), scitype=\"time-series-regressor\")"
   ]
  },
  {
   "cell_type": "code",
   "execution_count": 38,
   "metadata": {},
   "outputs": [
    {
     "data": {
      "text/plain": [
       "(8, 1, 10)"
      ]
     },
     "execution_count": 38,
     "metadata": {},
     "output_type": "execute_result"
    }
   ],
   "source": [
    "b[1].shape"
   ]
  },
  {
   "cell_type": "code",
   "execution_count": 40,
   "metadata": {},
   "outputs": [
    {
     "data": {
      "text/plain": [
       "Int64Index([2, 3, 4], dtype='int64')"
      ]
     },
     "execution_count": 40,
     "metadata": {},
     "output_type": "execute_result"
    }
   ],
   "source": [
    "ForecastingHorizon([1,2,3]) + 1"
   ]
  },
  {
   "cell_type": "code",
   "execution_count": 41,
   "metadata": {},
   "outputs": [
    {
     "data": {
      "text/plain": [
       "array([[419., 461., 472.],\n",
       "       [461., 472., 535.],\n",
       "       [472., 535., 622.],\n",
       "       [535., 622., 606.],\n",
       "       [622., 606., 508.],\n",
       "       [606., 508., 461.],\n",
       "       [508., 461., 390.],\n",
       "       [461., 390., 432.]])"
      ]
     },
     "execution_count": 41,
     "metadata": {},
     "output_type": "execute_result"
    }
   ],
   "source": [
    "b[0]"
   ]
  },
  {
   "cell_type": "code",
   "execution_count": 42,
   "metadata": {},
   "outputs": [
    {
     "data": {
      "text/plain": [
       "array([[[420., 472., 548., 559., 463., 407., 362., 405., 417., 391.]],\n",
       "\n",
       "       [[472., 548., 559., 463., 407., 362., 405., 417., 391., 419.]],\n",
       "\n",
       "       [[548., 559., 463., 407., 362., 405., 417., 391., 419., 461.]],\n",
       "\n",
       "       [[559., 463., 407., 362., 405., 417., 391., 419., 461., 472.]],\n",
       "\n",
       "       [[463., 407., 362., 405., 417., 391., 419., 461., 472., 535.]],\n",
       "\n",
       "       [[407., 362., 405., 417., 391., 419., 461., 472., 535., 622.]],\n",
       "\n",
       "       [[362., 405., 417., 391., 419., 461., 472., 535., 622., 606.]],\n",
       "\n",
       "       [[405., 417., 391., 419., 461., 472., 535., 622., 606., 508.]]])"
      ]
     },
     "execution_count": 42,
     "metadata": {},
     "output_type": "execute_result"
    }
   ],
   "source": [
    "b[1]"
   ]
  }
 ],
 "metadata": {
  "interpreter": {
   "hash": "31f2aee4e71d21fbe5cf8b01ff0e069b9275f58929596ceb00d14d90e3e16cd6"
  },
  "kernelspec": {
   "display_name": "Python 3 (ipykernel)",
   "language": "python",
   "name": "python3"
  },
  "language_info": {
   "codemirror_mode": {
    "name": "ipython",
    "version": 3
   },
   "file_extension": ".py",
   "mimetype": "text/x-python",
   "name": "python",
   "nbconvert_exporter": "python",
   "pygments_lexer": "ipython3",
   "version": "3.8.10"
  }
 },
 "nbformat": 4,
 "nbformat_minor": 2
}
