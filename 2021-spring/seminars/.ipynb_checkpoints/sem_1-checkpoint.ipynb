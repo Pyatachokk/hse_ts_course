{
 "cells": [
  {
   "cell_type": "markdown",
   "id": "ordinary-metropolitan",
   "metadata": {},
   "source": [
    "# Семинар 1. Вспомнить всё!"
   ]
  },
  {
   "cell_type": "markdown",
   "id": "academic-specific",
   "metadata": {},
   "source": [
    "План семинара:\n",
    "\n",
    "- [ ] Вспоминаем основные понятия из статистики: модели и оценки параметров\n",
    "- [ ] Вспоминаем методы оценок параметров. Основной -- ML.\n",
    "- [ ] Задача линейной регрессии\n",
    "- [ ] Вспоминаем тестирование гипотез"
   ]
  },
  {
   "cell_type": "markdown",
   "id": "common-lexington",
   "metadata": {},
   "source": [
    "Процессы в реальном мире можно представить с помощью случайных величин. Для этого мы предполагаем, что эти процессы или события имеют некоторое **распределение**. Далее нашей задачей является подбор таких параметров распределения, чтобы как можно лучше подогнать распределение под ту информацию, которую мы наблюдаем в реальности. Формализуем задачу.\n",
    "\n",
    "$X - \\text{некоторая случайная величина, которую мы хотим оценить}$\n",
    "\n",
    "$X_1 \\cdots X_n - \\text{n наблюдений о случайной величине}$ \n",
    "\n",
    "$\\text{Предполагаем, что }X_i \\sim f(\\theta), \\text{ где } \\theta - \\text{ некоторый набор параметров }$\n",
    "\n"
   ]
  },
  {
   "cell_type": "code",
   "execution_count": 1,
   "id": "needed-stroke",
   "metadata": {},
   "outputs": [],
   "source": [
    "import numpy as np\n",
    "import pandas as pd\n",
    "import scipy.stats as ss"
   ]
  },
  {
   "cell_type": "markdown",
   "id": "hourly-surprise",
   "metadata": {},
   "source": []
  }
 ],
 "metadata": {
  "kernelspec": {
   "display_name": "Python 3",
   "language": "python",
   "name": "python3"
  },
  "language_info": {
   "codemirror_mode": {
    "name": "ipython",
    "version": 3
   },
   "file_extension": ".py",
   "mimetype": "text/x-python",
   "name": "python",
   "nbconvert_exporter": "python",
   "pygments_lexer": "ipython3",
   "version": "3.9.2"
  }
 },
 "nbformat": 4,
 "nbformat_minor": 5
}
