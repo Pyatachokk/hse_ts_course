{
 "cells": [
  {
   "cell_type": "code",
   "execution_count": 6,
   "metadata": {},
   "outputs": [
    {
     "name": "stderr",
     "output_type": "stream",
     "text": [
      "/home/the_sun/.local/lib/python3.8/site-packages/sktime/forecasting/base/_base.py:1256: UserWarning: NotImplementedWarning: ExponentialSmoothing does not have a custom `update` method implemented. ExponentialSmoothing will be refit each time `update` is called.\n",
      "  warn(\n"
     ]
    },
    {
     "data": {
      "text/plain": [
       "14    0.451384\n",
       "15    0.451384\n",
       "16    0.451384\n",
       "17    0.451384\n",
       "18    0.451384\n",
       "dtype: float64"
      ]
     },
     "execution_count": 6,
     "metadata": {},
     "output_type": "execute_result"
    }
   ],
   "source": [
    "import pandas as pd\n",
    "import numpy as np\n",
    "from sktime.forecasting.exp_smoothing import ExponentialSmoothing\n",
    "\n",
    "fh = [1,2,3,4,5]\n",
    "\n",
    "forecaster = ExponentialSmoothing(smoothing_level=0.2)\n",
    "y = pd.Series([1, 0, 0, 1, 1, 1, 0, 1, 0, 1, 0, 0, 0, 1])\n",
    "y_train = y[:4]\n",
    "y_test  = y[4:]\n",
    "\n",
    "forecaster.fit(y_train, fh=fh)\n",
    "\n",
    "forecaster.update_predict_single(y_test)"
   ]
  }
 ],
 "metadata": {
  "interpreter": {
   "hash": "916dbcbb3f70747c44a77c7bcd40155683ae19c65e1c03b4aa3499c5328201f1"
  },
  "kernelspec": {
   "display_name": "Python 3 (ipykernel)",
   "language": "python",
   "name": "python3"
  },
  "language_info": {
   "codemirror_mode": {
    "name": "ipython",
    "version": 3
   },
   "file_extension": ".py",
   "mimetype": "text/x-python",
   "name": "python",
   "nbconvert_exporter": "python",
   "pygments_lexer": "ipython3",
   "version": "3.8.10"
  }
 },
 "nbformat": 4,
 "nbformat_minor": 2
}
