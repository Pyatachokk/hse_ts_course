{
 "cells": [
  {
   "cell_type": "code",
   "execution_count": 1,
   "metadata": {},
   "outputs": [],
   "source": [
    "#import the libraries\n",
    "\n",
    "import numpy as np\n",
    "import pandas as pd\n",
    "import statsmodels.api as sm\n",
    "import matplotlib.pyplot as plt\n",
    "\n",
    "#import the data\n",
    "\n",
    "df=sm.datasets.macrodata.load_pandas().data\n"
   ]
  },
  {
   "cell_type": "code",
   "execution_count": 2,
   "metadata": {},
   "outputs": [
    {
     "name": "stderr",
     "output_type": "stream",
     "text": [
      "C:\\Users\\zehov\\AppData\\Local\\Programs\\Python\\Python310\\lib\\site-packages\\statsmodels\\tsa\\statespace\\varmax.py:374: UserWarning: Non-stationary starting autoregressive parameters found. Using zeros as starting parameters.\n",
      "  warn('Non-stationary starting autoregressive parameters'\n",
      "C:\\Users\\zehov\\AppData\\Local\\Programs\\Python\\Python310\\lib\\site-packages\\statsmodels\\base\\model.py:604: ConvergenceWarning: Maximum Likelihood optimization failed to converge. Check mle_retvals\n",
      "  warnings.warn(\"Maximum Likelihood optimization failed to \"\n"
     ]
    },
    {
     "name": "stdout",
     "output_type": "stream",
     "text": [
      "                              Statespace Model Results                              \n",
      "====================================================================================\n",
      "Dep. Variable:     ['realgdp', 'm1', 'pop']   No. Observations:                  203\n",
      "Model:                               VAR(5)   Log Likelihood              -28011.546\n",
      "                                + intercept   AIC                          56131.092\n",
      "Date:                      Tue, 06 Jun 2023   BIC                          56310.005\n",
      "Time:                              17:47:37   HQIC                         56203.473\n",
      "Sample:                                   0                                         \n",
      "                                      - 203                                         \n",
      "Covariance Type:                        opg                                         \n",
      "========================================================================================\n",
      "Ljung-Box (L1) (Q):     197.30, 186.58, 94.06   Jarque-Bera (JB):   8.91, 20.52, 6269.38\n",
      "Prob(Q):                     0.00, 0.00, 0.00   Prob(JB):               0.01, 0.00, 0.00\n",
      "Heteroskedasticity (H):      0.27, 0.30, 0.39   Skew:                   0.30, 0.78, 3.29\n",
      "Prob(H) (two-sided):         0.00, 0.00, 0.00   Kurtosis:              2.17, 2.92, 29.42\n",
      "                         Results for equation realgdp                         \n",
      "==============================================================================\n",
      "                 coef    std err          z      P>|z|      [0.025      0.975]\n",
      "------------------------------------------------------------------------------\n",
      "drift         66.5485      7.977      8.342      0.000      50.913      82.184\n",
      "L1.realgdp     0.1917      0.041      4.694      0.000       0.112       0.272\n",
      "L1.m1          0.2971      0.207      1.437      0.151      -0.108       0.702\n",
      "L1.pop       -12.1566     13.876     -0.876      0.381     -39.353      15.040\n",
      "L2.realgdp     0.0718      0.033      2.147      0.032       0.006       0.137\n",
      "L2.m1         -0.1789      0.162     -1.104      0.270      -0.496       0.139\n",
      "L2.pop        -0.5561      8.951     -0.062      0.950     -18.099      16.987\n",
      "L3.realgdp     0.0503      0.034      1.472      0.141      -0.017       0.117\n",
      "L3.m1         -0.5335      0.192     -2.782      0.005      -0.909      -0.158\n",
      "L3.pop         5.7404      8.982      0.639      0.523     -11.864      23.345\n",
      "L4.realgdp    -0.0160      0.050     -0.321      0.749      -0.114       0.082\n",
      "L4.m1         -0.8293      0.248     -3.345      0.001      -1.315      -0.343\n",
      "L4.pop         6.7689      9.934      0.681      0.496     -12.701      26.239\n",
      "L5.realgdp    -0.1750      0.073     -2.391      0.017      -0.318      -0.032\n",
      "L5.m1         -1.3849      0.303     -4.574      0.000      -1.978      -0.791\n",
      "L5.pop         5.1038     13.118      0.389      0.697     -20.606      30.814\n",
      "                           Results for equation m1                            \n",
      "==============================================================================\n",
      "                 coef    std err          z      P>|z|      [0.025      0.975]\n",
      "------------------------------------------------------------------------------\n",
      "drift          6.6349      1.860      3.566      0.000       2.988      10.281\n",
      "L1.realgdp     0.0259      0.010      2.572      0.010       0.006       0.046\n",
      "L1.m1          0.0495      0.037      1.331      0.183      -0.023       0.122\n",
      "L1.pop         1.7422      2.790      0.624      0.532      -3.726       7.211\n",
      "L2.realgdp    -0.0064      0.008     -0.795      0.427      -0.022       0.009\n",
      "L2.m1          0.1266      0.022      5.777      0.000       0.084       0.170\n",
      "L2.pop         1.3973      2.853      0.490      0.624      -4.194       6.989\n",
      "L3.realgdp    -0.0176      0.009     -2.052      0.040      -0.034      -0.001\n",
      "L3.m1          0.1821      0.040      4.549      0.000       0.104       0.261\n",
      "L3.pop        -0.4586      2.248     -0.204      0.838      -4.865       3.948\n",
      "L4.realgdp    -0.0254      0.013     -2.013      0.044      -0.050      -0.001\n",
      "L4.m1          0.1741      0.061      2.850      0.004       0.054       0.294\n",
      "L4.pop        -1.6395      2.986     -0.549      0.583      -7.491       4.213\n",
      "L5.realgdp    -0.0389      0.018     -2.221      0.026      -0.073      -0.005\n",
      "L5.m1          0.1029      0.068      1.514      0.130      -0.030       0.236\n",
      "L5.pop        -1.0420      3.486     -0.299      0.765      -7.875       5.791\n",
      "                           Results for equation pop                           \n",
      "==============================================================================\n",
      "                 coef    std err          z      P>|z|      [0.025      0.975]\n",
      "------------------------------------------------------------------------------\n",
      "drift          0.8753      0.204      4.287      0.000       0.475       1.275\n",
      "L1.realgdp     0.0027      0.003      1.089      0.276      -0.002       0.008\n",
      "L1.m1          0.0158      0.017      0.918      0.358      -0.018       0.050\n",
      "L1.pop        -0.5645      0.496     -1.139      0.255      -1.536       0.407\n",
      "L2.realgdp    -0.0002      0.003     -0.067      0.946      -0.006       0.005\n",
      "L2.m1          0.0017      0.017      0.098      0.922      -0.032       0.035\n",
      "L2.pop         0.1111      0.511      0.217      0.828      -0.891       1.113\n",
      "L3.realgdp    -0.0017      0.003     -0.636      0.525      -0.007       0.004\n",
      "L3.m1         -0.0093      0.019     -0.491      0.623      -0.047       0.028\n",
      "L3.pop         0.5301      1.001      0.530      0.596      -1.432       2.492\n",
      "L4.realgdp    -0.0039      0.003     -1.424      0.155      -0.009       0.001\n",
      "L4.m1         -0.0166      0.020     -0.814      0.416      -0.057       0.023\n",
      "L4.pop         0.5808      1.378      0.422      0.673      -2.120       3.281\n",
      "L5.realgdp    -0.0076      0.002     -3.486      0.000      -0.012      -0.003\n",
      "L5.m1         -0.0281      0.013     -2.080      0.038      -0.055      -0.002\n",
      "L5.pop         0.3827      0.895      0.428      0.669      -1.371       2.137\n",
      "                                Error covariance matrix                                 \n",
      "========================================================================================\n",
      "                           coef    std err          z      P>|z|      [0.025      0.975]\n",
      "----------------------------------------------------------------------------------------\n",
      "sqrt.var.realgdp        53.0863      6.836      7.765      0.000      39.687      66.485\n",
      "sqrt.cov.realgdp.m1     -1.6864      1.378     -1.224      0.221      -4.386       1.014\n",
      "sqrt.var.m1             10.1236      0.405     24.990      0.000       9.330      10.918\n",
      "sqrt.cov.realgdp.pop     0.7487      0.361      2.077      0.038       0.042       1.455\n",
      "sqrt.cov.m1.pop          0.2113      0.356      0.594      0.553      -0.486       0.909\n",
      "sqrt.var.pop             1.3383      0.268      4.985      0.000       0.812       1.864\n",
      "========================================================================================\n",
      "\n",
      "Warnings:\n",
      "[1] Covariance matrix calculated using the outer product of gradients (complex-step).\n",
      "[2] Covariance matrix is singular or near-singular, with condition number 7.85e+16. Standard errors may be unstable.\n"
     ]
    }
   ],
   "source": [
    "\n",
    "#run the model\n",
    "\n",
    "mod = sm.tsa.VARMAX(df.loc[:, ('realgdp', 'm1', 'pop')], order=(5,  0), trend='t')\n",
    "res = mod.fit(maxiter=100, disp=True)\n",
    "print(res.summary())"
   ]
  },
  {
   "cell_type": "code",
   "execution_count": 26,
   "metadata": {},
   "outputs": [
    {
     "name": "stdout",
     "output_type": "stream",
     "text": [
      "Help on method impulse_responses in module statsmodels.tsa.statespace.mlemodel:\n",
      "\n",
      "impulse_responses(steps=1, impulse=0, orthogonalized=False, cumulative=False, **kwargs) method of statsmodels.tsa.statespace.varmax.VARMAXResultsWrapper instance\n",
      "    impulse_responses(self, steps=1, impulse=0, orthogonalized=False, cumulative=False, **kwargs)\n",
      "    \n",
      "    Impulse response function\n",
      "    \n",
      "    Parameters\n",
      "    ----------\n",
      "    steps : int, optional\n",
      "        The number of steps for which impulse responses are calculated.\n",
      "        Default is 1. Note that for time-invariant models, the initial\n",
      "        impulse is not counted as a step, so if `steps=1`, the output will\n",
      "        have 2 entries.\n",
      "    impulse : int, str or array_like\n",
      "        If an integer, the state innovation to pulse; must be between 0\n",
      "        and `k_posdef-1`. If a str, it indicates which column of df\n",
      "        the unit (1) impulse is given.\n",
      "        Alternatively, a custom impulse vector may be provided; must be\n",
      "        shaped `k_posdef x 1`.\n",
      "    orthogonalized : bool, optional\n",
      "        Whether or not to perform impulse using orthogonalized innovations.\n",
      "        Note that this will also affect custum `impulse` vectors. Default\n",
      "        is False.\n",
      "    cumulative : bool, optional\n",
      "        Whether or not to return cumulative impulse responses. Default is\n",
      "        False.\n",
      "    anchor : int, str, or datetime, optional\n",
      "        Time point within the sample for the state innovation impulse. Type\n",
      "        depends on the index of the given `endog` in the model. Two special\n",
      "        cases are the strings 'start' and 'end', which refer to setting the\n",
      "        impulse at the first and last points of the sample, respectively.\n",
      "        Integer values can run from 0 to `nobs - 1`, or can be negative to\n",
      "        apply negative indexing. Finally, if a date/time index was provided\n",
      "        to the model, then this argument can be a date string to parse or a\n",
      "        datetime type. Default is 'start'.\n",
      "    exog : array_like, optional\n",
      "        New observations of exogenous regressors, if applicable.\n",
      "    **kwargs\n",
      "        If the model has time-varying design or transition matrices and the\n",
      "        combination of `anchor` and `steps` implies creating impulse\n",
      "        responses for the out-of-sample period, then these matrices must\n",
      "        have updated values provided for the out-of-sample steps. For\n",
      "        example, if `design` is a time-varying component, `nobs` is 10,\n",
      "        `anchor=1`, and `steps` is 15, a (`k_endog` x `k_states` x 7)\n",
      "        matrix must be provided with the new design matrix values.\n",
      "    \n",
      "    Returns\n",
      "    -------\n",
      "    impulse_responses : ndarray\n",
      "        Responses for each endogenous variable due to the impulse\n",
      "        given by the `impulse` argument. For a time-invariant model, the\n",
      "        impulse responses are given for `steps + 1` elements (this gives\n",
      "        the \"initial impulse\" followed by `steps` responses for the\n",
      "        important cases of VAR and SARIMAX models), while for time-varying\n",
      "        models the impulse responses are only given for `steps` elements\n",
      "        (to avoid having to unexpectedly provide updated time-varying\n",
      "        matrices).\n",
      "    \n",
      "    See Also\n",
      "    --------\n",
      "    simulate\n",
      "        Simulate a time series according to the given state space model,\n",
      "        optionally with specified series for the innovations.\n",
      "    \n",
      "    Notes\n",
      "    -----\n",
      "    Intercepts in the measurement and state equation are ignored when\n",
      "    calculating impulse responses.\n",
      "\n"
     ]
    }
   ],
   "source": [
    "help(res.impulse_responses)"
   ]
  },
  {
   "cell_type": "code",
   "execution_count": 9,
   "metadata": {},
   "outputs": [
    {
     "data": {
      "text/plain": [
       "<AxesSubplot: >"
      ]
     },
     "execution_count": 9,
     "metadata": {},
     "output_type": "execute_result"
    },
    {
     "data": {
      "image/png": "[encoded data removed]",
      "text/plain": [
       "<Figure size 864x432 with 1 Axes>"
      ]
     },
     "metadata": {
      "needs_background": "light"
     },
     "output_type": "display_data"
    }
   ],
   "source": [
    "res.impulse_responses(30, 2, orthogonalized=True, cumulative=True).plot(figsize=(12, 6))"
   ]
  }
 ],
 "metadata": {
  "kernelspec": {
   "display_name": "Python 3 (ipykernel)",
   "language": "python",
   "name": "python3"
  },
  "language_info": {
   "codemirror_mode": {
    "name": "ipython",
    "version": 3
   },
   "file_extension": ".py",
   "mimetype": "text/x-python",
   "name": "python",
   "nbconvert_exporter": "python",
   "pygments_lexer": "ipython3",
   "version": "3.10.5"
  }
 },
 "nbformat": 4,
 "nbformat_minor": 2
}
