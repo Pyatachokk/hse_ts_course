{
 "cells": [
  {
   "cell_type": "markdown",
   "metadata": {},
   "source": [
    "# Feature Calculator Settings"
   ]
  },
  {
   "cell_type": "markdown",
   "metadata": {},
   "source": [
    "By default, all feature calculators are used when you call `extract_features`.\n",
    "There could be multiple reasons why you do not want that:\n",
    "* you are only interested on a certain feature (or features)\n",
    "* you want to save time during extraction\n",
    "* you have ran the feature selection before and already know, which features are relevant\n",
    "\n",
    "For more information on these settings, please have a look into [the documentation](http://tsfresh.readthedocs.io/en/latest/text/feature_extraction_settings.html)."
   ]
  },
  {
   "cell_type": "code",
   "execution_count": 1,
   "metadata": {},
   "outputs": [],
   "source": [
    "from tsfresh.feature_extraction import extract_features\n",
    "from tsfresh.feature_extraction import settings\n",
    "\n",
    "import numpy as np\n",
    "import pandas as pd"
   ]
  },
  {
   "cell_type": "markdown",
   "metadata": {},
   "source": [
    "## Construct a time series container"
   ]
  },
  {
   "cell_type": "markdown",
   "metadata": {},
   "source": [
    "For testing, we construct the time series container that includes two sensor time series, \"temperature\" and \"pressure\", for two devices \"a\" and \"b\"."
   ]
  },
  {
   "cell_type": "code",
   "execution_count": 2,
   "metadata": {},
   "outputs": [
    {
     "data": {
      "text/html": [
       "<div>\n",
       "<style scoped>\n",
       "    .dataframe tbody tr th:only-of-type {\n",
       "        vertical-align: middle;\n",
       "    }\n",
       "\n",
       "    .dataframe tbody tr th {\n",
       "        vertical-align: top;\n",
       "    }\n",
       "\n",
       "    .dataframe thead th {\n",
       "        text-align: right;\n",
       "    }\n",
       "</style>\n",
       "<table border=\"1\" class=\"dataframe\">\n",
       "  <thead>\n",
       "    <tr style=\"text-align: right;\">\n",
       "      <th></th>\n",
       "      <th>id</th>\n",
       "      <th>temperature</th>\n",
       "      <th>pressure</th>\n",
       "    </tr>\n",
       "  </thead>\n",
       "  <tbody>\n",
       "    <tr>\n",
       "      <th>0</th>\n",
       "      <td>a</td>\n",
       "      <td>1</td>\n",
       "      <td>-1</td>\n",
       "    </tr>\n",
       "    <tr>\n",
       "      <th>1</th>\n",
       "      <td>a</td>\n",
       "      <td>2</td>\n",
       "      <td>2</td>\n",
       "    </tr>\n",
       "    <tr>\n",
       "      <th>2</th>\n",
       "      <td>b</td>\n",
       "      <td>3</td>\n",
       "      <td>-1</td>\n",
       "    </tr>\n",
       "    <tr>\n",
       "      <th>3</th>\n",
       "      <td>b</td>\n",
       "      <td>1</td>\n",
       "      <td>7</td>\n",
       "    </tr>\n",
       "  </tbody>\n",
       "</table>\n",
       "</div>"
      ],
      "text/plain": [
       "  id  temperature  pressure\n",
       "0  a            1        -1\n",
       "1  a            2         2\n",
       "2  b            3        -1\n",
       "3  b            1         7"
      ]
     },
     "execution_count": 2,
     "metadata": {},
     "output_type": "execute_result"
    }
   ],
   "source": [
    "df = pd.DataFrame({\"id\": [\"a\", \"a\", \"b\", \"b\"], \"temperature\": [1,2,3,1], \"pressure\": [-1, 2, -1, 7]})\n",
    "df"
   ]
  },
  {
   "cell_type": "markdown",
   "metadata": {},
   "source": [
    "## The `default_fc_parameters`"
   ]
  },
  {
   "cell_type": "markdown",
   "metadata": {},
   "source": [
    "Which features are calculated by `tsfresh` is controlled by a dictionary that contains a mapping from feature calculator names to their parameters. \n",
    "This dictionary is called `fc_parameters`. \n",
    "It maps feature calculator names (= keys) to parameters (= values). \n",
    "Every key in the dictionary will be looked up as a function in `tsfresh.feature_extraction.feature_calculators` and be used to extract features.\n",
    "\n",
    "`tsfresh` comes with some predefined sets of `fc_parameters` dictionaries:"
   ]
  },
  {
   "cell_type": "code",
   "execution_count": 3,
   "metadata": {},
   "outputs": [
    {
     "data": {
      "text/plain": [
       "(tsfresh.feature_extraction.settings.ComprehensiveFCParameters,\n",
       " tsfresh.feature_extraction.settings.EfficientFCParameters,\n",
       " tsfresh.feature_extraction.settings.MinimalFCParameters)"
      ]
     },
     "execution_count": 3,
     "metadata": {},
     "output_type": "execute_result"
    }
   ],
   "source": [
    "settings.ComprehensiveFCParameters, settings.EfficientFCParameters, settings.MinimalFCParameters"
   ]
  },
  {
   "cell_type": "markdown",
   "metadata": {},
   "source": [
    "For example, to only calculate a very minimal set of features:"
   ]
  },
  {
   "cell_type": "code",
   "execution_count": 4,
   "metadata": {},
   "outputs": [
    {
     "data": {
      "text/plain": [
       "{'sum_values': None, 'median': None, 'mean': None, 'length': None, 'standard_deviation': None, 'variance': None, 'root_mean_square': None, 'maximum': None, 'absolute_maximum': None, 'minimum': None}"
      ]
     },
     "execution_count": 4,
     "metadata": {},
     "output_type": "execute_result"
    }
   ],
   "source": [
    "settings_minimal = settings.MinimalFCParameters() \n",
    "settings_minimal"
   ]
  },
  {
   "cell_type": "markdown",
   "metadata": {},
   "source": [
    "Each key stands for one of the feature calculators. \n",
    "The value are the parameters. If a feature calculator has no parameters, `None` is used as a value (and as these feature calculators are very simple, they all have no parameters)."
   ]
  },
  {
   "cell_type": "markdown",
   "metadata": {},
   "source": [
    "This dictionary can passed to the extract method, resulting in a few basic time series beeing calculated:"
   ]
  },
  {
   "cell_type": "code",
   "execution_count": 5,
   "metadata": {},
   "outputs": [
    {
     "name": "stderr",
     "output_type": "stream",
     "text": [
      "Feature Extraction: 100%|██████████| 4/4 [00:02<00:00,  1.93it/s]\n"
     ]
    },
    {
     "data": {
      "text/html": [
       "<div>\n",
       "<style scoped>\n",
       "    .dataframe tbody tr th:only-of-type {\n",
       "        vertical-align: middle;\n",
       "    }\n",
       "\n",
       "    .dataframe tbody tr th {\n",
       "        vertical-align: top;\n",
       "    }\n",
       "\n",
       "    .dataframe thead th {\n",
       "        text-align: right;\n",
       "    }\n",
       "</style>\n",
       "<table border=\"1\" class=\"dataframe\">\n",
       "  <thead>\n",
       "    <tr style=\"text-align: right;\">\n",
       "      <th></th>\n",
       "      <th>temperature__sum_values</th>\n",
       "      <th>temperature__median</th>\n",
       "      <th>temperature__mean</th>\n",
       "      <th>temperature__length</th>\n",
       "      <th>temperature__standard_deviation</th>\n",
       "      <th>temperature__variance</th>\n",
       "      <th>temperature__root_mean_square</th>\n",
       "      <th>temperature__maximum</th>\n",
       "      <th>temperature__absolute_maximum</th>\n",
       "      <th>temperature__minimum</th>\n",
       "      <th>pressure__sum_values</th>\n",
       "      <th>pressure__median</th>\n",
       "      <th>pressure__mean</th>\n",
       "      <th>pressure__length</th>\n",
       "      <th>pressure__standard_deviation</th>\n",
       "      <th>pressure__variance</th>\n",
       "      <th>pressure__root_mean_square</th>\n",
       "      <th>pressure__maximum</th>\n",
       "      <th>pressure__absolute_maximum</th>\n",
       "      <th>pressure__minimum</th>\n",
       "    </tr>\n",
       "  </thead>\n",
       "  <tbody>\n",
       "    <tr>\n",
       "      <th>a</th>\n",
       "      <td>3.0</td>\n",
       "      <td>1.5</td>\n",
       "      <td>1.5</td>\n",
       "      <td>2.0</td>\n",
       "      <td>0.5</td>\n",
       "      <td>0.25</td>\n",
       "      <td>1.581139</td>\n",
       "      <td>2.0</td>\n",
       "      <td>2.0</td>\n",
       "      <td>1.0</td>\n",
       "      <td>1.0</td>\n",
       "      <td>0.5</td>\n",
       "      <td>0.5</td>\n",
       "      <td>2.0</td>\n",
       "      <td>1.5</td>\n",
       "      <td>2.25</td>\n",
       "      <td>1.581139</td>\n",
       "      <td>2.0</td>\n",
       "      <td>2.0</td>\n",
       "      <td>-1.0</td>\n",
       "    </tr>\n",
       "    <tr>\n",
       "      <th>b</th>\n",
       "      <td>4.0</td>\n",
       "      <td>2.0</td>\n",
       "      <td>2.0</td>\n",
       "      <td>2.0</td>\n",
       "      <td>1.0</td>\n",
       "      <td>1.00</td>\n",
       "      <td>2.236068</td>\n",
       "      <td>3.0</td>\n",
       "      <td>3.0</td>\n",
       "      <td>1.0</td>\n",
       "      <td>6.0</td>\n",
       "      <td>3.0</td>\n",
       "      <td>3.0</td>\n",
       "      <td>2.0</td>\n",
       "      <td>4.0</td>\n",
       "      <td>16.00</td>\n",
       "      <td>5.000000</td>\n",
       "      <td>7.0</td>\n",
       "      <td>7.0</td>\n",
       "      <td>-1.0</td>\n",
       "    </tr>\n",
       "  </tbody>\n",
       "</table>\n",
       "</div>"
      ],
      "text/plain": [
       "   temperature__sum_values  temperature__median  temperature__mean  \\\n",
       "a                      3.0                  1.5                1.5   \n",
       "b                      4.0                  2.0                2.0   \n",
       "\n",
       "   temperature__length  temperature__standard_deviation  \\\n",
       "a                  2.0                              0.5   \n",
       "b                  2.0                              1.0   \n",
       "\n",
       "   temperature__variance  temperature__root_mean_square  temperature__maximum  \\\n",
       "a                   0.25                       1.581139                   2.0   \n",
       "b                   1.00                       2.236068                   3.0   \n",
       "\n",
       "   temperature__absolute_maximum  temperature__minimum  pressure__sum_values  \\\n",
       "a                            2.0                   1.0                   1.0   \n",
       "b                            3.0                   1.0                   6.0   \n",
       "\n",
       "   pressure__median  pressure__mean  pressure__length  \\\n",
       "a               0.5             0.5               2.0   \n",
       "b               3.0             3.0               2.0   \n",
       "\n",
       "   pressure__standard_deviation  pressure__variance  \\\n",
       "a                           1.5                2.25   \n",
       "b                           4.0               16.00   \n",
       "\n",
       "   pressure__root_mean_square  pressure__maximum  pressure__absolute_maximum  \\\n",
       "a                    1.581139                2.0                         2.0   \n",
       "b                    5.000000                7.0                         7.0   \n",
       "\n",
       "   pressure__minimum  \n",
       "a               -1.0  \n",
       "b               -1.0  "
      ]
     },
     "execution_count": 5,
     "metadata": {},
     "output_type": "execute_result"
    }
   ],
   "source": [
    "X_tsfresh = extract_features(df, column_id=\"id\", default_fc_parameters=settings_minimal)\n",
    "X_tsfresh.head()"
   ]
  },
  {
   "cell_type": "markdown",
   "metadata": {},
   "source": [
    "By using the settings_minimal as value of the default_fc_parameters parameter, those settings are used for all type of time series. \n",
    "In this case, the `settings_minimal` dictionary is used for both \"temperature\" and \"pressure\" time series.\n",
    "\n",
    "Please note how the columns in the resulting dataframe depend both on the settings as well as the kinds of the data."
   ]
  },
  {
   "cell_type": "markdown",
   "metadata": {},
   "source": [
    "Now, lets say we want to remove the length feature and prevent it from beeing calculated. We just delete it from the dictionary."
   ]
  },
  {
   "cell_type": "code",
   "execution_count": 6,
   "metadata": {},
   "outputs": [
    {
     "data": {
      "text/plain": [
       "{'sum_values': None, 'median': None, 'mean': None, 'standard_deviation': None, 'variance': None, 'root_mean_square': None, 'maximum': None, 'absolute_maximum': None, 'minimum': None}"
      ]
     },
     "execution_count": 6,
     "metadata": {},
     "output_type": "execute_result"
    }
   ],
   "source": [
    "del settings_minimal[\"length\"]\n",
    "settings_minimal"
   ]
  },
  {
   "cell_type": "markdown",
   "metadata": {},
   "source": [
    "Now, if we extract features for this reduced dictionary, the length feature will not be calculated"
   ]
  },
  {
   "cell_type": "code",
   "execution_count": 7,
   "metadata": {},
   "outputs": [
    {
     "name": "stderr",
     "output_type": "stream",
     "text": [
      "Feature Extraction: 100%|██████████| 4/4 [00:02<00:00,  1.95it/s]\n"
     ]
    },
    {
     "data": {
      "text/html": [
       "<div>\n",
       "<style scoped>\n",
       "    .dataframe tbody tr th:only-of-type {\n",
       "        vertical-align: middle;\n",
       "    }\n",
       "\n",
       "    .dataframe tbody tr th {\n",
       "        vertical-align: top;\n",
       "    }\n",
       "\n",
       "    .dataframe thead th {\n",
       "        text-align: right;\n",
       "    }\n",
       "</style>\n",
       "<table border=\"1\" class=\"dataframe\">\n",
       "  <thead>\n",
       "    <tr style=\"text-align: right;\">\n",
       "      <th></th>\n",
       "      <th>temperature__sum_values</th>\n",
       "      <th>temperature__median</th>\n",
       "      <th>temperature__mean</th>\n",
       "      <th>temperature__standard_deviation</th>\n",
       "      <th>temperature__variance</th>\n",
       "      <th>temperature__root_mean_square</th>\n",
       "      <th>temperature__maximum</th>\n",
       "      <th>temperature__absolute_maximum</th>\n",
       "      <th>temperature__minimum</th>\n",
       "      <th>pressure__sum_values</th>\n",
       "      <th>pressure__median</th>\n",
       "      <th>pressure__mean</th>\n",
       "      <th>pressure__standard_deviation</th>\n",
       "      <th>pressure__variance</th>\n",
       "      <th>pressure__root_mean_square</th>\n",
       "      <th>pressure__maximum</th>\n",
       "      <th>pressure__absolute_maximum</th>\n",
       "      <th>pressure__minimum</th>\n",
       "    </tr>\n",
       "  </thead>\n",
       "  <tbody>\n",
       "    <tr>\n",
       "      <th>a</th>\n",
       "      <td>3.0</td>\n",
       "      <td>1.5</td>\n",
       "      <td>1.5</td>\n",
       "      <td>0.5</td>\n",
       "      <td>0.25</td>\n",
       "      <td>1.581139</td>\n",
       "      <td>2.0</td>\n",
       "      <td>2.0</td>\n",
       "      <td>1.0</td>\n",
       "      <td>1.0</td>\n",
       "      <td>0.5</td>\n",
       "      <td>0.5</td>\n",
       "      <td>1.5</td>\n",
       "      <td>2.25</td>\n",
       "      <td>1.581139</td>\n",
       "      <td>2.0</td>\n",
       "      <td>2.0</td>\n",
       "      <td>-1.0</td>\n",
       "    </tr>\n",
       "    <tr>\n",
       "      <th>b</th>\n",
       "      <td>4.0</td>\n",
       "      <td>2.0</td>\n",
       "      <td>2.0</td>\n",
       "      <td>1.0</td>\n",
       "      <td>1.00</td>\n",
       "      <td>2.236068</td>\n",
       "      <td>3.0</td>\n",
       "      <td>3.0</td>\n",
       "      <td>1.0</td>\n",
       "      <td>6.0</td>\n",
       "      <td>3.0</td>\n",
       "      <td>3.0</td>\n",
       "      <td>4.0</td>\n",
       "      <td>16.00</td>\n",
       "      <td>5.000000</td>\n",
       "      <td>7.0</td>\n",
       "      <td>7.0</td>\n",
       "      <td>-1.0</td>\n",
       "    </tr>\n",
       "  </tbody>\n",
       "</table>\n",
       "</div>"
      ],
      "text/plain": [
       "   temperature__sum_values  temperature__median  temperature__mean  \\\n",
       "a                      3.0                  1.5                1.5   \n",
       "b                      4.0                  2.0                2.0   \n",
       "\n",
       "   temperature__standard_deviation  temperature__variance  \\\n",
       "a                              0.5                   0.25   \n",
       "b                              1.0                   1.00   \n",
       "\n",
       "   temperature__root_mean_square  temperature__maximum  \\\n",
       "a                       1.581139                   2.0   \n",
       "b                       2.236068                   3.0   \n",
       "\n",
       "   temperature__absolute_maximum  temperature__minimum  pressure__sum_values  \\\n",
       "a                            2.0                   1.0                   1.0   \n",
       "b                            3.0                   1.0                   6.0   \n",
       "\n",
       "   pressure__median  pressure__mean  pressure__standard_deviation  \\\n",
       "a               0.5             0.5                           1.5   \n",
       "b               3.0             3.0                           4.0   \n",
       "\n",
       "   pressure__variance  pressure__root_mean_square  pressure__maximum  \\\n",
       "a                2.25                    1.581139                2.0   \n",
       "b               16.00                    5.000000                7.0   \n",
       "\n",
       "   pressure__absolute_maximum  pressure__minimum  \n",
       "a                         2.0               -1.0  \n",
       "b                         7.0               -1.0  "
      ]
     },
     "execution_count": 7,
     "metadata": {},
     "output_type": "execute_result"
    }
   ],
   "source": [
    "X_tsfresh = extract_features(df, column_id=\"id\", default_fc_parameters=settings_minimal)\n",
    "X_tsfresh.head()"
   ]
  },
  {
   "cell_type": "markdown",
   "metadata": {},
   "source": [
    "## The `kind_to_fc_parameters`"
   ]
  },
  {
   "cell_type": "markdown",
   "metadata": {},
   "source": [
    "Now, lets say we do not want to calculate the same features for both type of time series. Instead there should be different sets of features for each kind.\n",
    "\n",
    "To do that, we can use the `kind_to_fc_parameters` parameter, which lets us specifiy which `fc_parameters` we want to use for which kind of time series:"
   ]
  },
  {
   "cell_type": "code",
   "execution_count": 8,
   "metadata": {},
   "outputs": [
    {
     "name": "stdout",
     "output_type": "stream",
     "text": [
      "{'temperature': {'maximum': None, 'minimum': None}, 'pressure': {'length': None, 'sum_values': None}}\n"
     ]
    }
   ],
   "source": [
    "fc_parameters_pressure = {\"length\": None, \n",
    "                          \"sum_values\": None}\n",
    "\n",
    "fc_parameters_temperature = {\"maximum\": None, \n",
    "                             \"minimum\": None}\n",
    "\n",
    "kind_to_fc_parameters = {\n",
    "    \"temperature\": fc_parameters_temperature,\n",
    "    \"pressure\": fc_parameters_pressure\n",
    "}\n",
    "\n",
    "print(kind_to_fc_parameters)"
   ]
  },
  {
   "cell_type": "markdown",
   "metadata": {},
   "source": [
    "So, in this case, for sensor \"pressure\" both \"max\" and \"min\" are calculated. \n",
    "For the \"temperature\" signal, the length and sum\\_values features are extracted instead."
   ]
  },
  {
   "cell_type": "code",
   "execution_count": 9,
   "metadata": {},
   "outputs": [
    {
     "name": "stderr",
     "output_type": "stream",
     "text": [
      "Feature Extraction: 100%|██████████| 4/4 [00:02<00:00,  1.88it/s]\n"
     ]
    },
    {
     "data": {
      "text/html": [
       "<div>\n",
       "<style scoped>\n",
       "    .dataframe tbody tr th:only-of-type {\n",
       "        vertical-align: middle;\n",
       "    }\n",
       "\n",
       "    .dataframe tbody tr th {\n",
       "        vertical-align: top;\n",
       "    }\n",
       "\n",
       "    .dataframe thead th {\n",
       "        text-align: right;\n",
       "    }\n",
       "</style>\n",
       "<table border=\"1\" class=\"dataframe\">\n",
       "  <thead>\n",
       "    <tr style=\"text-align: right;\">\n",
       "      <th></th>\n",
       "      <th>temperature__maximum</th>\n",
       "      <th>temperature__minimum</th>\n",
       "      <th>pressure__length</th>\n",
       "      <th>pressure__sum_values</th>\n",
       "    </tr>\n",
       "  </thead>\n",
       "  <tbody>\n",
       "    <tr>\n",
       "      <th>a</th>\n",
       "      <td>2.0</td>\n",
       "      <td>1.0</td>\n",
       "      <td>2.0</td>\n",
       "      <td>1.0</td>\n",
       "    </tr>\n",
       "    <tr>\n",
       "      <th>b</th>\n",
       "      <td>3.0</td>\n",
       "      <td>1.0</td>\n",
       "      <td>2.0</td>\n",
       "      <td>6.0</td>\n",
       "    </tr>\n",
       "  </tbody>\n",
       "</table>\n",
       "</div>"
      ],
      "text/plain": [
       "   temperature__maximum  temperature__minimum  pressure__length  \\\n",
       "a                   2.0                   1.0               2.0   \n",
       "b                   3.0                   1.0               2.0   \n",
       "\n",
       "   pressure__sum_values  \n",
       "a                   1.0  \n",
       "b                   6.0  "
      ]
     },
     "execution_count": 9,
     "metadata": {},
     "output_type": "execute_result"
    }
   ],
   "source": [
    "X_tsfresh = extract_features(df, column_id=\"id\", kind_to_fc_parameters=kind_to_fc_parameters)\n",
    "X_tsfresh.head()"
   ]
  },
  {
   "cell_type": "markdown",
   "metadata": {},
   "source": [
    "### Extracting from data"
   ]
  },
  {
   "cell_type": "markdown",
   "metadata": {},
   "source": [
    "After applying a feature selection algorithm to drop irrelevant feature columns you know which features are relevant and which are not.\n",
    "You can also use this information to only extract these relevant features in the first place.\n",
    "\n",
    "The provided `from_columns` method can be used to infer a settings dictionary from the dataframe containing the features.\n",
    "This dictionary can then for example be stored and be used in the next feature extraction."
   ]
  },
  {
   "cell_type": "code",
   "execution_count": 10,
   "metadata": {},
   "outputs": [
    {
     "data": {
      "text/plain": [
       "{'temperature': {'maximum': None, 'minimum': None},\n",
       " 'pressure': {'length': None, 'sum_values': None}}"
      ]
     },
     "execution_count": 10,
     "metadata": {},
     "output_type": "execute_result"
    }
   ],
   "source": [
    "# Assuming `X_tsfresh` contains only our relevant features\n",
    "relevant_settings = settings.from_columns(X_tsfresh)\n",
    "relevant_settings"
   ]
  },
  {
   "cell_type": "markdown",
   "metadata": {},
   "source": [
    "## More complex dictionaries"
   ]
  },
  {
   "cell_type": "markdown",
   "metadata": {},
   "source": [
    "We provide `fc_parameters` dictionaries with larger sets of features.\n",
    "\n",
    "The `EfficientFCParameters` contain features and parameters that should be calculated quite fast:"
   ]
  },
  {
   "cell_type": "code",
   "execution_count": 11,
   "metadata": {
    "scrolled": true
   },
   "outputs": [
    {
     "data": {
      "text/plain": [
       "{'variance_larger_than_standard_deviation': None, 'has_duplicate_max': None, 'has_duplicate_min': None, 'has_duplicate': None, 'sum_values': None, 'abs_energy': None, 'mean_abs_change': None, 'mean_change': None, 'mean_second_derivative_central': None, 'median': None, 'mean': None, 'length': None, 'standard_deviation': None, 'variation_coefficient': None, 'variance': None, 'skewness': None, 'kurtosis': None, 'root_mean_square': None, 'absolute_sum_of_changes': None, 'longest_strike_below_mean': None, 'longest_strike_above_mean': None, 'count_above_mean': None, 'count_below_mean': None, 'last_location_of_maximum': None, 'first_location_of_maximum': None, 'last_location_of_minimum': None, 'first_location_of_minimum': None, 'percentage_of_reoccurring_values_to_all_values': None, 'percentage_of_reoccurring_datapoints_to_all_datapoints': None, 'sum_of_reoccurring_values': None, 'sum_of_reoccurring_data_points': None, 'ratio_value_number_to_time_series_length': None, 'maximum': None, 'absolute_maximum': None, 'minimum': None, 'benford_correlation': None, 'time_reversal_asymmetry_statistic': [{'lag': 1}, {'lag': 2}, {'lag': 3}], 'c3': [{'lag': 1}, {'lag': 2}, {'lag': 3}], 'cid_ce': [{'normalize': True}, {'normalize': False}], 'symmetry_looking': [{'r': 0.0}, {'r': 0.05}, {'r': 0.1}, {'r': 0.15000000000000002}, {'r': 0.2}, {'r': 0.25}, {'r': 0.30000000000000004}, {'r': 0.35000000000000003}, {'r': 0.4}, {'r': 0.45}, {'r': 0.5}, {'r': 0.55}, {'r': 0.6000000000000001}, {'r': 0.65}, {'r': 0.7000000000000001}, {'r': 0.75}, {'r': 0.8}, {'r': 0.8500000000000001}, {'r': 0.9}, {'r': 0.9500000000000001}], 'large_standard_deviation': [{'r': 0.05}, {'r': 0.1}, {'r': 0.15000000000000002}, {'r': 0.2}, {'r': 0.25}, {'r': 0.30000000000000004}, {'r': 0.35000000000000003}, {'r': 0.4}, {'r': 0.45}, {'r': 0.5}, {'r': 0.55}, {'r': 0.6000000000000001}, {'r': 0.65}, {'r': 0.7000000000000001}, {'r': 0.75}, {'r': 0.8}, {'r': 0.8500000000000001}, {'r': 0.9}, {'r': 0.9500000000000001}], 'quantile': [{'q': 0.1}, {'q': 0.2}, {'q': 0.3}, {'q': 0.4}, {'q': 0.6}, {'q': 0.7}, {'q': 0.8}, {'q': 0.9}], 'autocorrelation': [{'lag': 0}, {'lag': 1}, {'lag': 2}, {'lag': 3}, {'lag': 4}, {'lag': 5}, {'lag': 6}, {'lag': 7}, {'lag': 8}, {'lag': 9}], 'agg_autocorrelation': [{'f_agg': 'mean', 'maxlag': 40}, {'f_agg': 'median', 'maxlag': 40}, {'f_agg': 'var', 'maxlag': 40}], 'partial_autocorrelation': [{'lag': 0}, {'lag': 1}, {'lag': 2}, {'lag': 3}, {'lag': 4}, {'lag': 5}, {'lag': 6}, {'lag': 7}, {'lag': 8}, {'lag': 9}], 'number_cwt_peaks': [{'n': 1}, {'n': 5}], 'number_peaks': [{'n': 1}, {'n': 3}, {'n': 5}, {'n': 10}, {'n': 50}], 'binned_entropy': [{'max_bins': 10}], 'index_mass_quantile': [{'q': 0.1}, {'q': 0.2}, {'q': 0.3}, {'q': 0.4}, {'q': 0.6}, {'q': 0.7}, {'q': 0.8}, {'q': 0.9}], 'cwt_coefficients': [{'widths': (2, 5, 10, 20), 'coeff': 0, 'w': 2}, {'widths': (2, 5, 10, 20), 'coeff': 0, 'w': 5}, {'widths': (2, 5, 10, 20), 'coeff': 0, 'w': 10}, {'widths': (2, 5, 10, 20), 'coeff': 0, 'w': 20}, {'widths': (2, 5, 10, 20), 'coeff': 1, 'w': 2}, {'widths': (2, 5, 10, 20), 'coeff': 1, 'w': 5}, {'widths': (2, 5, 10, 20), 'coeff': 1, 'w': 10}, {'widths': (2, 5, 10, 20), 'coeff': 1, 'w': 20}, {'widths': (2, 5, 10, 20), 'coeff': 2, 'w': 2}, {'widths': (2, 5, 10, 20), 'coeff': 2, 'w': 5}, {'widths': (2, 5, 10, 20), 'coeff': 2, 'w': 10}, {'widths': (2, 5, 10, 20), 'coeff': 2, 'w': 20}, {'widths': (2, 5, 10, 20), 'coeff': 3, 'w': 2}, {'widths': (2, 5, 10, 20), 'coeff': 3, 'w': 5}, {'widths': (2, 5, 10, 20), 'coeff': 3, 'w': 10}, {'widths': (2, 5, 10, 20), 'coeff': 3, 'w': 20}, {'widths': (2, 5, 10, 20), 'coeff': 4, 'w': 2}, {'widths': (2, 5, 10, 20), 'coeff': 4, 'w': 5}, {'widths': (2, 5, 10, 20), 'coeff': 4, 'w': 10}, {'widths': (2, 5, 10, 20), 'coeff': 4, 'w': 20}, {'widths': (2, 5, 10, 20), 'coeff': 5, 'w': 2}, {'widths': (2, 5, 10, 20), 'coeff': 5, 'w': 5}, {'widths': (2, 5, 10, 20), 'coeff': 5, 'w': 10}, {'widths': (2, 5, 10, 20), 'coeff': 5, 'w': 20}, {'widths': (2, 5, 10, 20), 'coeff': 6, 'w': 2}, {'widths': (2, 5, 10, 20), 'coeff': 6, 'w': 5}, {'widths': (2, 5, 10, 20), 'coeff': 6, 'w': 10}, {'widths': (2, 5, 10, 20), 'coeff': 6, 'w': 20}, {'widths': (2, 5, 10, 20), 'coeff': 7, 'w': 2}, {'widths': (2, 5, 10, 20), 'coeff': 7, 'w': 5}, {'widths': (2, 5, 10, 20), 'coeff': 7, 'w': 10}, {'widths': (2, 5, 10, 20), 'coeff': 7, 'w': 20}, {'widths': (2, 5, 10, 20), 'coeff': 8, 'w': 2}, {'widths': (2, 5, 10, 20), 'coeff': 8, 'w': 5}, {'widths': (2, 5, 10, 20), 'coeff': 8, 'w': 10}, {'widths': (2, 5, 10, 20), 'coeff': 8, 'w': 20}, {'widths': (2, 5, 10, 20), 'coeff': 9, 'w': 2}, {'widths': (2, 5, 10, 20), 'coeff': 9, 'w': 5}, {'widths': (2, 5, 10, 20), 'coeff': 9, 'w': 10}, {'widths': (2, 5, 10, 20), 'coeff': 9, 'w': 20}, {'widths': (2, 5, 10, 20), 'coeff': 10, 'w': 2}, {'widths': (2, 5, 10, 20), 'coeff': 10, 'w': 5}, {'widths': (2, 5, 10, 20), 'coeff': 10, 'w': 10}, {'widths': (2, 5, 10, 20), 'coeff': 10, 'w': 20}, {'widths': (2, 5, 10, 20), 'coeff': 11, 'w': 2}, {'widths': (2, 5, 10, 20), 'coeff': 11, 'w': 5}, {'widths': (2, 5, 10, 20), 'coeff': 11, 'w': 10}, {'widths': (2, 5, 10, 20), 'coeff': 11, 'w': 20}, {'widths': (2, 5, 10, 20), 'coeff': 12, 'w': 2}, {'widths': (2, 5, 10, 20), 'coeff': 12, 'w': 5}, {'widths': (2, 5, 10, 20), 'coeff': 12, 'w': 10}, {'widths': (2, 5, 10, 20), 'coeff': 12, 'w': 20}, {'widths': (2, 5, 10, 20), 'coeff': 13, 'w': 2}, {'widths': (2, 5, 10, 20), 'coeff': 13, 'w': 5}, {'widths': (2, 5, 10, 20), 'coeff': 13, 'w': 10}, {'widths': (2, 5, 10, 20), 'coeff': 13, 'w': 20}, {'widths': (2, 5, 10, 20), 'coeff': 14, 'w': 2}, {'widths': (2, 5, 10, 20), 'coeff': 14, 'w': 5}, {'widths': (2, 5, 10, 20), 'coeff': 14, 'w': 10}, {'widths': (2, 5, 10, 20), 'coeff': 14, 'w': 20}], 'spkt_welch_density': [{'coeff': 2}, {'coeff': 5}, {'coeff': 8}], 'ar_coefficient': [{'coeff': 0, 'k': 10}, {'coeff': 1, 'k': 10}, {'coeff': 2, 'k': 10}, {'coeff': 3, 'k': 10}, {'coeff': 4, 'k': 10}, {'coeff': 5, 'k': 10}, {'coeff': 6, 'k': 10}, {'coeff': 7, 'k': 10}, {'coeff': 8, 'k': 10}, {'coeff': 9, 'k': 10}, {'coeff': 10, 'k': 10}], 'change_quantiles': [{'ql': 0.0, 'qh': 0.2, 'isabs': False, 'f_agg': 'mean'}, {'ql': 0.0, 'qh': 0.2, 'isabs': False, 'f_agg': 'var'}, {'ql': 0.0, 'qh': 0.2, 'isabs': True, 'f_agg': 'mean'}, {'ql': 0.0, 'qh': 0.2, 'isabs': True, 'f_agg': 'var'}, {'ql': 0.0, 'qh': 0.4, 'isabs': False, 'f_agg': 'mean'}, {'ql': 0.0, 'qh': 0.4, 'isabs': False, 'f_agg': 'var'}, {'ql': 0.0, 'qh': 0.4, 'isabs': True, 'f_agg': 'mean'}, {'ql': 0.0, 'qh': 0.4, 'isabs': True, 'f_agg': 'var'}, {'ql': 0.0, 'qh': 0.6, 'isabs': False, 'f_agg': 'mean'}, {'ql': 0.0, 'qh': 0.6, 'isabs': False, 'f_agg': 'var'}, {'ql': 0.0, 'qh': 0.6, 'isabs': True, 'f_agg': 'mean'}, {'ql': 0.0, 'qh': 0.6, 'isabs': True, 'f_agg': 'var'}, {'ql': 0.0, 'qh': 0.8, 'isabs': False, 'f_agg': 'mean'}, {'ql': 0.0, 'qh': 0.8, 'isabs': False, 'f_agg': 'var'}, {'ql': 0.0, 'qh': 0.8, 'isabs': True, 'f_agg': 'mean'}, {'ql': 0.0, 'qh': 0.8, 'isabs': True, 'f_agg': 'var'}, {'ql': 0.0, 'qh': 1.0, 'isabs': False, 'f_agg': 'mean'}, {'ql': 0.0, 'qh': 1.0, 'isabs': False, 'f_agg': 'var'}, {'ql': 0.0, 'qh': 1.0, 'isabs': True, 'f_agg': 'mean'}, {'ql': 0.0, 'qh': 1.0, 'isabs': True, 'f_agg': 'var'}, {'ql': 0.2, 'qh': 0.4, 'isabs': False, 'f_agg': 'mean'}, {'ql': 0.2, 'qh': 0.4, 'isabs': False, 'f_agg': 'var'}, {'ql': 0.2, 'qh': 0.4, 'isabs': True, 'f_agg': 'mean'}, {'ql': 0.2, 'qh': 0.4, 'isabs': True, 'f_agg': 'var'}, {'ql': 0.2, 'qh': 0.6, 'isabs': False, 'f_agg': 'mean'}, {'ql': 0.2, 'qh': 0.6, 'isabs': False, 'f_agg': 'var'}, {'ql': 0.2, 'qh': 0.6, 'isabs': True, 'f_agg': 'mean'}, {'ql': 0.2, 'qh': 0.6, 'isabs': True, 'f_agg': 'var'}, {'ql': 0.2, 'qh': 0.8, 'isabs': False, 'f_agg': 'mean'}, {'ql': 0.2, 'qh': 0.8, 'isabs': False, 'f_agg': 'var'}, {'ql': 0.2, 'qh': 0.8, 'isabs': True, 'f_agg': 'mean'}, {'ql': 0.2, 'qh': 0.8, 'isabs': True, 'f_agg': 'var'}, {'ql': 0.2, 'qh': 1.0, 'isabs': False, 'f_agg': 'mean'}, {'ql': 0.2, 'qh': 1.0, 'isabs': False, 'f_agg': 'var'}, {'ql': 0.2, 'qh': 1.0, 'isabs': True, 'f_agg': 'mean'}, {'ql': 0.2, 'qh': 1.0, 'isabs': True, 'f_agg': 'var'}, {'ql': 0.4, 'qh': 0.6, 'isabs': False, 'f_agg': 'mean'}, {'ql': 0.4, 'qh': 0.6, 'isabs': False, 'f_agg': 'var'}, {'ql': 0.4, 'qh': 0.6, 'isabs': True, 'f_agg': 'mean'}, {'ql': 0.4, 'qh': 0.6, 'isabs': True, 'f_agg': 'var'}, {'ql': 0.4, 'qh': 0.8, 'isabs': False, 'f_agg': 'mean'}, {'ql': 0.4, 'qh': 0.8, 'isabs': False, 'f_agg': 'var'}, {'ql': 0.4, 'qh': 0.8, 'isabs': True, 'f_agg': 'mean'}, {'ql': 0.4, 'qh': 0.8, 'isabs': True, 'f_agg': 'var'}, {'ql': 0.4, 'qh': 1.0, 'isabs': False, 'f_agg': 'mean'}, {'ql': 0.4, 'qh': 1.0, 'isabs': False, 'f_agg': 'var'}, {'ql': 0.4, 'qh': 1.0, 'isabs': True, 'f_agg': 'mean'}, {'ql': 0.4, 'qh': 1.0, 'isabs': True, 'f_agg': 'var'}, {'ql': 0.6, 'qh': 0.8, 'isabs': False, 'f_agg': 'mean'}, {'ql': 0.6, 'qh': 0.8, 'isabs': False, 'f_agg': 'var'}, {'ql': 0.6, 'qh': 0.8, 'isabs': True, 'f_agg': 'mean'}, {'ql': 0.6, 'qh': 0.8, 'isabs': True, 'f_agg': 'var'}, {'ql': 0.6, 'qh': 1.0, 'isabs': False, 'f_agg': 'mean'}, {'ql': 0.6, 'qh': 1.0, 'isabs': False, 'f_agg': 'var'}, {'ql': 0.6, 'qh': 1.0, 'isabs': True, 'f_agg': 'mean'}, {'ql': 0.6, 'qh': 1.0, 'isabs': True, 'f_agg': 'var'}, {'ql': 0.8, 'qh': 1.0, 'isabs': False, 'f_agg': 'mean'}, {'ql': 0.8, 'qh': 1.0, 'isabs': False, 'f_agg': 'var'}, {'ql': 0.8, 'qh': 1.0, 'isabs': True, 'f_agg': 'mean'}, {'ql': 0.8, 'qh': 1.0, 'isabs': True, 'f_agg': 'var'}], 'fft_coefficient': [{'coeff': 0, 'attr': 'real'}, {'coeff': 1, 'attr': 'real'}, {'coeff': 2, 'attr': 'real'}, {'coeff': 3, 'attr': 'real'}, {'coeff': 4, 'attr': 'real'}, {'coeff': 5, 'attr': 'real'}, {'coeff': 6, 'attr': 'real'}, {'coeff': 7, 'attr': 'real'}, {'coeff': 8, 'attr': 'real'}, {'coeff': 9, 'attr': 'real'}, {'coeff': 10, 'attr': 'real'}, {'coeff': 11, 'attr': 'real'}, {'coeff': 12, 'attr': 'real'}, {'coeff': 13, 'attr': 'real'}, {'coeff': 14, 'attr': 'real'}, {'coeff': 15, 'attr': 'real'}, {'coeff': 16, 'attr': 'real'}, {'coeff': 17, 'attr': 'real'}, {'coeff': 18, 'attr': 'real'}, {'coeff': 19, 'attr': 'real'}, {'coeff': 20, 'attr': 'real'}, {'coeff': 21, 'attr': 'real'}, {'coeff': 22, 'attr': 'real'}, {'coeff': 23, 'attr': 'real'}, {'coeff': 24, 'attr': 'real'}, {'coeff': 25, 'attr': 'real'}, {'coeff': 26, 'attr': 'real'}, {'coeff': 27, 'attr': 'real'}, {'coeff': 28, 'attr': 'real'}, {'coeff': 29, 'attr': 'real'}, {'coeff': 30, 'attr': 'real'}, {'coeff': 31, 'attr': 'real'}, {'coeff': 32, 'attr': 'real'}, {'coeff': 33, 'attr': 'real'}, {'coeff': 34, 'attr': 'real'}, {'coeff': 35, 'attr': 'real'}, {'coeff': 36, 'attr': 'real'}, {'coeff': 37, 'attr': 'real'}, {'coeff': 38, 'attr': 'real'}, {'coeff': 39, 'attr': 'real'}, {'coeff': 40, 'attr': 'real'}, {'coeff': 41, 'attr': 'real'}, {'coeff': 42, 'attr': 'real'}, {'coeff': 43, 'attr': 'real'}, {'coeff': 44, 'attr': 'real'}, {'coeff': 45, 'attr': 'real'}, {'coeff': 46, 'attr': 'real'}, {'coeff': 47, 'attr': 'real'}, {'coeff': 48, 'attr': 'real'}, {'coeff': 49, 'attr': 'real'}, {'coeff': 50, 'attr': 'real'}, {'coeff': 51, 'attr': 'real'}, {'coeff': 52, 'attr': 'real'}, {'coeff': 53, 'attr': 'real'}, {'coeff': 54, 'attr': 'real'}, {'coeff': 55, 'attr': 'real'}, {'coeff': 56, 'attr': 'real'}, {'coeff': 57, 'attr': 'real'}, {'coeff': 58, 'attr': 'real'}, {'coeff': 59, 'attr': 'real'}, {'coeff': 60, 'attr': 'real'}, {'coeff': 61, 'attr': 'real'}, {'coeff': 62, 'attr': 'real'}, {'coeff': 63, 'attr': 'real'}, {'coeff': 64, 'attr': 'real'}, {'coeff': 65, 'attr': 'real'}, {'coeff': 66, 'attr': 'real'}, {'coeff': 67, 'attr': 'real'}, {'coeff': 68, 'attr': 'real'}, {'coeff': 69, 'attr': 'real'}, {'coeff': 70, 'attr': 'real'}, {'coeff': 71, 'attr': 'real'}, {'coeff': 72, 'attr': 'real'}, {'coeff': 73, 'attr': 'real'}, {'coeff': 74, 'attr': 'real'}, {'coeff': 75, 'attr': 'real'}, {'coeff': 76, 'attr': 'real'}, {'coeff': 77, 'attr': 'real'}, {'coeff': 78, 'attr': 'real'}, {'coeff': 79, 'attr': 'real'}, {'coeff': 80, 'attr': 'real'}, {'coeff': 81, 'attr': 'real'}, {'coeff': 82, 'attr': 'real'}, {'coeff': 83, 'attr': 'real'}, {'coeff': 84, 'attr': 'real'}, {'coeff': 85, 'attr': 'real'}, {'coeff': 86, 'attr': 'real'}, {'coeff': 87, 'attr': 'real'}, {'coeff': 88, 'attr': 'real'}, {'coeff': 89, 'attr': 'real'}, {'coeff': 90, 'attr': 'real'}, {'coeff': 91, 'attr': 'real'}, {'coeff': 92, 'attr': 'real'}, {'coeff': 93, 'attr': 'real'}, {'coeff': 94, 'attr': 'real'}, {'coeff': 95, 'attr': 'real'}, {'coeff': 96, 'attr': 'real'}, {'coeff': 97, 'attr': 'real'}, {'coeff': 98, 'attr': 'real'}, {'coeff': 99, 'attr': 'real'}, {'coeff': 0, 'attr': 'imag'}, {'coeff': 1, 'attr': 'imag'}, {'coeff': 2, 'attr': 'imag'}, {'coeff': 3, 'attr': 'imag'}, {'coeff': 4, 'attr': 'imag'}, {'coeff': 5, 'attr': 'imag'}, {'coeff': 6, 'attr': 'imag'}, {'coeff': 7, 'attr': 'imag'}, {'coeff': 8, 'attr': 'imag'}, {'coeff': 9, 'attr': 'imag'}, {'coeff': 10, 'attr': 'imag'}, {'coeff': 11, 'attr': 'imag'}, {'coeff': 12, 'attr': 'imag'}, {'coeff': 13, 'attr': 'imag'}, {'coeff': 14, 'attr': 'imag'}, {'coeff': 15, 'attr': 'imag'}, {'coeff': 16, 'attr': 'imag'}, {'coeff': 17, 'attr': 'imag'}, {'coeff': 18, 'attr': 'imag'}, {'coeff': 19, 'attr': 'imag'}, {'coeff': 20, 'attr': 'imag'}, {'coeff': 21, 'attr': 'imag'}, {'coeff': 22, 'attr': 'imag'}, {'coeff': 23, 'attr': 'imag'}, {'coeff': 24, 'attr': 'imag'}, {'coeff': 25, 'attr': 'imag'}, {'coeff': 26, 'attr': 'imag'}, {'coeff': 27, 'attr': 'imag'}, {'coeff': 28, 'attr': 'imag'}, {'coeff': 29, 'attr': 'imag'}, {'coeff': 30, 'attr': 'imag'}, {'coeff': 31, 'attr': 'imag'}, {'coeff': 32, 'attr': 'imag'}, {'coeff': 33, 'attr': 'imag'}, {'coeff': 34, 'attr': 'imag'}, {'coeff': 35, 'attr': 'imag'}, {'coeff': 36, 'attr': 'imag'}, {'coeff': 37, 'attr': 'imag'}, {'coeff': 38, 'attr': 'imag'}, {'coeff': 39, 'attr': 'imag'}, {'coeff': 40, 'attr': 'imag'}, {'coeff': 41, 'attr': 'imag'}, {'coeff': 42, 'attr': 'imag'}, {'coeff': 43, 'attr': 'imag'}, {'coeff': 44, 'attr': 'imag'}, {'coeff': 45, 'attr': 'imag'}, {'coeff': 46, 'attr': 'imag'}, {'coeff': 47, 'attr': 'imag'}, {'coeff': 48, 'attr': 'imag'}, {'coeff': 49, 'attr': 'imag'}, {'coeff': 50, 'attr': 'imag'}, {'coeff': 51, 'attr': 'imag'}, {'coeff': 52, 'attr': 'imag'}, {'coeff': 53, 'attr': 'imag'}, {'coeff': 54, 'attr': 'imag'}, {'coeff': 55, 'attr': 'imag'}, {'coeff': 56, 'attr': 'imag'}, {'coeff': 57, 'attr': 'imag'}, {'coeff': 58, 'attr': 'imag'}, {'coeff': 59, 'attr': 'imag'}, {'coeff': 60, 'attr': 'imag'}, {'coeff': 61, 'attr': 'imag'}, {'coeff': 62, 'attr': 'imag'}, {'coeff': 63, 'attr': 'imag'}, {'coeff': 64, 'attr': 'imag'}, {'coeff': 65, 'attr': 'imag'}, {'coeff': 66, 'attr': 'imag'}, {'coeff': 67, 'attr': 'imag'}, {'coeff': 68, 'attr': 'imag'}, {'coeff': 69, 'attr': 'imag'}, {'coeff': 70, 'attr': 'imag'}, {'coeff': 71, 'attr': 'imag'}, {'coeff': 72, 'attr': 'imag'}, {'coeff': 73, 'attr': 'imag'}, {'coeff': 74, 'attr': 'imag'}, {'coeff': 75, 'attr': 'imag'}, {'coeff': 76, 'attr': 'imag'}, {'coeff': 77, 'attr': 'imag'}, {'coeff': 78, 'attr': 'imag'}, {'coeff': 79, 'attr': 'imag'}, {'coeff': 80, 'attr': 'imag'}, {'coeff': 81, 'attr': 'imag'}, {'coeff': 82, 'attr': 'imag'}, {'coeff': 83, 'attr': 'imag'}, {'coeff': 84, 'attr': 'imag'}, {'coeff': 85, 'attr': 'imag'}, {'coeff': 86, 'attr': 'imag'}, {'coeff': 87, 'attr': 'imag'}, {'coeff': 88, 'attr': 'imag'}, {'coeff': 89, 'attr': 'imag'}, {'coeff': 90, 'attr': 'imag'}, {'coeff': 91, 'attr': 'imag'}, {'coeff': 92, 'attr': 'imag'}, {'coeff': 93, 'attr': 'imag'}, {'coeff': 94, 'attr': 'imag'}, {'coeff': 95, 'attr': 'imag'}, {'coeff': 96, 'attr': 'imag'}, {'coeff': 97, 'attr': 'imag'}, {'coeff': 98, 'attr': 'imag'}, {'coeff': 99, 'attr': 'imag'}, {'coeff': 0, 'attr': 'abs'}, {'coeff': 1, 'attr': 'abs'}, {'coeff': 2, 'attr': 'abs'}, {'coeff': 3, 'attr': 'abs'}, {'coeff': 4, 'attr': 'abs'}, {'coeff': 5, 'attr': 'abs'}, {'coeff': 6, 'attr': 'abs'}, {'coeff': 7, 'attr': 'abs'}, {'coeff': 8, 'attr': 'abs'}, {'coeff': 9, 'attr': 'abs'}, {'coeff': 10, 'attr': 'abs'}, {'coeff': 11, 'attr': 'abs'}, {'coeff': 12, 'attr': 'abs'}, {'coeff': 13, 'attr': 'abs'}, {'coeff': 14, 'attr': 'abs'}, {'coeff': 15, 'attr': 'abs'}, {'coeff': 16, 'attr': 'abs'}, {'coeff': 17, 'attr': 'abs'}, {'coeff': 18, 'attr': 'abs'}, {'coeff': 19, 'attr': 'abs'}, {'coeff': 20, 'attr': 'abs'}, {'coeff': 21, 'attr': 'abs'}, {'coeff': 22, 'attr': 'abs'}, {'coeff': 23, 'attr': 'abs'}, {'coeff': 24, 'attr': 'abs'}, {'coeff': 25, 'attr': 'abs'}, {'coeff': 26, 'attr': 'abs'}, {'coeff': 27, 'attr': 'abs'}, {'coeff': 28, 'attr': 'abs'}, {'coeff': 29, 'attr': 'abs'}, {'coeff': 30, 'attr': 'abs'}, {'coeff': 31, 'attr': 'abs'}, {'coeff': 32, 'attr': 'abs'}, {'coeff': 33, 'attr': 'abs'}, {'coeff': 34, 'attr': 'abs'}, {'coeff': 35, 'attr': 'abs'}, {'coeff': 36, 'attr': 'abs'}, {'coeff': 37, 'attr': 'abs'}, {'coeff': 38, 'attr': 'abs'}, {'coeff': 39, 'attr': 'abs'}, {'coeff': 40, 'attr': 'abs'}, {'coeff': 41, 'attr': 'abs'}, {'coeff': 42, 'attr': 'abs'}, {'coeff': 43, 'attr': 'abs'}, {'coeff': 44, 'attr': 'abs'}, {'coeff': 45, 'attr': 'abs'}, {'coeff': 46, 'attr': 'abs'}, {'coeff': 47, 'attr': 'abs'}, {'coeff': 48, 'attr': 'abs'}, {'coeff': 49, 'attr': 'abs'}, {'coeff': 50, 'attr': 'abs'}, {'coeff': 51, 'attr': 'abs'}, {'coeff': 52, 'attr': 'abs'}, {'coeff': 53, 'attr': 'abs'}, {'coeff': 54, 'attr': 'abs'}, {'coeff': 55, 'attr': 'abs'}, {'coeff': 56, 'attr': 'abs'}, {'coeff': 57, 'attr': 'abs'}, {'coeff': 58, 'attr': 'abs'}, {'coeff': 59, 'attr': 'abs'}, {'coeff': 60, 'attr': 'abs'}, {'coeff': 61, 'attr': 'abs'}, {'coeff': 62, 'attr': 'abs'}, {'coeff': 63, 'attr': 'abs'}, {'coeff': 64, 'attr': 'abs'}, {'coeff': 65, 'attr': 'abs'}, {'coeff': 66, 'attr': 'abs'}, {'coeff': 67, 'attr': 'abs'}, {'coeff': 68, 'attr': 'abs'}, {'coeff': 69, 'attr': 'abs'}, {'coeff': 70, 'attr': 'abs'}, {'coeff': 71, 'attr': 'abs'}, {'coeff': 72, 'attr': 'abs'}, {'coeff': 73, 'attr': 'abs'}, {'coeff': 74, 'attr': 'abs'}, {'coeff': 75, 'attr': 'abs'}, {'coeff': 76, 'attr': 'abs'}, {'coeff': 77, 'attr': 'abs'}, {'coeff': 78, 'attr': 'abs'}, {'coeff': 79, 'attr': 'abs'}, {'coeff': 80, 'attr': 'abs'}, {'coeff': 81, 'attr': 'abs'}, {'coeff': 82, 'attr': 'abs'}, {'coeff': 83, 'attr': 'abs'}, {'coeff': 84, 'attr': 'abs'}, {'coeff': 85, 'attr': 'abs'}, {'coeff': 86, 'attr': 'abs'}, {'coeff': 87, 'attr': 'abs'}, {'coeff': 88, 'attr': 'abs'}, {'coeff': 89, 'attr': 'abs'}, {'coeff': 90, 'attr': 'abs'}, {'coeff': 91, 'attr': 'abs'}, {'coeff': 92, 'attr': 'abs'}, {'coeff': 93, 'attr': 'abs'}, {'coeff': 94, 'attr': 'abs'}, {'coeff': 95, 'attr': 'abs'}, {'coeff': 96, 'attr': 'abs'}, {'coeff': 97, 'attr': 'abs'}, {'coeff': 98, 'attr': 'abs'}, {'coeff': 99, 'attr': 'abs'}, {'coeff': 0, 'attr': 'angle'}, {'coeff': 1, 'attr': 'angle'}, {'coeff': 2, 'attr': 'angle'}, {'coeff': 3, 'attr': 'angle'}, {'coeff': 4, 'attr': 'angle'}, {'coeff': 5, 'attr': 'angle'}, {'coeff': 6, 'attr': 'angle'}, {'coeff': 7, 'attr': 'angle'}, {'coeff': 8, 'attr': 'angle'}, {'coeff': 9, 'attr': 'angle'}, {'coeff': 10, 'attr': 'angle'}, {'coeff': 11, 'attr': 'angle'}, {'coeff': 12, 'attr': 'angle'}, {'coeff': 13, 'attr': 'angle'}, {'coeff': 14, 'attr': 'angle'}, {'coeff': 15, 'attr': 'angle'}, {'coeff': 16, 'attr': 'angle'}, {'coeff': 17, 'attr': 'angle'}, {'coeff': 18, 'attr': 'angle'}, {'coeff': 19, 'attr': 'angle'}, {'coeff': 20, 'attr': 'angle'}, {'coeff': 21, 'attr': 'angle'}, {'coeff': 22, 'attr': 'angle'}, {'coeff': 23, 'attr': 'angle'}, {'coeff': 24, 'attr': 'angle'}, {'coeff': 25, 'attr': 'angle'}, {'coeff': 26, 'attr': 'angle'}, {'coeff': 27, 'attr': 'angle'}, {'coeff': 28, 'attr': 'angle'}, {'coeff': 29, 'attr': 'angle'}, {'coeff': 30, 'attr': 'angle'}, {'coeff': 31, 'attr': 'angle'}, {'coeff': 32, 'attr': 'angle'}, {'coeff': 33, 'attr': 'angle'}, {'coeff': 34, 'attr': 'angle'}, {'coeff': 35, 'attr': 'angle'}, {'coeff': 36, 'attr': 'angle'}, {'coeff': 37, 'attr': 'angle'}, {'coeff': 38, 'attr': 'angle'}, {'coeff': 39, 'attr': 'angle'}, {'coeff': 40, 'attr': 'angle'}, {'coeff': 41, 'attr': 'angle'}, {'coeff': 42, 'attr': 'angle'}, {'coeff': 43, 'attr': 'angle'}, {'coeff': 44, 'attr': 'angle'}, {'coeff': 45, 'attr': 'angle'}, {'coeff': 46, 'attr': 'angle'}, {'coeff': 47, 'attr': 'angle'}, {'coeff': 48, 'attr': 'angle'}, {'coeff': 49, 'attr': 'angle'}, {'coeff': 50, 'attr': 'angle'}, {'coeff': 51, 'attr': 'angle'}, {'coeff': 52, 'attr': 'angle'}, {'coeff': 53, 'attr': 'angle'}, {'coeff': 54, 'attr': 'angle'}, {'coeff': 55, 'attr': 'angle'}, {'coeff': 56, 'attr': 'angle'}, {'coeff': 57, 'attr': 'angle'}, {'coeff': 58, 'attr': 'angle'}, {'coeff': 59, 'attr': 'angle'}, {'coeff': 60, 'attr': 'angle'}, {'coeff': 61, 'attr': 'angle'}, {'coeff': 62, 'attr': 'angle'}, {'coeff': 63, 'attr': 'angle'}, {'coeff': 64, 'attr': 'angle'}, {'coeff': 65, 'attr': 'angle'}, {'coeff': 66, 'attr': 'angle'}, {'coeff': 67, 'attr': 'angle'}, {'coeff': 68, 'attr': 'angle'}, {'coeff': 69, 'attr': 'angle'}, {'coeff': 70, 'attr': 'angle'}, {'coeff': 71, 'attr': 'angle'}, {'coeff': 72, 'attr': 'angle'}, {'coeff': 73, 'attr': 'angle'}, {'coeff': 74, 'attr': 'angle'}, {'coeff': 75, 'attr': 'angle'}, {'coeff': 76, 'attr': 'angle'}, {'coeff': 77, 'attr': 'angle'}, {'coeff': 78, 'attr': 'angle'}, {'coeff': 79, 'attr': 'angle'}, {'coeff': 80, 'attr': 'angle'}, {'coeff': 81, 'attr': 'angle'}, {'coeff': 82, 'attr': 'angle'}, {'coeff': 83, 'attr': 'angle'}, {'coeff': 84, 'attr': 'angle'}, {'coeff': 85, 'attr': 'angle'}, {'coeff': 86, 'attr': 'angle'}, {'coeff': 87, 'attr': 'angle'}, {'coeff': 88, 'attr': 'angle'}, {'coeff': 89, 'attr': 'angle'}, {'coeff': 90, 'attr': 'angle'}, {'coeff': 91, 'attr': 'angle'}, {'coeff': 92, 'attr': 'angle'}, {'coeff': 93, 'attr': 'angle'}, {'coeff': 94, 'attr': 'angle'}, {'coeff': 95, 'attr': 'angle'}, {'coeff': 96, 'attr': 'angle'}, {'coeff': 97, 'attr': 'angle'}, {'coeff': 98, 'attr': 'angle'}, {'coeff': 99, 'attr': 'angle'}], 'fft_aggregated': [{'aggtype': 'centroid'}, {'aggtype': 'variance'}, {'aggtype': 'skew'}, {'aggtype': 'kurtosis'}], 'value_count': [{'value': 0}, {'value': 1}, {'value': -1}], 'range_count': [{'min': -1, 'max': 1}, {'min': -1000000000000.0, 'max': 0}, {'min': 0, 'max': 1000000000000.0}], 'friedrich_coefficients': [{'coeff': 0, 'm': 3, 'r': 30}, {'coeff': 1, 'm': 3, 'r': 30}, {'coeff': 2, 'm': 3, 'r': 30}, {'coeff': 3, 'm': 3, 'r': 30}], 'max_langevin_fixed_point': [{'m': 3, 'r': 30}], 'linear_trend': [{'attr': 'pvalue'}, {'attr': 'rvalue'}, {'attr': 'intercept'}, {'attr': 'slope'}, {'attr': 'stderr'}], 'agg_linear_trend': [{'attr': 'rvalue', 'chunk_len': 5, 'f_agg': 'max'}, {'attr': 'rvalue', 'chunk_len': 5, 'f_agg': 'min'}, {'attr': 'rvalue', 'chunk_len': 5, 'f_agg': 'mean'}, {'attr': 'rvalue', 'chunk_len': 5, 'f_agg': 'var'}, {'attr': 'rvalue', 'chunk_len': 10, 'f_agg': 'max'}, {'attr': 'rvalue', 'chunk_len': 10, 'f_agg': 'min'}, {'attr': 'rvalue', 'chunk_len': 10, 'f_agg': 'mean'}, {'attr': 'rvalue', 'chunk_len': 10, 'f_agg': 'var'}, {'attr': 'rvalue', 'chunk_len': 50, 'f_agg': 'max'}, {'attr': 'rvalue', 'chunk_len': 50, 'f_agg': 'min'}, {'attr': 'rvalue', 'chunk_len': 50, 'f_agg': 'mean'}, {'attr': 'rvalue', 'chunk_len': 50, 'f_agg': 'var'}, {'attr': 'intercept', 'chunk_len': 5, 'f_agg': 'max'}, {'attr': 'intercept', 'chunk_len': 5, 'f_agg': 'min'}, {'attr': 'intercept', 'chunk_len': 5, 'f_agg': 'mean'}, {'attr': 'intercept', 'chunk_len': 5, 'f_agg': 'var'}, {'attr': 'intercept', 'chunk_len': 10, 'f_agg': 'max'}, {'attr': 'intercept', 'chunk_len': 10, 'f_agg': 'min'}, {'attr': 'intercept', 'chunk_len': 10, 'f_agg': 'mean'}, {'attr': 'intercept', 'chunk_len': 10, 'f_agg': 'var'}, {'attr': 'intercept', 'chunk_len': 50, 'f_agg': 'max'}, {'attr': 'intercept', 'chunk_len': 50, 'f_agg': 'min'}, {'attr': 'intercept', 'chunk_len': 50, 'f_agg': 'mean'}, {'attr': 'intercept', 'chunk_len': 50, 'f_agg': 'var'}, {'attr': 'slope', 'chunk_len': 5, 'f_agg': 'max'}, {'attr': 'slope', 'chunk_len': 5, 'f_agg': 'min'}, {'attr': 'slope', 'chunk_len': 5, 'f_agg': 'mean'}, {'attr': 'slope', 'chunk_len': 5, 'f_agg': 'var'}, {'attr': 'slope', 'chunk_len': 10, 'f_agg': 'max'}, {'attr': 'slope', 'chunk_len': 10, 'f_agg': 'min'}, {'attr': 'slope', 'chunk_len': 10, 'f_agg': 'mean'}, {'attr': 'slope', 'chunk_len': 10, 'f_agg': 'var'}, {'attr': 'slope', 'chunk_len': 50, 'f_agg': 'max'}, {'attr': 'slope', 'chunk_len': 50, 'f_agg': 'min'}, {'attr': 'slope', 'chunk_len': 50, 'f_agg': 'mean'}, {'attr': 'slope', 'chunk_len': 50, 'f_agg': 'var'}, {'attr': 'stderr', 'chunk_len': 5, 'f_agg': 'max'}, {'attr': 'stderr', 'chunk_len': 5, 'f_agg': 'min'}, {'attr': 'stderr', 'chunk_len': 5, 'f_agg': 'mean'}, {'attr': 'stderr', 'chunk_len': 5, 'f_agg': 'var'}, {'attr': 'stderr', 'chunk_len': 10, 'f_agg': 'max'}, {'attr': 'stderr', 'chunk_len': 10, 'f_agg': 'min'}, {'attr': 'stderr', 'chunk_len': 10, 'f_agg': 'mean'}, {'attr': 'stderr', 'chunk_len': 10, 'f_agg': 'var'}, {'attr': 'stderr', 'chunk_len': 50, 'f_agg': 'max'}, {'attr': 'stderr', 'chunk_len': 50, 'f_agg': 'min'}, {'attr': 'stderr', 'chunk_len': 50, 'f_agg': 'mean'}, {'attr': 'stderr', 'chunk_len': 50, 'f_agg': 'var'}], 'augmented_dickey_fuller': [{'attr': 'teststat'}, {'attr': 'pvalue'}, {'attr': 'usedlag'}], 'number_crossing_m': [{'m': 0}, {'m': -1}, {'m': 1}], 'energy_ratio_by_chunks': [{'num_segments': 10, 'segment_focus': 0}, {'num_segments': 10, 'segment_focus': 1}, {'num_segments': 10, 'segment_focus': 2}, {'num_segments': 10, 'segment_focus': 3}, {'num_segments': 10, 'segment_focus': 4}, {'num_segments': 10, 'segment_focus': 5}, {'num_segments': 10, 'segment_focus': 6}, {'num_segments': 10, 'segment_focus': 7}, {'num_segments': 10, 'segment_focus': 8}, {'num_segments': 10, 'segment_focus': 9}], 'ratio_beyond_r_sigma': [{'r': 0.5}, {'r': 1}, {'r': 1.5}, {'r': 2}, {'r': 2.5}, {'r': 3}, {'r': 5}, {'r': 6}, {'r': 7}, {'r': 10}], 'linear_trend_timewise': [{'attr': 'pvalue'}, {'attr': 'rvalue'}, {'attr': 'intercept'}, {'attr': 'slope'}, {'attr': 'stderr'}], 'count_above': [{'t': 0}], 'count_below': [{'t': 0}], 'lempel_ziv_complexity': [{'bins': 2}, {'bins': 3}, {'bins': 5}, {'bins': 10}, {'bins': 100}], 'fourier_entropy': [{'bins': 2}, {'bins': 3}, {'bins': 5}, {'bins': 10}, {'bins': 100}], 'permutation_entropy': [{'tau': 1, 'dimension': 3}, {'tau': 1, 'dimension': 4}, {'tau': 1, 'dimension': 5}, {'tau': 1, 'dimension': 6}, {'tau': 1, 'dimension': 7}], 'query_similarity_count': [{'query': None, 'threshold': 0.0}], 'mean_n_absolute_max': [{'number_of_maxima': 7}]}"
      ]
     },
     "execution_count": 11,
     "metadata": {},
     "output_type": "execute_result"
    }
   ],
   "source": [
    "settings_efficient = settings.EfficientFCParameters()\n",
    "settings_efficient"
   ]
  },
  {
   "cell_type": "markdown",
   "metadata": {},
   "source": [
    "The `ComprehensiveFCParameters` are the biggest set of features. It will take the longest to calculate"
   ]
  },
  {
   "cell_type": "code",
   "execution_count": 12,
   "metadata": {},
   "outputs": [
    {
     "data": {
      "text/plain": [
       "{'variance_larger_than_standard_deviation': None, 'has_duplicate_max': None, 'has_duplicate_min': None, 'has_duplicate': None, 'sum_values': None, 'abs_energy': None, 'mean_abs_change': None, 'mean_change': None, 'mean_second_derivative_central': None, 'median': None, 'mean': None, 'length': None, 'standard_deviation': None, 'variation_coefficient': None, 'variance': None, 'skewness': None, 'kurtosis': None, 'root_mean_square': None, 'absolute_sum_of_changes': None, 'longest_strike_below_mean': None, 'longest_strike_above_mean': None, 'count_above_mean': None, 'count_below_mean': None, 'last_location_of_maximum': None, 'first_location_of_maximum': None, 'last_location_of_minimum': None, 'first_location_of_minimum': None, 'percentage_of_reoccurring_values_to_all_values': None, 'percentage_of_reoccurring_datapoints_to_all_datapoints': None, 'sum_of_reoccurring_values': None, 'sum_of_reoccurring_data_points': None, 'ratio_value_number_to_time_series_length': None, 'sample_entropy': None, 'maximum': None, 'absolute_maximum': None, 'minimum': None, 'benford_correlation': None, 'time_reversal_asymmetry_statistic': [{'lag': 1}, {'lag': 2}, {'lag': 3}], 'c3': [{'lag': 1}, {'lag': 2}, {'lag': 3}], 'cid_ce': [{'normalize': True}, {'normalize': False}], 'symmetry_looking': [{'r': 0.0}, {'r': 0.05}, {'r': 0.1}, {'r': 0.15000000000000002}, {'r': 0.2}, {'r': 0.25}, {'r': 0.30000000000000004}, {'r': 0.35000000000000003}, {'r': 0.4}, {'r': 0.45}, {'r': 0.5}, {'r': 0.55}, {'r': 0.6000000000000001}, {'r': 0.65}, {'r': 0.7000000000000001}, {'r': 0.75}, {'r': 0.8}, {'r': 0.8500000000000001}, {'r': 0.9}, {'r': 0.9500000000000001}], 'large_standard_deviation': [{'r': 0.05}, {'r': 0.1}, {'r': 0.15000000000000002}, {'r': 0.2}, {'r': 0.25}, {'r': 0.30000000000000004}, {'r': 0.35000000000000003}, {'r': 0.4}, {'r': 0.45}, {'r': 0.5}, {'r': 0.55}, {'r': 0.6000000000000001}, {'r': 0.65}, {'r': 0.7000000000000001}, {'r': 0.75}, {'r': 0.8}, {'r': 0.8500000000000001}, {'r': 0.9}, {'r': 0.9500000000000001}], 'quantile': [{'q': 0.1}, {'q': 0.2}, {'q': 0.3}, {'q': 0.4}, {'q': 0.6}, {'q': 0.7}, {'q': 0.8}, {'q': 0.9}], 'autocorrelation': [{'lag': 0}, {'lag': 1}, {'lag': 2}, {'lag': 3}, {'lag': 4}, {'lag': 5}, {'lag': 6}, {'lag': 7}, {'lag': 8}, {'lag': 9}], 'agg_autocorrelation': [{'f_agg': 'mean', 'maxlag': 40}, {'f_agg': 'median', 'maxlag': 40}, {'f_agg': 'var', 'maxlag': 40}], 'partial_autocorrelation': [{'lag': 0}, {'lag': 1}, {'lag': 2}, {'lag': 3}, {'lag': 4}, {'lag': 5}, {'lag': 6}, {'lag': 7}, {'lag': 8}, {'lag': 9}], 'number_cwt_peaks': [{'n': 1}, {'n': 5}], 'number_peaks': [{'n': 1}, {'n': 3}, {'n': 5}, {'n': 10}, {'n': 50}], 'binned_entropy': [{'max_bins': 10}], 'index_mass_quantile': [{'q': 0.1}, {'q': 0.2}, {'q': 0.3}, {'q': 0.4}, {'q': 0.6}, {'q': 0.7}, {'q': 0.8}, {'q': 0.9}], 'cwt_coefficients': [{'widths': (2, 5, 10, 20), 'coeff': 0, 'w': 2}, {'widths': (2, 5, 10, 20), 'coeff': 0, 'w': 5}, {'widths': (2, 5, 10, 20), 'coeff': 0, 'w': 10}, {'widths': (2, 5, 10, 20), 'coeff': 0, 'w': 20}, {'widths': (2, 5, 10, 20), 'coeff': 1, 'w': 2}, {'widths': (2, 5, 10, 20), 'coeff': 1, 'w': 5}, {'widths': (2, 5, 10, 20), 'coeff': 1, 'w': 10}, {'widths': (2, 5, 10, 20), 'coeff': 1, 'w': 20}, {'widths': (2, 5, 10, 20), 'coeff': 2, 'w': 2}, {'widths': (2, 5, 10, 20), 'coeff': 2, 'w': 5}, {'widths': (2, 5, 10, 20), 'coeff': 2, 'w': 10}, {'widths': (2, 5, 10, 20), 'coeff': 2, 'w': 20}, {'widths': (2, 5, 10, 20), 'coeff': 3, 'w': 2}, {'widths': (2, 5, 10, 20), 'coeff': 3, 'w': 5}, {'widths': (2, 5, 10, 20), 'coeff': 3, 'w': 10}, {'widths': (2, 5, 10, 20), 'coeff': 3, 'w': 20}, {'widths': (2, 5, 10, 20), 'coeff': 4, 'w': 2}, {'widths': (2, 5, 10, 20), 'coeff': 4, 'w': 5}, {'widths': (2, 5, 10, 20), 'coeff': 4, 'w': 10}, {'widths': (2, 5, 10, 20), 'coeff': 4, 'w': 20}, {'widths': (2, 5, 10, 20), 'coeff': 5, 'w': 2}, {'widths': (2, 5, 10, 20), 'coeff': 5, 'w': 5}, {'widths': (2, 5, 10, 20), 'coeff': 5, 'w': 10}, {'widths': (2, 5, 10, 20), 'coeff': 5, 'w': 20}, {'widths': (2, 5, 10, 20), 'coeff': 6, 'w': 2}, {'widths': (2, 5, 10, 20), 'coeff': 6, 'w': 5}, {'widths': (2, 5, 10, 20), 'coeff': 6, 'w': 10}, {'widths': (2, 5, 10, 20), 'coeff': 6, 'w': 20}, {'widths': (2, 5, 10, 20), 'coeff': 7, 'w': 2}, {'widths': (2, 5, 10, 20), 'coeff': 7, 'w': 5}, {'widths': (2, 5, 10, 20), 'coeff': 7, 'w': 10}, {'widths': (2, 5, 10, 20), 'coeff': 7, 'w': 20}, {'widths': (2, 5, 10, 20), 'coeff': 8, 'w': 2}, {'widths': (2, 5, 10, 20), 'coeff': 8, 'w': 5}, {'widths': (2, 5, 10, 20), 'coeff': 8, 'w': 10}, {'widths': (2, 5, 10, 20), 'coeff': 8, 'w': 20}, {'widths': (2, 5, 10, 20), 'coeff': 9, 'w': 2}, {'widths': (2, 5, 10, 20), 'coeff': 9, 'w': 5}, {'widths': (2, 5, 10, 20), 'coeff': 9, 'w': 10}, {'widths': (2, 5, 10, 20), 'coeff': 9, 'w': 20}, {'widths': (2, 5, 10, 20), 'coeff': 10, 'w': 2}, {'widths': (2, 5, 10, 20), 'coeff': 10, 'w': 5}, {'widths': (2, 5, 10, 20), 'coeff': 10, 'w': 10}, {'widths': (2, 5, 10, 20), 'coeff': 10, 'w': 20}, {'widths': (2, 5, 10, 20), 'coeff': 11, 'w': 2}, {'widths': (2, 5, 10, 20), 'coeff': 11, 'w': 5}, {'widths': (2, 5, 10, 20), 'coeff': 11, 'w': 10}, {'widths': (2, 5, 10, 20), 'coeff': 11, 'w': 20}, {'widths': (2, 5, 10, 20), 'coeff': 12, 'w': 2}, {'widths': (2, 5, 10, 20), 'coeff': 12, 'w': 5}, {'widths': (2, 5, 10, 20), 'coeff': 12, 'w': 10}, {'widths': (2, 5, 10, 20), 'coeff': 12, 'w': 20}, {'widths': (2, 5, 10, 20), 'coeff': 13, 'w': 2}, {'widths': (2, 5, 10, 20), 'coeff': 13, 'w': 5}, {'widths': (2, 5, 10, 20), 'coeff': 13, 'w': 10}, {'widths': (2, 5, 10, 20), 'coeff': 13, 'w': 20}, {'widths': (2, 5, 10, 20), 'coeff': 14, 'w': 2}, {'widths': (2, 5, 10, 20), 'coeff': 14, 'w': 5}, {'widths': (2, 5, 10, 20), 'coeff': 14, 'w': 10}, {'widths': (2, 5, 10, 20), 'coeff': 14, 'w': 20}], 'spkt_welch_density': [{'coeff': 2}, {'coeff': 5}, {'coeff': 8}], 'ar_coefficient': [{'coeff': 0, 'k': 10}, {'coeff': 1, 'k': 10}, {'coeff': 2, 'k': 10}, {'coeff': 3, 'k': 10}, {'coeff': 4, 'k': 10}, {'coeff': 5, 'k': 10}, {'coeff': 6, 'k': 10}, {'coeff': 7, 'k': 10}, {'coeff': 8, 'k': 10}, {'coeff': 9, 'k': 10}, {'coeff': 10, 'k': 10}], 'change_quantiles': [{'ql': 0.0, 'qh': 0.2, 'isabs': False, 'f_agg': 'mean'}, {'ql': 0.0, 'qh': 0.2, 'isabs': False, 'f_agg': 'var'}, {'ql': 0.0, 'qh': 0.2, 'isabs': True, 'f_agg': 'mean'}, {'ql': 0.0, 'qh': 0.2, 'isabs': True, 'f_agg': 'var'}, {'ql': 0.0, 'qh': 0.4, 'isabs': False, 'f_agg': 'mean'}, {'ql': 0.0, 'qh': 0.4, 'isabs': False, 'f_agg': 'var'}, {'ql': 0.0, 'qh': 0.4, 'isabs': True, 'f_agg': 'mean'}, {'ql': 0.0, 'qh': 0.4, 'isabs': True, 'f_agg': 'var'}, {'ql': 0.0, 'qh': 0.6, 'isabs': False, 'f_agg': 'mean'}, {'ql': 0.0, 'qh': 0.6, 'isabs': False, 'f_agg': 'var'}, {'ql': 0.0, 'qh': 0.6, 'isabs': True, 'f_agg': 'mean'}, {'ql': 0.0, 'qh': 0.6, 'isabs': True, 'f_agg': 'var'}, {'ql': 0.0, 'qh': 0.8, 'isabs': False, 'f_agg': 'mean'}, {'ql': 0.0, 'qh': 0.8, 'isabs': False, 'f_agg': 'var'}, {'ql': 0.0, 'qh': 0.8, 'isabs': True, 'f_agg': 'mean'}, {'ql': 0.0, 'qh': 0.8, 'isabs': True, 'f_agg': 'var'}, {'ql': 0.0, 'qh': 1.0, 'isabs': False, 'f_agg': 'mean'}, {'ql': 0.0, 'qh': 1.0, 'isabs': False, 'f_agg': 'var'}, {'ql': 0.0, 'qh': 1.0, 'isabs': True, 'f_agg': 'mean'}, {'ql': 0.0, 'qh': 1.0, 'isabs': True, 'f_agg': 'var'}, {'ql': 0.2, 'qh': 0.4, 'isabs': False, 'f_agg': 'mean'}, {'ql': 0.2, 'qh': 0.4, 'isabs': False, 'f_agg': 'var'}, {'ql': 0.2, 'qh': 0.4, 'isabs': True, 'f_agg': 'mean'}, {'ql': 0.2, 'qh': 0.4, 'isabs': True, 'f_agg': 'var'}, {'ql': 0.2, 'qh': 0.6, 'isabs': False, 'f_agg': 'mean'}, {'ql': 0.2, 'qh': 0.6, 'isabs': False, 'f_agg': 'var'}, {'ql': 0.2, 'qh': 0.6, 'isabs': True, 'f_agg': 'mean'}, {'ql': 0.2, 'qh': 0.6, 'isabs': True, 'f_agg': 'var'}, {'ql': 0.2, 'qh': 0.8, 'isabs': False, 'f_agg': 'mean'}, {'ql': 0.2, 'qh': 0.8, 'isabs': False, 'f_agg': 'var'}, {'ql': 0.2, 'qh': 0.8, 'isabs': True, 'f_agg': 'mean'}, {'ql': 0.2, 'qh': 0.8, 'isabs': True, 'f_agg': 'var'}, {'ql': 0.2, 'qh': 1.0, 'isabs': False, 'f_agg': 'mean'}, {'ql': 0.2, 'qh': 1.0, 'isabs': False, 'f_agg': 'var'}, {'ql': 0.2, 'qh': 1.0, 'isabs': True, 'f_agg': 'mean'}, {'ql': 0.2, 'qh': 1.0, 'isabs': True, 'f_agg': 'var'}, {'ql': 0.4, 'qh': 0.6, 'isabs': False, 'f_agg': 'mean'}, {'ql': 0.4, 'qh': 0.6, 'isabs': False, 'f_agg': 'var'}, {'ql': 0.4, 'qh': 0.6, 'isabs': True, 'f_agg': 'mean'}, {'ql': 0.4, 'qh': 0.6, 'isabs': True, 'f_agg': 'var'}, {'ql': 0.4, 'qh': 0.8, 'isabs': False, 'f_agg': 'mean'}, {'ql': 0.4, 'qh': 0.8, 'isabs': False, 'f_agg': 'var'}, {'ql': 0.4, 'qh': 0.8, 'isabs': True, 'f_agg': 'mean'}, {'ql': 0.4, 'qh': 0.8, 'isabs': True, 'f_agg': 'var'}, {'ql': 0.4, 'qh': 1.0, 'isabs': False, 'f_agg': 'mean'}, {'ql': 0.4, 'qh': 1.0, 'isabs': False, 'f_agg': 'var'}, {'ql': 0.4, 'qh': 1.0, 'isabs': True, 'f_agg': 'mean'}, {'ql': 0.4, 'qh': 1.0, 'isabs': True, 'f_agg': 'var'}, {'ql': 0.6, 'qh': 0.8, 'isabs': False, 'f_agg': 'mean'}, {'ql': 0.6, 'qh': 0.8, 'isabs': False, 'f_agg': 'var'}, {'ql': 0.6, 'qh': 0.8, 'isabs': True, 'f_agg': 'mean'}, {'ql': 0.6, 'qh': 0.8, 'isabs': True, 'f_agg': 'var'}, {'ql': 0.6, 'qh': 1.0, 'isabs': False, 'f_agg': 'mean'}, {'ql': 0.6, 'qh': 1.0, 'isabs': False, 'f_agg': 'var'}, {'ql': 0.6, 'qh': 1.0, 'isabs': True, 'f_agg': 'mean'}, {'ql': 0.6, 'qh': 1.0, 'isabs': True, 'f_agg': 'var'}, {'ql': 0.8, 'qh': 1.0, 'isabs': False, 'f_agg': 'mean'}, {'ql': 0.8, 'qh': 1.0, 'isabs': False, 'f_agg': 'var'}, {'ql': 0.8, 'qh': 1.0, 'isabs': True, 'f_agg': 'mean'}, {'ql': 0.8, 'qh': 1.0, 'isabs': True, 'f_agg': 'var'}], 'fft_coefficient': [{'coeff': 0, 'attr': 'real'}, {'coeff': 1, 'attr': 'real'}, {'coeff': 2, 'attr': 'real'}, {'coeff': 3, 'attr': 'real'}, {'coeff': 4, 'attr': 'real'}, {'coeff': 5, 'attr': 'real'}, {'coeff': 6, 'attr': 'real'}, {'coeff': 7, 'attr': 'real'}, {'coeff': 8, 'attr': 'real'}, {'coeff': 9, 'attr': 'real'}, {'coeff': 10, 'attr': 'real'}, {'coeff': 11, 'attr': 'real'}, {'coeff': 12, 'attr': 'real'}, {'coeff': 13, 'attr': 'real'}, {'coeff': 14, 'attr': 'real'}, {'coeff': 15, 'attr': 'real'}, {'coeff': 16, 'attr': 'real'}, {'coeff': 17, 'attr': 'real'}, {'coeff': 18, 'attr': 'real'}, {'coeff': 19, 'attr': 'real'}, {'coeff': 20, 'attr': 'real'}, {'coeff': 21, 'attr': 'real'}, {'coeff': 22, 'attr': 'real'}, {'coeff': 23, 'attr': 'real'}, {'coeff': 24, 'attr': 'real'}, {'coeff': 25, 'attr': 'real'}, {'coeff': 26, 'attr': 'real'}, {'coeff': 27, 'attr': 'real'}, {'coeff': 28, 'attr': 'real'}, {'coeff': 29, 'attr': 'real'}, {'coeff': 30, 'attr': 'real'}, {'coeff': 31, 'attr': 'real'}, {'coeff': 32, 'attr': 'real'}, {'coeff': 33, 'attr': 'real'}, {'coeff': 34, 'attr': 'real'}, {'coeff': 35, 'attr': 'real'}, {'coeff': 36, 'attr': 'real'}, {'coeff': 37, 'attr': 'real'}, {'coeff': 38, 'attr': 'real'}, {'coeff': 39, 'attr': 'real'}, {'coeff': 40, 'attr': 'real'}, {'coeff': 41, 'attr': 'real'}, {'coeff': 42, 'attr': 'real'}, {'coeff': 43, 'attr': 'real'}, {'coeff': 44, 'attr': 'real'}, {'coeff': 45, 'attr': 'real'}, {'coeff': 46, 'attr': 'real'}, {'coeff': 47, 'attr': 'real'}, {'coeff': 48, 'attr': 'real'}, {'coeff': 49, 'attr': 'real'}, {'coeff': 50, 'attr': 'real'}, {'coeff': 51, 'attr': 'real'}, {'coeff': 52, 'attr': 'real'}, {'coeff': 53, 'attr': 'real'}, {'coeff': 54, 'attr': 'real'}, {'coeff': 55, 'attr': 'real'}, {'coeff': 56, 'attr': 'real'}, {'coeff': 57, 'attr': 'real'}, {'coeff': 58, 'attr': 'real'}, {'coeff': 59, 'attr': 'real'}, {'coeff': 60, 'attr': 'real'}, {'coeff': 61, 'attr': 'real'}, {'coeff': 62, 'attr': 'real'}, {'coeff': 63, 'attr': 'real'}, {'coeff': 64, 'attr': 'real'}, {'coeff': 65, 'attr': 'real'}, {'coeff': 66, 'attr': 'real'}, {'coeff': 67, 'attr': 'real'}, {'coeff': 68, 'attr': 'real'}, {'coeff': 69, 'attr': 'real'}, {'coeff': 70, 'attr': 'real'}, {'coeff': 71, 'attr': 'real'}, {'coeff': 72, 'attr': 'real'}, {'coeff': 73, 'attr': 'real'}, {'coeff': 74, 'attr': 'real'}, {'coeff': 75, 'attr': 'real'}, {'coeff': 76, 'attr': 'real'}, {'coeff': 77, 'attr': 'real'}, {'coeff': 78, 'attr': 'real'}, {'coeff': 79, 'attr': 'real'}, {'coeff': 80, 'attr': 'real'}, {'coeff': 81, 'attr': 'real'}, {'coeff': 82, 'attr': 'real'}, {'coeff': 83, 'attr': 'real'}, {'coeff': 84, 'attr': 'real'}, {'coeff': 85, 'attr': 'real'}, {'coeff': 86, 'attr': 'real'}, {'coeff': 87, 'attr': 'real'}, {'coeff': 88, 'attr': 'real'}, {'coeff': 89, 'attr': 'real'}, {'coeff': 90, 'attr': 'real'}, {'coeff': 91, 'attr': 'real'}, {'coeff': 92, 'attr': 'real'}, {'coeff': 93, 'attr': 'real'}, {'coeff': 94, 'attr': 'real'}, {'coeff': 95, 'attr': 'real'}, {'coeff': 96, 'attr': 'real'}, {'coeff': 97, 'attr': 'real'}, {'coeff': 98, 'attr': 'real'}, {'coeff': 99, 'attr': 'real'}, {'coeff': 0, 'attr': 'imag'}, {'coeff': 1, 'attr': 'imag'}, {'coeff': 2, 'attr': 'imag'}, {'coeff': 3, 'attr': 'imag'}, {'coeff': 4, 'attr': 'imag'}, {'coeff': 5, 'attr': 'imag'}, {'coeff': 6, 'attr': 'imag'}, {'coeff': 7, 'attr': 'imag'}, {'coeff': 8, 'attr': 'imag'}, {'coeff': 9, 'attr': 'imag'}, {'coeff': 10, 'attr': 'imag'}, {'coeff': 11, 'attr': 'imag'}, {'coeff': 12, 'attr': 'imag'}, {'coeff': 13, 'attr': 'imag'}, {'coeff': 14, 'attr': 'imag'}, {'coeff': 15, 'attr': 'imag'}, {'coeff': 16, 'attr': 'imag'}, {'coeff': 17, 'attr': 'imag'}, {'coeff': 18, 'attr': 'imag'}, {'coeff': 19, 'attr': 'imag'}, {'coeff': 20, 'attr': 'imag'}, {'coeff': 21, 'attr': 'imag'}, {'coeff': 22, 'attr': 'imag'}, {'coeff': 23, 'attr': 'imag'}, {'coeff': 24, 'attr': 'imag'}, {'coeff': 25, 'attr': 'imag'}, {'coeff': 26, 'attr': 'imag'}, {'coeff': 27, 'attr': 'imag'}, {'coeff': 28, 'attr': 'imag'}, {'coeff': 29, 'attr': 'imag'}, {'coeff': 30, 'attr': 'imag'}, {'coeff': 31, 'attr': 'imag'}, {'coeff': 32, 'attr': 'imag'}, {'coeff': 33, 'attr': 'imag'}, {'coeff': 34, 'attr': 'imag'}, {'coeff': 35, 'attr': 'imag'}, {'coeff': 36, 'attr': 'imag'}, {'coeff': 37, 'attr': 'imag'}, {'coeff': 38, 'attr': 'imag'}, {'coeff': 39, 'attr': 'imag'}, {'coeff': 40, 'attr': 'imag'}, {'coeff': 41, 'attr': 'imag'}, {'coeff': 42, 'attr': 'imag'}, {'coeff': 43, 'attr': 'imag'}, {'coeff': 44, 'attr': 'imag'}, {'coeff': 45, 'attr': 'imag'}, {'coeff': 46, 'attr': 'imag'}, {'coeff': 47, 'attr': 'imag'}, {'coeff': 48, 'attr': 'imag'}, {'coeff': 49, 'attr': 'imag'}, {'coeff': 50, 'attr': 'imag'}, {'coeff': 51, 'attr': 'imag'}, {'coeff': 52, 'attr': 'imag'}, {'coeff': 53, 'attr': 'imag'}, {'coeff': 54, 'attr': 'imag'}, {'coeff': 55, 'attr': 'imag'}, {'coeff': 56, 'attr': 'imag'}, {'coeff': 57, 'attr': 'imag'}, {'coeff': 58, 'attr': 'imag'}, {'coeff': 59, 'attr': 'imag'}, {'coeff': 60, 'attr': 'imag'}, {'coeff': 61, 'attr': 'imag'}, {'coeff': 62, 'attr': 'imag'}, {'coeff': 63, 'attr': 'imag'}, {'coeff': 64, 'attr': 'imag'}, {'coeff': 65, 'attr': 'imag'}, {'coeff': 66, 'attr': 'imag'}, {'coeff': 67, 'attr': 'imag'}, {'coeff': 68, 'attr': 'imag'}, {'coeff': 69, 'attr': 'imag'}, {'coeff': 70, 'attr': 'imag'}, {'coeff': 71, 'attr': 'imag'}, {'coeff': 72, 'attr': 'imag'}, {'coeff': 73, 'attr': 'imag'}, {'coeff': 74, 'attr': 'imag'}, {'coeff': 75, 'attr': 'imag'}, {'coeff': 76, 'attr': 'imag'}, {'coeff': 77, 'attr': 'imag'}, {'coeff': 78, 'attr': 'imag'}, {'coeff': 79, 'attr': 'imag'}, {'coeff': 80, 'attr': 'imag'}, {'coeff': 81, 'attr': 'imag'}, {'coeff': 82, 'attr': 'imag'}, {'coeff': 83, 'attr': 'imag'}, {'coeff': 84, 'attr': 'imag'}, {'coeff': 85, 'attr': 'imag'}, {'coeff': 86, 'attr': 'imag'}, {'coeff': 87, 'attr': 'imag'}, {'coeff': 88, 'attr': 'imag'}, {'coeff': 89, 'attr': 'imag'}, {'coeff': 90, 'attr': 'imag'}, {'coeff': 91, 'attr': 'imag'}, {'coeff': 92, 'attr': 'imag'}, {'coeff': 93, 'attr': 'imag'}, {'coeff': 94, 'attr': 'imag'}, {'coeff': 95, 'attr': 'imag'}, {'coeff': 96, 'attr': 'imag'}, {'coeff': 97, 'attr': 'imag'}, {'coeff': 98, 'attr': 'imag'}, {'coeff': 99, 'attr': 'imag'}, {'coeff': 0, 'attr': 'abs'}, {'coeff': 1, 'attr': 'abs'}, {'coeff': 2, 'attr': 'abs'}, {'coeff': 3, 'attr': 'abs'}, {'coeff': 4, 'attr': 'abs'}, {'coeff': 5, 'attr': 'abs'}, {'coeff': 6, 'attr': 'abs'}, {'coeff': 7, 'attr': 'abs'}, {'coeff': 8, 'attr': 'abs'}, {'coeff': 9, 'attr': 'abs'}, {'coeff': 10, 'attr': 'abs'}, {'coeff': 11, 'attr': 'abs'}, {'coeff': 12, 'attr': 'abs'}, {'coeff': 13, 'attr': 'abs'}, {'coeff': 14, 'attr': 'abs'}, {'coeff': 15, 'attr': 'abs'}, {'coeff': 16, 'attr': 'abs'}, {'coeff': 17, 'attr': 'abs'}, {'coeff': 18, 'attr': 'abs'}, {'coeff': 19, 'attr': 'abs'}, {'coeff': 20, 'attr': 'abs'}, {'coeff': 21, 'attr': 'abs'}, {'coeff': 22, 'attr': 'abs'}, {'coeff': 23, 'attr': 'abs'}, {'coeff': 24, 'attr': 'abs'}, {'coeff': 25, 'attr': 'abs'}, {'coeff': 26, 'attr': 'abs'}, {'coeff': 27, 'attr': 'abs'}, {'coeff': 28, 'attr': 'abs'}, {'coeff': 29, 'attr': 'abs'}, {'coeff': 30, 'attr': 'abs'}, {'coeff': 31, 'attr': 'abs'}, {'coeff': 32, 'attr': 'abs'}, {'coeff': 33, 'attr': 'abs'}, {'coeff': 34, 'attr': 'abs'}, {'coeff': 35, 'attr': 'abs'}, {'coeff': 36, 'attr': 'abs'}, {'coeff': 37, 'attr': 'abs'}, {'coeff': 38, 'attr': 'abs'}, {'coeff': 39, 'attr': 'abs'}, {'coeff': 40, 'attr': 'abs'}, {'coeff': 41, 'attr': 'abs'}, {'coeff': 42, 'attr': 'abs'}, {'coeff': 43, 'attr': 'abs'}, {'coeff': 44, 'attr': 'abs'}, {'coeff': 45, 'attr': 'abs'}, {'coeff': 46, 'attr': 'abs'}, {'coeff': 47, 'attr': 'abs'}, {'coeff': 48, 'attr': 'abs'}, {'coeff': 49, 'attr': 'abs'}, {'coeff': 50, 'attr': 'abs'}, {'coeff': 51, 'attr': 'abs'}, {'coeff': 52, 'attr': 'abs'}, {'coeff': 53, 'attr': 'abs'}, {'coeff': 54, 'attr': 'abs'}, {'coeff': 55, 'attr': 'abs'}, {'coeff': 56, 'attr': 'abs'}, {'coeff': 57, 'attr': 'abs'}, {'coeff': 58, 'attr': 'abs'}, {'coeff': 59, 'attr': 'abs'}, {'coeff': 60, 'attr': 'abs'}, {'coeff': 61, 'attr': 'abs'}, {'coeff': 62, 'attr': 'abs'}, {'coeff': 63, 'attr': 'abs'}, {'coeff': 64, 'attr': 'abs'}, {'coeff': 65, 'attr': 'abs'}, {'coeff': 66, 'attr': 'abs'}, {'coeff': 67, 'attr': 'abs'}, {'coeff': 68, 'attr': 'abs'}, {'coeff': 69, 'attr': 'abs'}, {'coeff': 70, 'attr': 'abs'}, {'coeff': 71, 'attr': 'abs'}, {'coeff': 72, 'attr': 'abs'}, {'coeff': 73, 'attr': 'abs'}, {'coeff': 74, 'attr': 'abs'}, {'coeff': 75, 'attr': 'abs'}, {'coeff': 76, 'attr': 'abs'}, {'coeff': 77, 'attr': 'abs'}, {'coeff': 78, 'attr': 'abs'}, {'coeff': 79, 'attr': 'abs'}, {'coeff': 80, 'attr': 'abs'}, {'coeff': 81, 'attr': 'abs'}, {'coeff': 82, 'attr': 'abs'}, {'coeff': 83, 'attr': 'abs'}, {'coeff': 84, 'attr': 'abs'}, {'coeff': 85, 'attr': 'abs'}, {'coeff': 86, 'attr': 'abs'}, {'coeff': 87, 'attr': 'abs'}, {'coeff': 88, 'attr': 'abs'}, {'coeff': 89, 'attr': 'abs'}, {'coeff': 90, 'attr': 'abs'}, {'coeff': 91, 'attr': 'abs'}, {'coeff': 92, 'attr': 'abs'}, {'coeff': 93, 'attr': 'abs'}, {'coeff': 94, 'attr': 'abs'}, {'coeff': 95, 'attr': 'abs'}, {'coeff': 96, 'attr': 'abs'}, {'coeff': 97, 'attr': 'abs'}, {'coeff': 98, 'attr': 'abs'}, {'coeff': 99, 'attr': 'abs'}, {'coeff': 0, 'attr': 'angle'}, {'coeff': 1, 'attr': 'angle'}, {'coeff': 2, 'attr': 'angle'}, {'coeff': 3, 'attr': 'angle'}, {'coeff': 4, 'attr': 'angle'}, {'coeff': 5, 'attr': 'angle'}, {'coeff': 6, 'attr': 'angle'}, {'coeff': 7, 'attr': 'angle'}, {'coeff': 8, 'attr': 'angle'}, {'coeff': 9, 'attr': 'angle'}, {'coeff': 10, 'attr': 'angle'}, {'coeff': 11, 'attr': 'angle'}, {'coeff': 12, 'attr': 'angle'}, {'coeff': 13, 'attr': 'angle'}, {'coeff': 14, 'attr': 'angle'}, {'coeff': 15, 'attr': 'angle'}, {'coeff': 16, 'attr': 'angle'}, {'coeff': 17, 'attr': 'angle'}, {'coeff': 18, 'attr': 'angle'}, {'coeff': 19, 'attr': 'angle'}, {'coeff': 20, 'attr': 'angle'}, {'coeff': 21, 'attr': 'angle'}, {'coeff': 22, 'attr': 'angle'}, {'coeff': 23, 'attr': 'angle'}, {'coeff': 24, 'attr': 'angle'}, {'coeff': 25, 'attr': 'angle'}, {'coeff': 26, 'attr': 'angle'}, {'coeff': 27, 'attr': 'angle'}, {'coeff': 28, 'attr': 'angle'}, {'coeff': 29, 'attr': 'angle'}, {'coeff': 30, 'attr': 'angle'}, {'coeff': 31, 'attr': 'angle'}, {'coeff': 32, 'attr': 'angle'}, {'coeff': 33, 'attr': 'angle'}, {'coeff': 34, 'attr': 'angle'}, {'coeff': 35, 'attr': 'angle'}, {'coeff': 36, 'attr': 'angle'}, {'coeff': 37, 'attr': 'angle'}, {'coeff': 38, 'attr': 'angle'}, {'coeff': 39, 'attr': 'angle'}, {'coeff': 40, 'attr': 'angle'}, {'coeff': 41, 'attr': 'angle'}, {'coeff': 42, 'attr': 'angle'}, {'coeff': 43, 'attr': 'angle'}, {'coeff': 44, 'attr': 'angle'}, {'coeff': 45, 'attr': 'angle'}, {'coeff': 46, 'attr': 'angle'}, {'coeff': 47, 'attr': 'angle'}, {'coeff': 48, 'attr': 'angle'}, {'coeff': 49, 'attr': 'angle'}, {'coeff': 50, 'attr': 'angle'}, {'coeff': 51, 'attr': 'angle'}, {'coeff': 52, 'attr': 'angle'}, {'coeff': 53, 'attr': 'angle'}, {'coeff': 54, 'attr': 'angle'}, {'coeff': 55, 'attr': 'angle'}, {'coeff': 56, 'attr': 'angle'}, {'coeff': 57, 'attr': 'angle'}, {'coeff': 58, 'attr': 'angle'}, {'coeff': 59, 'attr': 'angle'}, {'coeff': 60, 'attr': 'angle'}, {'coeff': 61, 'attr': 'angle'}, {'coeff': 62, 'attr': 'angle'}, {'coeff': 63, 'attr': 'angle'}, {'coeff': 64, 'attr': 'angle'}, {'coeff': 65, 'attr': 'angle'}, {'coeff': 66, 'attr': 'angle'}, {'coeff': 67, 'attr': 'angle'}, {'coeff': 68, 'attr': 'angle'}, {'coeff': 69, 'attr': 'angle'}, {'coeff': 70, 'attr': 'angle'}, {'coeff': 71, 'attr': 'angle'}, {'coeff': 72, 'attr': 'angle'}, {'coeff': 73, 'attr': 'angle'}, {'coeff': 74, 'attr': 'angle'}, {'coeff': 75, 'attr': 'angle'}, {'coeff': 76, 'attr': 'angle'}, {'coeff': 77, 'attr': 'angle'}, {'coeff': 78, 'attr': 'angle'}, {'coeff': 79, 'attr': 'angle'}, {'coeff': 80, 'attr': 'angle'}, {'coeff': 81, 'attr': 'angle'}, {'coeff': 82, 'attr': 'angle'}, {'coeff': 83, 'attr': 'angle'}, {'coeff': 84, 'attr': 'angle'}, {'coeff': 85, 'attr': 'angle'}, {'coeff': 86, 'attr': 'angle'}, {'coeff': 87, 'attr': 'angle'}, {'coeff': 88, 'attr': 'angle'}, {'coeff': 89, 'attr': 'angle'}, {'coeff': 90, 'attr': 'angle'}, {'coeff': 91, 'attr': 'angle'}, {'coeff': 92, 'attr': 'angle'}, {'coeff': 93, 'attr': 'angle'}, {'coeff': 94, 'attr': 'angle'}, {'coeff': 95, 'attr': 'angle'}, {'coeff': 96, 'attr': 'angle'}, {'coeff': 97, 'attr': 'angle'}, {'coeff': 98, 'attr': 'angle'}, {'coeff': 99, 'attr': 'angle'}], 'fft_aggregated': [{'aggtype': 'centroid'}, {'aggtype': 'variance'}, {'aggtype': 'skew'}, {'aggtype': 'kurtosis'}], 'value_count': [{'value': 0}, {'value': 1}, {'value': -1}], 'range_count': [{'min': -1, 'max': 1}, {'min': -1000000000000.0, 'max': 0}, {'min': 0, 'max': 1000000000000.0}], 'approximate_entropy': [{'m': 2, 'r': 0.1}, {'m': 2, 'r': 0.3}, {'m': 2, 'r': 0.5}, {'m': 2, 'r': 0.7}, {'m': 2, 'r': 0.9}], 'friedrich_coefficients': [{'coeff': 0, 'm': 3, 'r': 30}, {'coeff': 1, 'm': 3, 'r': 30}, {'coeff': 2, 'm': 3, 'r': 30}, {'coeff': 3, 'm': 3, 'r': 30}], 'max_langevin_fixed_point': [{'m': 3, 'r': 30}], 'linear_trend': [{'attr': 'pvalue'}, {'attr': 'rvalue'}, {'attr': 'intercept'}, {'attr': 'slope'}, {'attr': 'stderr'}], 'agg_linear_trend': [{'attr': 'rvalue', 'chunk_len': 5, 'f_agg': 'max'}, {'attr': 'rvalue', 'chunk_len': 5, 'f_agg': 'min'}, {'attr': 'rvalue', 'chunk_len': 5, 'f_agg': 'mean'}, {'attr': 'rvalue', 'chunk_len': 5, 'f_agg': 'var'}, {'attr': 'rvalue', 'chunk_len': 10, 'f_agg': 'max'}, {'attr': 'rvalue', 'chunk_len': 10, 'f_agg': 'min'}, {'attr': 'rvalue', 'chunk_len': 10, 'f_agg': 'mean'}, {'attr': 'rvalue', 'chunk_len': 10, 'f_agg': 'var'}, {'attr': 'rvalue', 'chunk_len': 50, 'f_agg': 'max'}, {'attr': 'rvalue', 'chunk_len': 50, 'f_agg': 'min'}, {'attr': 'rvalue', 'chunk_len': 50, 'f_agg': 'mean'}, {'attr': 'rvalue', 'chunk_len': 50, 'f_agg': 'var'}, {'attr': 'intercept', 'chunk_len': 5, 'f_agg': 'max'}, {'attr': 'intercept', 'chunk_len': 5, 'f_agg': 'min'}, {'attr': 'intercept', 'chunk_len': 5, 'f_agg': 'mean'}, {'attr': 'intercept', 'chunk_len': 5, 'f_agg': 'var'}, {'attr': 'intercept', 'chunk_len': 10, 'f_agg': 'max'}, {'attr': 'intercept', 'chunk_len': 10, 'f_agg': 'min'}, {'attr': 'intercept', 'chunk_len': 10, 'f_agg': 'mean'}, {'attr': 'intercept', 'chunk_len': 10, 'f_agg': 'var'}, {'attr': 'intercept', 'chunk_len': 50, 'f_agg': 'max'}, {'attr': 'intercept', 'chunk_len': 50, 'f_agg': 'min'}, {'attr': 'intercept', 'chunk_len': 50, 'f_agg': 'mean'}, {'attr': 'intercept', 'chunk_len': 50, 'f_agg': 'var'}, {'attr': 'slope', 'chunk_len': 5, 'f_agg': 'max'}, {'attr': 'slope', 'chunk_len': 5, 'f_agg': 'min'}, {'attr': 'slope', 'chunk_len': 5, 'f_agg': 'mean'}, {'attr': 'slope', 'chunk_len': 5, 'f_agg': 'var'}, {'attr': 'slope', 'chunk_len': 10, 'f_agg': 'max'}, {'attr': 'slope', 'chunk_len': 10, 'f_agg': 'min'}, {'attr': 'slope', 'chunk_len': 10, 'f_agg': 'mean'}, {'attr': 'slope', 'chunk_len': 10, 'f_agg': 'var'}, {'attr': 'slope', 'chunk_len': 50, 'f_agg': 'max'}, {'attr': 'slope', 'chunk_len': 50, 'f_agg': 'min'}, {'attr': 'slope', 'chunk_len': 50, 'f_agg': 'mean'}, {'attr': 'slope', 'chunk_len': 50, 'f_agg': 'var'}, {'attr': 'stderr', 'chunk_len': 5, 'f_agg': 'max'}, {'attr': 'stderr', 'chunk_len': 5, 'f_agg': 'min'}, {'attr': 'stderr', 'chunk_len': 5, 'f_agg': 'mean'}, {'attr': 'stderr', 'chunk_len': 5, 'f_agg': 'var'}, {'attr': 'stderr', 'chunk_len': 10, 'f_agg': 'max'}, {'attr': 'stderr', 'chunk_len': 10, 'f_agg': 'min'}, {'attr': 'stderr', 'chunk_len': 10, 'f_agg': 'mean'}, {'attr': 'stderr', 'chunk_len': 10, 'f_agg': 'var'}, {'attr': 'stderr', 'chunk_len': 50, 'f_agg': 'max'}, {'attr': 'stderr', 'chunk_len': 50, 'f_agg': 'min'}, {'attr': 'stderr', 'chunk_len': 50, 'f_agg': 'mean'}, {'attr': 'stderr', 'chunk_len': 50, 'f_agg': 'var'}], 'augmented_dickey_fuller': [{'attr': 'teststat'}, {'attr': 'pvalue'}, {'attr': 'usedlag'}], 'number_crossing_m': [{'m': 0}, {'m': -1}, {'m': 1}], 'energy_ratio_by_chunks': [{'num_segments': 10, 'segment_focus': 0}, {'num_segments': 10, 'segment_focus': 1}, {'num_segments': 10, 'segment_focus': 2}, {'num_segments': 10, 'segment_focus': 3}, {'num_segments': 10, 'segment_focus': 4}, {'num_segments': 10, 'segment_focus': 5}, {'num_segments': 10, 'segment_focus': 6}, {'num_segments': 10, 'segment_focus': 7}, {'num_segments': 10, 'segment_focus': 8}, {'num_segments': 10, 'segment_focus': 9}], 'ratio_beyond_r_sigma': [{'r': 0.5}, {'r': 1}, {'r': 1.5}, {'r': 2}, {'r': 2.5}, {'r': 3}, {'r': 5}, {'r': 6}, {'r': 7}, {'r': 10}], 'linear_trend_timewise': [{'attr': 'pvalue'}, {'attr': 'rvalue'}, {'attr': 'intercept'}, {'attr': 'slope'}, {'attr': 'stderr'}], 'count_above': [{'t': 0}], 'count_below': [{'t': 0}], 'lempel_ziv_complexity': [{'bins': 2}, {'bins': 3}, {'bins': 5}, {'bins': 10}, {'bins': 100}], 'fourier_entropy': [{'bins': 2}, {'bins': 3}, {'bins': 5}, {'bins': 10}, {'bins': 100}], 'permutation_entropy': [{'tau': 1, 'dimension': 3}, {'tau': 1, 'dimension': 4}, {'tau': 1, 'dimension': 5}, {'tau': 1, 'dimension': 6}, {'tau': 1, 'dimension': 7}], 'query_similarity_count': [{'query': None, 'threshold': 0.0}], 'mean_n_absolute_max': [{'number_of_maxima': 7}]}"
      ]
     },
     "execution_count": 12,
     "metadata": {},
     "output_type": "execute_result"
    }
   ],
   "source": [
    "settings_comprehensive = settings.ComprehensiveFCParameters()\n",
    "settings_comprehensive"
   ]
  },
  {
   "cell_type": "markdown",
   "metadata": {},
   "source": [
    "### Feature Calculator Parameters"
   ]
  },
  {
   "cell_type": "markdown",
   "metadata": {},
   "source": [
    "More complex feature calculators have parameters that you can use to tune the extracted features.\n",
    "The predefined settings (such as `ComprehensiveFCParameters`) already contain default values of these features.\n",
    "\n",
    "However for your own projects, you might want/need to tune them.\n",
    "\n",
    "In detail, the values in a `fc_parameters` dictionary contain a list of parameter dictionaries. \n",
    "When calculating the feature, each entry in the list of parameters will be used to calculate one feature.\n",
    "\n",
    "For example, lets have a look into the feature `large_standard_deviation`, which depends on a single parameter called `r` (it basically defines how large \"large\" is).\n",
    "The `ComprehensiveFCParameters` contains several default values for `r`. \n",
    "Each of them will be used to calculate a single feature:"
   ]
  },
  {
   "cell_type": "code",
   "execution_count": null,
   "metadata": {},
   "outputs": [],
   "source": [
    "settings_comprehensive['large_standard_deviation']"
   ]
  },
  {
   "cell_type": "markdown",
   "metadata": {},
   "source": [
    "If you use these settings in feature extraction, that would trigger the calculation of 20 different `large_standard_deviation` features, one for `r=0.05` up to `r=0.95`.  "
   ]
  },
  {
   "cell_type": "code",
   "execution_count": null,
   "metadata": {},
   "outputs": [],
   "source": [
    "settings_tmp = {'large_standard_deviation': settings_comprehensive['large_standard_deviation']}\n",
    "\n",
    "X_tsfresh = extract_features(df, column_id=\"id\", default_fc_parameters=settings_tmp)\n",
    "X_tsfresh.columns"
   ]
  },
  {
   "cell_type": "markdown",
   "metadata": {},
   "source": [
    "If you now want to change the parameters for a specific feature calculator, all you need to do is to change the dictionary values."
   ]
  }
 ],
 "metadata": {
  "kernelspec": {
   "display_name": "Python 3",
   "language": "python",
   "name": "python3"
  },
  "language_info": {
   "codemirror_mode": {
    "name": "ipython",
    "version": 3
   },
   "file_extension": ".py",
   "mimetype": "text/x-python",
   "name": "python",
   "nbconvert_exporter": "python",
   "pygments_lexer": "ipython3",
   "version": "3.10.11"
  }
 },
 "nbformat": 4,
 "nbformat_minor": 2
}
